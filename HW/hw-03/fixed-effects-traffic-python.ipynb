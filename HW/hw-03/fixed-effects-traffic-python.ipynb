{
 "cells": [
  {
   "cell_type": "markdown",
   "metadata": {},
   "source": [
    "# Fixed Effects and Traffic Crashes\n",
    "\n",
    "Traffic crashes are the leading cause of death for Americans between the ages of 5 and 32. Through various spending policies, the federal government has encourages states to institute mandatory seat belt laws to reduce the number of fatalities and serious injuries. In this exercise you will investigate how effective these laws are in increasing seat belt use and reducing fatailities. The data file \"Seatbelts\" contains a panel of data from 50 U.S. states plus the District of Columbia for the years 1983 through 1997. A detailed description is given in \"Seatbelt_Description\". \n",
    "\n",
    "When necessary, write code to perform the above regressions in Python. \n",
    "\n",
    "**4 points for each question below**\n",
    "\n",
    "*Note: These exercises are from Stock and Watson 3rd Edition, chapter 10. The data were provided to the authors of that textbook by Professor Liran Einav of Stanford University and were used in his paper with Alma Cohen, \"The Effects of Mandatory Seat Belt Laws on Driving Behavior and Traffic Fatalities,\" *The Review of Economics and Statistics, 2003.*\n",
    "  "
   ]
  },
  {
   "cell_type": "markdown",
   "metadata": {},
   "source": [
    "### Question 1 \n",
    "\n",
    "Estimate the effect of seat belt use on fatalities by regressing *FatalityRate* on *sb_useage*, *speed65*, *speed70*, *ba08*, *drinkage21*, ln(*income*), and *age*. Does the estimated regression suggest that increases seat belt use reduces fatalities?"
   ]
  },
  {
   "cell_type": "code",
   "execution_count": null,
   "metadata": {},
   "outputs": [],
   "source": []
  },
  {
   "cell_type": "markdown",
   "metadata": {},
   "source": [
    "### Question 2\n",
    "\n",
    "Do the results change when you add state fixed effects? Provide an intuitive explanation for why the results changed."
   ]
  },
  {
   "cell_type": "code",
   "execution_count": null,
   "metadata": {},
   "outputs": [],
   "source": []
  },
  {
   "cell_type": "markdown",
   "metadata": {},
   "source": [
    "### Question 3\n",
    "\n",
    "Do the results change when you add time fixed effects plus state fixed effects?"
   ]
  },
  {
   "cell_type": "code",
   "execution_count": null,
   "metadata": {},
   "outputs": [],
   "source": []
  },
  {
   "cell_type": "markdown",
   "metadata": {},
   "source": [
    "### Question 4\n",
    "\n",
    "Which regression specification---(1), (2), or (3)---is the most reliable? Explain why."
   ]
  },
  {
   "cell_type": "code",
   "execution_count": null,
   "metadata": {},
   "outputs": [],
   "source": []
  }
 ],
 "metadata": {
  "kernelspec": {
   "display_name": "Python 3",
   "language": "python",
   "name": "python3"
  },
  "language_info": {
   "codemirror_mode": {
    "name": "ipython",
    "version": 3
   },
   "file_extension": ".py",
   "mimetype": "text/x-python",
   "name": "python",
   "nbconvert_exporter": "python",
   "pygments_lexer": "ipython3",
   "version": "3.6.7"
  }
 },
 "nbformat": 4,
 "nbformat_minor": 2
}
