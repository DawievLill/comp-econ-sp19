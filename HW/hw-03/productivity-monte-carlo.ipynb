{
 "cells": [
  {
   "cell_type": "markdown",
   "metadata": {},
   "source": [
    "# Productivity and Fixed Effects Monte Carlo\n",
    "\n",
    "In this section, we will simulate the behavior of a number of productive firms. We want to simulate the following scenario. Suppose that we observe a measure of the value added $Y_{it}$ of a firm $i$ in time period $t$. Suppose that we also observe a measure of the capital $K_{it}$ and labor $L_{it}$ that the firm uses in any given time period.\n",
    "\n",
    "Assume a Cobb-Douglas production function as follows: $Y = A L^\\alpha K^(1-\\alpha)$, where $A$ is total factor productivity. Let lower-case letter represent logs of the respective variables so that we have\n",
    "\n",
    "$$\n",
    "y = a + \\alpha \\ell + (1-\\alpha) k.\n",
    "$$\n",
    "\n",
    "(Notice, first of all, that we can interpret this production function as a log-linear approximation of a wide class of other nonlinear production functions. This is part of the reason why Cobb-Douglas is so commonly used.) Suppose that we want to estimate the parameters of this production function. Suppose\n",
    "we run a regression of $y$ on $\\ell$ and $k$:\n",
    "\n",
    "$$\n",
    "\\hat y = \\hat a + \\hat \\beta_\\ell \\ell + \\hat \\beta_k k + \\hat \\epsilon.\n",
    "$$\n",
    "\n",
    "From this regression, we should hopefully see that $\\hat \\beta_\\ell \\overset{p}{\\rightarrow} \\alpha$ and $\\hat \\beta_k \\overset{p}{\\rightarrow} (1-\\alpha)$.\n",
    "In this exercise, we will simulate a plausible scenario for a firm's production process and we will determine if our estimation procedure is unbiased and/or consistent.\n",
    "\n",
    "\n",
    "**NOTE:** This section has 9 questions, labelled Q1-Q9. each is worth 4 points.\n"
   ]
  },
  {
   "cell_type": "markdown",
   "metadata": {},
   "source": [
    "## Model Description\n",
    "\n",
    "We will generate a balanced panel dataset of 100 firms, each operating in 50 periods (for a total of 5000 observations). We will create data for the firms' value added (output), total factor productivity, labor inputs, capital inputs, and real wage rates. Suppose that we know a firm's production function to be\n",
    "\n",
    "$$\n",
    "y_{it} = a_{it} + 0.7 \\ell_{it} + 0.3 k_{it}, \n",
    "$$\n",
    "\n",
    "where all variables are expressed in logs (and, again, $a$ is log total factor productivity, TFP). Suppose that $a_{it} = \\gamma_i + \\omega_{it}$. Here $\\gamma_i$ is a firm fixed effect and $\\omega_{it}$ follows an AR(1) process:\n",
    "$\\omega_{it} = \\rho \\omega_{i,t-1} + \\epsilon_{it}$. Assume that $\\gamma_i \\sim \\mathcal N(0, 1/2)$---that is, has a standard deviation of 1/2---across firms. Suppose that $\\rho = 0.8$ and $\\epsilon_{it}$ is iid $\\mathcal N(0,0.1)$ across firms and time. The firm observes $\\gamma_i$ and $\\omega_{i,t-1}$ at the beginning of period $t$ and then chooses its inputs. After that, $\\epsilon_{it}$ is revealed.\n",
    "\n",
    "Assume that capital is exogenous to the firm and randomly determined (obviously a nonsensical assumption, but it will make things easier here). Specifically, $k_{it}$ is iid $\\mathcal N(0,0.1)$ across firms and time. Likewise, the log real wage rate facing the firm is also iid with $w_{it} \\sim \\mathcal N(0, 0.5)$.\n",
    "\n",
    "To sum up, the model's shocks are given by\n",
    "\n",
    "\\begin{align*}\n",
    "\\gamma_i &\\overset{\\text{iid}}{\\sim} \\mathcal N(0, \\sigma^2_\\gamma) \\\\\n",
    "\\varepsilon_{it} &\\overset{\\text{iid}}{\\sim} \\mathcal N(0, \\sigma^2_\\varepsilon) \\\\\n",
    "k_{it} & \\overset{\\text{iid}}{\\sim} \\mathcal N(0, \\sigma^2_k) \\\\\n",
    "w_{it} & \\overset{\\text{iid}}{\\sim} \\mathcal N(0, \\sigma^2_w),\n",
    "\\end{align*}\n",
    "\n",
    "with $\\sigma^2_\\gamma = \\sigma^2_w = 1/4$ and $\\sigma^2_\\epsilon = \\sigma^2_k = 0.01$.\n",
    "\n",
    "### Solving For Labor Inputs\n",
    "\n",
    "Now that we have defined these exogenous variables, we will figure out what the firm's labor inputs are. To do so, we will assume that the firm is a price taker in its output and labor markets. We will use the expression for the profit-maximizing labor level to derive the labor demand equation, and construct the firms' labor input values according to this equation."
   ]
  },
  {
   "cell_type": "markdown",
   "metadata": {},
   "source": [
    "Assuming that the price of the output is 1 and is fixed throughout time, the firm's maximization problem is\n",
    "\n",
    "\\begin{align*}\n",
    "\\max_{L_{it}} &\\quad E_{t-1}[(A L_{it}^{.7}K^{.3}) - e^{w_{it}} L_{it} - rK \\mid w_{it}, \\gamma_i, k_i] \\\\\n",
    "&\\Leftrightarrow \\\\\n",
    "\\max_{\\ell_{it}} &\\quad E_{t-1}[ (\\exp\\{a_{it} + .7 \\ell_{it} + .3 k_{it}\\}) - \\exp(w_{it} + \\ell) \\mid w_{it}, \\gamma_i, k_i],\n",
    "\\end{align*}\n",
    "\n",
    "where I have removed the cost of capital since $k$ is exogeneous.\n",
    "Notice also that I am assuming that the firm knows\n",
    "at the beginning of the period its level of\n",
    "capital as well as the wages\n",
    "that it faces, before it chooses its\n",
    "level of labor demanded.\n",
    "Evaluating the objective further,\n",
    "\n",
    "\\begin{align*}\n",
    "& E_{t-1}[ (\\exp\\{a_{it} + .7 \\ell_{it} + .3 k_{it}\\}) - \\exp(w_{it} + \\ell_{it} ) \\mid \\gamma_i, k_i] = \\quad \\\\\n",
    "  &\\quad = \\, \\exp \\left (\n",
    "    \\gamma_i + \\rho \\omega_{i,t-1} + .7 \\ell_{it} + .3 k_{it}\n",
    "    + \\frac 12 \\sigma^2_\\varepsilon\n",
    "    \\right ) - \\exp\\left( \\ell_{it} + w_{it} \\right).\n",
    "\\end{align*}\n",
    "\n",
    "The first-order condition is then given by\n",
    "\n",
    "\\begin{align*}\n",
    "[\\ell_{it} :] & \\quad .7\n",
    "  \\exp \\left (\n",
    "    \\gamma_i + \\rho \\omega_{i,t-1} + .7 \\ell_{it} + .3 k_{it}\n",
    "    + \\frac 12 \\sigma^2_\\varepsilon\n",
    "    \\right ) - \\exp\\left( \\ell_{it} + w_{it} \\right) = 0.\n",
    "\\end{align*}"
   ]
  },
  {
   "cell_type": "markdown",
   "metadata": {},
   "source": [
    "#### Q1. Use `scipy` to numerically solve the first-order condition for the optimal labor input.\n",
    "\n",
    "Although this equation can be solved analytically, for practice, solve the first order equation numerically, as it is written above. Use `scipy.optimize.fsolve` to do this.  For the optimal labor input when $\\gamma_i = 1$, $\\omega_{i,t-1} = -1$, $k_{it} = 3$, and $w_{it} = -1$. (Recall that lower-case letters are logs, so $w_{it} = -1$ still makes sense.)\n",
    "\n",
    "**Hint:** Write the left-hand side of the equation as a function and use `fsolve` to find the value of labor that sets the equation to zero. \n",
    "\n",
    "If you want to check your answers, the analytical solution to the equation is given by\n",
    "\n",
    "$$\n",
    "\\ell_{it} = \\frac{1}{.3}\\left[\n",
    "\\gamma_i +\\rho \\omega_{i,t-1} + .3 k_{it} + \\frac 1 2 \\sigma^2_\\varepsilon \n",
    "- w_{it}  + \\ln(.7) \\right]\n",
    "$$\n",
    "\n",
    "Below I provide you with code that generates the answers using the analytical solution."
   ]
  },
  {
   "cell_type": "code",
   "execution_count": null,
   "metadata": {},
   "outputs": [],
   "source": [
    "# Code Provided\n",
    "\n",
    "import numpy as np\n",
    "import scipy.optimize\n",
    "import pandas as pd\n",
    "from matplotlib import pyplot as plt\n",
    "import seaborn as sns\n",
    "sns.set()\n",
    "\n",
    "# Set seed of random number generator \n",
    "np.random.seed(10)\n",
    "\n",
    "# The variance parameters of the random variables\n",
    "sigma2gamma = 0.25\n",
    "sigma2epsilon = 0.01\n",
    "sigma2k = 0.01\n",
    "sigma2w = 0.25\n",
    "\n",
    "# The autocorrelation parameter of the AR(1) process\n",
    "rho = .8\n",
    "\n",
    "# Number of firms\n",
    "N = 10\n",
    "\n",
    "# Number of time period\n",
    "T = 20\n",
    "\n",
    "def labor_demand(gamma_i = 1.0, L_omega_it = -1.0, k_it = 1.0, \n",
    "                 w_it = -1.):\n",
    "    '''\n",
    "    Log-labor demanded, given the firm's state, solved analytically.\n",
    "    '''\n",
    "    l = 1/.3 * (gamma_i + rho * L_omega_it + .3 * k_it + \n",
    "                .5 * sigma2epsilon - w_it + np.log(.7))\n",
    "    return l\n"
   ]
  },
  {
   "cell_type": "code",
   "execution_count": null,
   "metadata": {},
   "outputs": [],
   "source": [
    "# YOUR CODE HERE"
   ]
  },
  {
   "cell_type": "markdown",
   "metadata": {},
   "source": [
    "#### Q2. What happens to labor inputs when $\\gamma_i$ goes up? Answer this question for each of $\\omega_{i,t-1}$, $k_{it}$, and $w_{it}$."
   ]
  },
  {
   "cell_type": "code",
   "execution_count": null,
   "metadata": {},
   "outputs": [],
   "source": [
    "# YOUR ANSWER HERE"
   ]
  },
  {
   "cell_type": "markdown",
   "metadata": {},
   "source": [
    "## Simulate Panel Data\n",
    "\n",
    "Here I generate the panel of firm data. I start by generating\n",
    "the fundamental shocks and then use the model of labor\n",
    "demand above to generate each firm's output level\n",
    "and labor demanded. I give you the code below to fully generate a panel with `N` different firms over `T` time periods. The funtion `gen_all` gives you a dictionary with all the data generated, including the firm fixed effects $\\gamma_i$. The function `create_DF` converts this dictionary into a pandas DataFrame (without the fixed effects information) that you can use in your estimation."
   ]
  },
  {
   "cell_type": "code",
   "execution_count": null,
   "metadata": {},
   "outputs": [],
   "source": [
    "import warnings\n",
    "\n",
    "def gen_shocks(N, T):\n",
    "    '''\n",
    "    Generate the model shocks.\n",
    "    \n",
    "    L_omega are the omega shocks shifted forward one period.\n",
    "    Therefore, \\omega_{i,2} = L_omega[i,3]. Think of the\n",
    "    `L` as representing a lag operator.\n",
    "    '''\n",
    "    #generate iid shocks\n",
    "    gamma = np.random.randn(N, 1) * np.sqrt(sigma2gamma)\n",
    "    epsilon = np.random.randn(N, T) * np.sqrt(sigma2epsilon)\n",
    "    k = np.random.randn(N, T) * np.sqrt(sigma2k)\n",
    "    w = np.random.randn(N, T) * np.sqrt(sigma2w)\n",
    "    \n",
    "    #create AR(1) process\n",
    "    L_omega = np.zeros((N,T+1))\n",
    "    #initial omega drawn from stationary distribution\n",
    "    L_omega[:,0] = np.random.randn(N,1).reshape(N) * \\\n",
    "      np.sqrt(sigma2epsilon / (1. - rho**2))\n",
    "    L_omega[:,1:] = rho * L_omega[:,0:-1] + epsilon\n",
    "    return gamma, k, w, L_omega\n",
    "\n",
    "def gen_all(N=5,T=10):\n",
    "    '''\n",
    "    General the full panel of firm data\n",
    "    '''\n",
    "    gamma, k, w, L_omega = gen_shocks(N=N,T=T)\n",
    "    l = np.empty((N,T))\n",
    "    y = np.empty((N,T))\n",
    "    a = gamma * np.ones((N,T)) + L_omega[:,1:]\n",
    "    \n",
    "    #calculate labor demand and output\n",
    "    for i in range(N):\n",
    "        for t in range(T):\n",
    "            l[i,t] = labor_demand(gamma_i=gamma[i],\n",
    "                                  L_omega_it=L_omega[i,t], \n",
    "                                  k_it=k[i,t], w_it=w[i,t])\n",
    "    y = a + .7 * l + .3 * k\n",
    "    all_data = {'y':y, 'a':a, 'l':l, 'k':k, 'gamma':gamma, \n",
    "             'w':w, 'L_omega':L_omega}\n",
    "    return all_data\n",
    "\n",
    "def _create_Panel(all_data):\n",
    "    '''\n",
    "    Create pandas.Panel from simulated data.\n",
    "    '''\n",
    "    \n",
    "    panel_vars = dict((key, all_data[key]) for key \n",
    "                      in ['y', 'a', 'l', 'k', 'w'])\n",
    "    \n",
    "    with warnings.catch_warnings():\n",
    "        warnings.filterwarnings(\"ignore\",category=FutureWarning)\n",
    "        panel = pd.Panel(panel_vars)\n",
    "    \n",
    "    #Give names to axes\n",
    "    panel.major_axis.name = 'firm'\n",
    "    panel.minor_axis.name = 'time'\n",
    "    panel.items.name = 'vars'\n",
    "    \n",
    "    return panel\n",
    "\n",
    "def create_DF(all_data):\n",
    "    '''\n",
    "    Create a properly stacked pandas.DataFrame.\n",
    "\n",
    "    The column variables are [a, k, l, y, w]\n",
    "    '''\n",
    "    panel = _create_Panel(all_data)\n",
    "    df = panel.to_frame()\n",
    "    return df"
   ]
  },
  {
   "cell_type": "code",
   "execution_count": null,
   "metadata": {},
   "outputs": [],
   "source": [
    "#generate a full panel of data\n",
    "np.random.seed(100)\n",
    "all_data = gen_all(N=3,T=50)\n",
    "df = create_DF(all_data)\n",
    "df.head()"
   ]
  },
  {
   "cell_type": "markdown",
   "metadata": {},
   "source": [
    "#### Q3. Plot firm output over time.\n",
    "\n",
    "Use the data generated above (in `df` or in `all_data`) to plot the firm output over time. Plot the output for all three firms over time on the same graph. Be sure to label the axes of the graph. The data should include `N=3` firms over `T=50` time periods."
   ]
  },
  {
   "cell_type": "code",
   "execution_count": null,
   "metadata": {},
   "outputs": [],
   "source": [
    "# YOUR CODE HERE"
   ]
  },
  {
   "cell_type": "markdown",
   "metadata": {},
   "source": [
    "#### Q4. Plot firm productivity over time.\n",
    "\n",
    "Use the data generated above (in `df` or in `all_data`) to plot the firm productivity over time. Plot productivity for all three firms over time on the same graph. Be sure to label the axes of the graph. The data should include `N=3` firms over `T=50` time periods."
   ]
  },
  {
   "cell_type": "code",
   "execution_count": null,
   "metadata": {},
   "outputs": [],
   "source": [
    "# YOUR CODE HERE"
   ]
  },
  {
   "cell_type": "markdown",
   "metadata": {},
   "source": [
    "#### Q5. Plot capital usage and labor usage for firm `2` over time (there are three firms, 0, 1, and 2)\n",
    "\n",
    "Use the data generated above (in `df` or in `all_data`) to plot capital usage and labor usage. Be sure to label the axes of the graph. The data should include `N=3` firms over `T=50` time periods."
   ]
  },
  {
   "cell_type": "code",
   "execution_count": null,
   "metadata": {},
   "outputs": [],
   "source": [
    "# YOUR CODE HERE"
   ]
  },
  {
   "cell_type": "markdown",
   "metadata": {},
   "source": [
    "## Monte Carlo Experiment\n",
    "\n",
    "#### Q6. Run a Monte Carlo experiment. Is the OLS procedure biased? \n",
    "\n",
    "Estimate the production function coefficients (as described at the beginning of this section) by regressing $y$ on $k$ and $l$\n",
    "using OLS. Are the coefficients on $k$ and $\\ell$ biased? In what direction, if so? Run `M=100` experiments and plot this histograms of the *bias* on each coefficient. (If this weren't a time constrained exam, we would run more.)\n",
    "\n",
    "\n",
    "**Reminder:**\n",
    "\n",
    "The production function is\n",
    "\n",
    "$$\n",
    "y = a + \\beta_\\ell \\ell + \\beta_k k,\n",
    "$$\n",
    "\n",
    "where $\\beta_\\ell = .7$ and $\\beta_k = .3$. We want to know about the bias by plotting the distribution of $\\hat \\beta_\\ell - \\beta_\\ell$\n",
    "and $\\hat \\beta_k - \\beta_k$."
   ]
  },
  {
   "cell_type": "code",
   "execution_count": null,
   "metadata": {},
   "outputs": [],
   "source": [
    "# YOUR CODE HERE"
   ]
  },
  {
   "cell_type": "markdown",
   "metadata": {},
   "source": [
    "#### Q7. Explain the economics of why OLS might produce biased results. Be specific."
   ]
  },
  {
   "cell_type": "code",
   "execution_count": null,
   "metadata": {},
   "outputs": [],
   "source": [
    "# YOUR ANSWER HERE"
   ]
  },
  {
   "cell_type": "markdown",
   "metadata": {},
   "source": [
    "#### Q8. Run a Monte Carlo Simulation to see if a Fixed Effects model produces biased estimates of the production function.\n",
    "\n",
    "Now estimate the production function using firm fixed effects. Is there a bias, and how does this compare to OLS? Plot the histograms of the bias for each parameter as we did before. (To make the plots easier to read, plot the *bias* and not the parameter estimates themselves.)"
   ]
  },
  {
   "cell_type": "code",
   "execution_count": null,
   "metadata": {},
   "outputs": [],
   "source": [
    "# YOUR CODE HERE"
   ]
  },
  {
   "cell_type": "markdown",
   "metadata": {},
   "source": [
    "#### Q9. Explain why adding firm fixed effects might reduce the bias of the parameter estimates."
   ]
  },
  {
   "cell_type": "code",
   "execution_count": null,
   "metadata": {},
   "outputs": [],
   "source": [
    "# YOUR ANSWER HERE"
   ]
  }
 ],
 "metadata": {
  "kernelspec": {
   "display_name": "Python 3",
   "language": "python",
   "name": "python3"
  },
  "language_info": {
   "codemirror_mode": {
    "name": "ipython",
    "version": 3
   },
   "file_extension": ".py",
   "mimetype": "text/x-python",
   "name": "python",
   "nbconvert_exporter": "python",
   "pygments_lexer": "ipython3",
   "version": "3.6.7"
  },
  "varInspector": {
   "cols": {
    "lenName": 16,
    "lenType": 16,
    "lenVar": 40
   },
   "kernels_config": {
    "python": {
     "delete_cmd_postfix": "",
     "delete_cmd_prefix": "del ",
     "library": "var_list.py",
     "varRefreshCmd": "print(var_dic_list())"
    },
    "r": {
     "delete_cmd_postfix": ") ",
     "delete_cmd_prefix": "rm(",
     "library": "var_list.r",
     "varRefreshCmd": "cat(var_dic_list()) "
    }
   },
   "types_to_exclude": [
    "module",
    "function",
    "builtin_function_or_method",
    "instance",
    "_Feature"
   ],
   "window_display": false
  },
  "widgets": {
   "state": {
    "7b008da00b3f4ef5a6ae4cea425981ae": {
     "views": [
      {
       "cell_index": 13
      }
     ]
    },
    "ce85665caf3045868a8ff0f3a26200b2": {
     "views": [
      {
       "cell_index": 9
      }
     ]
    }
   },
   "version": "1.2.0"
  }
 },
 "nbformat": 4,
 "nbformat_minor": 1
}
