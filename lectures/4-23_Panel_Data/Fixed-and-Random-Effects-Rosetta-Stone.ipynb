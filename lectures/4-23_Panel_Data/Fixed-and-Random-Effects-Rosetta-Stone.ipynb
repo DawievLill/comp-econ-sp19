{
 "cells": [
  {
   "cell_type": "markdown",
   "metadata": {
    "colab_type": "text",
    "id": "wck8aJnEDxD8"
   },
   "source": [
    "# Preamble\n",
    "\n",
    "**In this notebook I'll explore how to run normal (pooled) OLS, Fixed Effects, and Random Effects in Python, R, and Stata.**\n",
    "\n",
    " - Two useful Python packages that can be used for this purpose are [`statsmodels`](https://www.statsmodels.org/stable/index.html) and [`linearmodels`](https://bashtage.github.io/linearmodels/). The `linearmodels` packages is geared more towards econometrics. Here's I'll explore the usage of both.\n",
    " - There are several R packages that could be used here. I use [`plm`](https://cran.r-project.org/web/packages/plm/index.html) here. However, it may be better to use [`lfe`](https://cran.r-project.org/web/packages/lfe/index.html) or [`fixest`](https://cran.r-project.org/web/packages/fixest/index.html). (TO DO)\n",
    " - I've used [`rpy2`](https://pypi.org/project/rpy2/) to run the `R` code from within a Python kernel. It may be easier to simply skip these notebook cells and paste the code directly into a separate R interpreter. \n",
    " - The required data files (`lme.dta` and `St11-12_jtrain1.dta`) are in the same folder as this notebook. Instructions are also provided to download them from other sources.\n",
    " - The Stata code does not run in the Jupyter notebook. I've simply pasted the code and the results. The full code is available in `fixed_and_random_effects.do`, also located in this same folder.\n",
    " - If you run this in Google colab, you need to install `rpy2` and `linearmodels` first, as well as download the required data files. The cell below will do this for you."
   ]
  },
  {
   "cell_type": "markdown",
   "metadata": {
    "colab_type": "text",
    "id": "t6piH0GAL4B3"
   },
   "source": [
    "### Usage with Google Colab\n",
    "\n",
    "If using Google Colab, uncomment and run the cells in this section first. \n",
    "\n",
    "[Click here to open and run this in Google Colab.](https://colab.research.google.com/github/jmbejara/comp-econ-sp19/blob/master/lectures/4-23_Panel_Data/Fixed-and-Random-Effects-Rosetta-Stone.ipynb)"
   ]
  },
  {
   "cell_type": "code",
   "execution_count": null,
   "metadata": {},
   "outputs": [],
   "source": [
    "# Install the required python packages\n",
    "!apt-get install r-base\n",
    "!pip install rpy2\n",
    "!pip install linearmodels"
   ]
  },
  {
   "cell_type": "code",
   "execution_count": 2,
   "metadata": {
    "colab": {},
    "colab_type": "code",
    "id": "t0ErHiBQJNGq"
   },
   "outputs": [],
   "source": [
    "# Download the data and assets that this notebook uses\n",
    "import urllib.request\n",
    "\n",
    "url_prefix = \"https://github.com/jmbejara/comp-econ-sp19/blob/master/lectures/4-23_Panel_Data/\"\n",
    "files = [\n",
    "    \"15_2_Wooldridge_Intro.png\",\n",
    "    \"lme.dta\",\n",
    "    \"Example_10_4_Wooldridge_Panel.png\",\n",
    "    \"Example_10_5_Wooldridge_Panel.png\",\n",
    "    \"fixed_and_random_effects.do\",\n",
    "    \"St11-12_jtrain1.dta\",\n",
    "    ]\n",
    "for file in files:\n",
    "    url = url_prefix + file + \"?raw=true\"\n",
    "    urllib.request.urlretrieve(url, f'./{file}')"
   ]
  },
  {
   "cell_type": "markdown",
   "metadata": {},
   "source": [
    "Load rpy2 extention to run R from within Python. Then, install required R packages."
   ]
  },
  {
   "cell_type": "code",
   "execution_count": 3,
   "metadata": {
    "colab": {
     "base_uri": "https://localhost:8080/",
     "height": 105
    },
    "colab_type": "code",
    "id": "dTZVCeHRMaH3",
    "outputId": "8d45f2d6-943a-47aa-9073-559f98ce848f"
   },
   "outputs": [
    {
     "name": "stderr",
     "output_type": "stream",
     "text": [
      "/usr/local/lib/python3.6/dist-packages/rpy2/robjects/pandas2ri.py:14: FutureWarning: pandas.core.index is deprecated and will be removed in a future version.  The public classes are available in the top-level namespace.\n",
      "  from pandas.core.index import Index as PandasIndex\n",
      "/usr/local/lib/python3.6/dist-packages/rpy2/robjects/pandas2ri.py:34: UserWarning: pandas >= 1.0 is not supported.\n",
      "  warnings.warn('pandas >= 1.0 is not supported.')\n"
     ]
    }
   ],
   "source": [
    "%load_ext rpy2.ipython"
   ]
  },
  {
   "cell_type": "code",
   "execution_count": null,
   "metadata": {},
   "outputs": [],
   "source": [
    "%%R\n",
    "install.packages(\"foreign\")\n",
    "install.packages(\"plm\")"
   ]
  },
  {
   "cell_type": "markdown",
   "metadata": {
    "colab_type": "text",
    "id": "a1wGNW8NMrxp"
   },
   "source": [
    "## Usage with all platforms\n",
    "\n",
    "The previous section applies only if you're running this on Google Colab. The main document that applies to all platform begins here."
   ]
  },
  {
   "cell_type": "code",
   "execution_count": 5,
   "metadata": {
    "colab": {
     "base_uri": "https://localhost:8080/",
     "height": 51
    },
    "colab_type": "code",
    "id": "4ZbBp_GxDxD9",
    "outputId": "8fa855fe-31e1-40fe-f2d4-35ff2b1bb9b2"
   },
   "outputs": [
    {
     "name": "stderr",
     "output_type": "stream",
     "text": [
      "/usr/local/lib/python3.6/dist-packages/statsmodels/tools/_testing.py:19: FutureWarning: pandas.util.testing is deprecated. Use the functions in the public API at pandas.testing instead.\n",
      "  import pandas.util.testing as tm\n"
     ]
    }
   ],
   "source": [
    "import numpy as np\n",
    "import pandas as pd\n",
    "import statsmodels.api as sm\n",
    "import statsmodels.formula.api as smf\n",
    "import matplotlib.pyplot as plt\n",
    "import linearmodels\n",
    "from statsmodels.sandbox.regression.predstd import wls_prediction_std\n",
    "\n",
    "np.random.seed(9876789)"
   ]
  },
  {
   "cell_type": "code",
   "execution_count": 6,
   "metadata": {
    "colab": {
     "base_uri": "https://localhost:8080/",
     "height": 51
    },
    "colab_type": "code",
    "id": "CCkLx1k8DxEI",
    "outputId": "7e16233c-d96f-4a38-d1fd-2dcd00e63985",
    "scrolled": false
   },
   "outputs": [
    {
     "name": "stdout",
     "output_type": "stream",
     "text": [
      "The rpy2.ipython extension is already loaded. To reload it, use:\n",
      "  %reload_ext rpy2.ipython\n"
     ]
    }
   ],
   "source": [
    "%load_ext rpy2.ipython"
   ]
  },
  {
   "cell_type": "markdown",
   "metadata": {
    "colab_type": "text",
    "id": "RtcOdycxDxEQ"
   },
   "source": [
    "# OLS"
   ]
  },
  {
   "cell_type": "code",
   "execution_count": 7,
   "metadata": {
    "colab": {},
    "colab_type": "code",
    "id": "YJVpK0BfDxER"
   },
   "outputs": [],
   "source": [
    "# Set up simple example data with some missing data\n",
    "nsample = 100\n",
    "x = np.linspace(0, 10, 100)\n",
    "X = np.column_stack((x, x**2))\n",
    "beta = np.array([0.1, 10])\n",
    "e = np.random.normal(size=nsample)\n",
    "alpha = 1\n",
    "y = alpha + X @ beta + e\n",
    "X[3,1] = np.nan # missing data"
   ]
  },
  {
   "cell_type": "code",
   "execution_count": 8,
   "metadata": {
    "colab": {
     "base_uri": "https://localhost:8080/",
     "height": 204
    },
    "colab_type": "code",
    "id": "Pnb0naobDxEU",
    "outputId": "362b7dc0-691b-4493-c570-3189d4bd04fd"
   },
   "outputs": [
    {
     "data": {
      "text/html": [
       "<div>\n",
       "<style scoped>\n",
       "    .dataframe tbody tr th:only-of-type {\n",
       "        vertical-align: middle;\n",
       "    }\n",
       "\n",
       "    .dataframe tbody tr th {\n",
       "        vertical-align: top;\n",
       "    }\n",
       "\n",
       "    .dataframe thead th {\n",
       "        text-align: right;\n",
       "    }\n",
       "</style>\n",
       "<table border=\"1\" class=\"dataframe\">\n",
       "  <thead>\n",
       "    <tr style=\"text-align: right;\">\n",
       "      <th></th>\n",
       "      <th>x1</th>\n",
       "      <th>x2</th>\n",
       "      <th>y</th>\n",
       "    </tr>\n",
       "  </thead>\n",
       "  <tbody>\n",
       "    <tr>\n",
       "      <th>0</th>\n",
       "      <td>0.00000</td>\n",
       "      <td>0.000000</td>\n",
       "      <td>0.159484</td>\n",
       "    </tr>\n",
       "    <tr>\n",
       "      <th>1</th>\n",
       "      <td>0.10101</td>\n",
       "      <td>0.010203</td>\n",
       "      <td>2.709627</td>\n",
       "    </tr>\n",
       "    <tr>\n",
       "      <th>2</th>\n",
       "      <td>0.20202</td>\n",
       "      <td>0.040812</td>\n",
       "      <td>1.893866</td>\n",
       "    </tr>\n",
       "    <tr>\n",
       "      <th>3</th>\n",
       "      <td>0.30303</td>\n",
       "      <td>NaN</td>\n",
       "      <td>1.440418</td>\n",
       "    </tr>\n",
       "    <tr>\n",
       "      <th>4</th>\n",
       "      <td>0.40404</td>\n",
       "      <td>0.163249</td>\n",
       "      <td>5.607196</td>\n",
       "    </tr>\n",
       "  </tbody>\n",
       "</table>\n",
       "</div>"
      ],
      "text/plain": [
       "        x1        x2         y\n",
       "0  0.00000  0.000000  0.159484\n",
       "1  0.10101  0.010203  2.709627\n",
       "2  0.20202  0.040812  1.893866\n",
       "3  0.30303       NaN  1.440418\n",
       "4  0.40404  0.163249  5.607196"
      ]
     },
     "execution_count": 8,
     "metadata": {
      "tags": []
     },
     "output_type": "execute_result"
    }
   ],
   "source": [
    "df = pd.DataFrame(X, columns=['x1', 'x2'])\n",
    "df['y'] = y\n",
    "df.head()"
   ]
  },
  {
   "cell_type": "markdown",
   "metadata": {
    "colab_type": "text",
    "id": "xiTIsszaDxEX"
   },
   "source": [
    "## `statsmodels` standard API\n",
    "\n",
    "I'll start by using the regular API."
   ]
  },
  {
   "cell_type": "code",
   "execution_count": 9,
   "metadata": {
    "colab": {},
    "colab_type": "code",
    "id": "aonO0cTpDxEX"
   },
   "outputs": [],
   "source": [
    "rhs = sm.add_constant(df[['x1', 'x2']])\n",
    "lhs = df['y']\n",
    "res = sm.OLS(lhs, rhs, missing='drop').fit()"
   ]
  },
  {
   "cell_type": "code",
   "execution_count": 10,
   "metadata": {
    "colab": {
     "base_uri": "https://localhost:8080/",
     "height": 465
    },
    "colab_type": "code",
    "id": "FSNn33EyDxEa",
    "outputId": "7a15d3b5-4158-4236-8935-c4eb4fd58e42"
   },
   "outputs": [
    {
     "data": {
      "text/html": [
       "<table class=\"simpletable\">\n",
       "<caption>OLS Regression Results</caption>\n",
       "<tr>\n",
       "  <th>Dep. Variable:</th>            <td>y</td>        <th>  R-squared:         </th> <td>   1.000</td> \n",
       "</tr>\n",
       "<tr>\n",
       "  <th>Model:</th>                   <td>OLS</td>       <th>  Adj. R-squared:    </th> <td>   1.000</td> \n",
       "</tr>\n",
       "<tr>\n",
       "  <th>Method:</th>             <td>Least Squares</td>  <th>  F-statistic:       </th> <td>3.955e+06</td>\n",
       "</tr>\n",
       "<tr>\n",
       "  <th>Date:</th>             <td>Tue, 25 Aug 2020</td> <th>  Prob (F-statistic):</th> <td>1.09e-236</td>\n",
       "</tr>\n",
       "<tr>\n",
       "  <th>Time:</th>                 <td>20:24:09</td>     <th>  Log-Likelihood:    </th> <td> -145.23</td> \n",
       "</tr>\n",
       "<tr>\n",
       "  <th>No. Observations:</th>      <td>    99</td>      <th>  AIC:               </th> <td>   296.5</td> \n",
       "</tr>\n",
       "<tr>\n",
       "  <th>Df Residuals:</th>          <td>    96</td>      <th>  BIC:               </th> <td>   304.2</td> \n",
       "</tr>\n",
       "<tr>\n",
       "  <th>Df Model:</th>              <td>     2</td>      <th>                     </th>     <td> </td>    \n",
       "</tr>\n",
       "<tr>\n",
       "  <th>Covariance Type:</th>      <td>nonrobust</td>    <th>                     </th>     <td> </td>    \n",
       "</tr>\n",
       "</table>\n",
       "<table class=\"simpletable\">\n",
       "<tr>\n",
       "    <td></td>       <th>coef</th>     <th>std err</th>      <th>t</th>      <th>P>|t|</th>  <th>[0.025</th>    <th>0.975]</th>  \n",
       "</tr>\n",
       "<tr>\n",
       "  <th>const</th> <td>    1.4086</td> <td>    0.324</td> <td>    4.341</td> <td> 0.000</td> <td>    0.765</td> <td>    2.053</td>\n",
       "</tr>\n",
       "<tr>\n",
       "  <th>x1</th>    <td>   -0.0654</td> <td>    0.148</td> <td>   -0.441</td> <td> 0.660</td> <td>   -0.360</td> <td>    0.229</td>\n",
       "</tr>\n",
       "<tr>\n",
       "  <th>x2</th>    <td>   10.0123</td> <td>    0.014</td> <td>  702.595</td> <td> 0.000</td> <td>    9.984</td> <td>   10.041</td>\n",
       "</tr>\n",
       "</table>\n",
       "<table class=\"simpletable\">\n",
       "<tr>\n",
       "  <th>Omnibus:</th>       <td> 1.981</td> <th>  Durbin-Watson:     </th> <td>   2.228</td>\n",
       "</tr>\n",
       "<tr>\n",
       "  <th>Prob(Omnibus):</th> <td> 0.371</td> <th>  Jarque-Bera (JB):  </th> <td>   1.764</td>\n",
       "</tr>\n",
       "<tr>\n",
       "  <th>Skew:</th>          <td> 0.209</td> <th>  Prob(JB):          </th> <td>   0.414</td>\n",
       "</tr>\n",
       "<tr>\n",
       "  <th>Kurtosis:</th>      <td> 2.498</td> <th>  Cond. No.          </th> <td>    149.</td>\n",
       "</tr>\n",
       "</table><br/><br/>Warnings:<br/>[1] Standard Errors assume that the covariance matrix of the errors is correctly specified."
      ],
      "text/plain": [
       "<class 'statsmodels.iolib.summary.Summary'>\n",
       "\"\"\"\n",
       "                            OLS Regression Results                            \n",
       "==============================================================================\n",
       "Dep. Variable:                      y   R-squared:                       1.000\n",
       "Model:                            OLS   Adj. R-squared:                  1.000\n",
       "Method:                 Least Squares   F-statistic:                 3.955e+06\n",
       "Date:                Tue, 25 Aug 2020   Prob (F-statistic):          1.09e-236\n",
       "Time:                        20:24:09   Log-Likelihood:                -145.23\n",
       "No. Observations:                  99   AIC:                             296.5\n",
       "Df Residuals:                      96   BIC:                             304.2\n",
       "Df Model:                           2                                         \n",
       "Covariance Type:            nonrobust                                         \n",
       "==============================================================================\n",
       "                 coef    std err          t      P>|t|      [0.025      0.975]\n",
       "------------------------------------------------------------------------------\n",
       "const          1.4086      0.324      4.341      0.000       0.765       2.053\n",
       "x1            -0.0654      0.148     -0.441      0.660      -0.360       0.229\n",
       "x2            10.0123      0.014    702.595      0.000       9.984      10.041\n",
       "==============================================================================\n",
       "Omnibus:                        1.981   Durbin-Watson:                   2.228\n",
       "Prob(Omnibus):                  0.371   Jarque-Bera (JB):                1.764\n",
       "Skew:                           0.209   Prob(JB):                        0.414\n",
       "Kurtosis:                       2.498   Cond. No.                         149.\n",
       "==============================================================================\n",
       "\n",
       "Warnings:\n",
       "[1] Standard Errors assume that the covariance matrix of the errors is correctly specified.\n",
       "\"\"\""
      ]
     },
     "execution_count": 10,
     "metadata": {
      "tags": []
     },
     "output_type": "execute_result"
    }
   ],
   "source": [
    "res.summary()"
   ]
  },
  {
   "cell_type": "code",
   "execution_count": 11,
   "metadata": {
    "colab": {
     "base_uri": "https://localhost:8080/",
     "height": 85
    },
    "colab_type": "code",
    "id": "oWD71qB2DxEc",
    "outputId": "9cbb936e-b7bc-405d-9b26-d64464cfc953"
   },
   "outputs": [
    {
     "data": {
      "text/plain": [
       "const     1.408565\n",
       "x1       -0.065398\n",
       "x2       10.012289\n",
       "dtype: float64"
      ]
     },
     "execution_count": 11,
     "metadata": {
      "tags": []
     },
     "output_type": "execute_result"
    }
   ],
   "source": [
    "# All results stored in \"results\" object.\n",
    "# E.g., to programatically retrieve parameters\n",
    "res.params"
   ]
  },
  {
   "cell_type": "markdown",
   "metadata": {
    "colab_type": "text",
    "id": "ohAohm9zDxEf"
   },
   "source": [
    "## `statsmodels` formula API\n",
    "\n",
    "Now we use the `formula` API. This uses R-style regression formula notation, via the `patsy` package.\n",
    "\n",
    "You need to make sure to import the separate submodule to access this API, via `import statsmodels.formula.api as smf`"
   ]
  },
  {
   "cell_type": "code",
   "execution_count": 12,
   "metadata": {
    "colab": {
     "base_uri": "https://localhost:8080/",
     "height": 465
    },
    "colab_type": "code",
    "id": "YpKlI08dDxEg",
    "outputId": "e3f3852e-e826-465d-a6c8-bdf3090aa704"
   },
   "outputs": [
    {
     "data": {
      "text/html": [
       "<table class=\"simpletable\">\n",
       "<caption>OLS Regression Results</caption>\n",
       "<tr>\n",
       "  <th>Dep. Variable:</th>            <td>y</td>        <th>  R-squared:         </th> <td>   1.000</td> \n",
       "</tr>\n",
       "<tr>\n",
       "  <th>Model:</th>                   <td>OLS</td>       <th>  Adj. R-squared:    </th> <td>   1.000</td> \n",
       "</tr>\n",
       "<tr>\n",
       "  <th>Method:</th>             <td>Least Squares</td>  <th>  F-statistic:       </th> <td>3.955e+06</td>\n",
       "</tr>\n",
       "<tr>\n",
       "  <th>Date:</th>             <td>Tue, 25 Aug 2020</td> <th>  Prob (F-statistic):</th> <td>1.09e-236</td>\n",
       "</tr>\n",
       "<tr>\n",
       "  <th>Time:</th>                 <td>20:24:09</td>     <th>  Log-Likelihood:    </th> <td> -145.23</td> \n",
       "</tr>\n",
       "<tr>\n",
       "  <th>No. Observations:</th>      <td>    99</td>      <th>  AIC:               </th> <td>   296.5</td> \n",
       "</tr>\n",
       "<tr>\n",
       "  <th>Df Residuals:</th>          <td>    96</td>      <th>  BIC:               </th> <td>   304.2</td> \n",
       "</tr>\n",
       "<tr>\n",
       "  <th>Df Model:</th>              <td>     2</td>      <th>                     </th>     <td> </td>    \n",
       "</tr>\n",
       "<tr>\n",
       "  <th>Covariance Type:</th>      <td>nonrobust</td>    <th>                     </th>     <td> </td>    \n",
       "</tr>\n",
       "</table>\n",
       "<table class=\"simpletable\">\n",
       "<tr>\n",
       "      <td></td>         <th>coef</th>     <th>std err</th>      <th>t</th>      <th>P>|t|</th>  <th>[0.025</th>    <th>0.975]</th>  \n",
       "</tr>\n",
       "<tr>\n",
       "  <th>Intercept</th> <td>    1.4086</td> <td>    0.324</td> <td>    4.341</td> <td> 0.000</td> <td>    0.765</td> <td>    2.053</td>\n",
       "</tr>\n",
       "<tr>\n",
       "  <th>x1</th>        <td>   -0.0654</td> <td>    0.148</td> <td>   -0.441</td> <td> 0.660</td> <td>   -0.360</td> <td>    0.229</td>\n",
       "</tr>\n",
       "<tr>\n",
       "  <th>x2</th>        <td>   10.0123</td> <td>    0.014</td> <td>  702.595</td> <td> 0.000</td> <td>    9.984</td> <td>   10.041</td>\n",
       "</tr>\n",
       "</table>\n",
       "<table class=\"simpletable\">\n",
       "<tr>\n",
       "  <th>Omnibus:</th>       <td> 1.981</td> <th>  Durbin-Watson:     </th> <td>   2.228</td>\n",
       "</tr>\n",
       "<tr>\n",
       "  <th>Prob(Omnibus):</th> <td> 0.371</td> <th>  Jarque-Bera (JB):  </th> <td>   1.764</td>\n",
       "</tr>\n",
       "<tr>\n",
       "  <th>Skew:</th>          <td> 0.209</td> <th>  Prob(JB):          </th> <td>   0.414</td>\n",
       "</tr>\n",
       "<tr>\n",
       "  <th>Kurtosis:</th>      <td> 2.498</td> <th>  Cond. No.          </th> <td>    149.</td>\n",
       "</tr>\n",
       "</table><br/><br/>Warnings:<br/>[1] Standard Errors assume that the covariance matrix of the errors is correctly specified."
      ],
      "text/plain": [
       "<class 'statsmodels.iolib.summary.Summary'>\n",
       "\"\"\"\n",
       "                            OLS Regression Results                            \n",
       "==============================================================================\n",
       "Dep. Variable:                      y   R-squared:                       1.000\n",
       "Model:                            OLS   Adj. R-squared:                  1.000\n",
       "Method:                 Least Squares   F-statistic:                 3.955e+06\n",
       "Date:                Tue, 25 Aug 2020   Prob (F-statistic):          1.09e-236\n",
       "Time:                        20:24:09   Log-Likelihood:                -145.23\n",
       "No. Observations:                  99   AIC:                             296.5\n",
       "Df Residuals:                      96   BIC:                             304.2\n",
       "Df Model:                           2                                         \n",
       "Covariance Type:            nonrobust                                         \n",
       "==============================================================================\n",
       "                 coef    std err          t      P>|t|      [0.025      0.975]\n",
       "------------------------------------------------------------------------------\n",
       "Intercept      1.4086      0.324      4.341      0.000       0.765       2.053\n",
       "x1            -0.0654      0.148     -0.441      0.660      -0.360       0.229\n",
       "x2            10.0123      0.014    702.595      0.000       9.984      10.041\n",
       "==============================================================================\n",
       "Omnibus:                        1.981   Durbin-Watson:                   2.228\n",
       "Prob(Omnibus):                  0.371   Jarque-Bera (JB):                1.764\n",
       "Skew:                           0.209   Prob(JB):                        0.414\n",
       "Kurtosis:                       2.498   Cond. No.                         149.\n",
       "==============================================================================\n",
       "\n",
       "Warnings:\n",
       "[1] Standard Errors assume that the covariance matrix of the errors is correctly specified.\n",
       "\"\"\""
      ]
     },
     "execution_count": 12,
     "metadata": {
      "tags": []
     },
     "output_type": "execute_result"
    }
   ],
   "source": [
    "results = smf.ols(formula=\"y ~ x1 + x2\", data=df).fit()\n",
    "results.summary()"
   ]
  },
  {
   "cell_type": "markdown",
   "metadata": {
    "colab_type": "text",
    "id": "O9Q92cDYO7LH"
   },
   "source": [
    "## OLS in Base R"
   ]
  },
  {
   "cell_type": "code",
   "execution_count": 13,
   "metadata": {
    "colab": {
     "base_uri": "https://localhost:8080/",
     "height": 136
    },
    "colab_type": "code",
    "id": "ccI86xrBDxEi",
    "outputId": "9c2fdd39-68f9-4a25-85a1-2d04f54659c4"
   },
   "outputs": [
    {
     "name": "stdout",
     "output_type": "stream",
     "text": [
      "         x1         x2         y\n",
      "0 0.0000000 0.00000000 0.1594841\n",
      "1 0.1010101 0.01020304 2.7096267\n",
      "2 0.2020202 0.04081216 1.8938657\n",
      "3 0.3030303        NaN 1.4404177\n",
      "4 0.4040404 0.16324865 5.6071962\n",
      "5 0.5050505 0.25507601 4.0141596\n"
     ]
    }
   ],
   "source": [
    "%%R -i df\n",
    "head(df)"
   ]
  },
  {
   "cell_type": "code",
   "execution_count": 14,
   "metadata": {
    "colab": {
     "base_uri": "https://localhost:8080/",
     "height": 153
    },
    "colab_type": "code",
    "id": "39Uzrw7VDxEn",
    "outputId": "869056a5-5ebd-4223-f4b4-c8b63992ee67"
   },
   "outputs": [
    {
     "name": "stdout",
     "output_type": "stream",
     "text": [
      "\n",
      "Call:\n",
      "lm(formula = y ~ x1 + x2, data = df)\n",
      "\n",
      "Coefficients:\n",
      "(Intercept)           x1           x2  \n",
      "     1.4086      -0.0654      10.0123  \n",
      "\n"
     ]
    }
   ],
   "source": [
    "%%R \n",
    "fit = lm(y ~ x1 + x2, df)\n",
    "fit"
   ]
  },
  {
   "cell_type": "code",
   "execution_count": 15,
   "metadata": {
    "colab": {
     "base_uri": "https://localhost:8080/",
     "height": 374
    },
    "colab_type": "code",
    "id": "Xde0mf2gDxEq",
    "outputId": "8fb32b1f-3f75-4b22-f93e-9e71393ed337"
   },
   "outputs": [
    {
     "name": "stdout",
     "output_type": "stream",
     "text": [
      "\n",
      "Call:\n",
      "lm(formula = y ~ x1 + x2, data = df)\n",
      "\n",
      "Residuals:\n",
      "     Min       1Q   Median       3Q      Max \n",
      "-2.07542 -0.76563  0.03925  0.70802  2.59056 \n",
      "\n",
      "Coefficients:\n",
      "            Estimate Std. Error t value Pr(>|t|)    \n",
      "(Intercept)  1.40856    0.32446   4.341 3.51e-05 ***\n",
      "x1          -0.06540    0.14831  -0.441     0.66    \n",
      "x2          10.01229    0.01425 702.595  < 2e-16 ***\n",
      "---\n",
      "Signif. codes:  0 ‘***’ 0.001 ‘**’ 0.01 ‘*’ 0.05 ‘.’ 0.1 ‘ ’ 1\n",
      "\n",
      "Residual standard error: 1.065 on 96 degrees of freedom\n",
      "  (1 observation deleted due to missingness)\n",
      "Multiple R-squared:      1,\tAdjusted R-squared:      1 \n",
      "F-statistic: 3.955e+06 on 2 and 96 DF,  p-value: < 2.2e-16\n",
      "\n"
     ]
    }
   ],
   "source": [
    "%%R\n",
    "summary(fit)"
   ]
  },
  {
   "cell_type": "markdown",
   "metadata": {
    "colab_type": "text",
    "collapsed": true,
    "id": "zm7hCMxyDxEt"
   },
   "source": [
    "# Fixed Effects\n",
    "\n",
    "Here I'll test out fixed effects estimation. In particular, I want to compare the outcomes that I get in Python to the output that I get from Stata. I want to make sure I'm getting the same results. To do this, I'll be using a data exercise from Wooldridge's panel data book. I have solutions to the odd problems in this book and Stata results. So, I can verify that my Stata results are accurate and then proceed with the analysis in Python.\n"
   ]
  },
  {
   "cell_type": "markdown",
   "metadata": {
    "colab_type": "text",
    "id": "td189w1tDxEt"
   },
   "source": [
    "## Linear Mixed Effects Models\n",
    "\n",
    "\n",
    "#### In `statsmodels`\n",
    "Here is a quick example of the syntax from `statsmodels`. This is taken from here: http://statsmodels.sourceforge.net/devel/mixed_linear.html"
   ]
  },
  {
   "cell_type": "code",
   "execution_count": 16,
   "metadata": {
    "colab": {
     "base_uri": "https://localhost:8080/",
     "height": 204
    },
    "colab_type": "code",
    "id": "Kw6gadwEDxEt",
    "outputId": "47278ed7-9459-42dd-df35-0ba2637419d0"
   },
   "outputs": [
    {
     "data": {
      "text/html": [
       "<div>\n",
       "<style scoped>\n",
       "    .dataframe tbody tr th:only-of-type {\n",
       "        vertical-align: middle;\n",
       "    }\n",
       "\n",
       "    .dataframe tbody tr th {\n",
       "        vertical-align: top;\n",
       "    }\n",
       "\n",
       "    .dataframe thead th {\n",
       "        text-align: right;\n",
       "    }\n",
       "</style>\n",
       "<table border=\"1\" class=\"dataframe\">\n",
       "  <thead>\n",
       "    <tr style=\"text-align: right;\">\n",
       "      <th></th>\n",
       "      <th>Pig</th>\n",
       "      <th>Evit</th>\n",
       "      <th>Cu</th>\n",
       "      <th>Litter</th>\n",
       "      <th>Start</th>\n",
       "      <th>Weight</th>\n",
       "      <th>Feed</th>\n",
       "      <th>Time</th>\n",
       "    </tr>\n",
       "  </thead>\n",
       "  <tbody>\n",
       "    <tr>\n",
       "      <th>0</th>\n",
       "      <td>4601</td>\n",
       "      <td>Evit000</td>\n",
       "      <td>Cu000</td>\n",
       "      <td>1</td>\n",
       "      <td>26.5</td>\n",
       "      <td>26.50000</td>\n",
       "      <td>NaN</td>\n",
       "      <td>1</td>\n",
       "    </tr>\n",
       "    <tr>\n",
       "      <th>1</th>\n",
       "      <td>4601</td>\n",
       "      <td>Evit000</td>\n",
       "      <td>Cu000</td>\n",
       "      <td>1</td>\n",
       "      <td>26.5</td>\n",
       "      <td>27.59999</td>\n",
       "      <td>5.200005</td>\n",
       "      <td>2</td>\n",
       "    </tr>\n",
       "    <tr>\n",
       "      <th>2</th>\n",
       "      <td>4601</td>\n",
       "      <td>Evit000</td>\n",
       "      <td>Cu000</td>\n",
       "      <td>1</td>\n",
       "      <td>26.5</td>\n",
       "      <td>36.50000</td>\n",
       "      <td>17.600000</td>\n",
       "      <td>3</td>\n",
       "    </tr>\n",
       "    <tr>\n",
       "      <th>3</th>\n",
       "      <td>4601</td>\n",
       "      <td>Evit000</td>\n",
       "      <td>Cu000</td>\n",
       "      <td>1</td>\n",
       "      <td>26.5</td>\n",
       "      <td>40.29999</td>\n",
       "      <td>28.500000</td>\n",
       "      <td>4</td>\n",
       "    </tr>\n",
       "    <tr>\n",
       "      <th>4</th>\n",
       "      <td>4601</td>\n",
       "      <td>Evit000</td>\n",
       "      <td>Cu000</td>\n",
       "      <td>1</td>\n",
       "      <td>26.5</td>\n",
       "      <td>49.09998</td>\n",
       "      <td>45.200001</td>\n",
       "      <td>5</td>\n",
       "    </tr>\n",
       "  </tbody>\n",
       "</table>\n",
       "</div>"
      ],
      "text/plain": [
       "    Pig     Evit     Cu  Litter  Start    Weight       Feed  Time\n",
       "0  4601  Evit000  Cu000       1   26.5  26.50000        NaN     1\n",
       "1  4601  Evit000  Cu000       1   26.5  27.59999   5.200005     2\n",
       "2  4601  Evit000  Cu000       1   26.5  36.50000  17.600000     3\n",
       "3  4601  Evit000  Cu000       1   26.5  40.29999  28.500000     4\n",
       "4  4601  Evit000  Cu000       1   26.5  49.09998  45.200001     5"
      ]
     },
     "execution_count": 16,
     "metadata": {
      "tags": []
     },
     "output_type": "execute_result"
    }
   ],
   "source": [
    "import statsmodels.api as sm \n",
    "import statsmodels.formula.api as smf\n",
    "\n",
    "data = sm.datasets.get_rdataset(\"dietox\", \"geepack\").data\n",
    "data.head()"
   ]
  },
  {
   "cell_type": "code",
   "execution_count": 17,
   "metadata": {
    "colab": {
     "base_uri": "https://localhost:8080/",
     "height": 297
    },
    "colab_type": "code",
    "id": "fXdTiXiODxEw",
    "outputId": "b5d992a8-28fd-45fe-b655-fdec7defdbcd"
   },
   "outputs": [
    {
     "data": {
      "text/html": [
       "<div>\n",
       "<style scoped>\n",
       "    .dataframe tbody tr th:only-of-type {\n",
       "        vertical-align: middle;\n",
       "    }\n",
       "\n",
       "    .dataframe tbody tr th {\n",
       "        vertical-align: top;\n",
       "    }\n",
       "\n",
       "    .dataframe thead th {\n",
       "        text-align: right;\n",
       "    }\n",
       "</style>\n",
       "<table border=\"1\" class=\"dataframe\">\n",
       "  <thead>\n",
       "    <tr style=\"text-align: right;\">\n",
       "      <th></th>\n",
       "      <th>Pig</th>\n",
       "      <th>Litter</th>\n",
       "      <th>Start</th>\n",
       "      <th>Weight</th>\n",
       "      <th>Feed</th>\n",
       "      <th>Time</th>\n",
       "    </tr>\n",
       "  </thead>\n",
       "  <tbody>\n",
       "    <tr>\n",
       "      <th>count</th>\n",
       "      <td>861.000000</td>\n",
       "      <td>861.000000</td>\n",
       "      <td>861.000000</td>\n",
       "      <td>861.000000</td>\n",
       "      <td>789.000000</td>\n",
       "      <td>861.000000</td>\n",
       "    </tr>\n",
       "    <tr>\n",
       "      <th>mean</th>\n",
       "      <td>6238.319396</td>\n",
       "      <td>12.135889</td>\n",
       "      <td>25.672701</td>\n",
       "      <td>60.725769</td>\n",
       "      <td>80.728645</td>\n",
       "      <td>6.480836</td>\n",
       "    </tr>\n",
       "    <tr>\n",
       "      <th>std</th>\n",
       "      <td>1323.845928</td>\n",
       "      <td>7.427252</td>\n",
       "      <td>3.624336</td>\n",
       "      <td>24.978881</td>\n",
       "      <td>52.877736</td>\n",
       "      <td>3.444735</td>\n",
       "    </tr>\n",
       "    <tr>\n",
       "      <th>min</th>\n",
       "      <td>4601.000000</td>\n",
       "      <td>1.000000</td>\n",
       "      <td>15.000000</td>\n",
       "      <td>15.000000</td>\n",
       "      <td>3.300003</td>\n",
       "      <td>1.000000</td>\n",
       "    </tr>\n",
       "    <tr>\n",
       "      <th>25%</th>\n",
       "      <td>4857.000000</td>\n",
       "      <td>5.000000</td>\n",
       "      <td>23.799990</td>\n",
       "      <td>38.299990</td>\n",
       "      <td>32.800003</td>\n",
       "      <td>3.000000</td>\n",
       "    </tr>\n",
       "    <tr>\n",
       "      <th>50%</th>\n",
       "      <td>5866.000000</td>\n",
       "      <td>11.000000</td>\n",
       "      <td>25.700000</td>\n",
       "      <td>59.199980</td>\n",
       "      <td>74.499996</td>\n",
       "      <td>6.000000</td>\n",
       "    </tr>\n",
       "    <tr>\n",
       "      <th>75%</th>\n",
       "      <td>8050.000000</td>\n",
       "      <td>20.000000</td>\n",
       "      <td>27.299990</td>\n",
       "      <td>81.199950</td>\n",
       "      <td>123.000000</td>\n",
       "      <td>9.000000</td>\n",
       "    </tr>\n",
       "    <tr>\n",
       "      <th>max</th>\n",
       "      <td>8442.000000</td>\n",
       "      <td>24.000000</td>\n",
       "      <td>35.399990</td>\n",
       "      <td>117.000000</td>\n",
       "      <td>224.500000</td>\n",
       "      <td>12.000000</td>\n",
       "    </tr>\n",
       "  </tbody>\n",
       "</table>\n",
       "</div>"
      ],
      "text/plain": [
       "               Pig      Litter       Start      Weight        Feed        Time\n",
       "count   861.000000  861.000000  861.000000  861.000000  789.000000  861.000000\n",
       "mean   6238.319396   12.135889   25.672701   60.725769   80.728645    6.480836\n",
       "std    1323.845928    7.427252    3.624336   24.978881   52.877736    3.444735\n",
       "min    4601.000000    1.000000   15.000000   15.000000    3.300003    1.000000\n",
       "25%    4857.000000    5.000000   23.799990   38.299990   32.800003    3.000000\n",
       "50%    5866.000000   11.000000   25.700000   59.199980   74.499996    6.000000\n",
       "75%    8050.000000   20.000000   27.299990   81.199950  123.000000    9.000000\n",
       "max    8442.000000   24.000000   35.399990  117.000000  224.500000   12.000000"
      ]
     },
     "execution_count": 17,
     "metadata": {
      "tags": []
     },
     "output_type": "execute_result"
    }
   ],
   "source": [
    "data.describe()"
   ]
  },
  {
   "cell_type": "code",
   "execution_count": 18,
   "metadata": {
    "colab": {
     "base_uri": "https://localhost:8080/",
     "height": 231
    },
    "colab_type": "code",
    "id": "Ty4R59S2DxEz",
    "outputId": "9493f2ff-2b46-4bc7-9400-a2e6229dc86b"
   },
   "outputs": [
    {
     "data": {
      "text/html": [
       "<table class=\"simpletable\">\n",
       "<tr>\n",
       "       <td>Model:</td>       <td>MixedLM</td> <td>Dependent Variable:</td>   <td>Weight</td>  \n",
       "</tr>\n",
       "<tr>\n",
       "  <td>No. Observations:</td>   <td>861</td>         <td>Method:</td>          <td>REML</td>   \n",
       "</tr>\n",
       "<tr>\n",
       "     <td>No. Groups:</td>      <td>72</td>          <td>Scale:</td>          <td>11.3669</td> \n",
       "</tr>\n",
       "<tr>\n",
       "  <td>Min. group size:</td>    <td>11</td>        <td>Likelihood:</td>     <td>-2404.7753</td>\n",
       "</tr>\n",
       "<tr>\n",
       "  <td>Max. group size:</td>    <td>12</td>        <td>Converged:</td>          <td>Yes</td>   \n",
       "</tr>\n",
       "<tr>\n",
       "  <td>Mean group size:</td>   <td>12.0</td>            <td></td>                <td></td>     \n",
       "</tr>\n",
       "</table>\n",
       "<table class=\"simpletable\">\n",
       "<tr>\n",
       "      <td></td>       <th>Coef.</th> <th>Std.Err.</th>    <th>z</th>    <th>P>|z|</th> <th>[0.025</th> <th>0.975]</th>\n",
       "</tr>\n",
       "<tr>\n",
       "  <th>Intercept</th> <td>15.724</td>   <td>0.788</td>  <td>19.952</td>  <td>0.000</td> <td>14.179</td> <td>17.268</td>\n",
       "</tr>\n",
       "<tr>\n",
       "  <th>Time</th>       <td>6.943</td>   <td>0.033</td>  <td>207.939</td> <td>0.000</td>  <td>6.877</td>  <td>7.008</td>\n",
       "</tr>\n",
       "<tr>\n",
       "  <th>Group Var</th> <td>40.394</td>   <td>2.149</td>     <td></td>       <td></td>       <td></td>       <td></td>   \n",
       "</tr>\n",
       "</table>"
      ],
      "text/plain": [
       "<class 'statsmodels.iolib.summary2.Summary'>\n",
       "\"\"\"\n",
       "         Mixed Linear Model Regression Results\n",
       "========================================================\n",
       "Model:            MixedLM Dependent Variable: Weight    \n",
       "No. Observations: 861     Method:             REML      \n",
       "No. Groups:       72      Scale:              11.3669   \n",
       "Min. group size:  11      Likelihood:         -2404.7753\n",
       "Max. group size:  12      Converged:          Yes       \n",
       "Mean group size:  12.0                                  \n",
       "--------------------------------------------------------\n",
       "             Coef.  Std.Err.    z    P>|z| [0.025 0.975]\n",
       "--------------------------------------------------------\n",
       "Intercept    15.724    0.788  19.952 0.000 14.179 17.268\n",
       "Time          6.943    0.033 207.939 0.000  6.877  7.008\n",
       "Group Var    40.394    2.149                            \n",
       "========================================================\n",
       "\n",
       "\"\"\""
      ]
     },
     "execution_count": 18,
     "metadata": {
      "tags": []
     },
     "output_type": "execute_result"
    }
   ],
   "source": [
    "md = smf.mixedlm(\"Weight ~ Time\", data, groups=data[\"Pig\"]) \n",
    "mdf = md.fit() \n",
    "mdf.summary()"
   ]
  },
  {
   "cell_type": "code",
   "execution_count": 19,
   "metadata": {
    "colab": {
     "base_uri": "https://localhost:8080/",
     "height": 231
    },
    "colab_type": "code",
    "id": "18_tINUTDxE1",
    "outputId": "661221bf-0e64-41d4-ebd0-40514785780b"
   },
   "outputs": [
    {
     "data": {
      "text/html": [
       "<table class=\"simpletable\">\n",
       "<tr>\n",
       "       <td>Model:</td>       <td>MixedLM</td> <td>Dependent Variable:</td>   <td>Weight</td>  \n",
       "</tr>\n",
       "<tr>\n",
       "  <td>No. Observations:</td>   <td>861</td>         <td>Method:</td>          <td>REML</td>   \n",
       "</tr>\n",
       "<tr>\n",
       "     <td>No. Groups:</td>      <td>72</td>          <td>Scale:</td>          <td>11.3669</td> \n",
       "</tr>\n",
       "<tr>\n",
       "  <td>Min. group size:</td>    <td>11</td>        <td>Likelihood:</td>     <td>-2404.7753</td>\n",
       "</tr>\n",
       "<tr>\n",
       "  <td>Max. group size:</td>    <td>12</td>        <td>Converged:</td>          <td>Yes</td>   \n",
       "</tr>\n",
       "<tr>\n",
       "  <td>Mean group size:</td>   <td>12.0</td>            <td></td>                <td></td>     \n",
       "</tr>\n",
       "</table>\n",
       "<table class=\"simpletable\">\n",
       "<tr>\n",
       "      <td></td>       <th>Coef.</th> <th>Std.Err.</th>    <th>z</th>    <th>P>|z|</th> <th>[0.025</th> <th>0.975]</th>\n",
       "</tr>\n",
       "<tr>\n",
       "  <th>Intercept</th> <td>15.724</td>   <td>0.788</td>  <td>19.952</td>  <td>0.000</td> <td>14.179</td> <td>17.268</td>\n",
       "</tr>\n",
       "<tr>\n",
       "  <th>Time</th>       <td>6.943</td>   <td>0.033</td>  <td>207.939</td> <td>0.000</td>  <td>6.877</td>  <td>7.008</td>\n",
       "</tr>\n",
       "<tr>\n",
       "  <th>Group Var</th> <td>40.394</td>   <td>2.149</td>     <td></td>       <td></td>       <td></td>       <td></td>   \n",
       "</tr>\n",
       "</table>"
      ],
      "text/plain": [
       "<class 'statsmodels.iolib.summary2.Summary'>\n",
       "\"\"\"\n",
       "         Mixed Linear Model Regression Results\n",
       "========================================================\n",
       "Model:            MixedLM Dependent Variable: Weight    \n",
       "No. Observations: 861     Method:             REML      \n",
       "No. Groups:       72      Scale:              11.3669   \n",
       "Min. group size:  11      Likelihood:         -2404.7753\n",
       "Max. group size:  12      Converged:          Yes       \n",
       "Mean group size:  12.0                                  \n",
       "--------------------------------------------------------\n",
       "             Coef.  Std.Err.    z    P>|z| [0.025 0.975]\n",
       "--------------------------------------------------------\n",
       "Intercept    15.724    0.788  19.952 0.000 14.179 17.268\n",
       "Time          6.943    0.033 207.939 0.000  6.877  7.008\n",
       "Group Var    40.394    2.149                            \n",
       "========================================================\n",
       "\n",
       "\"\"\""
      ]
     },
     "execution_count": 19,
     "metadata": {
      "tags": []
     },
     "output_type": "execute_result"
    }
   ],
   "source": [
    "md = sm.MixedLM.from_formula(\"Weight ~ Time\", data, groups=data[\"Pig\"]) \n",
    "mdf = md.fit() \n",
    "mdf.summary()"
   ]
  },
  {
   "cell_type": "markdown",
   "metadata": {
    "colab_type": "text",
    "id": "azqsB8OkDxE3"
   },
   "source": [
    "#### In Stata\n",
    "\n",
    "Now I'll confirm that I get the same calculation in Stata."
   ]
  },
  {
   "cell_type": "code",
   "execution_count": 20,
   "metadata": {
    "colab": {},
    "colab_type": "code",
    "id": "USEWVVC0DxE3"
   },
   "outputs": [],
   "source": [
    "#Save file as Stata file\n",
    "# data.to_stata('lme.dta')"
   ]
  },
  {
   "cell_type": "markdown",
   "metadata": {
    "colab_type": "text",
    "id": "XzcobnhXDxE5"
   },
   "source": [
    "In Stata, call the following commands:\n",
    "\n",
    "    use \"C:\\Users\\Jeremy\\Documents\\GitRepositories\\Learn\\python\\statistics-and-data-analysis\\General\\fixed-and-random-effects\\lme.dta\", clear\n",
    "    \n",
    "    xtreg Weight Time, i(Pig)\n",
    "    \n",
    "This produces the following output:\n",
    "\n",
    "```\n",
    "Random-effects GLS regression                   Number of obs     =        861\n",
    "Group variable: Pig                             Number of groups  =         72\n",
    "\n",
    "R-sq:                                           Obs per group:\n",
    "     within  = 0.9821                                         min =         11\n",
    "     between = 0.0370                                         avg =       12.0\n",
    "     overall = 0.9177                                         max =         12\n",
    "\n",
    "                                                Wald chi2(1)      =   43261.79\n",
    "corr(u_i, X)   = 0 (assumed)                    Prob > chi2       =     0.0000\n",
    "\n",
    "------------------------------------------------------------------------------\n",
    "      Weight |      Coef.   Std. Err.      z    P>|z|     [95% Conf. Interval]\n",
    "-------------+----------------------------------------------------------------\n",
    "        Time |   6.942504   .0333783   207.99   0.000     6.877084    7.007925\n",
    "       _cons |   15.72353   .7902282    19.90   0.000     14.17471    17.27234\n",
    "-------------+----------------------------------------------------------------\n",
    "     sigma_u |  6.3769509\n",
    "     sigma_e |  3.3714948\n",
    "         rho |  .78154074   (fraction of variance due to u_i)\n",
    "------------------------------------------------------------------------------\n",
    "```"
   ]
  },
  {
   "cell_type": "markdown",
   "metadata": {
    "colab_type": "text",
    "id": "Wltjg_WxDxE6"
   },
   "source": [
    "#### With `plm` in R\n",
    "\n",
    "Some information on how to do this in R: https://dss.princeton.edu/training/Panel101R.pdf"
   ]
  },
  {
   "cell_type": "code",
   "execution_count": 21,
   "metadata": {
    "colab": {},
    "colab_type": "code",
    "id": "xMC1AWFSDxE7"
   },
   "outputs": [],
   "source": [
    "%%R\n",
    "library(foreign)\n",
    "library(plm)"
   ]
  },
  {
   "cell_type": "code",
   "execution_count": 22,
   "metadata": {
    "colab": {
     "base_uri": "https://localhost:8080/",
     "height": 391
    },
    "colab_type": "code",
    "id": "GcdRg1rhDxE9",
    "outputId": "2277eb0a-df90-45af-eedb-913f3ca617b0"
   },
   "outputs": [
    {
     "name": "stdout",
     "output_type": "stream",
     "text": [
      "Oneway (individual) effect Within Model\n",
      "\n",
      "Call:\n",
      "plm(formula = Weight ~ Time, data = df, model = \"within\", index = c(\"Pig\"))\n",
      "\n",
      "Unbalanced Panel: n = 72, T = 11-12, N = 861\n",
      "\n",
      "Residuals:\n",
      "    Min.  1st Qu.   Median  3rd Qu.     Max. \n",
      "-15.9401  -1.9190  -0.2842   1.6538  16.4499 \n",
      "\n",
      "Coefficients:\n",
      "     Estimate Std. Error t-value  Pr(>|t|)    \n",
      "Time 6.942398   0.033388  207.93 < 2.2e-16 ***\n",
      "---\n",
      "Signif. codes:  0 ‘***’ 0.001 ‘**’ 0.01 ‘*’ 0.05 ‘.’ 0.1 ‘ ’ 1\n",
      "\n",
      "Total Sum of Squares:    500420\n",
      "Residual Sum of Squares: 8957.2\n",
      "R-Squared:      0.9821\n",
      "Adj. R-Squared: 0.98047\n",
      "F-statistic: 43236.1 on 1 and 788 DF, p-value: < 2.22e-16\n"
     ]
    }
   ],
   "source": [
    "%%R\n",
    "# df = read.dta('lme.dta')\n",
    "df = read.dta('https://github.com/jmbejara/comp-econ-sp19/blob/master/lectures/4-23_Panel_Data/lme.dta?raw=true')\n",
    "fixed = plm(Weight ~ Time, data=df, index=c('Pig'), model='within')\n",
    "summary(fixed)"
   ]
  },
  {
   "cell_type": "markdown",
   "metadata": {
    "colab_type": "text",
    "id": "g4aj3iVbDxE_"
   },
   "source": [
    "As you can see, the results are the same."
   ]
  },
  {
   "cell_type": "markdown",
   "metadata": {
    "colab_type": "text",
    "id": "75CA4Hg3DxE_"
   },
   "source": [
    "## Wooldridge Panel Data: Chapter 10\n",
    "\n",
    "\n",
    "I will replicate the examples that are found here: http://www.ats.ucla.edu/stat/stata/examples/eacspd/chapter10.htmb (Now here: https://stats.idre.ucla.edu/stata/examples/eacspd/econometric-analysis-of-cross-section-and-panel-data-by-jeffrey-m-wooldridgechapter-10-basic-linear-unobserved-effects-panel-data-models/) \n",
    "\n",
    "**jtrain1 data**\n",
    "\n",
    "This data comes from the paper \"Are Training Subsidies for Firms Effective? The Michigan Experience\", by Holzer, et al. 1993. \n",
    "\n",
    "Abstract:\n",
    "> This paper explores the effects of a state-financed training grant program for manufacturing firms in Michigan. Using a three-year panel of data from a unique survey of firms that applied for these grants, the authors estimate the effects of receipt of a grant on total hours of training in the firm and the product scrap rate. They find that receipt of these grants is associated with a large and significant, though one-time, increase in training hours, and with a more lasting reduction in scrap rates.\n",
    "\n",
    "\n",
    "### Random Effects Model\n",
    "\n",
    "#### Example 10.4 on page 261 using jtrain1.dta.\n",
    "\n",
    "\n",
    "> We now use the data in JTRAIN1.RAW to estimate the effect of job training grants on firm scrap rates, using a random e¤ects analysis. There are 54 firms that reported scrap rates for each of the years 1987, 1988, and 1989. Grants were not awarded in 1987. Some firms received grants in 1988, others received grants in 1989, and a firm could not receive a grant twice. Since there are firms in 1989 that received a grant only in 1988, it is important to allow the grant effect to persist one period. The estimated equation is\n",
    "\n",
    "![Example_10_4_Wooldridge_Panel.png](./Example_10_4_Wooldridge_Panel.png)\n"
   ]
  },
  {
   "cell_type": "markdown",
   "metadata": {
    "colab_type": "text",
    "id": "KAJBdSwZNpp5"
   },
   "source": [
    "![Example_10_4_Wooldridge_Panel](https://user-images.githubusercontent.com/3770323/91232342-8e2ddb00-e6f4-11ea-8496-4ec5ab71270c.png)"
   ]
  },
  {
   "cell_type": "markdown",
   "metadata": {
    "colab_type": "text",
    "id": "58BRsLlWNncD"
   },
   "source": [
    "In this example, I'm trying to replicate the following Stata code.\n",
    "\n",
    "    //use jtrain1, clear\n",
    "    use http://www.stata.com/data/jwooldridge/eacsap/jtrain1, clear\n",
    "    xtreg lscrap d88 d89 union grant grant_1, i( fcode)"
   ]
  },
  {
   "cell_type": "code",
   "execution_count": 23,
   "metadata": {
    "colab": {},
    "colab_type": "code",
    "id": "zZFZQZeeDxE_"
   },
   "outputs": [],
   "source": [
    "import pandas as pd\n",
    "import pandas\n",
    "import statsmodels.formula.api as smf"
   ]
  },
  {
   "cell_type": "code",
   "execution_count": 24,
   "metadata": {
    "colab": {},
    "colab_type": "code",
    "id": "k48Z73RqDxFB"
   },
   "outputs": [],
   "source": [
    "# #download and save the correct datasets\n",
    "# import urllib\n",
    "# testfile = urllib.request.URLopener()\n",
    "# testfile.retrieve(\"http://www.stata.com/data/jwooldridge/eacsap/jtrain1.dta\", \"jtrain1.dta\")"
   ]
  },
  {
   "cell_type": "markdown",
   "metadata": {
    "colab_type": "text",
    "id": "9lXZ9vBXDxFF"
   },
   "source": [
    "Note that once you download this file, you need to use Stata to save this in Stata 11/12 format or it will not work. I have already done this and named the new copy of the file"
   ]
  },
  {
   "cell_type": "code",
   "execution_count": 25,
   "metadata": {
    "colab": {},
    "colab_type": "code",
    "id": "JUU1pb1tDxFF"
   },
   "outputs": [],
   "source": [
    "# Does not work with this version of Stata\n",
    "# df = pd.read_stata('jtrain1.dta')"
   ]
  },
  {
   "cell_type": "code",
   "execution_count": 26,
   "metadata": {
    "colab": {},
    "colab_type": "code",
    "id": "KKFuVmTfDxFH"
   },
   "outputs": [],
   "source": [
    "#Open converted file\n",
    "url = \"http://www.stata.com/data/jwooldridge/eacsap/jtrain1.dta\"\n",
    "# df = pd.read_stata('St11-12_jtrain1.dta')\n",
    "df = pd.read_stata(url)"
   ]
  },
  {
   "cell_type": "code",
   "execution_count": 27,
   "metadata": {
    "colab": {
     "base_uri": "https://localhost:8080/",
     "height": 581
    },
    "colab_type": "code",
    "id": "87uppNwHDxFK",
    "outputId": "aa9d694d-6ebe-467a-8481-3dbafe8c94a7"
   },
   "outputs": [
    {
     "name": "stdout",
     "output_type": "stream",
     "text": [
      "year: 1987, 1988, or 1989\n",
      "fcode: firm code number\n",
      "employ: # employees at plant\n",
      "sales: annual sales, $\n",
      "avgsal: average employee salary\n",
      "scrap: scrap rate (per 100 items)\n",
      "rework: rework rate (per 100 items)\n",
      "tothrs: total hours training\n",
      "union: =1 if unionized\n",
      "grant: = 1 if received grant\n",
      "d89: = 1 if year = 1989\n",
      "d88: = 1 if year = 1988\n",
      "totrain: total employees trained\n",
      "hrsemp: tothrs/totrain\n",
      "lscrap: log(scrap)\n",
      "lemploy: log(employ)\n",
      "lsales: log(sales)\n",
      "lrework: log(rework)\n",
      "lhrsemp: log(1 + hrsemp)\n",
      "lscrap_1: lagged lscrap; missing 1987\n",
      "grant_1: lagged grant; assumed 0 in 1987\n",
      "clscrap: lscrap - lscrap_1; year > 1987\n",
      "cgrant: grant - grant_1\n",
      "clemploy: lemploy - lemploy[_n-1]\n",
      "clsales: lavgsal - lavgsal[_n-1]\n",
      "lavgsal: log(avgsal)\n",
      "clavgsal: lavgsal - lavgsal[_n-1]\n",
      "cgrant_1: cgrant[_n-1]\n",
      "chrsemp: hrsemp - hrsemp[_n-1]\n",
      "clhrsemp: lhrsemp - lhrsemp[_n-1]\n"
     ]
    },
    {
     "name": "stderr",
     "output_type": "stream",
     "text": [
      "/usr/local/lib/python3.6/dist-packages/statsmodels/iolib/foreign.py:272: FutureWarning: StataReader is deprecated as of 0.10.0 and will be removed in a future version.  Use pandas.read_stata or pandas.io.stata.StataReader instead.\n",
      "  FutureWarning)\n"
     ]
    }
   ],
   "source": [
    "# The Stata Reader doesn't work with all versions of Stata files\n",
    "# This Stata file has been converted to one that it can read.\n",
    "with open('St11-12_jtrain1.dta', 'rb') as file:\n",
    "    stata_file = sm.iolib.foreign.StataReader(file)\n",
    "\n",
    "# Print Variables names and labels\n",
    "for var in stata_file.variables():\n",
    "    print(f'{var.name}: {var.label}')"
   ]
  },
  {
   "cell_type": "code",
   "execution_count": 28,
   "metadata": {
    "colab": {
     "base_uri": "https://localhost:8080/",
     "height": 224
    },
    "colab_type": "code",
    "id": "zkx2suGDDxFN",
    "outputId": "c58c3d46-cca9-4518-e537-3ee5701d5ce9"
   },
   "outputs": [
    {
     "data": {
      "text/html": [
       "<div>\n",
       "<style scoped>\n",
       "    .dataframe tbody tr th:only-of-type {\n",
       "        vertical-align: middle;\n",
       "    }\n",
       "\n",
       "    .dataframe tbody tr th {\n",
       "        vertical-align: top;\n",
       "    }\n",
       "\n",
       "    .dataframe thead th {\n",
       "        text-align: right;\n",
       "    }\n",
       "</style>\n",
       "<table border=\"1\" class=\"dataframe\">\n",
       "  <thead>\n",
       "    <tr style=\"text-align: right;\">\n",
       "      <th></th>\n",
       "      <th>year</th>\n",
       "      <th>fcode</th>\n",
       "      <th>employ</th>\n",
       "      <th>sales</th>\n",
       "      <th>avgsal</th>\n",
       "      <th>scrap</th>\n",
       "      <th>rework</th>\n",
       "      <th>tothrs</th>\n",
       "      <th>union</th>\n",
       "      <th>grant</th>\n",
       "      <th>d89</th>\n",
       "      <th>d88</th>\n",
       "      <th>totrain</th>\n",
       "      <th>hrsemp</th>\n",
       "      <th>lscrap</th>\n",
       "      <th>lemploy</th>\n",
       "      <th>lsales</th>\n",
       "      <th>lrework</th>\n",
       "      <th>lhrsemp</th>\n",
       "      <th>lscrap_1</th>\n",
       "      <th>grant_1</th>\n",
       "      <th>clscrap</th>\n",
       "      <th>cgrant</th>\n",
       "      <th>clemploy</th>\n",
       "      <th>clsales</th>\n",
       "      <th>lavgsal</th>\n",
       "      <th>clavgsal</th>\n",
       "      <th>cgrant_1</th>\n",
       "      <th>chrsemp</th>\n",
       "      <th>clhrsemp</th>\n",
       "    </tr>\n",
       "  </thead>\n",
       "  <tbody>\n",
       "    <tr>\n",
       "      <th>0</th>\n",
       "      <td>1987</td>\n",
       "      <td>410032.0</td>\n",
       "      <td>100.0</td>\n",
       "      <td>47000000.0</td>\n",
       "      <td>35000.0</td>\n",
       "      <td>NaN</td>\n",
       "      <td>NaN</td>\n",
       "      <td>12.0</td>\n",
       "      <td>0</td>\n",
       "      <td>0</td>\n",
       "      <td>0</td>\n",
       "      <td>0</td>\n",
       "      <td>100.0</td>\n",
       "      <td>12.000000</td>\n",
       "      <td>NaN</td>\n",
       "      <td>4.605170</td>\n",
       "      <td>17.665659</td>\n",
       "      <td>NaN</td>\n",
       "      <td>2.564949</td>\n",
       "      <td>NaN</td>\n",
       "      <td>0</td>\n",
       "      <td>NaN</td>\n",
       "      <td>0</td>\n",
       "      <td>NaN</td>\n",
       "      <td>NaN</td>\n",
       "      <td>10.463103</td>\n",
       "      <td>NaN</td>\n",
       "      <td>NaN</td>\n",
       "      <td>NaN</td>\n",
       "      <td>NaN</td>\n",
       "    </tr>\n",
       "    <tr>\n",
       "      <th>1</th>\n",
       "      <td>1988</td>\n",
       "      <td>410032.0</td>\n",
       "      <td>131.0</td>\n",
       "      <td>43000000.0</td>\n",
       "      <td>37000.0</td>\n",
       "      <td>NaN</td>\n",
       "      <td>NaN</td>\n",
       "      <td>8.0</td>\n",
       "      <td>0</td>\n",
       "      <td>0</td>\n",
       "      <td>0</td>\n",
       "      <td>1</td>\n",
       "      <td>50.0</td>\n",
       "      <td>3.053435</td>\n",
       "      <td>NaN</td>\n",
       "      <td>4.875197</td>\n",
       "      <td>17.576710</td>\n",
       "      <td>NaN</td>\n",
       "      <td>1.399565</td>\n",
       "      <td>NaN</td>\n",
       "      <td>0</td>\n",
       "      <td>NaN</td>\n",
       "      <td>0</td>\n",
       "      <td>0.270027</td>\n",
       "      <td>-0.088949</td>\n",
       "      <td>10.518673</td>\n",
       "      <td>0.055570</td>\n",
       "      <td>0.0</td>\n",
       "      <td>-8.946565</td>\n",
       "      <td>-1.165385</td>\n",
       "    </tr>\n",
       "    <tr>\n",
       "      <th>2</th>\n",
       "      <td>1989</td>\n",
       "      <td>410032.0</td>\n",
       "      <td>123.0</td>\n",
       "      <td>49000000.0</td>\n",
       "      <td>39000.0</td>\n",
       "      <td>NaN</td>\n",
       "      <td>NaN</td>\n",
       "      <td>8.0</td>\n",
       "      <td>0</td>\n",
       "      <td>0</td>\n",
       "      <td>1</td>\n",
       "      <td>0</td>\n",
       "      <td>50.0</td>\n",
       "      <td>3.252033</td>\n",
       "      <td>NaN</td>\n",
       "      <td>4.812184</td>\n",
       "      <td>17.707331</td>\n",
       "      <td>NaN</td>\n",
       "      <td>1.447397</td>\n",
       "      <td>NaN</td>\n",
       "      <td>0</td>\n",
       "      <td>NaN</td>\n",
       "      <td>0</td>\n",
       "      <td>-0.063013</td>\n",
       "      <td>0.130621</td>\n",
       "      <td>10.571317</td>\n",
       "      <td>0.052644</td>\n",
       "      <td>0.0</td>\n",
       "      <td>0.198597</td>\n",
       "      <td>0.047832</td>\n",
       "    </tr>\n",
       "    <tr>\n",
       "      <th>3</th>\n",
       "      <td>1987</td>\n",
       "      <td>410440.0</td>\n",
       "      <td>12.0</td>\n",
       "      <td>1560000.0</td>\n",
       "      <td>10500.0</td>\n",
       "      <td>NaN</td>\n",
       "      <td>NaN</td>\n",
       "      <td>12.0</td>\n",
       "      <td>0</td>\n",
       "      <td>0</td>\n",
       "      <td>0</td>\n",
       "      <td>0</td>\n",
       "      <td>12.0</td>\n",
       "      <td>12.000000</td>\n",
       "      <td>NaN</td>\n",
       "      <td>2.484907</td>\n",
       "      <td>14.260197</td>\n",
       "      <td>NaN</td>\n",
       "      <td>2.564949</td>\n",
       "      <td>NaN</td>\n",
       "      <td>0</td>\n",
       "      <td>NaN</td>\n",
       "      <td>0</td>\n",
       "      <td>NaN</td>\n",
       "      <td>NaN</td>\n",
       "      <td>9.259130</td>\n",
       "      <td>NaN</td>\n",
       "      <td>NaN</td>\n",
       "      <td>NaN</td>\n",
       "      <td>NaN</td>\n",
       "    </tr>\n",
       "    <tr>\n",
       "      <th>4</th>\n",
       "      <td>1988</td>\n",
       "      <td>410440.0</td>\n",
       "      <td>13.0</td>\n",
       "      <td>1970000.0</td>\n",
       "      <td>11000.0</td>\n",
       "      <td>NaN</td>\n",
       "      <td>NaN</td>\n",
       "      <td>12.0</td>\n",
       "      <td>0</td>\n",
       "      <td>0</td>\n",
       "      <td>0</td>\n",
       "      <td>1</td>\n",
       "      <td>13.0</td>\n",
       "      <td>12.000000</td>\n",
       "      <td>NaN</td>\n",
       "      <td>2.564949</td>\n",
       "      <td>14.493544</td>\n",
       "      <td>NaN</td>\n",
       "      <td>2.564949</td>\n",
       "      <td>NaN</td>\n",
       "      <td>0</td>\n",
       "      <td>NaN</td>\n",
       "      <td>0</td>\n",
       "      <td>0.080043</td>\n",
       "      <td>0.233347</td>\n",
       "      <td>9.305651</td>\n",
       "      <td>0.046520</td>\n",
       "      <td>0.0</td>\n",
       "      <td>0.000000</td>\n",
       "      <td>0.000000</td>\n",
       "    </tr>\n",
       "  </tbody>\n",
       "</table>\n",
       "</div>"
      ],
      "text/plain": [
       "   year     fcode  employ       sales  ...  clavgsal  cgrant_1   chrsemp  clhrsemp\n",
       "0  1987  410032.0   100.0  47000000.0  ...       NaN       NaN       NaN       NaN\n",
       "1  1988  410032.0   131.0  43000000.0  ...  0.055570       0.0 -8.946565 -1.165385\n",
       "2  1989  410032.0   123.0  49000000.0  ...  0.052644       0.0  0.198597  0.047832\n",
       "3  1987  410440.0    12.0   1560000.0  ...       NaN       NaN       NaN       NaN\n",
       "4  1988  410440.0    13.0   1970000.0  ...  0.046520       0.0  0.000000  0.000000\n",
       "\n",
       "[5 rows x 30 columns]"
      ]
     },
     "execution_count": 28,
     "metadata": {
      "tags": []
     },
     "output_type": "execute_result"
    }
   ],
   "source": [
    "#df = df.set_index(['year'])\n",
    "df.head()"
   ]
  },
  {
   "cell_type": "code",
   "execution_count": 29,
   "metadata": {
    "colab": {
     "base_uri": "https://localhost:8080/",
     "height": 297
    },
    "colab_type": "code",
    "id": "8FelRHNhDxFQ",
    "outputId": "ebbc79b9-8879-4639-9d80-e549b03c0789"
   },
   "outputs": [
    {
     "data": {
      "text/html": [
       "<div>\n",
       "<style scoped>\n",
       "    .dataframe tbody tr th:only-of-type {\n",
       "        vertical-align: middle;\n",
       "    }\n",
       "\n",
       "    .dataframe tbody tr th {\n",
       "        vertical-align: top;\n",
       "    }\n",
       "\n",
       "    .dataframe thead th {\n",
       "        text-align: right;\n",
       "    }\n",
       "</style>\n",
       "<table border=\"1\" class=\"dataframe\">\n",
       "  <thead>\n",
       "    <tr style=\"text-align: right;\">\n",
       "      <th></th>\n",
       "      <th>lscrap</th>\n",
       "      <th>union</th>\n",
       "      <th>fcode</th>\n",
       "      <th>sales</th>\n",
       "      <th>rework</th>\n",
       "    </tr>\n",
       "  </thead>\n",
       "  <tbody>\n",
       "    <tr>\n",
       "      <th>count</th>\n",
       "      <td>162.000000</td>\n",
       "      <td>471.000000</td>\n",
       "      <td>471.000000</td>\n",
       "      <td>373.0</td>\n",
       "      <td>123.000000</td>\n",
       "    </tr>\n",
       "    <tr>\n",
       "      <th>mean</th>\n",
       "      <td>0.393681</td>\n",
       "      <td>0.197452</td>\n",
       "      <td>415709.000000</td>\n",
       "      <td>6116037.0</td>\n",
       "      <td>3.473984</td>\n",
       "    </tr>\n",
       "    <tr>\n",
       "      <th>std</th>\n",
       "      <td>1.486471</td>\n",
       "      <td>0.398500</td>\n",
       "      <td>4022.922363</td>\n",
       "      <td>7912517.0</td>\n",
       "      <td>5.462482</td>\n",
       "    </tr>\n",
       "    <tr>\n",
       "      <th>min</th>\n",
       "      <td>-4.605170</td>\n",
       "      <td>0.000000</td>\n",
       "      <td>410032.000000</td>\n",
       "      <td>110000.0</td>\n",
       "      <td>0.000000</td>\n",
       "    </tr>\n",
       "    <tr>\n",
       "      <th>25%</th>\n",
       "      <td>-0.523431</td>\n",
       "      <td>0.000000</td>\n",
       "      <td>410604.000000</td>\n",
       "      <td>1550000.0</td>\n",
       "      <td>0.350000</td>\n",
       "    </tr>\n",
       "    <tr>\n",
       "      <th>50%</th>\n",
       "      <td>0.347123</td>\n",
       "      <td>0.000000</td>\n",
       "      <td>418084.000000</td>\n",
       "      <td>3000000.0</td>\n",
       "      <td>1.160000</td>\n",
       "    </tr>\n",
       "    <tr>\n",
       "      <th>75%</th>\n",
       "      <td>1.386294</td>\n",
       "      <td>0.000000</td>\n",
       "      <td>419309.000000</td>\n",
       "      <td>7700000.0</td>\n",
       "      <td>4.000000</td>\n",
       "    </tr>\n",
       "    <tr>\n",
       "      <th>max</th>\n",
       "      <td>3.401197</td>\n",
       "      <td>1.000000</td>\n",
       "      <td>419486.000000</td>\n",
       "      <td>54000000.0</td>\n",
       "      <td>40.000000</td>\n",
       "    </tr>\n",
       "  </tbody>\n",
       "</table>\n",
       "</div>"
      ],
      "text/plain": [
       "           lscrap       union          fcode       sales      rework\n",
       "count  162.000000  471.000000     471.000000       373.0  123.000000\n",
       "mean     0.393681    0.197452  415709.000000   6116037.0    3.473984\n",
       "std      1.486471    0.398500    4022.922363   7912517.0    5.462482\n",
       "min     -4.605170    0.000000  410032.000000    110000.0    0.000000\n",
       "25%     -0.523431    0.000000  410604.000000   1550000.0    0.350000\n",
       "50%      0.347123    0.000000  418084.000000   3000000.0    1.160000\n",
       "75%      1.386294    0.000000  419309.000000   7700000.0    4.000000\n",
       "max      3.401197    1.000000  419486.000000  54000000.0   40.000000"
      ]
     },
     "execution_count": 29,
     "metadata": {
      "tags": []
     },
     "output_type": "execute_result"
    }
   ],
   "source": [
    "df[['lscrap', 'union', 'fcode','sales', 'rework']].describe()"
   ]
  },
  {
   "cell_type": "markdown",
   "metadata": {
    "colab_type": "text",
    "id": "aPLrZa5MDxFS"
   },
   "source": [
    "#### With `statsmodels`\n",
    "\n",
    "I believe that this is working because it doesn't know how to handle the missing data. I'm going to drop all the missing data and then try again."
   ]
  },
  {
   "cell_type": "code",
   "execution_count": 30,
   "metadata": {
    "colab": {},
    "colab_type": "code",
    "id": "Jh8zNeADDxFT"
   },
   "outputs": [],
   "source": [
    "# The following wont work if you don't drop the missing values.\n",
    "df2 = df.copy()\n",
    "\n",
    "# df2 = df[['lscrap', 'd88', 'd89', 'union', 'grant', 'grant_1', 'fcode']].dropna()"
   ]
  },
  {
   "cell_type": "code",
   "execution_count": 31,
   "metadata": {
    "colab": {},
    "colab_type": "code",
    "id": "hCjWkA5BDxFV"
   },
   "outputs": [],
   "source": [
    "# The following wont work if you don't drop the missing values.\n",
    "\n",
    "# md = smf.mixedlm(\"lscrap ~ d88 + d89 + union + grant + grant_1\", df2, groups=df2[\"fcode\"])\n",
    "# mdf = md.fit() \n",
    "# mdf.summary()"
   ]
  },
  {
   "cell_type": "code",
   "execution_count": 32,
   "metadata": {
    "colab": {},
    "colab_type": "code",
    "id": "0kNn9L60DxFY"
   },
   "outputs": [],
   "source": [
    "# The following wont work if you don't drop the missing values.\n",
    "\n",
    "# md = smf.mixedlm(\"lscrap ~ union\", df2, groups=df2[\"fcode\"])\n",
    "# mdf = md.fit() \n",
    "# mdf.summary()"
   ]
  },
  {
   "cell_type": "code",
   "execution_count": 33,
   "metadata": {
    "colab": {
     "base_uri": "https://localhost:8080/",
     "height": 315
    },
    "colab_type": "code",
    "id": "-r8CyUmIDxFa",
    "outputId": "61b3ec7f-83e9-47ce-f872-066b581e1f3a"
   },
   "outputs": [
    {
     "data": {
      "text/html": [
       "<table class=\"simpletable\">\n",
       "<tr>\n",
       "       <td>Model:</td>       <td>MixedLM</td> <td>Dependent Variable:</td>  <td>lscrap</td>  \n",
       "</tr>\n",
       "<tr>\n",
       "  <td>No. Observations:</td>   <td>162</td>         <td>Method:</td>         <td>REML</td>   \n",
       "</tr>\n",
       "<tr>\n",
       "     <td>No. Groups:</td>      <td>54</td>          <td>Scale:</td>         <td>0.2478</td>  \n",
       "</tr>\n",
       "<tr>\n",
       "  <td>Min. group size:</td>     <td>3</td>        <td>Likelihood:</td>     <td>-205.9266</td>\n",
       "</tr>\n",
       "<tr>\n",
       "  <td>Max. group size:</td>     <td>3</td>        <td>Converged:</td>         <td>Yes</td>   \n",
       "</tr>\n",
       "<tr>\n",
       "  <td>Mean group size:</td>    <td>3.0</td>            <td></td>               <td></td>     \n",
       "</tr>\n",
       "</table>\n",
       "<table class=\"simpletable\">\n",
       "<tr>\n",
       "      <td></td>       <th>Coef.</th> <th>Std.Err.</th>    <th>z</th>   <th>P>|z|</th> <th>[0.025</th> <th>0.975]</th>\n",
       "</tr>\n",
       "<tr>\n",
       "  <th>Intercept</th>  <td>0.415</td>   <td>0.244</td>   <td>1.698</td> <td>0.089</td> <td>-0.064</td>  <td>0.894</td>\n",
       "</tr>\n",
       "<tr>\n",
       "  <th>d88</th>       <td>-0.093</td>   <td>0.109</td>  <td>-0.856</td> <td>0.392</td> <td>-0.307</td>  <td>0.120</td>\n",
       "</tr>\n",
       "<tr>\n",
       "  <th>d89</th>       <td>-0.270</td>   <td>0.132</td>  <td>-2.050</td> <td>0.040</td> <td>-0.527</td> <td>-0.012</td>\n",
       "</tr>\n",
       "<tr>\n",
       "  <th>union</th>      <td>0.548</td>   <td>0.412</td>   <td>1.329</td> <td>0.184</td> <td>-0.260</td>  <td>1.356</td>\n",
       "</tr>\n",
       "<tr>\n",
       "  <th>grant</th>     <td>-0.215</td>   <td>0.148</td>  <td>-1.455</td> <td>0.146</td> <td>-0.505</td>  <td>0.075</td>\n",
       "</tr>\n",
       "<tr>\n",
       "  <th>grant_1</th>   <td>-0.378</td>   <td>0.205</td>  <td>-1.839</td> <td>0.066</td> <td>-0.780</td>  <td>0.025</td>\n",
       "</tr>\n",
       "<tr>\n",
       "  <th>Group Var</th>  <td>1.955</td>   <td>0.984</td>     <td></td>      <td></td>       <td></td>       <td></td>   \n",
       "</tr>\n",
       "</table>"
      ],
      "text/plain": [
       "<class 'statsmodels.iolib.summary2.Summary'>\n",
       "\"\"\"\n",
       "         Mixed Linear Model Regression Results\n",
       "=======================================================\n",
       "Model:            MixedLM Dependent Variable: lscrap   \n",
       "No. Observations: 162     Method:             REML     \n",
       "No. Groups:       54      Scale:              0.2478   \n",
       "Min. group size:  3       Likelihood:         -205.9266\n",
       "Max. group size:  3       Converged:          Yes      \n",
       "Mean group size:  3.0                                  \n",
       "-------------------------------------------------------\n",
       "             Coef.  Std.Err.   z    P>|z| [0.025 0.975]\n",
       "-------------------------------------------------------\n",
       "Intercept     0.415    0.244  1.698 0.089 -0.064  0.894\n",
       "d88          -0.093    0.109 -0.856 0.392 -0.307  0.120\n",
       "d89          -0.270    0.132 -2.050 0.040 -0.527 -0.012\n",
       "union         0.548    0.412  1.329 0.184 -0.260  1.356\n",
       "grant        -0.215    0.148 -1.455 0.146 -0.505  0.075\n",
       "grant_1      -0.378    0.205 -1.839 0.066 -0.780  0.025\n",
       "Group Var     1.955    0.984                           \n",
       "=======================================================\n",
       "\n",
       "\"\"\""
      ]
     },
     "execution_count": 33,
     "metadata": {
      "tags": []
     },
     "output_type": "execute_result"
    }
   ],
   "source": [
    "df2 = df[['lscrap', 'd88', 'd89', 'union', 'grant', 'grant_1', 'fcode']].dropna()\n",
    "md = smf.mixedlm(\"lscrap ~ d88 + d89 + union + grant + grant_1\", df2, groups=df2[\"fcode\"])\n",
    "mdf = md.fit() \n",
    "mdf.summary()"
   ]
  },
  {
   "cell_type": "markdown",
   "metadata": {
    "colab_type": "text",
    "id": "xPQNbCohDxFc"
   },
   "source": [
    "#### With `linearmodels`"
   ]
  },
  {
   "cell_type": "code",
   "execution_count": 34,
   "metadata": {
    "colab": {
     "base_uri": "https://localhost:8080/",
     "height": 576
    },
    "colab_type": "code",
    "id": "DKBZGPvgDxFc",
    "outputId": "39d2a19a-645e-4257-ab9f-3db96ef9fe24"
   },
   "outputs": [
    {
     "data": {
      "text/html": [
       "<table class=\"simpletable\">\n",
       "<caption>RandomEffects Estimation Summary</caption>\n",
       "<tr>\n",
       "  <th>Dep. Variable:</th>         <td>lscrap</td>      <th>  R-squared:         </th>    <td>0.1486</td> \n",
       "</tr>\n",
       "<tr>\n",
       "  <th>Estimator:</th>          <td>RandomEffects</td>  <th>  R-squared (Between):</th>   <td>0.0184</td> \n",
       "</tr>\n",
       "<tr>\n",
       "  <th>No. Observations:</th>        <td>162</td>       <th>  R-squared (Within):</th>    <td>0.2005</td> \n",
       "</tr>\n",
       "<tr>\n",
       "  <th>Date:</th>             <td>Tue, Aug 25 2020</td> <th>  R-squared (Overall):</th>   <td>0.0349</td> \n",
       "</tr>\n",
       "<tr>\n",
       "  <th>Time:</th>                 <td>20:24:15</td>     <th>  Log-likelihood     </th>    <td>-113.26</td>\n",
       "</tr>\n",
       "<tr>\n",
       "  <th>Cov. Estimator:</th>      <td>Unadjusted</td>    <th>                     </th>       <td></td>    \n",
       "</tr>\n",
       "<tr>\n",
       "  <th></th>                          <td></td>         <th>  F-statistic:       </th>    <td>5.4474</td> \n",
       "</tr>\n",
       "<tr>\n",
       "  <th>Entities:</th>                <td>54</td>        <th>  P-value            </th>    <td>0.0001</td> \n",
       "</tr>\n",
       "<tr>\n",
       "  <th>Avg Obs:</th>               <td>3.0000</td>      <th>  Distribution:      </th>   <td>F(5,156)</td>\n",
       "</tr>\n",
       "<tr>\n",
       "  <th>Min Obs:</th>               <td>3.0000</td>      <th>                     </th>       <td></td>    \n",
       "</tr>\n",
       "<tr>\n",
       "  <th>Max Obs:</th>               <td>3.0000</td>      <th>  F-statistic (robust):</th>  <td>5.4474</td> \n",
       "</tr>\n",
       "<tr>\n",
       "  <th></th>                          <td></td>         <th>  P-value            </th>    <td>0.0001</td> \n",
       "</tr>\n",
       "<tr>\n",
       "  <th>Time periods:</th>             <td>3</td>        <th>  Distribution:      </th>   <td>F(5,156)</td>\n",
       "</tr>\n",
       "<tr>\n",
       "  <th>Avg Obs:</th>               <td>54.000</td>      <th>                     </th>       <td></td>    \n",
       "</tr>\n",
       "<tr>\n",
       "  <th>Min Obs:</th>               <td>54.000</td>      <th>                     </th>       <td></td>    \n",
       "</tr>\n",
       "<tr>\n",
       "  <th>Max Obs:</th>               <td>54.000</td>      <th>                     </th>       <td></td>    \n",
       "</tr>\n",
       "<tr>\n",
       "  <th></th>                          <td></td>         <th>                     </th>       <td></td>    \n",
       "</tr>\n",
       "</table>\n",
       "<table class=\"simpletable\">\n",
       "<caption>Parameter Estimates</caption>\n",
       "<tr>\n",
       "      <td></td>      <th>Parameter</th> <th>Std. Err.</th> <th>T-stat</th>  <th>P-value</th> <th>Lower CI</th> <th>Upper CI</th>\n",
       "</tr>\n",
       "<tr>\n",
       "  <th>Intercept</th>  <td>0.4148</td>    <td>0.2458</td>   <td>1.6878</td>  <td>0.0935</td>   <td>-0.0707</td>  <td>0.9003</td> \n",
       "</tr>\n",
       "<tr>\n",
       "  <th>d88</th>        <td>-0.0931</td>   <td>0.1086</td>   <td>-0.8569</td> <td>0.3928</td>   <td>-0.3076</td>  <td>0.1215</td> \n",
       "</tr>\n",
       "<tr>\n",
       "  <th>d89</th>        <td>-0.2692</td>   <td>0.1310</td>   <td>-2.0544</td> <td>0.0416</td>   <td>-0.5280</td>  <td>-0.0104</td>\n",
       "</tr>\n",
       "<tr>\n",
       "  <th>union</th>      <td>0.5478</td>    <td>0.4149</td>   <td>1.3204</td>  <td>0.1886</td>   <td>-0.2717</td>  <td>1.3674</td> \n",
       "</tr>\n",
       "<tr>\n",
       "  <th>grant</th>      <td>-0.2158</td>   <td>0.1471</td>   <td>-1.4669</td> <td>0.1444</td>   <td>-0.5064</td>  <td>0.0748</td> \n",
       "</tr>\n",
       "<tr>\n",
       "  <th>grant_1</th>    <td>-0.3784</td>   <td>0.2044</td>   <td>-1.8506</td> <td>0.0661</td>   <td>-0.7822</td>  <td>0.0255</td> \n",
       "</tr>\n",
       "</table><br/>id: 0x7fa9338806d8"
      ],
      "text/plain": [
       "                        RandomEffects Estimation Summary                        \n",
       "================================================================================\n",
       "Dep. Variable:                 lscrap   R-squared:                        0.1486\n",
       "Estimator:              RandomEffects   R-squared (Between):              0.0184\n",
       "No. Observations:                 162   R-squared (Within):               0.2005\n",
       "Date:                Tue, Aug 25 2020   R-squared (Overall):              0.0349\n",
       "Time:                        20:24:15   Log-likelihood                   -113.26\n",
       "Cov. Estimator:            Unadjusted                                           \n",
       "                                        F-statistic:                      5.4474\n",
       "Entities:                          54   P-value                           0.0001\n",
       "Avg Obs:                       3.0000   Distribution:                   F(5,156)\n",
       "Min Obs:                       3.0000                                           \n",
       "Max Obs:                       3.0000   F-statistic (robust):             5.4474\n",
       "                                        P-value                           0.0001\n",
       "Time periods:                       3   Distribution:                   F(5,156)\n",
       "Avg Obs:                       54.000                                           \n",
       "Min Obs:                       54.000                                           \n",
       "Max Obs:                       54.000                                           \n",
       "                                                                                \n",
       "                             Parameter Estimates                              \n",
       "==============================================================================\n",
       "            Parameter  Std. Err.     T-stat    P-value    Lower CI    Upper CI\n",
       "------------------------------------------------------------------------------\n",
       "Intercept      0.4148     0.2458     1.6878     0.0935     -0.0707      0.9003\n",
       "d88           -0.0931     0.1086    -0.8569     0.3928     -0.3076      0.1215\n",
       "d89           -0.2692     0.1310    -2.0544     0.0416     -0.5280     -0.0104\n",
       "union          0.5478     0.4149     1.3204     0.1886     -0.2717      1.3674\n",
       "grant         -0.2158     0.1471    -1.4669     0.1444     -0.5064      0.0748\n",
       "grant_1       -0.3784     0.2044    -1.8506     0.0661     -0.7822      0.0255\n",
       "==============================================================================\n",
       "RandomEffectsResults, id: 0x7fa9338806d8"
      ]
     },
     "execution_count": 34,
     "metadata": {
      "tags": []
     },
     "output_type": "execute_result"
    }
   ],
   "source": [
    "df2 = df[['lscrap', 'd88', 'd89', 'union', 'grant', 'grant_1', 'fcode', 'year']].dropna().set_index(['fcode', 'year'])\n",
    "md = linearmodels.RandomEffects.from_formula(\"lscrap ~ 1+ d88 + d89 + union + grant + grant_1 + EntityEffects\", data=df2)\n",
    "mdf = md.fit() \n",
    "mdf"
   ]
  },
  {
   "cell_type": "markdown",
   "metadata": {
    "colab_type": "text",
    "id": "6QF9s2HUDxFf"
   },
   "source": [
    "#### With `plm` in R\n",
    "\n",
    "Some info on how to do this in R: https://dss.princeton.edu/training/Panel101R.pdf"
   ]
  },
  {
   "cell_type": "code",
   "execution_count": 35,
   "metadata": {
    "colab": {},
    "colab_type": "code",
    "id": "rRWbnRlSDxFg"
   },
   "outputs": [],
   "source": [
    "dfr = df2.reset_index()"
   ]
  },
  {
   "cell_type": "code",
   "execution_count": 36,
   "metadata": {
    "colab": {
     "base_uri": "https://localhost:8080/",
     "height": 612
    },
    "colab_type": "code",
    "id": "lI53HmIkDxFi",
    "outputId": "892fad20-ee3f-4a93-a5d9-c823b47bd771"
   },
   "outputs": [
    {
     "name": "stdout",
     "output_type": "stream",
     "text": [
      "Oneway (individual) effect Random Effect Model \n",
      "   (Swamy-Arora's transformation)\n",
      "\n",
      "Call:\n",
      "plm(formula = lscrap ~ d88 + d89 + union + grant + grant_1, data = dfr, \n",
      "    model = \"random\", index = c(\"fcode\"))\n",
      "\n",
      "Balanced Panel: n = 54, T = 3, N = 162\n",
      "\n",
      "Effects:\n",
      "                 var std.dev share\n",
      "idiosyncratic 0.2477  0.4977 0.114\n",
      "individual    1.9322  1.3900 0.886\n",
      "theta: 0.7975\n",
      "\n",
      "Residuals:\n",
      "     Min.   1st Qu.    Median   3rd Qu.      Max. \n",
      "-2.546798 -0.223892  0.040554  0.255287  1.549792 \n",
      "\n",
      "Coefficients:\n",
      "             Estimate Std. Error z-value Pr(>|z|)  \n",
      "(Intercept)  0.414833   0.243432  1.7041  0.08836 .\n",
      "d88         -0.093452   0.109156 -0.8561  0.39192  \n",
      "d89         -0.269834   0.131650 -2.0496  0.04040 *\n",
      "union        0.547802   0.410625  1.3341  0.18218  \n",
      "grant       -0.214696   0.147784 -1.4528  0.14629  \n",
      "grant_1     -0.377070   0.205352 -1.8362  0.06633 .\n",
      "---\n",
      "Signif. codes:  0 ‘***’ 0.001 ‘**’ 0.01 ‘*’ 0.05 ‘.’ 0.1 ‘ ’ 1\n",
      "\n",
      "Total Sum of Squares:    45.509\n",
      "Residual Sum of Squares: 38.798\n",
      "R-Squared:      0.14748\n",
      "Adj. R-Squared: 0.12015\n",
      "Chisq: 26.9867 on 5 DF, p-value: 5.7383e-05\n"
     ]
    }
   ],
   "source": [
    "%%R -i dfr\n",
    "reg = plm(lscrap ~ d88 + d89 + union + grant + grant_1, data=dfr, index=c('fcode'), model='random')\n",
    "summary(reg)"
   ]
  },
  {
   "cell_type": "markdown",
   "metadata": {
    "colab_type": "text",
    "id": "n-LyTpNZDxFk"
   },
   "source": [
    "If I don't include the index, not that R still understands the\n",
    "Panel structure:\n",
    "\n",
    "    Balanced Panel: n=54, T=3, N=162\n",
    "\n",
    "That is because it simply assumes that the\n",
    "first column is the entity and the second is the time variable. Also, notice that the default is entity effects."
   ]
  },
  {
   "cell_type": "code",
   "execution_count": 37,
   "metadata": {
    "colab": {
     "base_uri": "https://localhost:8080/",
     "height": 612
    },
    "colab_type": "code",
    "id": "P8d_xwyzDxFk",
    "outputId": "cbf42b56-d10e-4bab-b3f9-6ef417d7aa8c"
   },
   "outputs": [
    {
     "name": "stdout",
     "output_type": "stream",
     "text": [
      "Oneway (individual) effect Random Effect Model \n",
      "   (Swamy-Arora's transformation)\n",
      "\n",
      "Call:\n",
      "plm(formula = lscrap ~ d88 + d89 + union + grant + grant_1, data = dfr, \n",
      "    model = \"random\")\n",
      "\n",
      "Balanced Panel: n = 54, T = 3, N = 162\n",
      "\n",
      "Effects:\n",
      "                 var std.dev share\n",
      "idiosyncratic 0.2477  0.4977 0.114\n",
      "individual    1.9322  1.3900 0.886\n",
      "theta: 0.7975\n",
      "\n",
      "Residuals:\n",
      "     Min.   1st Qu.    Median   3rd Qu.      Max. \n",
      "-2.546798 -0.223892  0.040554  0.255287  1.549792 \n",
      "\n",
      "Coefficients:\n",
      "             Estimate Std. Error z-value Pr(>|z|)  \n",
      "(Intercept)  0.414833   0.243432  1.7041  0.08836 .\n",
      "d88         -0.093452   0.109156 -0.8561  0.39192  \n",
      "d89         -0.269834   0.131650 -2.0496  0.04040 *\n",
      "union        0.547802   0.410625  1.3341  0.18218  \n",
      "grant       -0.214696   0.147784 -1.4528  0.14629  \n",
      "grant_1     -0.377070   0.205352 -1.8362  0.06633 .\n",
      "---\n",
      "Signif. codes:  0 ‘***’ 0.001 ‘**’ 0.01 ‘*’ 0.05 ‘.’ 0.1 ‘ ’ 1\n",
      "\n",
      "Total Sum of Squares:    45.509\n",
      "Residual Sum of Squares: 38.798\n",
      "R-Squared:      0.14748\n",
      "Adj. R-Squared: 0.12015\n",
      "Chisq: 26.9867 on 5 DF, p-value: 5.7383e-05\n"
     ]
    }
   ],
   "source": [
    "%%R -i dfr\n",
    "# This works too.\n",
    "reg = plm(lscrap ~ d88 + d89 + union + grant + grant_1, data=dfr, model='random')\n",
    "summary(reg)"
   ]
  },
  {
   "cell_type": "code",
   "execution_count": 38,
   "metadata": {
    "colab": {
     "base_uri": "https://localhost:8080/",
     "height": 34
    },
    "colab_type": "code",
    "id": "47aorGRDDxFn",
    "outputId": "81a2a211-8353-4720-d00e-d8be53f4db6e"
   },
   "outputs": [
    {
     "name": "stdout",
     "output_type": "stream",
     "text": [
      "NULL\n"
     ]
    }
   ],
   "source": [
    "%%R -i dfr\n",
    "# I'm not sure why this doesn't work.\n",
    "# reg = plm(lscrap ~ union + grant + grant_1, data=dfr, index=c('fcode', 'year'), model='random', effect='twoways')\n",
    "# summary(reg)"
   ]
  },
  {
   "cell_type": "markdown",
   "metadata": {
    "colab_type": "text",
    "id": "pfZPEJQ_DxFq"
   },
   "source": [
    "#### In Stata\n",
    "\n",
    "Compare this to the Stata output here. They are the same\n",
    "\n",
    "```\n",
    "//use jtrain1, clear\n",
    "use http://www.stata.com/data/jwooldridge/eacsap/jtrain1, clear\n",
    "xtreg lscrap d88 d89 union grant grant_1, i( fcode)\n",
    "```\n",
    "\n",
    "```\n",
    "Random-effects GLS regression                   Number of obs      =       162\n",
    "Group variable (i): fcode                       Number of groups   =        54\n",
    "\n",
    "R-sq:  within  = 0.2006                         Obs per group: min =         3\n",
    "       between = 0.0206                                        avg =       3.0\n",
    "       overall = 0.0361                                        max =         3\n",
    "\n",
    "Random effects u_i ~ Gaussian                   Wald chi2(5)       =     26.99\n",
    "corr(u_i, X)       = 0 (assumed)                Prob > chi2        =    0.0001\n",
    "\n",
    "------------------------------------------------------------------------------\n",
    "      lscrap |      Coef.   Std. Err.      z    P>|z|     [95% Conf. Interval]\n",
    "-------------+----------------------------------------------------------------\n",
    "         d88 |  -.0934519   .1091559    -0.86   0.392    -.3073937    .1204898\n",
    "         d89 |  -.2698336   .1316496    -2.05   0.040     -.527862   -.0118052\n",
    "       union |   .5478021    .410625     1.33   0.182    -.2570081    1.352612\n",
    "       grant |   -.214696   .1477838    -1.45   0.146     -.504347    .0749549\n",
    "     grant_1 |  -.3770698   .2053516    -1.84   0.066    -.7795515    .0254119\n",
    "       _cons |   .4148333   .2434322     1.70   0.088    -.0622851    .8919518\n",
    "-------------+----------------------------------------------------------------\n",
    "     sigma_u |  1.3900287\n",
    "     sigma_e |  .49774421\n",
    "         rho |  .88634984   (fraction of variance due to u_i)\n",
    "------------------------------------------------------------------------------\n",
    "```"
   ]
  },
  {
   "cell_type": "markdown",
   "metadata": {
    "colab_type": "text",
    "id": "qJucoB9dDxFr"
   },
   "source": [
    "Below I give the Stata output when `robust` is used. The regular procedure above seems to be closer to the Python output.\n",
    "\n",
    "```\n",
    ". xtreg lscrap d88 d89 union grant grant_1, i( fcode) robust\n",
    "\n",
    "Random-effects GLS regression                   Number of obs     =        162\n",
    "Group variable: fcode                           Number of groups  =         54\n",
    "\n",
    "R-sq:                                           Obs per group:\n",
    "     within  = 0.2006                                         min =          3\n",
    "     between = 0.0206                                         avg =        3.0\n",
    "     overall = 0.0361                                         max =          3\n",
    "\n",
    "                                                Wald chi2(5)      =      27.65\n",
    "corr(u_i, X)   = 0 (assumed)                    Prob > chi2       =     0.0000\n",
    "\n",
    "                                 (Std. Err. adjusted for 54 clusters in fcode)\n",
    "------------------------------------------------------------------------------\n",
    "             |               Robust\n",
    "      lscrap |      Coef.   Std. Err.      z    P>|z|     [95% Conf. Interval]\n",
    "-------------+----------------------------------------------------------------\n",
    "         d88 |  -.0934519   .0938166    -1.00   0.319    -.2773291    .0904253\n",
    "         d89 |  -.2698336   .1885186    -1.43   0.152    -.6393232     .099656\n",
    "       union |   .5478021   .4023672     1.36   0.173     -.240823    1.336427\n",
    "       grant |  -.2146961   .1311183    -1.64   0.102    -.4716832    .0422911\n",
    "     grant_1 |  -.3770698   .2674417    -1.41   0.159    -.9012458    .1471062\n",
    "       _cons |   .4148333   .2673996     1.55   0.121    -.1092603     .938927\n",
    "-------------+----------------------------------------------------------------\n",
    "     sigma_u |  1.3900287\n",
    "     sigma_e |  .49774421\n",
    "         rho |  .88634984   (fraction of variance due to u_i)\n",
    "------------------------------------------------------------------------------\n",
    "```"
   ]
  },
  {
   "cell_type": "markdown",
   "metadata": {
    "colab_type": "text",
    "id": "bR89U2LyDxFs"
   },
   "source": [
    "As can be read here (http://statsmodels.sourceforge.net/devel/generated/statsmodels.regression.mixed_linear_model.MixedLM.from_formula.html), \"this method currently does not correctly handle missing values, so missing values should be explicitly dropped from the DataFrame before calling this method.\""
   ]
  },
  {
   "cell_type": "markdown",
   "metadata": {
    "colab_type": "text",
    "id": "ynlwMHwrONar"
   },
   "source": [
    "## Fixed Effects\n",
    "\n",
    "\n",
    "### Example 10.5 on page 272 using jtrain1.dta.\n",
    "\n",
    "![Example_10_5_Wooldridge_Panel.png](./Example_10_5_Wooldridge_Panel.png)\n"
   ]
  },
  {
   "cell_type": "markdown",
   "metadata": {
    "colab_type": "text",
    "id": "aYXBHV4lOPMD"
   },
   "source": [
    "![Example_10_5_Wooldridge_Panel](https://user-images.githubusercontent.com/3770323/91232343-8e2ddb00-e6f4-11ea-92e8-ebb1c7e38baf.png)"
   ]
  },
  {
   "cell_type": "markdown",
   "metadata": {
    "colab_type": "text",
    "id": "Yyf51IRwDxFs"
   },
   "source": [
    "\n",
    "In this example, I'm trying to replicate the following Stata code.\n",
    "\n",
    "    //use jtrain1, clear\n",
    "    use http://www.stata.com/data/jwooldridge/eacsap/jtrain1, clear\n",
    "    xtreg lscrap d88 d89 union grant grant_1, i( fcode) fe\n",
    "    \n",
    "To do this, I'm going to use the direction that is given here: http://stackoverflow.com/questions/24195432/fixed-effect-in-pandas-or-statsmodels"
   ]
  },
  {
   "cell_type": "markdown",
   "metadata": {
    "colab_type": "text",
    "id": "k5EDmfsDDxFt"
   },
   "source": [
    "#### Using `linearmodels`"
   ]
  },
  {
   "cell_type": "code",
   "execution_count": 39,
   "metadata": {
    "colab": {},
    "colab_type": "code",
    "id": "MMJaTuCCDxFt"
   },
   "outputs": [],
   "source": [
    "import pandas as pd\n",
    "import pandas\n",
    "import statsmodels.formula.api as smf\n",
    "df = pd.read_stata('St11-12_jtrain1.dta')"
   ]
  },
  {
   "cell_type": "code",
   "execution_count": 40,
   "metadata": {
    "colab": {
     "base_uri": "https://localhost:8080/",
     "height": 119
    },
    "colab_type": "code",
    "id": "-UOAUdk7DxFy",
    "outputId": "dbc5ec1f-8d97-4dfe-a07b-45948904e65a"
   },
   "outputs": [
    {
     "data": {
      "text/plain": [
       "Index(['year', 'fcode', 'employ', 'sales', 'avgsal', 'scrap', 'rework',\n",
       "       'tothrs', 'union', 'grant', 'd89', 'd88', 'totrain', 'hrsemp', 'lscrap',\n",
       "       'lemploy', 'lsales', 'lrework', 'lhrsemp', 'lscrap_1', 'grant_1',\n",
       "       'clscrap', 'cgrant', 'clemploy', 'clsales', 'lavgsal', 'clavgsal',\n",
       "       'cgrant_1', 'chrsemp', 'clhrsemp'],\n",
       "      dtype='object')"
      ]
     },
     "execution_count": 40,
     "metadata": {
      "tags": []
     },
     "output_type": "execute_result"
    }
   ],
   "source": [
    "df.columns"
   ]
  },
  {
   "cell_type": "code",
   "execution_count": 41,
   "metadata": {
    "colab": {
     "base_uri": "https://localhost:8080/",
     "height": 235
    },
    "colab_type": "code",
    "id": "7i0I_mFFDxF1",
    "outputId": "dab43a9d-b675-48b3-e812-51479042b171"
   },
   "outputs": [
    {
     "data": {
      "text/html": [
       "<div>\n",
       "<style scoped>\n",
       "    .dataframe tbody tr th:only-of-type {\n",
       "        vertical-align: middle;\n",
       "    }\n",
       "\n",
       "    .dataframe tbody tr th {\n",
       "        vertical-align: top;\n",
       "    }\n",
       "\n",
       "    .dataframe thead th {\n",
       "        text-align: right;\n",
       "    }\n",
       "</style>\n",
       "<table border=\"1\" class=\"dataframe\">\n",
       "  <thead>\n",
       "    <tr style=\"text-align: right;\">\n",
       "      <th></th>\n",
       "      <th></th>\n",
       "      <th>lscrap</th>\n",
       "      <th>d88</th>\n",
       "      <th>d89</th>\n",
       "      <th>union</th>\n",
       "      <th>grant</th>\n",
       "      <th>grant_1</th>\n",
       "    </tr>\n",
       "    <tr>\n",
       "      <th>fcode</th>\n",
       "      <th>year</th>\n",
       "      <th></th>\n",
       "      <th></th>\n",
       "      <th></th>\n",
       "      <th></th>\n",
       "      <th></th>\n",
       "      <th></th>\n",
       "    </tr>\n",
       "  </thead>\n",
       "  <tbody>\n",
       "    <tr>\n",
       "      <th rowspan=\"3\" valign=\"top\">410523.0</th>\n",
       "      <th>1987</th>\n",
       "      <td>-2.813411</td>\n",
       "      <td>0</td>\n",
       "      <td>0</td>\n",
       "      <td>0</td>\n",
       "      <td>0</td>\n",
       "      <td>0</td>\n",
       "    </tr>\n",
       "    <tr>\n",
       "      <th>1988</th>\n",
       "      <td>-2.995732</td>\n",
       "      <td>1</td>\n",
       "      <td>0</td>\n",
       "      <td>0</td>\n",
       "      <td>0</td>\n",
       "      <td>0</td>\n",
       "    </tr>\n",
       "    <tr>\n",
       "      <th>1989</th>\n",
       "      <td>-2.995732</td>\n",
       "      <td>0</td>\n",
       "      <td>1</td>\n",
       "      <td>0</td>\n",
       "      <td>0</td>\n",
       "      <td>0</td>\n",
       "    </tr>\n",
       "    <tr>\n",
       "      <th rowspan=\"2\" valign=\"top\">410538.0</th>\n",
       "      <th>1987</th>\n",
       "      <td>0.970779</td>\n",
       "      <td>0</td>\n",
       "      <td>0</td>\n",
       "      <td>1</td>\n",
       "      <td>0</td>\n",
       "      <td>0</td>\n",
       "    </tr>\n",
       "    <tr>\n",
       "      <th>1988</th>\n",
       "      <td>1.007958</td>\n",
       "      <td>1</td>\n",
       "      <td>0</td>\n",
       "      <td>1</td>\n",
       "      <td>0</td>\n",
       "      <td>0</td>\n",
       "    </tr>\n",
       "  </tbody>\n",
       "</table>\n",
       "</div>"
      ],
      "text/plain": [
       "                 lscrap  d88  d89  union  grant  grant_1\n",
       "fcode    year                                           \n",
       "410523.0 1987 -2.813411    0    0      0      0        0\n",
       "         1988 -2.995732    1    0      0      0        0\n",
       "         1989 -2.995732    0    1      0      0        0\n",
       "410538.0 1987  0.970779    0    0      1      0        0\n",
       "         1988  1.007958    1    0      1      0        0"
      ]
     },
     "execution_count": 41,
     "metadata": {
      "tags": []
     },
     "output_type": "execute_result"
    }
   ],
   "source": [
    "df2.head()"
   ]
  },
  {
   "cell_type": "code",
   "execution_count": 42,
   "metadata": {
    "colab": {
     "base_uri": "https://localhost:8080/",
     "height": 594
    },
    "colab_type": "code",
    "id": "bGdgmQdlDxF4",
    "outputId": "a7fab10f-5e45-45d3-f4f9-b1a30d2a7177"
   },
   "outputs": [
    {
     "data": {
      "text/html": [
       "<table class=\"simpletable\">\n",
       "<caption>PanelOLS Estimation Summary</caption>\n",
       "<tr>\n",
       "  <th>Dep. Variable:</th>         <td>lscrap</td>      <th>  R-squared:         </th>    <td>0.0411</td> \n",
       "</tr>\n",
       "<tr>\n",
       "  <th>Estimator:</th>            <td>PanelOLS</td>     <th>  R-squared (Between):</th>   <td>-0.0552</td>\n",
       "</tr>\n",
       "<tr>\n",
       "  <th>No. Observations:</th>        <td>162</td>       <th>  R-squared (Within):</th>    <td>0.1478</td> \n",
       "</tr>\n",
       "<tr>\n",
       "  <th>Date:</th>             <td>Tue, Aug 25 2020</td> <th>  R-squared (Overall):</th>   <td>-0.0381</td>\n",
       "</tr>\n",
       "<tr>\n",
       "  <th>Time:</th>                 <td>20:24:16</td>     <th>  Log-likelihood     </th>    <td>-80.946</td>\n",
       "</tr>\n",
       "<tr>\n",
       "  <th>Cov. Estimator:</th>      <td>Unadjusted</td>    <th>                     </th>       <td></td>    \n",
       "</tr>\n",
       "<tr>\n",
       "  <th></th>                          <td></td>         <th>  F-statistic:       </th>    <td>2.2294</td> \n",
       "</tr>\n",
       "<tr>\n",
       "  <th>Entities:</th>                <td>54</td>        <th>  P-value            </th>    <td>0.1127</td> \n",
       "</tr>\n",
       "<tr>\n",
       "  <th>Avg Obs:</th>               <td>3.0000</td>      <th>  Distribution:      </th>   <td>F(2,104)</td>\n",
       "</tr>\n",
       "<tr>\n",
       "  <th>Min Obs:</th>               <td>3.0000</td>      <th>                     </th>       <td></td>    \n",
       "</tr>\n",
       "<tr>\n",
       "  <th>Max Obs:</th>               <td>3.0000</td>      <th>  F-statistic (robust):</th>  <td>2.2294</td> \n",
       "</tr>\n",
       "<tr>\n",
       "  <th></th>                          <td></td>         <th>  P-value            </th>    <td>0.1127</td> \n",
       "</tr>\n",
       "<tr>\n",
       "  <th>Time periods:</th>             <td>3</td>        <th>  Distribution:      </th>   <td>F(2,104)</td>\n",
       "</tr>\n",
       "<tr>\n",
       "  <th>Avg Obs:</th>               <td>54.000</td>      <th>                     </th>       <td></td>    \n",
       "</tr>\n",
       "<tr>\n",
       "  <th>Min Obs:</th>               <td>54.000</td>      <th>                     </th>       <td></td>    \n",
       "</tr>\n",
       "<tr>\n",
       "  <th>Max Obs:</th>               <td>54.000</td>      <th>                     </th>       <td></td>    \n",
       "</tr>\n",
       "<tr>\n",
       "  <th></th>                          <td></td>         <th>                     </th>       <td></td>    \n",
       "</tr>\n",
       "</table>\n",
       "<table class=\"simpletable\">\n",
       "<caption>Parameter Estimates</caption>\n",
       "<tr>\n",
       "     <td></td>     <th>Parameter</th> <th>Std. Err.</th> <th>T-stat</th>  <th>P-value</th> <th>Lower CI</th> <th>Upper CI</th>\n",
       "</tr>\n",
       "<tr>\n",
       "  <th>grant</th>    <td>-0.2523</td>   <td>0.1506</td>   <td>-1.6751</td> <td>0.0969</td>   <td>-0.5510</td>  <td>0.0464</td> \n",
       "</tr>\n",
       "<tr>\n",
       "  <th>grant_1</th>  <td>-0.4216</td>   <td>0.2102</td>   <td>-2.0057</td> <td>0.0475</td>   <td>-0.8384</td>  <td>-0.0048</td>\n",
       "</tr>\n",
       "</table><br/><br/>F-test for Poolability: 24.118<br/>P-value: 0.0000<br/>Distribution: F(55,104)<br/><br/>Included effects: Entity, Time<br/>id: 0x7fa93383b828"
      ],
      "text/plain": [
       "                          PanelOLS Estimation Summary                           \n",
       "================================================================================\n",
       "Dep. Variable:                 lscrap   R-squared:                        0.0411\n",
       "Estimator:                   PanelOLS   R-squared (Between):             -0.0552\n",
       "No. Observations:                 162   R-squared (Within):               0.1478\n",
       "Date:                Tue, Aug 25 2020   R-squared (Overall):             -0.0381\n",
       "Time:                        20:24:16   Log-likelihood                   -80.946\n",
       "Cov. Estimator:            Unadjusted                                           \n",
       "                                        F-statistic:                      2.2294\n",
       "Entities:                          54   P-value                           0.1127\n",
       "Avg Obs:                       3.0000   Distribution:                   F(2,104)\n",
       "Min Obs:                       3.0000                                           \n",
       "Max Obs:                       3.0000   F-statistic (robust):             2.2294\n",
       "                                        P-value                           0.1127\n",
       "Time periods:                       3   Distribution:                   F(2,104)\n",
       "Avg Obs:                       54.000                                           \n",
       "Min Obs:                       54.000                                           \n",
       "Max Obs:                       54.000                                           \n",
       "                                                                                \n",
       "                             Parameter Estimates                              \n",
       "==============================================================================\n",
       "            Parameter  Std. Err.     T-stat    P-value    Lower CI    Upper CI\n",
       "------------------------------------------------------------------------------\n",
       "grant         -0.2523     0.1506    -1.6751     0.0969     -0.5510      0.0464\n",
       "grant_1       -0.4216     0.2102    -2.0057     0.0475     -0.8384     -0.0048\n",
       "==============================================================================\n",
       "\n",
       "F-test for Poolability: 24.118\n",
       "P-value: 0.0000\n",
       "Distribution: F(55,104)\n",
       "\n",
       "Included effects: Entity, Time\n",
       "PanelEffectsResults, id: 0x7fa93383b828"
      ]
     },
     "execution_count": 42,
     "metadata": {
      "tags": []
     },
     "output_type": "execute_result"
    }
   ],
   "source": [
    "df2 = df[['lscrap', 'union', 'grant', 'grant_1', 'fcode', 'year']].dropna().set_index(['fcode', 'year'])\n",
    "reg = linearmodels.PanelOLS.from_formula(\"lscrap ~ grant + grant_1 + EntityEffects + TimeEffects\", data=df2)\n",
    "# This wont work below since the variable 'union' doesn't vary over time for\n",
    "# any of the firms in the sample\n",
    "# reg = linearmodels.PanelOLS.from_formula(\"lscrap ~ union + grant + grant_1 + EntityEffects + TimeEffects\", data=df2)\n",
    "reg_fitted = reg.fit() \n",
    "reg_fitted"
   ]
  },
  {
   "cell_type": "code",
   "execution_count": 43,
   "metadata": {
    "colab": {},
    "colab_type": "code",
    "id": "xjuHTibnDxF6"
   },
   "outputs": [],
   "source": [
    "# # This doesn't give the correct results\n",
    "# df2 = df[['d88', 'd89', 'lscrap', 'union', 'grant', 'grant_1', 'fcode', 'year']].dropna()\n",
    "# reg = smf.mixedlm(\"lscrap ~ d88 + d89 + grant + grant_1\", df2, groups=df2[\"fcode\"])\n",
    "# reg_fitted = reg.fit()\n",
    "# reg_fitted.summary()"
   ]
  },
  {
   "cell_type": "code",
   "execution_count": 44,
   "metadata": {
    "colab": {},
    "colab_type": "code",
    "id": "H3uOHOcgDxF9"
   },
   "outputs": [],
   "source": [
    "# df2 = df.set_index(['year', 'fcode'])\n",
    "# reg = pd.stats.plm.PanelOLS(y=df2['lscrap'], x=df2[['d88', 'd89', 'union', 'grant', 'grant_1']], time_effects=True)\n",
    "# reg"
   ]
  },
  {
   "cell_type": "markdown",
   "metadata": {
    "colab_type": "text",
    "id": "T4d06Ln0DxF_"
   },
   "source": [
    "Note that the indexes must be in the correct order. The above results do not match the Stata output. Below is the correct ordering."
   ]
  },
  {
   "cell_type": "code",
   "execution_count": 45,
   "metadata": {
    "colab": {},
    "colab_type": "code",
    "id": "3M-tcZS2DxF_"
   },
   "outputs": [],
   "source": [
    "# df2 = df.set_index(['fcode', 'year'])\n",
    "# reg = pd.stats.plm.PanelOLS(y=df2['lscrap'], x=df2[['d88', 'd89', 'union', 'grant', 'grant_1']], time_effects=True)\n",
    "# reg"
   ]
  },
  {
   "cell_type": "markdown",
   "metadata": {
    "colab_type": "text",
    "id": "SPXSZ5AvDxGC"
   },
   "source": [
    "#### Using Stata"
   ]
  },
  {
   "cell_type": "markdown",
   "metadata": {
    "colab_type": "text",
    "id": "QKA_gclmDxGE"
   },
   "source": [
    "Compare this to the Stata output. It gives the same coefficients. Some of the tests are not the same, however.\n",
    "\n",
    "```\n",
    "//use jtrain1, clear\n",
    "use http://www.stata.com/data/jwooldridge/eacsap/jtrain1, clear\n",
    "xtreg lscrap d88 d89 union grant grant_1, i( fcode)\n",
    "```\n",
    "\n",
    "\n",
    "```\n",
    "Fixed-effects (within) regression               Number of obs      =       162\n",
    "Group variable (i): fcode                       Number of groups   =        54\n",
    "\n",
    "R-sq:  within  = 0.2010                         Obs per group: min =         3\n",
    "       between = 0.0079                                        avg =       3.0\n",
    "       overall = 0.0068                                        max =         3\n",
    "\n",
    "                                                F(4,104)           =      6.54\n",
    "corr(u_i, Xb)  = -0.0714                        Prob > F           =    0.0001\n",
    "\n",
    "------------------------------------------------------------------------------\n",
    "      lscrap |      Coef.   Std. Err.      t    P>|t|     [95% Conf. Interval]\n",
    "-------------+----------------------------------------------------------------\n",
    "         d88 |  -.0802157   .1094751    -0.73   0.465     -.297309    .1368776\n",
    "         d89 |  -.2472028   .1332183    -1.86   0.066    -.5113797    .0169741\n",
    "       union |  (dropped)\n",
    "       grant |  -.2523149    .150629    -1.68   0.097    -.5510178    .0463881\n",
    "     grant_1 |  -.4215895      .2102    -2.01   0.047    -.8384239   -.0047551\n",
    "       _cons |   .5974341   .0677344     8.82   0.000     .4631142    .7317539\n",
    "-------------+----------------------------------------------------------------\n",
    "     sigma_u |   1.438982\n",
    "     sigma_e |  .49774421\n",
    "         rho |  .89313867   (fraction of variance due to u_i)\n",
    "------------------------------------------------------------------------------\n",
    "F test that all u_i=0:     F(53, 104) =    23.87             Prob > F = 0.0000\n",
    "```"
   ]
  },
  {
   "cell_type": "markdown",
   "metadata": {
    "colab_type": "text",
    "id": "RiALsakuDxGG"
   },
   "source": [
    "#### Using `plm` in R"
   ]
  },
  {
   "cell_type": "code",
   "execution_count": 46,
   "metadata": {
    "colab": {
     "base_uri": "https://localhost:8080/",
     "height": 459
    },
    "colab_type": "code",
    "id": "Qsp6lzlPDxGH",
    "outputId": "4c3da637-a9b5-49b4-b814-be185d260db6"
   },
   "outputs": [
    {
     "name": "stdout",
     "output_type": "stream",
     "text": [
      "Oneway (individual) effect Within Model\n",
      "\n",
      "Call:\n",
      "plm(formula = lscrap ~ d88 + d89 + union + grant + grant_1, data = df, \n",
      "    model = \"within\", index = c(\"fcode\", \"year\"))\n",
      "\n",
      "Balanced Panel: n = 54, T = 3, N = 162\n",
      "\n",
      "Residuals:\n",
      "     Min.   1st Qu.    Median   3rd Qu.      Max. \n",
      "-2.286936 -0.112387 -0.017841  0.144272  1.426674 \n",
      "\n",
      "Coefficients:\n",
      "         Estimate Std. Error t-value Pr(>|t|)  \n",
      "d88     -0.080216   0.109475 -0.7327  0.46537  \n",
      "d89     -0.247203   0.133218 -1.8556  0.06634 .\n",
      "grant   -0.252315   0.150629 -1.6751  0.09692 .\n",
      "grant_1 -0.421590   0.210200 -2.0057  0.04749 *\n",
      "---\n",
      "Signif. codes:  0 ‘***’ 0.001 ‘**’ 0.01 ‘*’ 0.05 ‘.’ 0.1 ‘ ’ 1\n",
      "\n",
      "Total Sum of Squares:    32.25\n",
      "Residual Sum of Squares: 25.766\n",
      "R-Squared:      0.20105\n",
      "Adj. R-Squared: -0.23684\n",
      "F-statistic: 6.54259 on 4 and 104 DF, p-value: 9.7741e-05\n"
     ]
    }
   ],
   "source": [
    "%%R -i df\n",
    "reg = plm(lscrap ~ d88 + d89 + union + grant + grant_1, df, index=c('fcode', 'year'), model='within')\n",
    "summary(reg)"
   ]
  },
  {
   "cell_type": "markdown",
   "metadata": {
    "colab_type": "text",
    "id": "w56TzKuBDxGJ"
   },
   "source": [
    "If we don't want to put in time dummies manually, all we need to do\n",
    "is to specify \"two-way\" fixed effects. Note that we need to supply the \n",
    "index properly. That is, the individual index first, followed by the time\n",
    "index second. If you don't specify the index, it will assume that the first\n",
    "two columns are the index, again in the order of individual and then time.\n",
    "\n",
    "See p. 72 of this: https://cran.r-project.org/web/packages/plm/plm.pdf and see p. 5 of this https://cran.r-project.org/web/packages/plm/vignettes/plm.pdf"
   ]
  },
  {
   "cell_type": "code",
   "execution_count": 47,
   "metadata": {
    "colab": {
     "base_uri": "https://localhost:8080/",
     "height": 425
    },
    "colab_type": "code",
    "id": "wTWzCVmtDxGJ",
    "outputId": "1e7e8a2d-6b9e-4aed-9d4b-0ab7048b855f"
   },
   "outputs": [
    {
     "name": "stdout",
     "output_type": "stream",
     "text": [
      "Twoways effects Within Model\n",
      "\n",
      "Call:\n",
      "plm(formula = lscrap ~ union + grant + grant_1, data = df, effect = \"twoways\", \n",
      "    model = \"within\", index = c(\"fcode\", \"year\"))\n",
      "\n",
      "Balanced Panel: n = 54, T = 3, N = 162\n",
      "\n",
      "Residuals:\n",
      "     Min.   1st Qu.    Median   3rd Qu.      Max. \n",
      "-2.286936 -0.112387 -0.017841  0.144272  1.426674 \n",
      "\n",
      "Coefficients:\n",
      "        Estimate Std. Error t-value Pr(>|t|)  \n",
      "grant   -0.25231    0.15063 -1.6751  0.09692 .\n",
      "grant_1 -0.42159    0.21020 -2.0057  0.04749 *\n",
      "---\n",
      "Signif. codes:  0 ‘***’ 0.001 ‘**’ 0.01 ‘*’ 0.05 ‘.’ 0.1 ‘ ’ 1\n",
      "\n",
      "Total Sum of Squares:    26.871\n",
      "Residual Sum of Squares: 25.766\n",
      "R-Squared:      0.041111\n",
      "Adj. R-Squared: -0.48443\n",
      "F-statistic: 2.22942 on 2 and 104 DF, p-value: 0.11271\n"
     ]
    }
   ],
   "source": [
    "%%R -i df\n",
    "# This works so that we don't have to manually put in time dummies\n",
    "reg = plm(lscrap ~ union + grant + grant_1, df, index=c('fcode', 'year'), model='within', effect='twoways')\n",
    "summary(reg)"
   ]
  },
  {
   "cell_type": "markdown",
   "metadata": {
    "colab_type": "text",
    "id": "raJwhF57DxGO"
   },
   "source": [
    "A simple Monte Carlo demonstration using a different package can be found here: https://www.r-bloggers.com/linear-models-with-multiple-fixed-effects/"
   ]
  }
 ],
 "metadata": {
  "colab": {
   "collapsed_sections": [],
   "name": "Fixed-and-Random-Effects-Rosetta-Stone.ipynb",
   "provenance": [],
   "toc_visible": true
  },
  "kernelspec": {
   "display_name": "Python 3",
   "language": "python",
   "name": "python3"
  },
  "language_info": {
   "codemirror_mode": {
    "name": "ipython",
    "version": 3
   },
   "file_extension": ".py",
   "mimetype": "text/x-python",
   "name": "python",
   "nbconvert_exporter": "python",
   "pygments_lexer": "ipython3",
   "version": "3.7.6"
  },
  "varInspector": {
   "cols": {
    "lenName": 16,
    "lenType": 16,
    "lenVar": 40
   },
   "kernels_config": {
    "python": {
     "delete_cmd_postfix": "",
     "delete_cmd_prefix": "del ",
     "library": "var_list.py",
     "varRefreshCmd": "print(var_dic_list())"
    },
    "r": {
     "delete_cmd_postfix": ") ",
     "delete_cmd_prefix": "rm(",
     "library": "var_list.r",
     "varRefreshCmd": "cat(var_dic_list()) "
    }
   },
   "types_to_exclude": [
    "module",
    "function",
    "builtin_function_or_method",
    "instance",
    "_Feature"
   ],
   "window_display": false
  }
 },
 "nbformat": 4,
 "nbformat_minor": 1
}
