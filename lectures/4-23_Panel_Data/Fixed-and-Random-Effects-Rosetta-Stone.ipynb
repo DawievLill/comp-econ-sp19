{
  "nbformat": 4,
  "nbformat_minor": 0,
  "metadata": {
    "kernelspec": {
      "display_name": "Python 3",
      "language": "python",
      "name": "python3"
    },
    "language_info": {
      "codemirror_mode": {
        "name": "ipython",
        "version": 3
      },
      "file_extension": ".py",
      "mimetype": "text/x-python",
      "name": "python",
      "nbconvert_exporter": "python",
      "pygments_lexer": "ipython3",
      "version": "3.7.6"
    },
    "varInspector": {
      "cols": {
        "lenName": 16,
        "lenType": 16,
        "lenVar": 40
      },
      "kernels_config": {
        "python": {
          "delete_cmd_postfix": "",
          "delete_cmd_prefix": "del ",
          "library": "var_list.py",
          "varRefreshCmd": "print(var_dic_list())"
        },
        "r": {
          "delete_cmd_postfix": ") ",
          "delete_cmd_prefix": "rm(",
          "library": "var_list.r",
          "varRefreshCmd": "cat(var_dic_list()) "
        }
      },
      "types_to_exclude": [
        "module",
        "function",
        "builtin_function_or_method",
        "instance",
        "_Feature"
      ],
      "window_display": false
    },
    "colab": {
      "name": "Fixed-and-Random-Effects-Rosetta-Stone.ipynb",
      "provenance": [],
      "collapsed_sections": [],
      "toc_visible": true
    }
  },
  "cells": [
    {
      "cell_type": "markdown",
      "metadata": {
        "id": "wck8aJnEDxD8",
        "colab_type": "text"
      },
      "source": [
        "# Preamble\n",
        "\n",
        "**In this notebook I'll explore how to run normal (pooled) OLS, Fixed Effects, and Random Effects in Python, R, and Stata.**\n",
        "\n",
        " - Two useful Python packages that can be used for this purpose are [`statsmodels`](https://www.statsmodels.org/stable/index.html) and [`linearmodels`](https://bashtage.github.io/linearmodels/). The `linearmodels` packages is geared more towards econometrics. Here's I'll explore the usage of both.\n",
        " - There are several R packages that could be used here. I use [`plm`](https://cran.r-project.org/web/packages/plm/index.html) here. However, it may be better to use [`lfe`](https://cran.r-project.org/web/packages/lfe/index.html) or [`fixest`](https://cran.r-project.org/web/packages/fixest/index.html). (TO DO)\n",
        " - I've used [`rpy2`](https://pypi.org/project/rpy2/) to run the `R` code from within a Python kernel. It may be easier to simply skip these notebook cells and paste the code directly into a separate R interpreter. \n",
        " - The required data files (`lme.dta` and `St11-12_jtrain1.dta`) are in the same folder as this notebook. Instructions are also provided to download them from other sources.\n",
        " - The Stata code does not run in the Jupyter notebook. I've simply pasted the code and the results. The full code is available in `fixed_and_random_effects.do`, also located in this same folder.\n",
        " - If you run this in Google colab, you need to install `rpy2` and `linearmodels` first, as well as download the required data files. The cell below will do this for you."
      ]
    },
    {
      "cell_type": "markdown",
      "metadata": {
        "id": "t6piH0GAL4B3",
        "colab_type": "text"
      },
      "source": [
        "### Usage with Google Colab\n",
        "\n",
        "If using Google Colab, uncomment and run the cells in this section first. "
      ]
    },
    {
      "cell_type": "code",
      "metadata": {
        "id": "bQU7r87GMSCM",
        "colab_type": "code",
        "colab": {
          "base_uri": "https://localhost:8080/",
          "height": 731
        },
        "outputId": "8bf940ee-a2a8-4145-d012-fe73271b31fb"
      },
      "source": [
        "!apt-get install r-base\n",
        "!pip install rpy2\n",
        "!pip install linearmodels"
      ],
      "execution_count": 1,
      "outputs": [
        {
          "output_type": "stream",
          "text": [
            "Reading package lists... Done\n",
            "Building dependency tree       \n",
            "Reading state information... Done\n",
            "r-base is already the newest version (3.6.3-1bionic).\n",
            "The following package was automatically installed and is no longer required:\n",
            "  libnvidia-common-440\n",
            "Use 'apt autoremove' to remove it.\n",
            "0 upgraded, 0 newly installed, 0 to remove and 35 not upgraded.\n",
            "Requirement already satisfied: rpy2 in /usr/local/lib/python3.6/dist-packages (3.2.7)\n",
            "Requirement already satisfied: tzlocal in /usr/local/lib/python3.6/dist-packages (from rpy2) (1.5.1)\n",
            "Requirement already satisfied: pytest in /usr/local/lib/python3.6/dist-packages (from rpy2) (3.6.4)\n",
            "Requirement already satisfied: pytz in /usr/local/lib/python3.6/dist-packages (from rpy2) (2018.9)\n",
            "Requirement already satisfied: cffi>=1.13.1 in /usr/local/lib/python3.6/dist-packages (from rpy2) (1.14.2)\n",
            "Requirement already satisfied: jinja2 in /usr/local/lib/python3.6/dist-packages (from rpy2) (2.11.2)\n",
            "Requirement already satisfied: simplegeneric in /usr/local/lib/python3.6/dist-packages (from rpy2) (0.8.1)\n",
            "Requirement already satisfied: py>=1.5.0 in /usr/local/lib/python3.6/dist-packages (from pytest->rpy2) (1.9.0)\n",
            "Requirement already satisfied: atomicwrites>=1.0 in /usr/local/lib/python3.6/dist-packages (from pytest->rpy2) (1.4.0)\n",
            "Requirement already satisfied: setuptools in /usr/local/lib/python3.6/dist-packages (from pytest->rpy2) (49.6.0)\n",
            "Requirement already satisfied: six>=1.10.0 in /usr/local/lib/python3.6/dist-packages (from pytest->rpy2) (1.15.0)\n",
            "Requirement already satisfied: more-itertools>=4.0.0 in /usr/local/lib/python3.6/dist-packages (from pytest->rpy2) (8.4.0)\n",
            "Requirement already satisfied: pluggy<0.8,>=0.5 in /usr/local/lib/python3.6/dist-packages (from pytest->rpy2) (0.7.1)\n",
            "Requirement already satisfied: attrs>=17.4.0 in /usr/local/lib/python3.6/dist-packages (from pytest->rpy2) (20.1.0)\n",
            "Requirement already satisfied: pycparser in /usr/local/lib/python3.6/dist-packages (from cffi>=1.13.1->rpy2) (2.20)\n",
            "Requirement already satisfied: MarkupSafe>=0.23 in /usr/local/lib/python3.6/dist-packages (from jinja2->rpy2) (1.1.1)\n",
            "Collecting linearmodels\n",
            "\u001b[?25l  Downloading https://files.pythonhosted.org/packages/33/98/9606898621df26cad70021f928ab977926a7ed6ad30a10572cc93f67a970/linearmodels-4.17-cp36-cp36m-manylinux1_x86_64.whl (1.5MB)\n",
            "\u001b[K     |████████████████████████████████| 1.5MB 7.8MB/s \n",
            "\u001b[?25hRequirement already satisfied: pandas>=0.23 in /usr/local/lib/python3.6/dist-packages (from linearmodels) (1.0.5)\n",
            "Requirement already satisfied: numpy>=1.15 in /usr/local/lib/python3.6/dist-packages (from linearmodels) (1.18.5)\n",
            "Requirement already satisfied: statsmodels>=0.9 in /usr/local/lib/python3.6/dist-packages (from linearmodels) (0.10.2)\n",
            "Requirement already satisfied: scipy>=1 in /usr/local/lib/python3.6/dist-packages (from linearmodels) (1.4.1)\n",
            "Requirement already satisfied: patsy in /usr/local/lib/python3.6/dist-packages (from linearmodels) (0.5.1)\n",
            "Requirement already satisfied: Cython>=0.29.14 in /usr/local/lib/python3.6/dist-packages (from linearmodels) (0.29.21)\n",
            "Collecting mypy-extensions>=0.4\n",
            "  Downloading https://files.pythonhosted.org/packages/5c/eb/975c7c080f3223a5cdaff09612f3a5221e4ba534f7039db34c35d95fa6a5/mypy_extensions-0.4.3-py2.py3-none-any.whl\n",
            "Collecting property-cached>=1.6.3\n",
            "  Downloading https://files.pythonhosted.org/packages/5c/6c/94d8e520b20a2502e508e1c558f338061cf409cbee78fd6a3a5c6ae812bd/property_cached-1.6.4-py2.py3-none-any.whl\n",
            "Requirement already satisfied: python-dateutil>=2.6.1 in /usr/local/lib/python3.6/dist-packages (from pandas>=0.23->linearmodels) (2.8.1)\n",
            "Requirement already satisfied: pytz>=2017.2 in /usr/local/lib/python3.6/dist-packages (from pandas>=0.23->linearmodels) (2018.9)\n",
            "Requirement already satisfied: six in /usr/local/lib/python3.6/dist-packages (from patsy->linearmodels) (1.15.0)\n",
            "Installing collected packages: mypy-extensions, property-cached, linearmodels\n",
            "Successfully installed linearmodels-4.17 mypy-extensions-0.4.3 property-cached-1.6.4\n"
          ],
          "name": "stdout"
        }
      ]
    },
    {
      "cell_type": "code",
      "metadata": {
        "id": "t0ErHiBQJNGq",
        "colab_type": "code",
        "colab": {}
      },
      "source": [
        "# If using Google Colab, uncomment and run this cell first\n",
        "import urllib.request\n",
        "\n",
        "url_prefix = \"https://github.com/jmbejara/comp-econ-sp19/blob/master/lectures/4-23_Panel_Data/\"\n",
        "files = [\n",
        "    \"15_2_Wooldridge_Intro.png\",\n",
        "    \"lme.dta\",\n",
        "    \"Example_10_4_Wooldridge_Panel.png\",\n",
        "    \"Example_10_5_Wooldridge_Panel.png\",\n",
        "    \"fixed_and_random_effects.do\",\n",
        "    \"St11-12_jtrain1.dta\",\n",
        "    ]\n",
        "for file in files:\n",
        "    url = url_prefix + file + \"?raw=true\"\n",
        "    urllib.request.urlretrieve(url, f'./{file}')"
      ],
      "execution_count": 2,
      "outputs": []
    },
    {
      "cell_type": "code",
      "metadata": {
        "id": "dTZVCeHRMaH3",
        "colab_type": "code",
        "colab": {
          "base_uri": "https://localhost:8080/",
          "height": 105
        },
        "outputId": "8d45f2d6-943a-47aa-9073-559f98ce848f"
      },
      "source": [
        "%load_ext rpy2.ipython"
      ],
      "execution_count": 3,
      "outputs": [
        {
          "output_type": "stream",
          "text": [
            "/usr/local/lib/python3.6/dist-packages/rpy2/robjects/pandas2ri.py:14: FutureWarning: pandas.core.index is deprecated and will be removed in a future version.  The public classes are available in the top-level namespace.\n",
            "  from pandas.core.index import Index as PandasIndex\n",
            "/usr/local/lib/python3.6/dist-packages/rpy2/robjects/pandas2ri.py:34: UserWarning: pandas >= 1.0 is not supported.\n",
            "  warnings.warn('pandas >= 1.0 is not supported.')\n"
          ],
          "name": "stderr"
        }
      ]
    },
    {
      "cell_type": "code",
      "metadata": {
        "id": "TaAZXihkMDGM",
        "colab_type": "code",
        "colab": {
          "base_uri": "https://localhost:8080/",
          "height": 1000
        },
        "outputId": "50b17f95-2e39-473b-f2f9-b7570b79da1f"
      },
      "source": [
        "%%R\n",
        "install.packages(\"foreign\")\n",
        "install.packages(\"plm\")"
      ],
      "execution_count": 4,
      "outputs": [
        {
          "output_type": "stream",
          "text": [
            "R[write to console]: Installing package into ‘/usr/local/lib/R/site-library’\n",
            "(as ‘lib’ is unspecified)\n",
            "\n",
            "R[write to console]: Installing package into ‘/usr/local/lib/R/site-library’\n",
            "(as ‘lib’ is unspecified)\n",
            "\n",
            "R[write to console]: also installing the dependencies ‘miscTools’, ‘bibtex’, ‘gbRd’, ‘bdsmatrix’, ‘zoo’, ‘sandwich’, ‘lmtest’, ‘maxLik’, ‘Rdpack’, ‘Formula’\n",
            "\n",
            "\n",
            "R[write to console]: trying URL 'https://cran.rstudio.com/src/contrib/miscTools_0.6-26.tar.gz'\n",
            "\n",
            "R[write to console]: Content type 'application/x-gzip'\n",
            "R[write to console]:  length 25420 bytes (24 KB)\n",
            "\n",
            "R[write to console]: =\n",
            "R[write to console]: =\n",
            "R[write to console]: =\n",
            "R[write to console]: =\n",
            "R[write to console]: =\n",
            "R[write to console]: =\n",
            "R[write to console]: =\n",
            "R[write to console]: =\n",
            "R[write to console]: =\n",
            "R[write to console]: =\n",
            "R[write to console]: =\n",
            "R[write to console]: =\n",
            "R[write to console]: =\n",
            "R[write to console]: =\n",
            "R[write to console]: =\n",
            "R[write to console]: =\n",
            "R[write to console]: =\n",
            "R[write to console]: =\n",
            "R[write to console]: =\n",
            "R[write to console]: =\n",
            "R[write to console]: =\n",
            "R[write to console]: =\n",
            "R[write to console]: =\n",
            "R[write to console]: =\n",
            "R[write to console]: =\n",
            "R[write to console]: =\n",
            "R[write to console]: =\n",
            "R[write to console]: =\n",
            "R[write to console]: =\n",
            "R[write to console]: =\n",
            "R[write to console]: =\n",
            "R[write to console]: =\n",
            "R[write to console]: =\n",
            "R[write to console]: =\n",
            "R[write to console]: =\n",
            "R[write to console]: =\n",
            "R[write to console]: =\n",
            "R[write to console]: =\n",
            "R[write to console]: =\n",
            "R[write to console]: =\n",
            "R[write to console]: =\n",
            "R[write to console]: =\n",
            "R[write to console]: =\n",
            "R[write to console]: =\n",
            "R[write to console]: =\n",
            "R[write to console]: =\n",
            "R[write to console]: =\n",
            "R[write to console]: =\n",
            "R[write to console]: =\n",
            "R[write to console]: =\n",
            "R[write to console]: \n",
            "\n",
            "R[write to console]: downloaded 24 KB\n",
            "\n",
            "\n",
            "R[write to console]: trying URL 'https://cran.rstudio.com/src/contrib/bibtex_0.4.2.2.tar.gz'\n",
            "\n",
            "R[write to console]: Content type 'application/x-gzip'\n",
            "R[write to console]:  length 90950 bytes (88 KB)\n",
            "\n",
            "R[write to console]: =\n",
            "R[write to console]: =\n",
            "R[write to console]: =\n",
            "R[write to console]: =\n",
            "R[write to console]: =\n",
            "R[write to console]: =\n",
            "R[write to console]: =\n",
            "R[write to console]: =\n",
            "R[write to console]: =\n",
            "R[write to console]: =\n",
            "R[write to console]: =\n",
            "R[write to console]: =\n",
            "R[write to console]: =\n",
            "R[write to console]: =\n",
            "R[write to console]: =\n",
            "R[write to console]: =\n",
            "R[write to console]: =\n",
            "R[write to console]: =\n",
            "R[write to console]: =\n",
            "R[write to console]: =\n",
            "R[write to console]: =\n",
            "R[write to console]: =\n",
            "R[write to console]: =\n",
            "R[write to console]: =\n",
            "R[write to console]: =\n",
            "R[write to console]: =\n",
            "R[write to console]: =\n",
            "R[write to console]: =\n",
            "R[write to console]: =\n",
            "R[write to console]: =\n",
            "R[write to console]: =\n",
            "R[write to console]: =\n",
            "R[write to console]: =\n",
            "R[write to console]: =\n",
            "R[write to console]: =\n",
            "R[write to console]: =\n",
            "R[write to console]: =\n",
            "R[write to console]: =\n",
            "R[write to console]: =\n",
            "R[write to console]: =\n",
            "R[write to console]: =\n",
            "R[write to console]: =\n",
            "R[write to console]: =\n",
            "R[write to console]: =\n",
            "R[write to console]: =\n",
            "R[write to console]: =\n",
            "R[write to console]: =\n",
            "R[write to console]: =\n",
            "R[write to console]: =\n",
            "R[write to console]: =\n",
            "R[write to console]: \n",
            "\n",
            "R[write to console]: downloaded 88 KB\n",
            "\n",
            "\n",
            "R[write to console]: trying URL 'https://cran.rstudio.com/src/contrib/gbRd_0.4-11.tar.gz'\n",
            "\n",
            "R[write to console]: Content type 'application/x-gzip'\n",
            "R[write to console]:  length 9533 bytes\n",
            "\n",
            "R[write to console]: =\n",
            "R[write to console]: =\n",
            "R[write to console]: =\n",
            "R[write to console]: =\n",
            "R[write to console]: =\n",
            "R[write to console]: =\n",
            "R[write to console]: =\n",
            "R[write to console]: =\n",
            "R[write to console]: =\n",
            "R[write to console]: =\n",
            "R[write to console]: =\n",
            "R[write to console]: =\n",
            "R[write to console]: =\n",
            "R[write to console]: =\n",
            "R[write to console]: =\n",
            "R[write to console]: =\n",
            "R[write to console]: =\n",
            "R[write to console]: =\n",
            "R[write to console]: =\n",
            "R[write to console]: =\n",
            "R[write to console]: =\n",
            "R[write to console]: =\n",
            "R[write to console]: =\n",
            "R[write to console]: =\n",
            "R[write to console]: =\n",
            "R[write to console]: =\n",
            "R[write to console]: =\n",
            "R[write to console]: =\n",
            "R[write to console]: =\n",
            "R[write to console]: =\n",
            "R[write to console]: =\n",
            "R[write to console]: =\n",
            "R[write to console]: =\n",
            "R[write to console]: =\n",
            "R[write to console]: =\n",
            "R[write to console]: =\n",
            "R[write to console]: =\n",
            "R[write to console]: =\n",
            "R[write to console]: =\n",
            "R[write to console]: =\n",
            "R[write to console]: =\n",
            "R[write to console]: =\n",
            "R[write to console]: =\n",
            "R[write to console]: =\n",
            "R[write to console]: =\n",
            "R[write to console]: =\n",
            "R[write to console]: =\n",
            "R[write to console]: =\n",
            "R[write to console]: =\n",
            "R[write to console]: =\n",
            "R[write to console]: \n",
            "\n",
            "R[write to console]: downloaded 9533 bytes\n",
            "\n",
            "\n",
            "R[write to console]: trying URL 'https://cran.rstudio.com/src/contrib/bdsmatrix_1.3-4.tar.gz'\n",
            "\n",
            "R[write to console]: Content type 'application/x-gzip'\n",
            "R[write to console]:  length 47961 bytes (46 KB)\n",
            "\n",
            "R[write to console]: =\n",
            "R[write to console]: =\n",
            "R[write to console]: =\n",
            "R[write to console]: =\n",
            "R[write to console]: =\n",
            "R[write to console]: =\n",
            "R[write to console]: =\n",
            "R[write to console]: =\n",
            "R[write to console]: =\n",
            "R[write to console]: =\n",
            "R[write to console]: =\n",
            "R[write to console]: =\n",
            "R[write to console]: =\n",
            "R[write to console]: =\n",
            "R[write to console]: =\n",
            "R[write to console]: =\n",
            "R[write to console]: =\n",
            "R[write to console]: =\n",
            "R[write to console]: =\n",
            "R[write to console]: =\n",
            "R[write to console]: =\n",
            "R[write to console]: =\n",
            "R[write to console]: =\n",
            "R[write to console]: =\n",
            "R[write to console]: =\n",
            "R[write to console]: =\n",
            "R[write to console]: =\n",
            "R[write to console]: =\n",
            "R[write to console]: =\n",
            "R[write to console]: =\n",
            "R[write to console]: =\n",
            "R[write to console]: =\n",
            "R[write to console]: =\n",
            "R[write to console]: =\n",
            "R[write to console]: =\n",
            "R[write to console]: =\n",
            "R[write to console]: =\n",
            "R[write to console]: =\n",
            "R[write to console]: =\n",
            "R[write to console]: =\n",
            "R[write to console]: =\n",
            "R[write to console]: =\n",
            "R[write to console]: =\n",
            "R[write to console]: =\n",
            "R[write to console]: =\n",
            "R[write to console]: =\n",
            "R[write to console]: =\n",
            "R[write to console]: =\n",
            "R[write to console]: =\n",
            "R[write to console]: =\n",
            "R[write to console]: \n",
            "\n",
            "R[write to console]: downloaded 46 KB\n",
            "\n",
            "\n",
            "R[write to console]: trying URL 'https://cran.rstudio.com/src/contrib/zoo_1.8-8.tar.gz'\n",
            "\n",
            "R[write to console]: Content type 'application/x-gzip'\n",
            "R[write to console]:  length 849487 bytes (829 KB)\n",
            "\n",
            "R[write to console]: =\n",
            "R[write to console]: =\n",
            "R[write to console]: =\n",
            "R[write to console]: =\n",
            "R[write to console]: =\n",
            "R[write to console]: =\n",
            "R[write to console]: =\n",
            "R[write to console]: =\n",
            "R[write to console]: =\n",
            "R[write to console]: =\n",
            "R[write to console]: =\n",
            "R[write to console]: =\n",
            "R[write to console]: =\n",
            "R[write to console]: =\n",
            "R[write to console]: =\n",
            "R[write to console]: =\n",
            "R[write to console]: =\n",
            "R[write to console]: =\n",
            "R[write to console]: =\n",
            "R[write to console]: =\n",
            "R[write to console]: =\n",
            "R[write to console]: =\n",
            "R[write to console]: =\n",
            "R[write to console]: =\n",
            "R[write to console]: =\n",
            "R[write to console]: =\n",
            "R[write to console]: =\n",
            "R[write to console]: =\n",
            "R[write to console]: =\n",
            "R[write to console]: =\n",
            "R[write to console]: =\n",
            "R[write to console]: =\n",
            "R[write to console]: =\n",
            "R[write to console]: =\n",
            "R[write to console]: =\n",
            "R[write to console]: =\n",
            "R[write to console]: =\n",
            "R[write to console]: =\n",
            "R[write to console]: =\n",
            "R[write to console]: =\n",
            "R[write to console]: =\n",
            "R[write to console]: =\n",
            "R[write to console]: =\n",
            "R[write to console]: =\n",
            "R[write to console]: =\n",
            "R[write to console]: =\n",
            "R[write to console]: =\n",
            "R[write to console]: =\n",
            "R[write to console]: =\n",
            "R[write to console]: =\n",
            "R[write to console]: \n",
            "\n",
            "R[write to console]: downloaded 829 KB\n",
            "\n",
            "\n",
            "R[write to console]: trying URL 'https://cran.rstudio.com/src/contrib/sandwich_2.5-1.tar.gz'\n",
            "\n",
            "R[write to console]: Content type 'application/x-gzip'\n",
            "R[write to console]:  length 1349536 bytes (1.3 MB)\n",
            "\n",
            "R[write to console]: =\n",
            "R[write to console]: =\n",
            "R[write to console]: =\n",
            "R[write to console]: =\n",
            "R[write to console]: =\n",
            "R[write to console]: =\n",
            "R[write to console]: =\n",
            "R[write to console]: =\n",
            "R[write to console]: =\n",
            "R[write to console]: =\n",
            "R[write to console]: =\n",
            "R[write to console]: =\n",
            "R[write to console]: =\n",
            "R[write to console]: =\n",
            "R[write to console]: =\n",
            "R[write to console]: =\n",
            "R[write to console]: =\n",
            "R[write to console]: =\n",
            "R[write to console]: =\n",
            "R[write to console]: =\n",
            "R[write to console]: =\n",
            "R[write to console]: =\n",
            "R[write to console]: =\n",
            "R[write to console]: =\n",
            "R[write to console]: =\n",
            "R[write to console]: =\n",
            "R[write to console]: =\n",
            "R[write to console]: =\n",
            "R[write to console]: =\n",
            "R[write to console]: =\n",
            "R[write to console]: =\n",
            "R[write to console]: =\n",
            "R[write to console]: =\n",
            "R[write to console]: =\n",
            "R[write to console]: =\n",
            "R[write to console]: =\n",
            "R[write to console]: =\n",
            "R[write to console]: =\n",
            "R[write to console]: =\n",
            "R[write to console]: =\n",
            "R[write to console]: =\n",
            "R[write to console]: =\n",
            "R[write to console]: =\n",
            "R[write to console]: =\n",
            "R[write to console]: =\n",
            "R[write to console]: =\n",
            "R[write to console]: =\n",
            "R[write to console]: =\n",
            "R[write to console]: =\n",
            "R[write to console]: =\n",
            "R[write to console]: \n",
            "\n",
            "R[write to console]: downloaded 1.3 MB\n",
            "\n",
            "\n",
            "R[write to console]: trying URL 'https://cran.rstudio.com/src/contrib/lmtest_0.9-37.tar.gz'\n",
            "\n",
            "R[write to console]: Content type 'application/x-gzip'\n",
            "R[write to console]:  length 184426 bytes (180 KB)\n",
            "\n",
            "R[write to console]: =\n",
            "R[write to console]: =\n",
            "R[write to console]: =\n",
            "R[write to console]: =\n",
            "R[write to console]: =\n",
            "R[write to console]: =\n",
            "R[write to console]: =\n",
            "R[write to console]: =\n",
            "R[write to console]: =\n",
            "R[write to console]: =\n",
            "R[write to console]: =\n",
            "R[write to console]: =\n",
            "R[write to console]: =\n",
            "R[write to console]: =\n",
            "R[write to console]: =\n",
            "R[write to console]: =\n",
            "R[write to console]: =\n",
            "R[write to console]: =\n",
            "R[write to console]: =\n",
            "R[write to console]: =\n",
            "R[write to console]: =\n",
            "R[write to console]: =\n",
            "R[write to console]: =\n",
            "R[write to console]: =\n",
            "R[write to console]: =\n",
            "R[write to console]: =\n",
            "R[write to console]: =\n",
            "R[write to console]: =\n",
            "R[write to console]: =\n",
            "R[write to console]: =\n",
            "R[write to console]: =\n",
            "R[write to console]: =\n",
            "R[write to console]: =\n",
            "R[write to console]: =\n",
            "R[write to console]: =\n",
            "R[write to console]: =\n",
            "R[write to console]: =\n",
            "R[write to console]: =\n",
            "R[write to console]: =\n",
            "R[write to console]: =\n",
            "R[write to console]: =\n",
            "R[write to console]: =\n",
            "R[write to console]: =\n",
            "R[write to console]: =\n",
            "R[write to console]: =\n",
            "R[write to console]: =\n",
            "R[write to console]: =\n",
            "R[write to console]: =\n",
            "R[write to console]: =\n",
            "R[write to console]: =\n",
            "R[write to console]: \n",
            "\n",
            "R[write to console]: downloaded 180 KB\n",
            "\n",
            "\n",
            "R[write to console]: trying URL 'https://cran.rstudio.com/src/contrib/maxLik_1.4-0.tar.gz'\n",
            "\n",
            "R[write to console]: Content type 'application/x-gzip'\n",
            "R[write to console]:  length 424499 bytes (414 KB)\n",
            "\n",
            "R[write to console]: =\n",
            "R[write to console]: =\n",
            "R[write to console]: =\n",
            "R[write to console]: =\n",
            "R[write to console]: =\n",
            "R[write to console]: =\n",
            "R[write to console]: =\n",
            "R[write to console]: =\n",
            "R[write to console]: =\n",
            "R[write to console]: =\n",
            "R[write to console]: =\n",
            "R[write to console]: =\n",
            "R[write to console]: =\n",
            "R[write to console]: =\n",
            "R[write to console]: =\n",
            "R[write to console]: =\n",
            "R[write to console]: =\n",
            "R[write to console]: =\n",
            "R[write to console]: =\n",
            "R[write to console]: =\n",
            "R[write to console]: =\n",
            "R[write to console]: =\n",
            "R[write to console]: =\n",
            "R[write to console]: =\n",
            "R[write to console]: =\n",
            "R[write to console]: =\n",
            "R[write to console]: =\n",
            "R[write to console]: =\n",
            "R[write to console]: =\n",
            "R[write to console]: =\n",
            "R[write to console]: =\n",
            "R[write to console]: =\n",
            "R[write to console]: =\n",
            "R[write to console]: =\n",
            "R[write to console]: =\n",
            "R[write to console]: =\n",
            "R[write to console]: =\n",
            "R[write to console]: =\n",
            "R[write to console]: =\n",
            "R[write to console]: =\n",
            "R[write to console]: =\n",
            "R[write to console]: =\n",
            "R[write to console]: =\n",
            "R[write to console]: =\n",
            "R[write to console]: =\n",
            "R[write to console]: =\n",
            "R[write to console]: =\n",
            "R[write to console]: =\n",
            "R[write to console]: =\n",
            "R[write to console]: =\n",
            "R[write to console]: \n",
            "\n",
            "R[write to console]: downloaded 414 KB\n",
            "\n",
            "\n",
            "R[write to console]: trying URL 'https://cran.rstudio.com/src/contrib/Rdpack_1.0.0.tar.gz'\n",
            "\n",
            "R[write to console]: Content type 'application/x-gzip'\n",
            "R[write to console]:  length 659719 bytes (644 KB)\n",
            "\n",
            "R[write to console]: =\n",
            "R[write to console]: =\n",
            "R[write to console]: =\n",
            "R[write to console]: =\n",
            "R[write to console]: =\n",
            "R[write to console]: =\n",
            "R[write to console]: =\n",
            "R[write to console]: =\n",
            "R[write to console]: =\n",
            "R[write to console]: =\n",
            "R[write to console]: =\n",
            "R[write to console]: =\n",
            "R[write to console]: =\n",
            "R[write to console]: =\n",
            "R[write to console]: =\n",
            "R[write to console]: =\n",
            "R[write to console]: =\n",
            "R[write to console]: =\n",
            "R[write to console]: =\n",
            "R[write to console]: =\n",
            "R[write to console]: =\n",
            "R[write to console]: =\n",
            "R[write to console]: =\n",
            "R[write to console]: =\n",
            "R[write to console]: =\n",
            "R[write to console]: =\n",
            "R[write to console]: =\n",
            "R[write to console]: =\n",
            "R[write to console]: =\n",
            "R[write to console]: =\n",
            "R[write to console]: =\n",
            "R[write to console]: =\n",
            "R[write to console]: =\n",
            "R[write to console]: =\n",
            "R[write to console]: =\n",
            "R[write to console]: =\n",
            "R[write to console]: =\n",
            "R[write to console]: =\n",
            "R[write to console]: =\n",
            "R[write to console]: =\n",
            "R[write to console]: =\n",
            "R[write to console]: =\n",
            "R[write to console]: =\n",
            "R[write to console]: =\n",
            "R[write to console]: =\n",
            "R[write to console]: =\n",
            "R[write to console]: =\n",
            "R[write to console]: =\n",
            "R[write to console]: =\n",
            "R[write to console]: =\n",
            "R[write to console]: \n",
            "\n",
            "R[write to console]: downloaded 644 KB\n",
            "\n",
            "\n",
            "R[write to console]: trying URL 'https://cran.rstudio.com/src/contrib/Formula_1.2-3.tar.gz'\n",
            "\n",
            "R[write to console]: Content type 'application/x-gzip'\n",
            "R[write to console]:  length 151340 bytes (147 KB)\n",
            "\n",
            "R[write to console]: =\n",
            "R[write to console]: =\n",
            "R[write to console]: =\n",
            "R[write to console]: =\n",
            "R[write to console]: =\n",
            "R[write to console]: =\n",
            "R[write to console]: =\n",
            "R[write to console]: =\n",
            "R[write to console]: =\n",
            "R[write to console]: =\n",
            "R[write to console]: =\n",
            "R[write to console]: =\n",
            "R[write to console]: =\n",
            "R[write to console]: =\n",
            "R[write to console]: =\n",
            "R[write to console]: =\n",
            "R[write to console]: =\n",
            "R[write to console]: =\n",
            "R[write to console]: =\n",
            "R[write to console]: =\n",
            "R[write to console]: =\n",
            "R[write to console]: =\n",
            "R[write to console]: =\n",
            "R[write to console]: =\n",
            "R[write to console]: =\n",
            "R[write to console]: =\n",
            "R[write to console]: =\n",
            "R[write to console]: =\n",
            "R[write to console]: =\n",
            "R[write to console]: =\n",
            "R[write to console]: =\n",
            "R[write to console]: =\n",
            "R[write to console]: =\n",
            "R[write to console]: =\n",
            "R[write to console]: =\n",
            "R[write to console]: =\n",
            "R[write to console]: =\n",
            "R[write to console]: =\n",
            "R[write to console]: =\n",
            "R[write to console]: =\n",
            "R[write to console]: =\n",
            "R[write to console]: =\n",
            "R[write to console]: =\n",
            "R[write to console]: =\n",
            "R[write to console]: =\n",
            "R[write to console]: =\n",
            "R[write to console]: =\n",
            "R[write to console]: =\n",
            "R[write to console]: =\n",
            "R[write to console]: =\n",
            "R[write to console]: \n",
            "\n",
            "R[write to console]: downloaded 147 KB\n",
            "\n",
            "\n",
            "R[write to console]: trying URL 'https://cran.rstudio.com/src/contrib/plm_2.2-3.tar.gz'\n",
            "\n",
            "R[write to console]: Content type 'application/x-gzip'\n",
            "R[write to console]:  length 1635664 bytes (1.6 MB)\n",
            "\n",
            "R[write to console]: =\n",
            "R[write to console]: =\n",
            "R[write to console]: =\n",
            "R[write to console]: =\n",
            "R[write to console]: =\n",
            "R[write to console]: =\n",
            "R[write to console]: =\n",
            "R[write to console]: =\n",
            "R[write to console]: =\n",
            "R[write to console]: =\n",
            "R[write to console]: =\n",
            "R[write to console]: =\n",
            "R[write to console]: =\n",
            "R[write to console]: =\n",
            "R[write to console]: =\n",
            "R[write to console]: =\n",
            "R[write to console]: =\n",
            "R[write to console]: =\n",
            "R[write to console]: =\n",
            "R[write to console]: =\n",
            "R[write to console]: =\n",
            "R[write to console]: =\n",
            "R[write to console]: =\n",
            "R[write to console]: =\n",
            "R[write to console]: =\n",
            "R[write to console]: =\n",
            "R[write to console]: =\n",
            "R[write to console]: =\n",
            "R[write to console]: =\n",
            "R[write to console]: =\n",
            "R[write to console]: =\n",
            "R[write to console]: =\n",
            "R[write to console]: =\n",
            "R[write to console]: =\n",
            "R[write to console]: =\n",
            "R[write to console]: =\n",
            "R[write to console]: =\n",
            "R[write to console]: =\n",
            "R[write to console]: =\n",
            "R[write to console]: =\n",
            "R[write to console]: =\n",
            "R[write to console]: =\n",
            "R[write to console]: =\n",
            "R[write to console]: =\n",
            "R[write to console]: =\n",
            "R[write to console]: =\n",
            "R[write to console]: =\n",
            "R[write to console]: =\n",
            "R[write to console]: =\n",
            "R[write to console]: =\n",
            "R[write to console]: \n",
            "\n",
            "R[write to console]: downloaded 1.6 MB\n",
            "\n",
            "\n",
            "R[write to console]: \n",
            "\n",
            "R[write to console]: \n",
            "R[write to console]: The downloaded source packages are in\n",
            "\t‘/tmp/RtmpEpPD35/downloaded_packages’\n",
            "R[write to console]: \n",
            "R[write to console]: \n",
            "\n"
          ],
          "name": "stderr"
        }
      ]
    },
    {
      "cell_type": "markdown",
      "metadata": {
        "id": "a1wGNW8NMrxp",
        "colab_type": "text"
      },
      "source": [
        "## Usage with all platforms\n",
        "\n",
        "The previous section applies only if you're running this on Google Colab. The main document that applies to all platform begins here."
      ]
    },
    {
      "cell_type": "code",
      "metadata": {
        "id": "4ZbBp_GxDxD9",
        "colab_type": "code",
        "colab": {
          "base_uri": "https://localhost:8080/",
          "height": 51
        },
        "outputId": "8fa855fe-31e1-40fe-f2d4-35ff2b1bb9b2"
      },
      "source": [
        "import numpy as np\n",
        "import pandas as pd\n",
        "import statsmodels.api as sm\n",
        "import statsmodels.formula.api as smf\n",
        "import matplotlib.pyplot as plt\n",
        "import linearmodels\n",
        "from statsmodels.sandbox.regression.predstd import wls_prediction_std\n",
        "\n",
        "np.random.seed(9876789)"
      ],
      "execution_count": 5,
      "outputs": [
        {
          "output_type": "stream",
          "text": [
            "/usr/local/lib/python3.6/dist-packages/statsmodels/tools/_testing.py:19: FutureWarning: pandas.util.testing is deprecated. Use the functions in the public API at pandas.testing instead.\n",
            "  import pandas.util.testing as tm\n"
          ],
          "name": "stderr"
        }
      ]
    },
    {
      "cell_type": "code",
      "metadata": {
        "scrolled": false,
        "id": "CCkLx1k8DxEI",
        "colab_type": "code",
        "colab": {
          "base_uri": "https://localhost:8080/",
          "height": 51
        },
        "outputId": "7e16233c-d96f-4a38-d1fd-2dcd00e63985"
      },
      "source": [
        "%load_ext rpy2.ipython"
      ],
      "execution_count": 6,
      "outputs": [
        {
          "output_type": "stream",
          "text": [
            "The rpy2.ipython extension is already loaded. To reload it, use:\n",
            "  %reload_ext rpy2.ipython\n"
          ],
          "name": "stdout"
        }
      ]
    },
    {
      "cell_type": "markdown",
      "metadata": {
        "id": "RtcOdycxDxEQ",
        "colab_type": "text"
      },
      "source": [
        "# OLS"
      ]
    },
    {
      "cell_type": "code",
      "metadata": {
        "id": "YJVpK0BfDxER",
        "colab_type": "code",
        "colab": {}
      },
      "source": [
        "# Set up simple example data with some missing data\n",
        "nsample = 100\n",
        "x = np.linspace(0, 10, 100)\n",
        "X = np.column_stack((x, x**2))\n",
        "beta = np.array([0.1, 10])\n",
        "e = np.random.normal(size=nsample)\n",
        "alpha = 1\n",
        "y = alpha + X @ beta + e\n",
        "X[3,1] = np.nan # missing data"
      ],
      "execution_count": 7,
      "outputs": []
    },
    {
      "cell_type": "code",
      "metadata": {
        "id": "Pnb0naobDxEU",
        "colab_type": "code",
        "colab": {
          "base_uri": "https://localhost:8080/",
          "height": 204
        },
        "outputId": "362b7dc0-691b-4493-c570-3189d4bd04fd"
      },
      "source": [
        "df = pd.DataFrame(X, columns=['x1', 'x2'])\n",
        "df['y'] = y\n",
        "df.head()"
      ],
      "execution_count": 8,
      "outputs": [
        {
          "output_type": "execute_result",
          "data": {
            "text/html": [
              "<div>\n",
              "<style scoped>\n",
              "    .dataframe tbody tr th:only-of-type {\n",
              "        vertical-align: middle;\n",
              "    }\n",
              "\n",
              "    .dataframe tbody tr th {\n",
              "        vertical-align: top;\n",
              "    }\n",
              "\n",
              "    .dataframe thead th {\n",
              "        text-align: right;\n",
              "    }\n",
              "</style>\n",
              "<table border=\"1\" class=\"dataframe\">\n",
              "  <thead>\n",
              "    <tr style=\"text-align: right;\">\n",
              "      <th></th>\n",
              "      <th>x1</th>\n",
              "      <th>x2</th>\n",
              "      <th>y</th>\n",
              "    </tr>\n",
              "  </thead>\n",
              "  <tbody>\n",
              "    <tr>\n",
              "      <th>0</th>\n",
              "      <td>0.00000</td>\n",
              "      <td>0.000000</td>\n",
              "      <td>0.159484</td>\n",
              "    </tr>\n",
              "    <tr>\n",
              "      <th>1</th>\n",
              "      <td>0.10101</td>\n",
              "      <td>0.010203</td>\n",
              "      <td>2.709627</td>\n",
              "    </tr>\n",
              "    <tr>\n",
              "      <th>2</th>\n",
              "      <td>0.20202</td>\n",
              "      <td>0.040812</td>\n",
              "      <td>1.893866</td>\n",
              "    </tr>\n",
              "    <tr>\n",
              "      <th>3</th>\n",
              "      <td>0.30303</td>\n",
              "      <td>NaN</td>\n",
              "      <td>1.440418</td>\n",
              "    </tr>\n",
              "    <tr>\n",
              "      <th>4</th>\n",
              "      <td>0.40404</td>\n",
              "      <td>0.163249</td>\n",
              "      <td>5.607196</td>\n",
              "    </tr>\n",
              "  </tbody>\n",
              "</table>\n",
              "</div>"
            ],
            "text/plain": [
              "        x1        x2         y\n",
              "0  0.00000  0.000000  0.159484\n",
              "1  0.10101  0.010203  2.709627\n",
              "2  0.20202  0.040812  1.893866\n",
              "3  0.30303       NaN  1.440418\n",
              "4  0.40404  0.163249  5.607196"
            ]
          },
          "metadata": {
            "tags": []
          },
          "execution_count": 8
        }
      ]
    },
    {
      "cell_type": "markdown",
      "metadata": {
        "id": "xiTIsszaDxEX",
        "colab_type": "text"
      },
      "source": [
        "## `statsmodels` standard API\n",
        "\n",
        "I'll start by using the regular API."
      ]
    },
    {
      "cell_type": "code",
      "metadata": {
        "id": "aonO0cTpDxEX",
        "colab_type": "code",
        "colab": {}
      },
      "source": [
        "rhs = sm.add_constant(df[['x1', 'x2']])\n",
        "lhs = df['y']\n",
        "res = sm.OLS(lhs, rhs, missing='drop').fit()"
      ],
      "execution_count": 9,
      "outputs": []
    },
    {
      "cell_type": "code",
      "metadata": {
        "id": "FSNn33EyDxEa",
        "colab_type": "code",
        "colab": {
          "base_uri": "https://localhost:8080/",
          "height": 465
        },
        "outputId": "7a15d3b5-4158-4236-8935-c4eb4fd58e42"
      },
      "source": [
        "res.summary()"
      ],
      "execution_count": 10,
      "outputs": [
        {
          "output_type": "execute_result",
          "data": {
            "text/html": [
              "<table class=\"simpletable\">\n",
              "<caption>OLS Regression Results</caption>\n",
              "<tr>\n",
              "  <th>Dep. Variable:</th>            <td>y</td>        <th>  R-squared:         </th> <td>   1.000</td> \n",
              "</tr>\n",
              "<tr>\n",
              "  <th>Model:</th>                   <td>OLS</td>       <th>  Adj. R-squared:    </th> <td>   1.000</td> \n",
              "</tr>\n",
              "<tr>\n",
              "  <th>Method:</th>             <td>Least Squares</td>  <th>  F-statistic:       </th> <td>3.955e+06</td>\n",
              "</tr>\n",
              "<tr>\n",
              "  <th>Date:</th>             <td>Tue, 25 Aug 2020</td> <th>  Prob (F-statistic):</th> <td>1.09e-236</td>\n",
              "</tr>\n",
              "<tr>\n",
              "  <th>Time:</th>                 <td>20:24:09</td>     <th>  Log-Likelihood:    </th> <td> -145.23</td> \n",
              "</tr>\n",
              "<tr>\n",
              "  <th>No. Observations:</th>      <td>    99</td>      <th>  AIC:               </th> <td>   296.5</td> \n",
              "</tr>\n",
              "<tr>\n",
              "  <th>Df Residuals:</th>          <td>    96</td>      <th>  BIC:               </th> <td>   304.2</td> \n",
              "</tr>\n",
              "<tr>\n",
              "  <th>Df Model:</th>              <td>     2</td>      <th>                     </th>     <td> </td>    \n",
              "</tr>\n",
              "<tr>\n",
              "  <th>Covariance Type:</th>      <td>nonrobust</td>    <th>                     </th>     <td> </td>    \n",
              "</tr>\n",
              "</table>\n",
              "<table class=\"simpletable\">\n",
              "<tr>\n",
              "    <td></td>       <th>coef</th>     <th>std err</th>      <th>t</th>      <th>P>|t|</th>  <th>[0.025</th>    <th>0.975]</th>  \n",
              "</tr>\n",
              "<tr>\n",
              "  <th>const</th> <td>    1.4086</td> <td>    0.324</td> <td>    4.341</td> <td> 0.000</td> <td>    0.765</td> <td>    2.053</td>\n",
              "</tr>\n",
              "<tr>\n",
              "  <th>x1</th>    <td>   -0.0654</td> <td>    0.148</td> <td>   -0.441</td> <td> 0.660</td> <td>   -0.360</td> <td>    0.229</td>\n",
              "</tr>\n",
              "<tr>\n",
              "  <th>x2</th>    <td>   10.0123</td> <td>    0.014</td> <td>  702.595</td> <td> 0.000</td> <td>    9.984</td> <td>   10.041</td>\n",
              "</tr>\n",
              "</table>\n",
              "<table class=\"simpletable\">\n",
              "<tr>\n",
              "  <th>Omnibus:</th>       <td> 1.981</td> <th>  Durbin-Watson:     </th> <td>   2.228</td>\n",
              "</tr>\n",
              "<tr>\n",
              "  <th>Prob(Omnibus):</th> <td> 0.371</td> <th>  Jarque-Bera (JB):  </th> <td>   1.764</td>\n",
              "</tr>\n",
              "<tr>\n",
              "  <th>Skew:</th>          <td> 0.209</td> <th>  Prob(JB):          </th> <td>   0.414</td>\n",
              "</tr>\n",
              "<tr>\n",
              "  <th>Kurtosis:</th>      <td> 2.498</td> <th>  Cond. No.          </th> <td>    149.</td>\n",
              "</tr>\n",
              "</table><br/><br/>Warnings:<br/>[1] Standard Errors assume that the covariance matrix of the errors is correctly specified."
            ],
            "text/plain": [
              "<class 'statsmodels.iolib.summary.Summary'>\n",
              "\"\"\"\n",
              "                            OLS Regression Results                            \n",
              "==============================================================================\n",
              "Dep. Variable:                      y   R-squared:                       1.000\n",
              "Model:                            OLS   Adj. R-squared:                  1.000\n",
              "Method:                 Least Squares   F-statistic:                 3.955e+06\n",
              "Date:                Tue, 25 Aug 2020   Prob (F-statistic):          1.09e-236\n",
              "Time:                        20:24:09   Log-Likelihood:                -145.23\n",
              "No. Observations:                  99   AIC:                             296.5\n",
              "Df Residuals:                      96   BIC:                             304.2\n",
              "Df Model:                           2                                         \n",
              "Covariance Type:            nonrobust                                         \n",
              "==============================================================================\n",
              "                 coef    std err          t      P>|t|      [0.025      0.975]\n",
              "------------------------------------------------------------------------------\n",
              "const          1.4086      0.324      4.341      0.000       0.765       2.053\n",
              "x1            -0.0654      0.148     -0.441      0.660      -0.360       0.229\n",
              "x2            10.0123      0.014    702.595      0.000       9.984      10.041\n",
              "==============================================================================\n",
              "Omnibus:                        1.981   Durbin-Watson:                   2.228\n",
              "Prob(Omnibus):                  0.371   Jarque-Bera (JB):                1.764\n",
              "Skew:                           0.209   Prob(JB):                        0.414\n",
              "Kurtosis:                       2.498   Cond. No.                         149.\n",
              "==============================================================================\n",
              "\n",
              "Warnings:\n",
              "[1] Standard Errors assume that the covariance matrix of the errors is correctly specified.\n",
              "\"\"\""
            ]
          },
          "metadata": {
            "tags": []
          },
          "execution_count": 10
        }
      ]
    },
    {
      "cell_type": "code",
      "metadata": {
        "id": "oWD71qB2DxEc",
        "colab_type": "code",
        "colab": {
          "base_uri": "https://localhost:8080/",
          "height": 85
        },
        "outputId": "9cbb936e-b7bc-405d-9b26-d64464cfc953"
      },
      "source": [
        "# All results stored in \"results\" object.\n",
        "# E.g., to programatically retrieve parameters\n",
        "res.params"
      ],
      "execution_count": 11,
      "outputs": [
        {
          "output_type": "execute_result",
          "data": {
            "text/plain": [
              "const     1.408565\n",
              "x1       -0.065398\n",
              "x2       10.012289\n",
              "dtype: float64"
            ]
          },
          "metadata": {
            "tags": []
          },
          "execution_count": 11
        }
      ]
    },
    {
      "cell_type": "markdown",
      "metadata": {
        "id": "ohAohm9zDxEf",
        "colab_type": "text"
      },
      "source": [
        "## `statsmodels` formula API\n",
        "\n",
        "Now we use the `formula` API. This uses R-style regression formula notation, via the `patsy` package.\n",
        "\n",
        "You need to make sure to import the separate submodule to access this API, via `import statsmodels.formula.api as smf`"
      ]
    },
    {
      "cell_type": "code",
      "metadata": {
        "id": "YpKlI08dDxEg",
        "colab_type": "code",
        "colab": {
          "base_uri": "https://localhost:8080/",
          "height": 465
        },
        "outputId": "e3f3852e-e826-465d-a6c8-bdf3090aa704"
      },
      "source": [
        "results = smf.ols(formula=\"y ~ x1 + x2\", data=df).fit()\n",
        "results.summary()"
      ],
      "execution_count": 12,
      "outputs": [
        {
          "output_type": "execute_result",
          "data": {
            "text/html": [
              "<table class=\"simpletable\">\n",
              "<caption>OLS Regression Results</caption>\n",
              "<tr>\n",
              "  <th>Dep. Variable:</th>            <td>y</td>        <th>  R-squared:         </th> <td>   1.000</td> \n",
              "</tr>\n",
              "<tr>\n",
              "  <th>Model:</th>                   <td>OLS</td>       <th>  Adj. R-squared:    </th> <td>   1.000</td> \n",
              "</tr>\n",
              "<tr>\n",
              "  <th>Method:</th>             <td>Least Squares</td>  <th>  F-statistic:       </th> <td>3.955e+06</td>\n",
              "</tr>\n",
              "<tr>\n",
              "  <th>Date:</th>             <td>Tue, 25 Aug 2020</td> <th>  Prob (F-statistic):</th> <td>1.09e-236</td>\n",
              "</tr>\n",
              "<tr>\n",
              "  <th>Time:</th>                 <td>20:24:09</td>     <th>  Log-Likelihood:    </th> <td> -145.23</td> \n",
              "</tr>\n",
              "<tr>\n",
              "  <th>No. Observations:</th>      <td>    99</td>      <th>  AIC:               </th> <td>   296.5</td> \n",
              "</tr>\n",
              "<tr>\n",
              "  <th>Df Residuals:</th>          <td>    96</td>      <th>  BIC:               </th> <td>   304.2</td> \n",
              "</tr>\n",
              "<tr>\n",
              "  <th>Df Model:</th>              <td>     2</td>      <th>                     </th>     <td> </td>    \n",
              "</tr>\n",
              "<tr>\n",
              "  <th>Covariance Type:</th>      <td>nonrobust</td>    <th>                     </th>     <td> </td>    \n",
              "</tr>\n",
              "</table>\n",
              "<table class=\"simpletable\">\n",
              "<tr>\n",
              "      <td></td>         <th>coef</th>     <th>std err</th>      <th>t</th>      <th>P>|t|</th>  <th>[0.025</th>    <th>0.975]</th>  \n",
              "</tr>\n",
              "<tr>\n",
              "  <th>Intercept</th> <td>    1.4086</td> <td>    0.324</td> <td>    4.341</td> <td> 0.000</td> <td>    0.765</td> <td>    2.053</td>\n",
              "</tr>\n",
              "<tr>\n",
              "  <th>x1</th>        <td>   -0.0654</td> <td>    0.148</td> <td>   -0.441</td> <td> 0.660</td> <td>   -0.360</td> <td>    0.229</td>\n",
              "</tr>\n",
              "<tr>\n",
              "  <th>x2</th>        <td>   10.0123</td> <td>    0.014</td> <td>  702.595</td> <td> 0.000</td> <td>    9.984</td> <td>   10.041</td>\n",
              "</tr>\n",
              "</table>\n",
              "<table class=\"simpletable\">\n",
              "<tr>\n",
              "  <th>Omnibus:</th>       <td> 1.981</td> <th>  Durbin-Watson:     </th> <td>   2.228</td>\n",
              "</tr>\n",
              "<tr>\n",
              "  <th>Prob(Omnibus):</th> <td> 0.371</td> <th>  Jarque-Bera (JB):  </th> <td>   1.764</td>\n",
              "</tr>\n",
              "<tr>\n",
              "  <th>Skew:</th>          <td> 0.209</td> <th>  Prob(JB):          </th> <td>   0.414</td>\n",
              "</tr>\n",
              "<tr>\n",
              "  <th>Kurtosis:</th>      <td> 2.498</td> <th>  Cond. No.          </th> <td>    149.</td>\n",
              "</tr>\n",
              "</table><br/><br/>Warnings:<br/>[1] Standard Errors assume that the covariance matrix of the errors is correctly specified."
            ],
            "text/plain": [
              "<class 'statsmodels.iolib.summary.Summary'>\n",
              "\"\"\"\n",
              "                            OLS Regression Results                            \n",
              "==============================================================================\n",
              "Dep. Variable:                      y   R-squared:                       1.000\n",
              "Model:                            OLS   Adj. R-squared:                  1.000\n",
              "Method:                 Least Squares   F-statistic:                 3.955e+06\n",
              "Date:                Tue, 25 Aug 2020   Prob (F-statistic):          1.09e-236\n",
              "Time:                        20:24:09   Log-Likelihood:                -145.23\n",
              "No. Observations:                  99   AIC:                             296.5\n",
              "Df Residuals:                      96   BIC:                             304.2\n",
              "Df Model:                           2                                         \n",
              "Covariance Type:            nonrobust                                         \n",
              "==============================================================================\n",
              "                 coef    std err          t      P>|t|      [0.025      0.975]\n",
              "------------------------------------------------------------------------------\n",
              "Intercept      1.4086      0.324      4.341      0.000       0.765       2.053\n",
              "x1            -0.0654      0.148     -0.441      0.660      -0.360       0.229\n",
              "x2            10.0123      0.014    702.595      0.000       9.984      10.041\n",
              "==============================================================================\n",
              "Omnibus:                        1.981   Durbin-Watson:                   2.228\n",
              "Prob(Omnibus):                  0.371   Jarque-Bera (JB):                1.764\n",
              "Skew:                           0.209   Prob(JB):                        0.414\n",
              "Kurtosis:                       2.498   Cond. No.                         149.\n",
              "==============================================================================\n",
              "\n",
              "Warnings:\n",
              "[1] Standard Errors assume that the covariance matrix of the errors is correctly specified.\n",
              "\"\"\""
            ]
          },
          "metadata": {
            "tags": []
          },
          "execution_count": 12
        }
      ]
    },
    {
      "cell_type": "markdown",
      "metadata": {
        "id": "O9Q92cDYO7LH",
        "colab_type": "text"
      },
      "source": [
        "## OLS in Base R"
      ]
    },
    {
      "cell_type": "code",
      "metadata": {
        "id": "ccI86xrBDxEi",
        "colab_type": "code",
        "colab": {
          "base_uri": "https://localhost:8080/",
          "height": 136
        },
        "outputId": "9c2fdd39-68f9-4a25-85a1-2d04f54659c4"
      },
      "source": [
        "%%R -i df\n",
        "head(df)"
      ],
      "execution_count": 13,
      "outputs": [
        {
          "output_type": "stream",
          "text": [
            "         x1         x2         y\n",
            "0 0.0000000 0.00000000 0.1594841\n",
            "1 0.1010101 0.01020304 2.7096267\n",
            "2 0.2020202 0.04081216 1.8938657\n",
            "3 0.3030303        NaN 1.4404177\n",
            "4 0.4040404 0.16324865 5.6071962\n",
            "5 0.5050505 0.25507601 4.0141596\n"
          ],
          "name": "stdout"
        }
      ]
    },
    {
      "cell_type": "code",
      "metadata": {
        "id": "39Uzrw7VDxEn",
        "colab_type": "code",
        "colab": {
          "base_uri": "https://localhost:8080/",
          "height": 153
        },
        "outputId": "869056a5-5ebd-4223-f4b4-c8b63992ee67"
      },
      "source": [
        "%%R \n",
        "fit = lm(y ~ x1 + x2, df)\n",
        "fit"
      ],
      "execution_count": 14,
      "outputs": [
        {
          "output_type": "stream",
          "text": [
            "\n",
            "Call:\n",
            "lm(formula = y ~ x1 + x2, data = df)\n",
            "\n",
            "Coefficients:\n",
            "(Intercept)           x1           x2  \n",
            "     1.4086      -0.0654      10.0123  \n",
            "\n"
          ],
          "name": "stdout"
        }
      ]
    },
    {
      "cell_type": "code",
      "metadata": {
        "id": "Xde0mf2gDxEq",
        "colab_type": "code",
        "colab": {
          "base_uri": "https://localhost:8080/",
          "height": 374
        },
        "outputId": "8fb32b1f-3f75-4b22-f93e-9e71393ed337"
      },
      "source": [
        "%%R\n",
        "summary(fit)"
      ],
      "execution_count": 15,
      "outputs": [
        {
          "output_type": "stream",
          "text": [
            "\n",
            "Call:\n",
            "lm(formula = y ~ x1 + x2, data = df)\n",
            "\n",
            "Residuals:\n",
            "     Min       1Q   Median       3Q      Max \n",
            "-2.07542 -0.76563  0.03925  0.70802  2.59056 \n",
            "\n",
            "Coefficients:\n",
            "            Estimate Std. Error t value Pr(>|t|)    \n",
            "(Intercept)  1.40856    0.32446   4.341 3.51e-05 ***\n",
            "x1          -0.06540    0.14831  -0.441     0.66    \n",
            "x2          10.01229    0.01425 702.595  < 2e-16 ***\n",
            "---\n",
            "Signif. codes:  0 ‘***’ 0.001 ‘**’ 0.01 ‘*’ 0.05 ‘.’ 0.1 ‘ ’ 1\n",
            "\n",
            "Residual standard error: 1.065 on 96 degrees of freedom\n",
            "  (1 observation deleted due to missingness)\n",
            "Multiple R-squared:      1,\tAdjusted R-squared:      1 \n",
            "F-statistic: 3.955e+06 on 2 and 96 DF,  p-value: < 2.2e-16\n",
            "\n"
          ],
          "name": "stdout"
        }
      ]
    },
    {
      "cell_type": "markdown",
      "metadata": {
        "collapsed": true,
        "id": "zm7hCMxyDxEt",
        "colab_type": "text"
      },
      "source": [
        "# Fixed Effects\n",
        "\n",
        "Here I'll test out fixed effects estimation. In particular, I want to compare the outcomes that I get in Python to the output that I get from Stata. I want to make sure I'm getting the same results. To do this, I'll be using a data exercise from Wooldridge's panel data book. I have solutions to the odd problems in this book and Stata results. So, I can verify that my Stata results are accurate and then proceed with the analysis in Python.\n"
      ]
    },
    {
      "cell_type": "markdown",
      "metadata": {
        "id": "td189w1tDxEt",
        "colab_type": "text"
      },
      "source": [
        "## Linear Mixed Effects Models\n",
        "\n",
        "\n",
        "#### In `statsmodels`\n",
        "Here is a quick example of the syntax from `statsmodels`. This is taken from here: http://statsmodels.sourceforge.net/devel/mixed_linear.html"
      ]
    },
    {
      "cell_type": "code",
      "metadata": {
        "id": "Kw6gadwEDxEt",
        "colab_type": "code",
        "colab": {
          "base_uri": "https://localhost:8080/",
          "height": 204
        },
        "outputId": "47278ed7-9459-42dd-df35-0ba2637419d0"
      },
      "source": [
        "import statsmodels.api as sm \n",
        "import statsmodels.formula.api as smf\n",
        "\n",
        "data = sm.datasets.get_rdataset(\"dietox\", \"geepack\").data\n",
        "data.head()"
      ],
      "execution_count": 16,
      "outputs": [
        {
          "output_type": "execute_result",
          "data": {
            "text/html": [
              "<div>\n",
              "<style scoped>\n",
              "    .dataframe tbody tr th:only-of-type {\n",
              "        vertical-align: middle;\n",
              "    }\n",
              "\n",
              "    .dataframe tbody tr th {\n",
              "        vertical-align: top;\n",
              "    }\n",
              "\n",
              "    .dataframe thead th {\n",
              "        text-align: right;\n",
              "    }\n",
              "</style>\n",
              "<table border=\"1\" class=\"dataframe\">\n",
              "  <thead>\n",
              "    <tr style=\"text-align: right;\">\n",
              "      <th></th>\n",
              "      <th>Pig</th>\n",
              "      <th>Evit</th>\n",
              "      <th>Cu</th>\n",
              "      <th>Litter</th>\n",
              "      <th>Start</th>\n",
              "      <th>Weight</th>\n",
              "      <th>Feed</th>\n",
              "      <th>Time</th>\n",
              "    </tr>\n",
              "  </thead>\n",
              "  <tbody>\n",
              "    <tr>\n",
              "      <th>0</th>\n",
              "      <td>4601</td>\n",
              "      <td>Evit000</td>\n",
              "      <td>Cu000</td>\n",
              "      <td>1</td>\n",
              "      <td>26.5</td>\n",
              "      <td>26.50000</td>\n",
              "      <td>NaN</td>\n",
              "      <td>1</td>\n",
              "    </tr>\n",
              "    <tr>\n",
              "      <th>1</th>\n",
              "      <td>4601</td>\n",
              "      <td>Evit000</td>\n",
              "      <td>Cu000</td>\n",
              "      <td>1</td>\n",
              "      <td>26.5</td>\n",
              "      <td>27.59999</td>\n",
              "      <td>5.200005</td>\n",
              "      <td>2</td>\n",
              "    </tr>\n",
              "    <tr>\n",
              "      <th>2</th>\n",
              "      <td>4601</td>\n",
              "      <td>Evit000</td>\n",
              "      <td>Cu000</td>\n",
              "      <td>1</td>\n",
              "      <td>26.5</td>\n",
              "      <td>36.50000</td>\n",
              "      <td>17.600000</td>\n",
              "      <td>3</td>\n",
              "    </tr>\n",
              "    <tr>\n",
              "      <th>3</th>\n",
              "      <td>4601</td>\n",
              "      <td>Evit000</td>\n",
              "      <td>Cu000</td>\n",
              "      <td>1</td>\n",
              "      <td>26.5</td>\n",
              "      <td>40.29999</td>\n",
              "      <td>28.500000</td>\n",
              "      <td>4</td>\n",
              "    </tr>\n",
              "    <tr>\n",
              "      <th>4</th>\n",
              "      <td>4601</td>\n",
              "      <td>Evit000</td>\n",
              "      <td>Cu000</td>\n",
              "      <td>1</td>\n",
              "      <td>26.5</td>\n",
              "      <td>49.09998</td>\n",
              "      <td>45.200001</td>\n",
              "      <td>5</td>\n",
              "    </tr>\n",
              "  </tbody>\n",
              "</table>\n",
              "</div>"
            ],
            "text/plain": [
              "    Pig     Evit     Cu  Litter  Start    Weight       Feed  Time\n",
              "0  4601  Evit000  Cu000       1   26.5  26.50000        NaN     1\n",
              "1  4601  Evit000  Cu000       1   26.5  27.59999   5.200005     2\n",
              "2  4601  Evit000  Cu000       1   26.5  36.50000  17.600000     3\n",
              "3  4601  Evit000  Cu000       1   26.5  40.29999  28.500000     4\n",
              "4  4601  Evit000  Cu000       1   26.5  49.09998  45.200001     5"
            ]
          },
          "metadata": {
            "tags": []
          },
          "execution_count": 16
        }
      ]
    },
    {
      "cell_type": "code",
      "metadata": {
        "id": "fXdTiXiODxEw",
        "colab_type": "code",
        "colab": {
          "base_uri": "https://localhost:8080/",
          "height": 297
        },
        "outputId": "b5d992a8-28fd-45fe-b655-fdec7defdbcd"
      },
      "source": [
        "data.describe()"
      ],
      "execution_count": 17,
      "outputs": [
        {
          "output_type": "execute_result",
          "data": {
            "text/html": [
              "<div>\n",
              "<style scoped>\n",
              "    .dataframe tbody tr th:only-of-type {\n",
              "        vertical-align: middle;\n",
              "    }\n",
              "\n",
              "    .dataframe tbody tr th {\n",
              "        vertical-align: top;\n",
              "    }\n",
              "\n",
              "    .dataframe thead th {\n",
              "        text-align: right;\n",
              "    }\n",
              "</style>\n",
              "<table border=\"1\" class=\"dataframe\">\n",
              "  <thead>\n",
              "    <tr style=\"text-align: right;\">\n",
              "      <th></th>\n",
              "      <th>Pig</th>\n",
              "      <th>Litter</th>\n",
              "      <th>Start</th>\n",
              "      <th>Weight</th>\n",
              "      <th>Feed</th>\n",
              "      <th>Time</th>\n",
              "    </tr>\n",
              "  </thead>\n",
              "  <tbody>\n",
              "    <tr>\n",
              "      <th>count</th>\n",
              "      <td>861.000000</td>\n",
              "      <td>861.000000</td>\n",
              "      <td>861.000000</td>\n",
              "      <td>861.000000</td>\n",
              "      <td>789.000000</td>\n",
              "      <td>861.000000</td>\n",
              "    </tr>\n",
              "    <tr>\n",
              "      <th>mean</th>\n",
              "      <td>6238.319396</td>\n",
              "      <td>12.135889</td>\n",
              "      <td>25.672701</td>\n",
              "      <td>60.725769</td>\n",
              "      <td>80.728645</td>\n",
              "      <td>6.480836</td>\n",
              "    </tr>\n",
              "    <tr>\n",
              "      <th>std</th>\n",
              "      <td>1323.845928</td>\n",
              "      <td>7.427252</td>\n",
              "      <td>3.624336</td>\n",
              "      <td>24.978881</td>\n",
              "      <td>52.877736</td>\n",
              "      <td>3.444735</td>\n",
              "    </tr>\n",
              "    <tr>\n",
              "      <th>min</th>\n",
              "      <td>4601.000000</td>\n",
              "      <td>1.000000</td>\n",
              "      <td>15.000000</td>\n",
              "      <td>15.000000</td>\n",
              "      <td>3.300003</td>\n",
              "      <td>1.000000</td>\n",
              "    </tr>\n",
              "    <tr>\n",
              "      <th>25%</th>\n",
              "      <td>4857.000000</td>\n",
              "      <td>5.000000</td>\n",
              "      <td>23.799990</td>\n",
              "      <td>38.299990</td>\n",
              "      <td>32.800003</td>\n",
              "      <td>3.000000</td>\n",
              "    </tr>\n",
              "    <tr>\n",
              "      <th>50%</th>\n",
              "      <td>5866.000000</td>\n",
              "      <td>11.000000</td>\n",
              "      <td>25.700000</td>\n",
              "      <td>59.199980</td>\n",
              "      <td>74.499996</td>\n",
              "      <td>6.000000</td>\n",
              "    </tr>\n",
              "    <tr>\n",
              "      <th>75%</th>\n",
              "      <td>8050.000000</td>\n",
              "      <td>20.000000</td>\n",
              "      <td>27.299990</td>\n",
              "      <td>81.199950</td>\n",
              "      <td>123.000000</td>\n",
              "      <td>9.000000</td>\n",
              "    </tr>\n",
              "    <tr>\n",
              "      <th>max</th>\n",
              "      <td>8442.000000</td>\n",
              "      <td>24.000000</td>\n",
              "      <td>35.399990</td>\n",
              "      <td>117.000000</td>\n",
              "      <td>224.500000</td>\n",
              "      <td>12.000000</td>\n",
              "    </tr>\n",
              "  </tbody>\n",
              "</table>\n",
              "</div>"
            ],
            "text/plain": [
              "               Pig      Litter       Start      Weight        Feed        Time\n",
              "count   861.000000  861.000000  861.000000  861.000000  789.000000  861.000000\n",
              "mean   6238.319396   12.135889   25.672701   60.725769   80.728645    6.480836\n",
              "std    1323.845928    7.427252    3.624336   24.978881   52.877736    3.444735\n",
              "min    4601.000000    1.000000   15.000000   15.000000    3.300003    1.000000\n",
              "25%    4857.000000    5.000000   23.799990   38.299990   32.800003    3.000000\n",
              "50%    5866.000000   11.000000   25.700000   59.199980   74.499996    6.000000\n",
              "75%    8050.000000   20.000000   27.299990   81.199950  123.000000    9.000000\n",
              "max    8442.000000   24.000000   35.399990  117.000000  224.500000   12.000000"
            ]
          },
          "metadata": {
            "tags": []
          },
          "execution_count": 17
        }
      ]
    },
    {
      "cell_type": "code",
      "metadata": {
        "id": "Ty4R59S2DxEz",
        "colab_type": "code",
        "colab": {
          "base_uri": "https://localhost:8080/",
          "height": 231
        },
        "outputId": "9493f2ff-2b46-4bc7-9400-a2e6229dc86b"
      },
      "source": [
        "md = smf.mixedlm(\"Weight ~ Time\", data, groups=data[\"Pig\"]) \n",
        "mdf = md.fit() \n",
        "mdf.summary()"
      ],
      "execution_count": 18,
      "outputs": [
        {
          "output_type": "execute_result",
          "data": {
            "text/html": [
              "<table class=\"simpletable\">\n",
              "<tr>\n",
              "       <td>Model:</td>       <td>MixedLM</td> <td>Dependent Variable:</td>   <td>Weight</td>  \n",
              "</tr>\n",
              "<tr>\n",
              "  <td>No. Observations:</td>   <td>861</td>         <td>Method:</td>          <td>REML</td>   \n",
              "</tr>\n",
              "<tr>\n",
              "     <td>No. Groups:</td>      <td>72</td>          <td>Scale:</td>          <td>11.3669</td> \n",
              "</tr>\n",
              "<tr>\n",
              "  <td>Min. group size:</td>    <td>11</td>        <td>Likelihood:</td>     <td>-2404.7753</td>\n",
              "</tr>\n",
              "<tr>\n",
              "  <td>Max. group size:</td>    <td>12</td>        <td>Converged:</td>          <td>Yes</td>   \n",
              "</tr>\n",
              "<tr>\n",
              "  <td>Mean group size:</td>   <td>12.0</td>            <td></td>                <td></td>     \n",
              "</tr>\n",
              "</table>\n",
              "<table class=\"simpletable\">\n",
              "<tr>\n",
              "      <td></td>       <th>Coef.</th> <th>Std.Err.</th>    <th>z</th>    <th>P>|z|</th> <th>[0.025</th> <th>0.975]</th>\n",
              "</tr>\n",
              "<tr>\n",
              "  <th>Intercept</th> <td>15.724</td>   <td>0.788</td>  <td>19.952</td>  <td>0.000</td> <td>14.179</td> <td>17.268</td>\n",
              "</tr>\n",
              "<tr>\n",
              "  <th>Time</th>       <td>6.943</td>   <td>0.033</td>  <td>207.939</td> <td>0.000</td>  <td>6.877</td>  <td>7.008</td>\n",
              "</tr>\n",
              "<tr>\n",
              "  <th>Group Var</th> <td>40.394</td>   <td>2.149</td>     <td></td>       <td></td>       <td></td>       <td></td>   \n",
              "</tr>\n",
              "</table>"
            ],
            "text/plain": [
              "<class 'statsmodels.iolib.summary2.Summary'>\n",
              "\"\"\"\n",
              "         Mixed Linear Model Regression Results\n",
              "========================================================\n",
              "Model:            MixedLM Dependent Variable: Weight    \n",
              "No. Observations: 861     Method:             REML      \n",
              "No. Groups:       72      Scale:              11.3669   \n",
              "Min. group size:  11      Likelihood:         -2404.7753\n",
              "Max. group size:  12      Converged:          Yes       \n",
              "Mean group size:  12.0                                  \n",
              "--------------------------------------------------------\n",
              "             Coef.  Std.Err.    z    P>|z| [0.025 0.975]\n",
              "--------------------------------------------------------\n",
              "Intercept    15.724    0.788  19.952 0.000 14.179 17.268\n",
              "Time          6.943    0.033 207.939 0.000  6.877  7.008\n",
              "Group Var    40.394    2.149                            \n",
              "========================================================\n",
              "\n",
              "\"\"\""
            ]
          },
          "metadata": {
            "tags": []
          },
          "execution_count": 18
        }
      ]
    },
    {
      "cell_type": "code",
      "metadata": {
        "id": "18_tINUTDxE1",
        "colab_type": "code",
        "colab": {
          "base_uri": "https://localhost:8080/",
          "height": 231
        },
        "outputId": "661221bf-0e64-41d4-ebd0-40514785780b"
      },
      "source": [
        "md = sm.MixedLM.from_formula(\"Weight ~ Time\", data, groups=data[\"Pig\"]) \n",
        "mdf = md.fit() \n",
        "mdf.summary()"
      ],
      "execution_count": 19,
      "outputs": [
        {
          "output_type": "execute_result",
          "data": {
            "text/html": [
              "<table class=\"simpletable\">\n",
              "<tr>\n",
              "       <td>Model:</td>       <td>MixedLM</td> <td>Dependent Variable:</td>   <td>Weight</td>  \n",
              "</tr>\n",
              "<tr>\n",
              "  <td>No. Observations:</td>   <td>861</td>         <td>Method:</td>          <td>REML</td>   \n",
              "</tr>\n",
              "<tr>\n",
              "     <td>No. Groups:</td>      <td>72</td>          <td>Scale:</td>          <td>11.3669</td> \n",
              "</tr>\n",
              "<tr>\n",
              "  <td>Min. group size:</td>    <td>11</td>        <td>Likelihood:</td>     <td>-2404.7753</td>\n",
              "</tr>\n",
              "<tr>\n",
              "  <td>Max. group size:</td>    <td>12</td>        <td>Converged:</td>          <td>Yes</td>   \n",
              "</tr>\n",
              "<tr>\n",
              "  <td>Mean group size:</td>   <td>12.0</td>            <td></td>                <td></td>     \n",
              "</tr>\n",
              "</table>\n",
              "<table class=\"simpletable\">\n",
              "<tr>\n",
              "      <td></td>       <th>Coef.</th> <th>Std.Err.</th>    <th>z</th>    <th>P>|z|</th> <th>[0.025</th> <th>0.975]</th>\n",
              "</tr>\n",
              "<tr>\n",
              "  <th>Intercept</th> <td>15.724</td>   <td>0.788</td>  <td>19.952</td>  <td>0.000</td> <td>14.179</td> <td>17.268</td>\n",
              "</tr>\n",
              "<tr>\n",
              "  <th>Time</th>       <td>6.943</td>   <td>0.033</td>  <td>207.939</td> <td>0.000</td>  <td>6.877</td>  <td>7.008</td>\n",
              "</tr>\n",
              "<tr>\n",
              "  <th>Group Var</th> <td>40.394</td>   <td>2.149</td>     <td></td>       <td></td>       <td></td>       <td></td>   \n",
              "</tr>\n",
              "</table>"
            ],
            "text/plain": [
              "<class 'statsmodels.iolib.summary2.Summary'>\n",
              "\"\"\"\n",
              "         Mixed Linear Model Regression Results\n",
              "========================================================\n",
              "Model:            MixedLM Dependent Variable: Weight    \n",
              "No. Observations: 861     Method:             REML      \n",
              "No. Groups:       72      Scale:              11.3669   \n",
              "Min. group size:  11      Likelihood:         -2404.7753\n",
              "Max. group size:  12      Converged:          Yes       \n",
              "Mean group size:  12.0                                  \n",
              "--------------------------------------------------------\n",
              "             Coef.  Std.Err.    z    P>|z| [0.025 0.975]\n",
              "--------------------------------------------------------\n",
              "Intercept    15.724    0.788  19.952 0.000 14.179 17.268\n",
              "Time          6.943    0.033 207.939 0.000  6.877  7.008\n",
              "Group Var    40.394    2.149                            \n",
              "========================================================\n",
              "\n",
              "\"\"\""
            ]
          },
          "metadata": {
            "tags": []
          },
          "execution_count": 19
        }
      ]
    },
    {
      "cell_type": "markdown",
      "metadata": {
        "id": "azqsB8OkDxE3",
        "colab_type": "text"
      },
      "source": [
        "#### In Stata\n",
        "\n",
        "Now I'll confirm that I get the same calculation in Stata."
      ]
    },
    {
      "cell_type": "code",
      "metadata": {
        "id": "USEWVVC0DxE3",
        "colab_type": "code",
        "colab": {}
      },
      "source": [
        "#Save file as Stata file\n",
        "# data.to_stata('lme.dta')"
      ],
      "execution_count": 20,
      "outputs": []
    },
    {
      "cell_type": "markdown",
      "metadata": {
        "id": "XzcobnhXDxE5",
        "colab_type": "text"
      },
      "source": [
        "In Stata, call the following commands:\n",
        "\n",
        "    use \"C:\\Users\\Jeremy\\Documents\\GitRepositories\\Learn\\python\\statistics-and-data-analysis\\General\\fixed-and-random-effects\\lme.dta\", clear\n",
        "    \n",
        "    xtreg Weight Time, i(Pig)\n",
        "    \n",
        "This produces the following output:\n",
        "\n",
        "```\n",
        "Random-effects GLS regression                   Number of obs     =        861\n",
        "Group variable: Pig                             Number of groups  =         72\n",
        "\n",
        "R-sq:                                           Obs per group:\n",
        "     within  = 0.9821                                         min =         11\n",
        "     between = 0.0370                                         avg =       12.0\n",
        "     overall = 0.9177                                         max =         12\n",
        "\n",
        "                                                Wald chi2(1)      =   43261.79\n",
        "corr(u_i, X)   = 0 (assumed)                    Prob > chi2       =     0.0000\n",
        "\n",
        "------------------------------------------------------------------------------\n",
        "      Weight |      Coef.   Std. Err.      z    P>|z|     [95% Conf. Interval]\n",
        "-------------+----------------------------------------------------------------\n",
        "        Time |   6.942504   .0333783   207.99   0.000     6.877084    7.007925\n",
        "       _cons |   15.72353   .7902282    19.90   0.000     14.17471    17.27234\n",
        "-------------+----------------------------------------------------------------\n",
        "     sigma_u |  6.3769509\n",
        "     sigma_e |  3.3714948\n",
        "         rho |  .78154074   (fraction of variance due to u_i)\n",
        "------------------------------------------------------------------------------\n",
        "```"
      ]
    },
    {
      "cell_type": "markdown",
      "metadata": {
        "id": "Wltjg_WxDxE6",
        "colab_type": "text"
      },
      "source": [
        "#### With `plm` in R\n",
        "\n",
        "Some information on how to do this in R: https://dss.princeton.edu/training/Panel101R.pdf"
      ]
    },
    {
      "cell_type": "code",
      "metadata": {
        "id": "xMC1AWFSDxE7",
        "colab_type": "code",
        "colab": {}
      },
      "source": [
        "%%R\n",
        "library(foreign)\n",
        "library(plm)"
      ],
      "execution_count": 21,
      "outputs": []
    },
    {
      "cell_type": "code",
      "metadata": {
        "id": "GcdRg1rhDxE9",
        "colab_type": "code",
        "colab": {
          "base_uri": "https://localhost:8080/",
          "height": 391
        },
        "outputId": "2277eb0a-df90-45af-eedb-913f3ca617b0"
      },
      "source": [
        "%%R\n",
        "# df = read.dta('lme.dta')\n",
        "df = read.dta('https://github.com/jmbejara/comp-econ-sp19/blob/master/lectures/4-23_Panel_Data/lme.dta?raw=true')\n",
        "fixed = plm(Weight ~ Time, data=df, index=c('Pig'), model='within')\n",
        "summary(fixed)"
      ],
      "execution_count": 22,
      "outputs": [
        {
          "output_type": "stream",
          "text": [
            "Oneway (individual) effect Within Model\n",
            "\n",
            "Call:\n",
            "plm(formula = Weight ~ Time, data = df, model = \"within\", index = c(\"Pig\"))\n",
            "\n",
            "Unbalanced Panel: n = 72, T = 11-12, N = 861\n",
            "\n",
            "Residuals:\n",
            "    Min.  1st Qu.   Median  3rd Qu.     Max. \n",
            "-15.9401  -1.9190  -0.2842   1.6538  16.4499 \n",
            "\n",
            "Coefficients:\n",
            "     Estimate Std. Error t-value  Pr(>|t|)    \n",
            "Time 6.942398   0.033388  207.93 < 2.2e-16 ***\n",
            "---\n",
            "Signif. codes:  0 ‘***’ 0.001 ‘**’ 0.01 ‘*’ 0.05 ‘.’ 0.1 ‘ ’ 1\n",
            "\n",
            "Total Sum of Squares:    500420\n",
            "Residual Sum of Squares: 8957.2\n",
            "R-Squared:      0.9821\n",
            "Adj. R-Squared: 0.98047\n",
            "F-statistic: 43236.1 on 1 and 788 DF, p-value: < 2.22e-16\n"
          ],
          "name": "stdout"
        }
      ]
    },
    {
      "cell_type": "markdown",
      "metadata": {
        "id": "g4aj3iVbDxE_",
        "colab_type": "text"
      },
      "source": [
        "As you can see, the results are the same."
      ]
    },
    {
      "cell_type": "markdown",
      "metadata": {
        "id": "75CA4Hg3DxE_",
        "colab_type": "text"
      },
      "source": [
        "## Wooldridge Panel Data: Chapter 10\n",
        "\n",
        "\n",
        "I will replicate the examples that are found here: http://www.ats.ucla.edu/stat/stata/examples/eacspd/chapter10.htmb (Now here: https://stats.idre.ucla.edu/stata/examples/eacspd/econometric-analysis-of-cross-section-and-panel-data-by-jeffrey-m-wooldridgechapter-10-basic-linear-unobserved-effects-panel-data-models/) \n",
        "\n",
        "**jtrain1 data**\n",
        "\n",
        "This data comes from the paper \"Are Training Subsidies for Firms Effective? The Michigan Experience\", by Holzer, et al. 1993. \n",
        "\n",
        "Abstract:\n",
        "> This paper explores the effects of a state-financed training grant program for manufacturing firms in Michigan. Using a three-year panel of data from a unique survey of firms that applied for these grants, the authors estimate the effects of receipt of a grant on total hours of training in the firm and the product scrap rate. They find that receipt of these grants is associated with a large and significant, though one-time, increase in training hours, and with a more lasting reduction in scrap rates.\n",
        "\n",
        "\n",
        "### Random Effects Model\n",
        "\n",
        "#### Example 10.4 on page 261 using jtrain1.dta.\n",
        "\n",
        "\n",
        "> We now use the data in JTRAIN1.RAW to estimate the effect of job training grants on firm scrap rates, using a random e¤ects analysis. There are 54 firms that reported scrap rates for each of the years 1987, 1988, and 1989. Grants were not awarded in 1987. Some firms received grants in 1988, others received grants in 1989, and a firm could not receive a grant twice. Since there are firms in 1989 that received a grant only in 1988, it is important to allow the grant effect to persist one period. The estimated equation is\n",
        "\n",
        "\n"
      ]
    },
    {
      "cell_type": "markdown",
      "metadata": {
        "id": "KAJBdSwZNpp5",
        "colab_type": "text"
      },
      "source": [
        "![Example_10_4_Wooldridge_Panel.png](data:image/png;base64,iVBORw0KGgoAAAANSUhEUgAAA08AAAEeCAIAAADdEbk2AAAAAXNSR0IArs4c6QAAAARnQU1BAACxjwv8YQUAAAAJcEhZcwAADsMAAA7DAcdvqGQAAJQFSURBVHhe7f19TFRZ+/cL7l8m8yTPPHsmIZmZhD848YRTCZljxuNwzDwQT0eSA2lDAqaNIaghhbn7AOlfp7A7gnYETAvcact0d5Fu0fu2YlPRn4W3FbotbUubUsF7KLspu4sj9djlLdiglA0IyClJIRuWs/ZLVe3ar6uK4q24Pn/Jdtfaa13Xtdb67vW2qXcAAAAAAABA+gJqDwAAAAAAIJ0BtQcAAAAAAJDOgNoDAAAAAABIZ0DtAQAAAAAApDOg9gAAAAAAANIZUHsAAAAAAADpDKg9AAAAAACAdAbUHgAAAAAAQDoDag8AAAAAACCdAbUHAAAAAACQzoDaAwAAAAAASGfWk9pDoZcvQ0j4Yx2y+GZmlhH+DQAAAAAAsDEgU3soPPkkMBpaFP5cCZjn7tZPW3texqk95nl36+cXBl+vDwkYCtiO1FgH1rMgBdY5KDQ64HE7b/gmIYpWF7A8AACbGR21h8LjfnfHyYp8mtpnDYSFqykHTfWb95ef9cUJKSz1GstKj3xyMK/Kuk4EH5tP4yH7kwXh73UPM+yozs2sc88Kf0dBzEzAba0v3mMNLAmXZKBw4EabWcyF3uB6Ljpigh5bc62xosJoarV5xhQGYpmpwM22w7UNp5pN+0o+Ml97NM1IImt+wtdlrq0o3lW0r6rx7K1AysT9rNfWesJUnENRVIbJNSVcZUGhp3c6Wk0VZfvKKk3NlzzBeeE/RJDcs2Ywrwad39RXHcBGKzN9ft71eEZiVfTKe/FrIYji+Pqi91XkVgL3JccyLC/cYCzft+/D+rYbgRV9400S4nqq1hpg9137qtZo/LDqQ2NFTYP17vB6LCYAAMtCW+0hZvKJt/uM0UBTK6j2Fqd7T+aXX3y6IOohWKl3oJIdSFsMBRz1pSb70JzwX2sKmu1ryd/fPhgS/l7XzA3ZawwUJWnf2Q7Menxfbibu/KgidbWHRp01uew9ArSh5lowVdIn9eA+76Ixr+YiL8/Yjm23UTIQi172NH1Q2ublLiJmzFmbs6Wg8XYwJk3mg93NJYUfNpz6a0NVUTZb6u1Gmz91cT8/bDtAUQajYyTySCxxbjcW5Eeyuhga/M4ofb0huWftYK26m6YMu/Z9sCsbNxSYrHirvkNjjsoM7n8k0PutAb5eE7hvWSRhef6G7NzqC94JrAJxbJwsLPqqf3adKSHSeqrcGnDuK95a2zUS5hoC9HrQWpVn/G5wXQi+WV/7/mxq+yHHM9V3UgAAyCCYyUXD9nLc8a2U2mP1U16x2fta+JsFLQy5vrvzPPJyj5vdO99c9K0LufeOGXfWZpVaA2Jtuh7B3eelmpJd2+Xt+yLDIDTnad2KuwZVtYfeDp7bW3/taTDKy8nQOl61OPfQUrhla3NfJEjQnPd0Hl3c0heduFucch/PyTA5x6OlmAtY99NUbo1zlL8HBW+caP0pIlPY3r0Aq5e4nywP9MJZja1+wDYcHUN61duwk9rS4pmPhtNUb0MeXW6PqhKye9YKNOdrP3T06uA0N5jETAWuNbFGE1mVs3ON0XLbPypEEsfzR7YPM6P1SN99yyNxy6Pp+y0FWdSOk73TEd2D/mUrzSlqH3gr/K0LflP92buyo7CE9VStNcA/P1tEF1t8otfXub7mrdmlVv86GMYfd9fl4RqYb/mN2OYAAChDsm5v0l2H3x1XSO29HbEfythjG9pA725sa7iz3j2emn5ohQgPtJcf+cdNS5Fc7XEsBaz4v1TVHhp3HzVFxl3WPwtjjpoMamdD7yvhAoZ1E01H9QT/0hJfXjTurM6g6KKzg2/xPSj8zP9EPKSBRhyVOamM/Fl3XWa8zRmvGb9JZZu9sQ465DXvirtCcs+a8ep+24X44a7QYHsZ1nsxMboQ6PruwbS0tmCxVRSRFATuWyYJW/611/w+/u9y+7Do8dwNO9v9pMNe+P7iCseo8NdKQFhPVVuDcMC6TxrhS4+tRZmKjcbqg0JD9+8MTEiXWwAAkDBrrfYWHrUXGkpt/9pQtXnG07wro9q5fuUeu77wL5+4xhY5SZe42kMLAWvp1irLD3d9oxthG7Li8DN/MTJXyAs7aXm5jk09ttnIj2jB5YPe9DZlSQYqFn2W7VgavR8b2+ZGoWjx+w/JPWuF0j56nRcJHlbMlQhDSgTuWx4JW16IFvqQfUQ8qMS1hPTHzglCubfSao+snmq1Bsy405RBZRVaHsasvI7G9gAASBnLUHvMVKDnyplGk7HCWFVvsfcOKS2yWQwN37dbjlWxK69PtHf9PCTMNsyEuZu5jqG03a/SoIcHr7QerjT++0nr/+/P0N2/nrgmevdnWyrfLYfN2uG4H/doFBr19d64+N3dUdzZMMH+K5dvBOJXQU0M3Or8zmq/Pxx6PfLgVlfnbX+I75fmJwM/u69dunR/DOHEXf9htXbdH56VFWtp1n0sM+NT1xTpO/7qsjjb33boxN0JJPS7Cas9NO6uz8f/yWEoMJ11KxhhPcGP3GQec8+KC8PHrTA8o1xeYYIvt849KVwRM/eLOb90mZOJKPTHA9cVq/WyOzDaby6kqF3Nnhnh/1j4MSQqo+zC72yVWAz5vi3JkMxgktyzjuBMTec09KgPDnELCfLbfLyMJnBfEizD8otTrk/ZdYbbLT5xFRfeDaocQcI3oBVWe0T1VKc1QBM3aw00Re9u7OZXzswN2T/KM14M8A10UrADcl1XuvrFZsJN629e76PIwQ6LodFHHrfTbv3Bx7e9bHtrt135RbyIdjLg7XVd+c71JH4aFzGT/jvOTpvtH7d8kjUWJMkCwCYlSbWHQgO2mkON17jNd8JinayCekf8njVu5dPWY65xXFsXpvpOF7ITPLnFBysqDp3zzuHqtzBqr5S18hFmrlX9D//lv/x/D3//m6ezJve/UP/2nz/oFKo9mh1ymcsLPzrjGpxcwE3erpL2AS5zsz7rJweLc/Fz2M133B403BBuafYIa2eYP/utHxeWm52D43NB14lPqw/g1pubmlka7jr64d4d+JdU3vFr3dbqvfv4hOgy+Z4MNGwrpfIaesXb+9YLaPp+a+WXfdxioyTVHoOb2X6P23G+uaqAX3efvbfFHV1Gue4QyiINpJDPUhxd9COM1kgX4fGxvbXa+ULaG7DL1Q8fsj1OfoQDR+n1ltKCj864n4ZCv3fWFmRvoeXRLqwPo7IKGmzXrPUlBR+190m3o5Lcs25Ab31t+VS+5lKHGU9zYXSkjcR9ibFcyzNBRxUb9hWOIHcnjxBCau2VAius9gjqKUFrwEz0tLBLLenC2su9v1xtPXz67jK00WJo8GL1DtyqxmvlxUftOzME06Gx3nPmhoo89h627UVMsLulhN0xHRH3aM7fdfpk1S62TPFyn3nRY/mw0Ghx+Z8H/deai3eUmPuERQL6yQLApiYptceqqLy8lj7RiyS/4SuroIl9ieRBU931OXSscRHeRMXdwGtP806VGR/mxen8/xP1f/tf/861lUvexv8x439qecT+m+2GPzQYavhduksjVw/hd9NYu4zmPS1bqKxSm/fR2SOfHinPjFZ1dp/v7syyvz8SJCn3dIreZu6PaEFuKQ+1rcBo7mbXVvP9DZXV0PuGvyHKm96GLPwIjQno+aD3poOUH+7EjT4uA/Sy58THrZFRnyTVXgzEzDy+aT5gwHcaqmyB9bkTmZcX8m6YX5MUKb4wXSjePRC7GDe2x0wPe29a60rZWDAcMPe8SEZX8VGac8Q5xgeXICAkJ4BwzD21CTtWMyQ702OQ3LNOeDPYvjdDe72deBqX0H3kpMDyEbVXahNpBH5xoeSiNiu/bk9ApZ6StgbzE/1WXqLRhcvadIym//ll648vAh2lOCmjI7o1mH+0aPXL4oTzY5pte395E7zdVNnsHHo1gt/8qS1l9mfCLeiZvWyLuN9BoSfOBnEDzg0WUIXNnqhjCZIFgM1KEmpvIeg8bKDit3FhuFXVFL23fZCXRsKuT1Hjwq8RoUU770YdFdmSF+gIb4da/ud/o/7tP/1XM7c46dW18v+5nJ3IZSbcjTuoHKP9KdcHo4Uhe2VOcVPsWGa+kyj6oqPtk7MDYSbovf2Qe1XlFo/HDdTx5YoN0QkCKKPS9pTPoPIrPgunCzVXyYcCznbh9Ct9xKeOLQdm3HX8A/ODqApfttrj4LtPis6p755aj01mZH+xjlxYnO3/qhBHaEHTtcAU6zhmKtDdVsGeLhQXzOwxvN6fe53nG/ZtY71Pl5r7Ey13eMRhMlAFjb3Rdx8+M+ITQDCLoaFbX1eWVZ+53mOv38E+bNdRt+T0DJJ71hHsO15+teaLAeevra0ednQ/8icuVmrUXmosvzRk24PjQjwSvOC3lmLxkdAo0aqpPQ5pPSVvDRZD/qut5rZTFdtxuBuWcfwKCo2/DM1z7XxmkfVxxJ3zQ7aDdJzphLb3+LWbbTVfcUOP/JVCszeSuykXTiXWQKHJvpZimt5j8UWzz7fPtGgMkSBZANisJK72FJdUs/C3Rau00IiLzonglrvFtQIaag83uOb/+p/+Dbe4733z36KdAD9eSOWd5iaCFfnTZdpGZRRXVJ1yx9bVofDguRI6I8/8S2yF4NvfLPmRyQXu7xH7IZoS3yOoPYX2kZuYSLAfWmkQM+KoKT/jE7XUqVF7GL6ri/XQZHC6iYSB0WUdrCaURVkuiN8u5ie8lxr27cCSL3vXvqoG649XT7KrC9TKxQ0Gs51+Yjty0MLTi+UZ+K3BMRb9lVBrxCeAMJP97RU5pS093PImNONr28fOXOUcF8UtyT3xrJbNlUFT/adrm4QVYGrMeJoLRE4hd58uqbM8u7OhFLcGudXn74+8Do08uNqynxs5q3NNKBaOXTEmWDZGr820s9h8Q/grRnT5WqqJ1dMl4taAPWiwkrsThR7Za9kXouUIvkhHIFqNPfeLOQ8LN5EL+KGBjD0fHznZyR+kyl/Jaup9w3uO7yyi8/jsmaxYlMd5NvI+EHvr1k8WADYvias9YQxPslsNI2ud2TO0skS76rg3vLhNdlpqj+0VjvxP/2dcm//Tf20RDrjl3xHFelEGO8eKf7Mlbk8Zf5QGfdA2FG3x0YL/bKG4IxcW7ItVLHv+lmxUgEc752sC7kSLdlQcOyWMF7KcqtuHuyh6V9VJ/Me5XvGIUGJqj3eutD/WY/puA7+CR4fMHfW3o0MxSaCyoIrdOo2vyqIFMW/ecGvQ+fP24t8B4kHBazUGmoruJyBBWLEg3hMgBJvI2tyYtCEz7tHhgfaSLaJFhCT3yFgtmyvBTPRYjl7QOxKZbUAKxBsmEnSfOimzPAd6Hbj+TX2VsaLikOnIIW4NmaHcFlBZxznRa66ukLK/ODcre9de4a8YHza5nqfY9gLRejpF1hqwr4jVBtF5UsyIsxY3evG7dBOCb4FjVSY8Yq9iZ8BFLhDm7qncascwJ9SEKyIlyns/4kpBskscNOIw4gJF22eSZAFg85Ks2pPP5ApqTzxcz30Go2CLwXiub+hFMHCjsWR//CJiPc0U7jnyP/5fqOh8Lnu6KW5I1Pfw4kf623fi+p55RLxhVpiXiVtwIztPi98YyO3YEBDeFJUO1+WOb1gX553F4N2kTrywS1DtcbPwCYme1YQfplU8L0O6E1ME71+DyTEiGaUWwXczpFZiEbSLeLwQjbkOSw6J5ZeESgbImaCjGsdpJK5I7lk/LIYGr5y+pPv1C64DloxNJuc+GamzfDzC4B9tqLQPJbZicnVnclmi9XSCrDXgrBHfxAnzJ4kO5Augea95W+ydn/9iDTat2AXCmFyGsXNE2A7CXxGJufiJFxR0GHEadLV4N7Tg7tg7PEGyALCJSWImlx8Dk69f4RqO+POxUGjg0umO7j6309HldHuHZyQvxtysq0ztLf3+vbVnnP9nuK/2f/g3rPf+343/7W1kF4XGCQj895EkozX80t2Mne2PIj0MP7GLk4o2+vy8s2jHBv/pBWpLZLdvPGxOxOtF5HBFIyWnUmH4MAWozN2wJKj2sHNLNcbA1hp2ZwAtUQZ8h6HaafGHAEeHAVRgo31bIgsW+Rko8VpPdvlUXjbul8TZ495zZBNMXIBHR7NI7lknsF+7aWu7Q7CXEwdSicyeSbhPTgotL0b4pApd0NKjPIerweqrPa16qtQacG27dFSVa8mlFwmZ87eXxrY9LTyxf/Jp3Yc74lwgvLSLTzrkrojkPp/V6MYaoeGPa3D5TTOixcQEyQLAZiaJXRq8DKKkx9yzoyCGnMM3Yyucwn6bcbfySWYCb3yW92Uv1G+HWv7r/8P4Y+Ta0Df/y/+Vov77qp7ZSKWPfy8PB27fGY6oSF5jScYdcZu7i2J36fJbaHHP9FNLWT6bEjuS98p399EM4ho48aEq3ORO5CwuGewK4pwq55jw55oxP+H7qeuW6lnzqVJ7+HX/6J7WxHu7lUNScH56Lu5IWDRiL6fjJ/Rj8Ds2tut/iXWur3lbeSKfRRbWekY6KvZAimNftX0uDFTMBR94n7G1ZtZrLpRpDm5gJjZWQXLP6iMPOVyh7lkv9EmkHgo9/FvbPalKZjXce7LDWRJ1nyIptHwUXuolvY4ttWpPp7JjtOupUmvAL1aWNpi4MUzyu3y8wOLPImWedzcdafPeOyOcvfLm2YOBCRQZqBNNFAhXSm3Di+Pe27g1Fn3UOPT7/YFX/LnQceMC3FpAsQQnSJa/DACbFAK1J5wpKmoR+O1RlLiznB9z1uXHt4lc40Jn76qoaxatHmm/5PK+iCgo7nVcejb9xJUP/u//9t/V3OW/0r30v7ds/8//llnpmsN/cp+2pDIih78gZuJna9M37uiXKPklI7KmnJ+moUvM7qdPB2/9vb6+48G1z/CNW5rvDHe3/fXWGOLLGH2d5dZoZxSc5M5hUYCbL9aaUF4lprvr2C2l20yuP4Ur8airvcgaFwW1x+65zsk90OzwTbAuYELDd9tqP7Otk2/w8ygUnN2MmRM7P2LWZ/kgR3HqDb0Z7f2mIqeo1v4oXurNB3va64+2dUXjk53CO6K350ACP5OFXxw+d7947nd9W9/6E38gBVV2afDRpaZzD7mH8vomv9Y5Ek0chbxtJTuNNmGNKtk9q47U8oshv722eK9JXMfN5lMNH5XklsRGWQS4qFP+7jCx+1RJoeU5mLG+tkoDXWiySoUsMSlVe1LLJ1xPFVsDNPvAXLglp9Y5Fikje6XogyTP7hZa4DrHwP3LRz9i686Eswrnuszqufdt40Vs4UXu5GrxxK4wKJt9sqvv3Oen2efyL+0HbIGn3ae/vYUbYckuMW5uPb59JkkWADY12mpvMRS423mmlluhTBsqzA5vZA4VvQ50tZTlbi+u/cp29R82S0O95daQ5PWX+bP/bHXB7iL2jOI4YjKRW3shOab418b/13+iqP/83/2v/9vJtq8ay/8//8/M3ad/ExooNHGvlT0wE4vIvRX7SvfVX/HrbzqLHqOKySlp7AqEFoSz8un36x2PcU6405LZP+s6bns8P543fVDK3hZfnBjcC/F6WMTGjp5u1zgJT7l9DwXuOC40l3ETzbgzO3P5etStLKLzUentu3Z/UG3u8k2s1UiSCooFZ8/cttTUnrY7r109c6y65UZ8QDKh4BNfz9W2w3+pOtlxR+GrA/yZkZjM3H2fNJubG5ovKN2mR+RMb9wxl5nZg2qFtaT0zmrrz6KBGU4nFRQYT3131XHVfv7zioKyxi42GkWQ3LO6xFmeV07S6s2j9MU5dtBIdYOzjvsISI3l2U81uC9/UVlyoK7t++VFfkrVnjTmE66nKs0jYqZ99vp9xdWnbT84nZ1nGkwnrJ5kz+5eemLbs4XNUvSgSl7tYRfY+DZfvhyTF2qinwhqj84u+SLyJo/CgcvVOwy7TG12x3+0139Ybb4e3z6TJAsAmxqSmVx1cAcaGPD6ngRDCrUJhQYuNF0clMyE4p88spve+2vkLY1dFxV3yMLSf/tH++2XS2//fNBl+/vfrf948Kdk8In9MtoDz4NfA5MJNMQoNPLQ88AXPXWCmfA/6I+kwA/+ZZfbH48HvB7PQ52U2TxvF71EpiNMaPL56GhwfIYfYd04oPBMcHT0hfBlPhHs0ST+YZ0SLYVnxvHPny+z4Mxk4MGDh7EjTuYn/P2iP0XgXHnvOB3fu+7/Pqk2gERyz4aAdcFD7ZNfVN1HSAosH37uEzUUy2Ll1+2lrJ4inNLokyfDwaRNz4O1cuCBB9svKsXUXRCFbY19I7GfIGbi8YMHAWm0c0l7+onPr5EmCwCbmuWpPQ3Ys8r27pfu5OBAw52fR3cloDnv6TyN88NWA/5VUrJNTxV2RVFmjWOMeEERAACbkTc+S0Wdm99wBgAAsJaskNrjl4XRObVdI5KXTmYq4LxwySdaMsuekvB+5NsYa4H87BUtXnvNpckfRgUAAAAAALC6rNjYXvj3q+yx7BSdu+fjhi8s1ssOu9Vy6ni1seGy71W8sOPOZMqv1Tr2bAVZnHIdwWJP4WO4CrBHt5SWfis+oR4AAAAAAGA9s2JqD4Pmgl7XxfbWuipjhdHU8LXV0ft4Unl9yWJosKOmpmMZn+tJilmPxVgsbCKhc4sPHrH5NSQfYtgvbf9VbaMuAAAAAADAOmQl1V5isF/m/srJfjJjvTLru3ghdtoLAAAAAADARmD9qD0AAAAAAAAg9YDaAwAAAAAASGdA7QEAAAAAAKQzoPYAAAAAAADSGVB7AAAAAAAA6QyovY0GCr18mZLPOiXN4puZ2TU4CnvtC45Zo7KvLZs25NYcsDwAACkC1N6Ggnnubv20teflmnYAoYDtSI2V/8b5arEuCo5Zi7KvLZs25NYcsDwAAKkD1N7GAU31m/eXn/XptLzMq0HnN/VVB4p3FZWZPj/vejyj8Sl9ZthRnZtZ554V/o4yP+HrMtdW4ET2VTWevRWIeyibE+Mh+5NV+lQwYcFZEDMTcFvri/dYA8onNyIm6LE11xorKoymVptnTDpuwUwFbrYdrm041WzaV/KR+dqjaYn1Vrnsa0sqLa8ZURjtuN1UZsckYPkIqnVZ1zUY9Xs2m+UBIE0BtbdRWJzuPZlffvHpgmbzj172NO2mKcOufR/syuY/EpJV0Hg7qCz45obsNQaKkvUQ88Hu5pLCDxtO/bWhqiibTWS70eYXf9gOzfa15O9vHwwJf68gZAXHWQo9vWM9vi83k81vkWLHhsKBi8a8mou80mB7x91G8bgFa70PStu83BXug345W+TWW8Wyry0ptLxeRBHE7aYxO4bU8iKU6zKBa/Tv2UyWB4C0BdTexoBtcPOKzd7Xwt/KoDlf+6GjVwenufdwZipwramA7Tpza5yjsn4DS59LNSW7tst7iOCNE60/RTpa3E+fZBPJMDnHxQNhzLizNqvUGkigQ0oGsoJzLDIMQnOe1q1qHdvcQ0vhlq3NfXPC32jOezqPLm7pm+TKsDjlPp4TV8y5gHU/rWC9VSr72pJCy+tFFGHcbgqzYxKwvIBqXdavFBj9ezaL5QEgjQG1tyF4O2I/lLHHpvdduVf32y70z4q/NRwabC/D/SZdbh+RNNThgfbyI/+4aSmS9hAo/Mz/RPzBYjTiqMyhqH3WgHh0D2uhvuatO+vd4yvZAxAWPMZSwIpLpNRpLYw5ajKonQ29r4QLGLYINM13Y2jYXp4t+SEad1ZnUHTR2cG38aVcjbKvLSm0vG5EEcdt+psdk7Dl1euygLprYujcsyksDwDpDKi9jcDCo/ZCQ6ntXzpNrdIOPuVGnF2L85dPXGOL3P8q9hAiJt11uQqK592Mp3lXRrVzBXsAwoKLUO20eDEn0az8RXq/NTDHCzvpD5ceW4syFZTuKpR9bUmh5RWIjyjyuE17s2MStTxBXSZxjd49m8DyAJDWgNrbAHANcWm7PzIDmQjcb+mchh5RH7A429926MTdCSQ08Tpqb+4Xc35pZLpTzNKs+1hmxqeuKfGoTCpJouCqndasuw7Ltsxj7lnxf7Cyg6Kyy+3DfGcp/SF64azeSlG5de5J4YrAipd9bUml5eWoRlQMLjVJ3GLS3OyYBC1PVJdJXKN3T/pbHgDSG1B765+FUXulTKYQgt762vKpfPEUDJq+31r5Zd8022pr9BAC6PWg9fAh22PFHXlo2FZK5TX0Tgl/p5hkCq7WaQnXpamFfJZiisrIt/w2z4/tSZcn8nJwa7XzhUSarHDZ15ZUWl6KZkRFUIhbnrQ2OyYxyxPWZRLX6N6T7pYHgDQH1N7657Wnead+J6rMm8H2vRni5dXoZc+Jj1sjwyoaPcQ7ZnrYe9NaV8ruoDQcMPe8kB5WgnnT25CVldB8XyIkU3CVTotXD3K1Fw5Y97GXsQWEqd74nQGRi7KxvZUu+9qSQsuLIIkoAVncRklns2MSsTxxXdZ3Dck9aW55AEhzQO2tf0YdFdlUhSMo/JkAaKq7Pr/aFogencCMu45/YH4wG2mwNXoIFBod8P7c6zzfsG8b7gUoutTcPyVt6BmvOZvKNnvVu+3lkEzBVTqtyJZDDbXHTop9VUhTdEHTtcAUWyJmKtDdVmGgKarY4pMdP7GyZV9bUmj5GEQRxSGLWxHpbHYMueUTqMv6So7knjS3PACkOaD21j/Jqj001X+6tqn7eaR1RsyIo6b8jE+0O1Kjh4jBPO9u3M2emCFfo734qH1nhs7PkyeVmkO4rqz26MixLPMT3ksN+3ZgyZe9a19Vg/XHqyex/qO2tnrmZLJkZcu+tqyI2ouhEVEYadzGk85mxxBaPrG6TOIa/XvS3PIAkOaA2lv/JKf2mIkey9EL4k8ezXiai3ZUHDtljnGqbp8Bi51dVSfxH+d6g/KulwMFr9UYaCq/zSfdlpusEiUilZpD2HIrVXvsTkN8tcj6WHQVMW/ehNmC8uftZeSZf1FaM7+iZV9bUml5RdQjSh63EtLY7BjC0iVWl1Oj9tLc8gCQ5oDaW/8k0cguhgavnL4k6TL5DQfqaDT0SmfRsSz6LNvpjTCT++7d298s+RkUfcg+8la4wsLbZFezZ0a4IIY7jY8ymBwjkuNXOFa27GtLSi2viHJEKcZtPOlsdgyh5ROry6lRe2lueQBIc0DtrX/+dJm2JdL1IiZ4p63tjsrX0uLgm3j92Rn2IJJtOfXd0mVW7FIeervFtzKnMiRacBb1Totd+E9LhB0vARUnaoUDfnOrHcPK3dvKln1tSa3llVCIKLK4TWezY5KxPI9GXSZxjf49aW55AEhzQO2tf974LO+rrI6en/D91HVrYCLWQeIu8571Qp+ky0Shh39ruydfEq/RQ8Qx19e8rVzhQ5lTLlNGTpVzTPgzxSRUcAH1TgstDNkrDdmlVn/07A80Yi+nt4ivROB3bGyP+4quhJUt+9qSWssrIY0o4rhNZ7NjkrE8j0ZdJnGN/j1pbnkASHNA7a1/uHNN6Y+dE7KX6unuOnbH6DaT60/u78WQ315bvNfULF7PYz7V8FFJboniZzeVeoj5YE97/dG2Lu8Lbu0a7nJnfG1HFFfNL/rbdyZ77DMB5AWPEjlpRbnTCo84TDmFX0U+0jXrs3yQU2kfkhzzgd6M9n5TkVNUa3+kMaW4wmVfW1Jred2ISiBu09rsmCQsL6Cu9rQrBY/+PelueQBIc0DtbQC4HQZK55qG/TbjdspQxZ1VwY9d4f5AAaXvnrEo9RBzQ/YaA/ujzNx9nzSbmxuaL9wZjp7zIIb9oCetsNA+ZZAVXACFAnccF5rL+NM9Ck1nLl/3BqUKFc0OuSw1taftzmtXzxyrbrkxFNvVyISCT3w9V9sO/6XqZIdKkaOseNnXlpRaXjuiEorbNDc7JiHLi1FUeySVgqjibALLA0B6A2pvI8AtcoqcErIKLIVnxoOjo8+D4zNh1dEALlfb8y2/iXc9pJiVKTgKz+DSvZgRRpoE2OPg/MPaRY6yCmVfW1JsebKI0iXtzY5ZmZhfLpvB8gCQ1oDa2xCgOe/pvJzj7vX0kUp20VtmjWNM8wtYy2U9FhyzKmVfWzZtyK05YHkAAFIPqL0NAhpzHX7faH8qm2FZK157zaWFlocrPgKx7gqOWa2yry2bNuTWHLA8AACpBtTeRgExY87a/Frls99WGxQePFda+q34KP8VY10VHLOaZV9bNm3IrTlgeQAAUgyovQ3EYmiwo6amY3CNm13EBG83Vf61OzgvXFhx1knBMatf9rVl04bcmgOWBwAglYDa21gshvxXv3IOLWOh+/KZ9V284F7t1n89FByzJmVfWzZtyK05YHkAAFIGqD0AAAAAAIB0BtQeAAAAAABAOgNqDwAAAAAAIJ0BtQcAAAAAAJDOgNoDAAAAAABIZ0DtAQAAAAAApDOg9gAAAAAAANIZUHsAAAAAAADpDKg9AAAAAACAdAbUHgAAAAAAQDoDag8AAAAAACCdAbUHAAAAAACQzoDaAwAAAAAASGdA7QEAAAAAAKQzoPYAAAAAAADSGVB7AAAAAAAA6QyoPQAAAAAAgHQG1B4AAAAAAEA6A2oPAAAAAAAgnQG1BwAAAAAAkM6A2gMAAAAAAEhnQO0BAAAAAACkM6D2AAAAAAAA0hlQewAAAAAAAOkMqD0AAAAAAIB0BtQeAAAAAABAOgNqD1CCeTXo/Ka+6kDxrqIy0+fnXY9nGCT8VwzEzATc1vriPdbAknApHhQO3Ggzi7nQG1wQ/hNIGfMTvi5zbQV21r6qxrO3AiGJr9Ar78WvBQ/E8fVF7yv2Xt0bAAAAgI0MqD1ABnrZ07Sbpgy79n2wK5umWLIKGm8HRYIPhZ7esR7fl5vJ/meRitpDo86aXO7nPLSh5loQtEOKmQ92N5cUfthw6q8NVUXZrJ23G23+sPC/LGjMUZnBeUACvd8amCO5AQAAANjQgNoDJKA5X/uho1cHp7lBOGYqcK2pgJV8uTXO0ZhUW2QYhOY8rVvx/yirPfR28Nze+mtPg1FeToYY4T+BFIGCN060/hQR4lj5nWSdlWFyjkdNPRew1hgtt/2jghs4nj+yfZhZag0s4B/q3gAAAABsbEDtARJe3W+70D+7KPzFEhpsL8MSgi63j8R3/UsBa5Ga2kPj7qOmNB0ZWgz5zhw0988Lf64hKPzM/yQkchYacVTmUNQ+ayAyurcQ6PruwbRUs73qbSgqtfpZRa97w4Zn/fgLAABgbQC1B8SDQi9fStd9qak6dbWHFgLW0q1Vlh/u+kZn02tADzHB240Fuxp6p4QL64tJd10uXXR28K3mmNxcX/PWEosvJPwpR/eGDcM69xcAAMBqAGoP0IdTdXROQ8+scEFAVe2hcXd9Pv4fDkOB6ax7eFZTfSQGCv3xwPW9w9k3PB303freccs/E0kdhUZ9vTcufnd3FGeJCfZfuXwj8Fr0aMRMDNzq/M5qvz8cej3y4FZX521/iM/9Ymj0kcfttFt/8PFXmHGfy2678kt0wSJ+rudqa5mBpuj9lu5fBkalsnjtmfvFnF/a0jepmTFuCj6/zaeqCHVvSAzwFwAAwNoCag/QBb31teVT+fXucUlnqar2mMmAt9/jdpxvrirg93lk721xP0/FIN98sOdrY/mJTt+fcxP/bKt+fztFZda5ORk667N+crA4l1u35ppihh3V7B6RLc0eYQqP+bPf+nFhudk5OD4XdJ34tPpAJkXtbPcv4iKO9Z4zN1TksVllryAm2N1SksP+SWWX24fZgqNxj/XLL0zFGTj9YtMXZovdN8MnvF5Arwethw/ZHutNv854mgvzLb+9Ff6Uo3sDOeAvAACAtQfUHqDLm8H2vRlKC/bVZ3KjIGbm8U3zAQO+zVBlCyxzZpDbhZDX6J7gdWPIa95FUVmltn9FcobmPS1b2CveR2ePfHqkPDPa9zPPuxt3Z5b9/ZGwyu21p3knRdHbYsu5FiecH9PslV/eBG83VTY7h16N2Cux/CizP4uk/3bEfoiOprl+YKaHvTetdaXsnlzDAXPPCy1hvXrTuBvcXyj0/Nmr9FqHAADAJgXUHqADmuquz69WFGoEao+DHXP60EDROfXdU8mrJBQePFdCi4cYefVQaPZGZ5jDAes+nKEvOto+OTsQZoLe2w+5eT1uowld1j4YLQW7vo2i8kTLuYQrx6/dbKv5qm8aiwz+iih99MJZvTVuD8T6AIVGB7w/9zrPN+zbhh1C0aXmfjVLc7O0W1s9c2qe0L2BkI3sLzQ7fMdaV5xDVTiCwiUAAIANDKi9dQ/Xk5OwIsuS0FT/6dqmbuVJWFK1h1nwW0u3UMvREOGB9pIttHiIET2zl22hMj51TfHDP5g/XaZtVEZxRdUpd+wiLzsy8sy/xHYIv/3Nkp9BZR5zz0ayzg5o0VTGno+PnOwc4m7kr2Q19b6JPHHWXRedTFRjbf3FDYmxc6PVTum8u8CMp7lga3Of+mZp3RvI2Cj+UgKFnj303vq6OAvUHgAA6QGovXXP9N2GHdwhxjpk7qi/PZFi+cBM9FiOXhhQUyUJqD1+FEfcWyfG4pTrSGyaj4fvy8VPf9PbkIUztCXu6BD+UBL6oG0oegQHWvCfLYyTRPzaRExutWOYk7bClcgiM/bKm96mrLjJRCXW0l8sKHitxkBTanssWElU0OxRX8GmewMRG8dfqow6KrJB7QEAkB6A2gPUWAwNXjl9SVXqYRJRe8y405SR9DZPYUrugG042nEvjDlqMigqq6H3jXDl3aK/fSero46IRo/eLQ3Z9tAUVWoT6Y7XXvP7seX8LPyUIpVh7BwRdnTyV7ZWO19E7pn1mrHkEE8mrkvQsL08W8UpnCTKOS4aSJOgewMZ6eAvUHsAAKQPoPYARRATvNPWdid6mIUiiai9kM9SGjc3lxCM15xNUVtaPPNCftBsX0seFg85Vc4x/sq7d/PDtgNYAMQ/hV/Ln7Gz/VFEUPAThTjfouVc6F+20iyKet/sfR13hT5kH4nsTF181L4zfjJxfcIqrW0qSySxF0o0V0/q3kBGOvgL1B4AAOkDqL1NzvyE76euWwMTcaoOS7171gt9EqmHQg//1nZPrAPI1R6a6j66p7VH2JuZOPyUX1Q9oJc9X3xq/MBAUaXt/qhU4BaBUcXxm0kl+0Bx0X5qKctn966yy7le+e4+mkHvUNBhxHpCNPQoXCm1DS+Oe2+z9/CF5SYTmcmBgdG1+aSYor/imetr3lYu2t8ggl399p78JJ0YujcQkg7+ArUHAED6AGpvczPdXWfAneQ2k+tP4cq7xZDfXlu819R8yiziVMNHJbklsaEUlsjaKanaWwg6D+fkHmh2+CbC+D+Y0PDdttrPbIPiU3MThB+nofJMtntez4/n6xsvDPSdL8qMW5LPKwzxFRYm6KjGJaRLzO6nTwdv/b2+vuPBtc9YKdJ8Z7i77a+3xhC7yOzTDCpDdMLc0qz7WCZFZZ/s6jv3+Wn2sGJ+zAmrkN9nBy81nXu4Ngf1Sv01H+xprz/a1uV9Eebzg2Z8bUdUdtVw/or7hK4E3RuIWb/+mg96bzrUuO4VveGA2gMAIH0Atbe5Cfttxu2ik/DQwpC9ktUTCoi/x4VCgTuOC81l/HkfhaYzl9mOkv8/dsHfxWp+pwK9fdfuD6rNXb6JpBbKxwiPOEzsoX0UnV38Waf/NZpwVuFsltlHI70zP5YjWqQvgKbvtxRgtYDJKWnsCoQWOK2AU3q/3vGYEwH8yR27RFsTeD0hPrtOuEJn76ww39We4F5BpP6aG7LXcGbJzN33SbO5uaH5wh3Vz5aEfJZi9b26GN0byFm3/tJUe133hwXVjAG1BwBA+gBqD1gZmNDk89HR4PgMO7yXEtgvZUWOLeG3W2YWWR+TpI5CIw89D3zRE0+YCf+D/sCkpgBl7/GNCEf7cqDZZ96fY4msF5bCM+PB0dHnuqZmj4Z5qHXsi+4NibHR/QVqDwCA9AHUHrABQJP9l85e88f6cnYUKv6QDmAdkRb+4tSeaDASAABg4wJqD1j/8Guwsisco9yfiBlz1uZkl7QPrK8vWgACG99f4eFe+6kKA01llDX/h8s3ueyFjAAAAGsKqD1gA4Am7jYVGArbHy28WwwNucxlhWVruHgO0AP8BQAAsK4AtQdsCBAz4btubWO3B7d3uv1JH+UCrA7gLwAAgHUEqD0AAAAAAIB0BtQeAAAAAABAOgNqDwAAAAAAIJ0BtQcAAAAAAJDOgNoDAAAAAABIZ0DtAQAAAAAApDOg9jYlKPTyZao+kJUci29mZuFUDiLW3lkY8BcAAMAGBtTe5oN57m79tLXn5ZoKiFDAdqTGOrDmKma9sy6chQF/AQAAbGBA7W0y0FS/eX/5WR9Bt42YmYDbWl+8xxrQ/pQ9M+yozs2sc88Kf3MwrwavfVVrNH5Y9aGxoqbBendY/MV6DJsT4yH7kwXhb0AGobOwqZ3f1FcdKN5VVGb6/Lzr8YzCVysQE/TYmmuNFRVGU6vNM6Y0UIfCgRvcgchRLvQGI/4BfwEAAGxYQO1tKhane0/ml198uqCj9VDo6R3r8X25mRSmSFvtzQ3ZawwUFaf20MuepuKttV0jYe6X6PWgtSrP+N1gvOBDs30t+fvbB0PC30AcZM5iTb2bpgy79n2wK5tm/UVlFTTejv9MGZZxF415NRcDnG5k1fluo3ygDo06a3K5FHhoQ821oOge8BcAAMAGBdTeJoLtrfOKzd7Xwt8aLDIMQnOe1q2409dSe1hGXKop2bU9Tu2ht4Nni+hii08kC+b6mrdml1r98SNDzLizNqvUGtBTn5sQMmehOV/7oaNXB6c5uzJTgWtNBazky61xjsZsOvfQUrhla3PfnPA3mvOezqOLW/omxVru7eC5vfXXngajvJwMSUYAwV8AAAAbElB7m4e3I/ZDGXtsQ9rTsiKWAtYibbUXHmgvP/KPmxZ8m0jthQPWfRS1zxoICxcwS4+tRZnS2V4MqwJ31rvHQT7EQ+isV/fbLvTPikdMQ4PtZVjv0eX2EcGmC2OOmgxqZ0PvK/5vFtbsNC3WbWjcfdRkDUQEoRrgLwAAgA0IqL1Nw8Kj9kJDqe1f5P20jtpjF3L95RPX2CJ3m0jJMeNOUwaVVWh5GNMOymN7mBlP866MaifIhzgInaW0XVfqNTRsL8+Wim/+Ir0/Iu/QQsBaurXK8sNd36j23lvwFwAAwMYD1N5mgRMBpe1+vcEbEZpqb3G2v+3QibsTSLhNPG6HJm7WGmiK3t3Y/ZyTDnND9o/yjBcDYblGWJp1H8vM+NQ1Fb+HY3OThLOicL+lcxp6BHfMuusysXuOuWfFXpx01+VSVHa5fZh1CRp31+djV3MYCkxn3cOzKnIO/AUAALDxALW3SVgYtVfKunwdNNQemr7fWvll3zTb5cvV3rt3zERPC7uAjC6svdz7y9XWw6fvxu8biIGGbaVUXkPvlPA3kJSzIqC3vrZ8Kj862So4UZpayGcppqiMfMtvb/FfzGTA2+9xO843VxXwWz2y97a4eaUuBfwFAACw4QC1t0l47WneqbUCTwlVtYde9pz4uDWyxl9J7WHmJ/qt1TvYXb104Vfxa8viedPbkJWV0BRzupOMsyK8GWzfmxFbkMeLP7na49dWyr2GmJnHN80HDPj/DFW2gNL2W/AXAADARgPU3iZh1FGRTVU4gsKfRKioPWbcdfwD84PoVJ+K2lsM+a+2mttOVWxnz/KQHb8Sg/Gas6lss1dzudimIhln8aCp7vr8apFKi2ysJlV7HOyJOR8aKDqnvntKrunAXwAAABsNUHubhFSpPcSMOGrKz/hE0k1J7S2GBr+r5G5DoUf22kJaQ/AtPmrfmaEsOzYpyao9NNV/urZJWCspIDhRWe3RomNZ4lnwW0u3UFtbPXMyuQf+AgAA2GiA2tskpErtzXiai3ZUHDslfGuB5VTdPgMWDruqTuI/zvUGEasIqw2iczqYEWdtHiXZpRsj+aGsNCU5gzATPZajF6RnJqNxZ3WGXO2xW2vx1SLrY/FVEZwclP6KB/wFAACwwQC1t0lIldrj93Kqw97M7QDIMDnHY2NM7AxjDq0yVuSzbKdhZlBEEs5aDA1eOX1J6Tu2b3+z5GdQ9CH7CLsfIwLvx13NnhnhghTuGJ38Nt9b8BcAAMCGB9TeJuFPl2lbKtSeArKZXE5JSIeFOAmoOFbErgOjt1t86vs4NhuJOgsxwTttbXdUdj2z+zZoibDjJaCi+BbA/irNM/+iMBYL/gIAANhogNrbJLzxWd5XWlo/P+H7qevWwISSUEhW7bHfgaCp+C+ncWpP9IEHEVMuU0ZOlXNM+BNQdRZG7i8s9e5ZL/RJpB4KPfxb2z1ujwVaGLJXGuKOtkYj9nJ6i9Jh1wJoqvvontaeCaXxO/AXAADARgPU3iaBOxSX/tg5ET8iM91dZ6ApapvJ9adwJUbk8I6E1d47NPvAXLglp9Y5FpEg7JWiD+I/zCqw6G/fmexJwmmKirMwUn8thvz22uK9pmbxQkrzqYaPSnJLRN/YDY84TDmxc3BmfZYPcirtQ8IpLQtB5+Gc3APNDt9EGHuaCQ3fbav9zDb4Wu4sDPgLAABgwwFqb7PArdaXHYob9tuM2+Unq6FQ4I7jQnPZNnYpHl1oOnP5ujeotk5LrvZwAsy0z16/r7j6tO0Hp7PzTIPphNUzppQCNxCouD5sE6PsLEycv/hBO+4wZBl00dlBsUnR7JDLUlN72u68dvXMseqWG0Ox/dGLocGL/MmIFL191+4Pqs1dvol54T+lgL8AAAA2HqD2Ng3ohbN6m+qJGysCYkKTo0+eDAdnFD6ZxsPmarvwRQcgyso4C4VngqOjLxS9gV31fHQ0OD7DDu+pA/4CAADYgIDa2zygOe/pvJzj7vX0hVN2AVlmjWNMbf3YpmU9OgsD/gIAANiIgNrbTKAx1+H3jfananOyq85rr7lU5RC+Tc+6cxYG/AUAALAhAbW3qUDMmLM2v9YxEhYurCUoPHiutPRb8Wc5ABHrylkY8BcAAMBGBdTeZmMxNNhRU9Oh+tXaVQIxwdtNlX/tDqrtBgAw68RZGPAXAADABgbU3iZkMeS/+pVzSHM1/koz67t4wQ3SQZ/14CwM+AsAAGADA2oPAAAAAAAgnQG1BwAAAAAAkM6A2gMAAAAAAEhnQO0BAAAAAACkM6D2AAAAAAAA0hlQewAAAAAAAOkMqD0AAAAAAIB0BtQeAAAAAABAOgNqDwAAAAAAIJ0BtQcAAAAAAJDOgNoDAAAAAABIZ0DtAQAAAAAApDOg9gAAAAAAANIZUHsAAAAAAADpDKg9AAAAAACAdAbUHgAAAAAAQDoDag8AAAAAACCdAbUHAAAAAACQzoDaAwAAAAAASGdA7QEAAAAAAKQzoPYAAAAAAADSGVB7AAAAAAAA6QyoPQAAAAAAgHQG1B4AAAAAAEA6swJqD80F/f7R0KLwZ6pA4ckngdQnm3qWwsEnTybnhb9WlPVpEzZXA17vr/7RWUa4tGFZoWBOgs1ereQshkZ8DwaCYST8DZCh20BtFMOmJJ8rUFh5nVrxWrZyLtNIeSk8/Yffi/E/m173wbIKrJ/OQgVttYfm/F2nzSScPtc7hluRgVvW4/t20NQ+ayAspLFsUHjc7+44WZGf2mRTD3a29/rZ4+W5dG6de1K4uDKsV5sgZuJna9MX1qv/6Gjeb6CyCup/GNqY7QBamWBOghXKyYapVmrM9TVvpSl6b/vgG+EKoA1hA7VRDJuSfKa0sPI6tUq1bOVcppIyCv3LZWlqsd32eH48byqk6Z1VZx9MblbFt/KdBQoHbrQJWovnQm9wQfhPYrTV3tKs+1imYX/z5dseVsJjfmqvyKEweQ2OX/grP/c6z5h2ZedbvFOjj7w956sMNJXKMiNm8om3+4wxxcmmHhQaHei/aSkzUNRKq731apOw32bc09D7iv03M+yozqWoXc2eGe7/NhaLoRUJ5iRYoZxsmGqlCvPcbf7YWHu+f3ojDkyuAaQN1EYxbErymcrCyuvUatWylXOZYsoLT+yV+YWWh3PcX2j2gbkwa8M29ctn5TsLNOqswZ1pFNpQcy2YuLbWVXunjrjGRMlOuuu4pxZZA0vCJZyX8OC5D+rds/ifS4+tRZmpLzMatpdnb4RuKRyw7lt5tcex7mzCTLjqDKL8oNCI98HjSWbDvvGtUDDrszjlPn9J/NDNXq3SBplnV5tVbKCUSdoCyzfdqhhfXqfSrZZhMx7PoYotvpBwAYvaYH9XpzuwNpOYKXQreVKyO1ews0BvB8/trb/2NBjl5WQomUVS2mqPmbh748FsTNapqD1c1KffX+KU/kqVmX/u+q8wq9mYrjebzHiad22oRm0x5Dtz0NyvuoJprdTegt9aejDuoZu9WqULcs+uNmut9pK2wPJNt0rGl9epNKtlIZ+leB0VJ4VuJU9KfufKdRZo3H3UZA3wA6nLItFdGnzgytReFFB7m1ftbaxGDb+P3m4s2NXQOyVckLMmag+9HrR+KB4iZQG1lwYoena1WVO1l7QFlm+61TO+vE6lWS1bT8VJoVvJk1K8c6WaaLQQsJZurbL8cNe37F2PK6j2UOjpnY5Wk9FY1dDhCcYPoDCv/C5rs+lQRcUhU3OHOzClVwx5hCFmwnfdesZiOW1urjfVma0u/7R00nAxNHzfbjlWVVFhNJ1o7/p5SBgHnRHtHNC7RyeriJkJuG3muipjhbG2ueOG01yq2Zi+CTi/FdZZYr68HnjLPeZtwPklf8nmmeSfoFtAsU3EyQrrN9GkxypcYffQxJkmYfvjn0wFeq6caTThclbVW+y9QyFRiijYe87cVLUri6K27atrNZvbHH52Yl8bFPrjget7h7NveDrou/W945Z/JpImCo36em9c/O7uKA4zJth/5fKNwGvxA5mJgVud31nt94dDr0ce3OrqvO0P8RHJrqLwuJ126w8+/goz7nPZbVd+CUash5/rudpaZqAper+l+5eBUXFRRBAGs76n5id837fVV1dUVNdbOq7aLzmVjYMFaJ/VVEizFYw3Y8RxpDlJ1LNJVSs0x65JbjjlHJ1nM9xQY6yz9gtBS1DjNHKolbIUdv17T6el/gvn6Fv+AhMa8V63Nn9y3ju3xEw/crbhbBwytXR6J1grofALb1dbfZXRaGq1ecbEiaLwRKDP0cYlFTNvfVuXb1x0G0mDg++aC3pvWJtrjYIFvMEwDkJ1zyqj8yxx2SMZxsa8pBAPOKnEGii5YXkIY5hH4WZNC2iUV9V05PnUeLRyIspO5NENA3mdklyJ7wKiDX60C4h2Cgooe0HFFDqVkSSK4lOe9TvazHHtvBhZSC/DjAR5S2GdIk9q1ZtoNO6uz2efxmIoMJ11D8+ql1GHFVJ7e890/9BS/anZ2nH+pHEH7lULTvVFl3kyz7tbT5zzvAgjxEw/tBq3U/Tupp6XmmWQVBi0MGSvNOysd49zv0Jz3tN5VFZR+4Ao2OeD3ScLth5zjeNrC1N9p1kX0bnFB7GRz3nn+Kfp3aOT1cXQ4MXqwhqr7xXrMPRmxPV5ARsI2q/Oc0P2GgO+K+dEr3iWfK6veWetY4S8gLJmhR1e3hLf0MwFrPtpKrPI+jj2pMTtj0IDtppDjdcez+DqgWXftaYCOqug3hFbqMGEJoN+h2k7Re2xeP4IBsdnYhVbkflgz9fG8hOdvj/nJv7ZVv0+/mVmHbf0892sz/rJweJcbMgMk2tK2O1BbWn2CPWG+bPf+nFhudk5OD4XdJ34tPoAjrid7X6cFzSGVWdDRR4bouwVXDm7W0q4fUVUdrl9mC0jGvdYv/zCVJyB0y82fWG22H0qi4tJglnfU8xET+ueetc427IshYeuVBt2qIUHCs+8jDNjZH0GUU6S8Gyi1QotDN9qO16BH81l5npb42emYmxe3rYENU41h9opS2DPCmg1lWSzbuUzz/ZDJ6u4ypd55Oo/7U11n5+xXWyvK8X30KXW36d8Fw6bTp7/D/v5hn2syt9j8fFiZSHYe+FU3T62PlL7zvf9ZC4txBnmw4+ithttfs40JPWRLZ275S/VZx9MsL5eDPm+LaFpg/G7wdCiqmcV0H6WOMPYUM7T9a3n7Vc6Th1i46Hwq/5ZUTwk3EDJDcuTQAyr3axuAR3bKv3wbUL5VHm0SmHVnaibVQ5Zsyy/gkKBi9WsB/PbfGJhh7uAbQfU5+wUSzehYgrtyviWIIrk9lkKz4wH4yzJ87ursRBXPEkvk6wZSSM8dXUqgaRU71yhJpqZDHj7PW7H+eaqgmyuTcre2+J+rlZObVZI7eVXW3/h3Ix57TW/L2pfQoPtB4si23mw9d762ljtmnPcPSUyihRJhZEtEZt11+HHinKFprrrc+iIgMB/8xo5P+JvFr17tLOKmDFnbc5Wo/1pzPTohbN6q57aw7X6oaUwC2sZZ2zsAC0ELhw42j0lZE6/gETNCr+rOq4eJm5/Vm/l5bX0id4peMGaVdB0dyJ2Uf50NbiWKK/RPcEXP+Q148Jmldr+FUkMzXtatrBXvI/OHvn0SHlmtNfHtaVxd2bZ3x8JQvO1p3knbsa2xZbfLU44P8a1bJv5lzfB202Vzc6hVyP2SiwXy+zPIum/HbEfopWVhAj9YMboeYpdo71VZH+svz+q1woPJTMS5SSJmpVwtWKJBHlZm2cay7TQ0H1X3zAWNPo1Ti+HKilzN8t4+5slHyt2cW57GnKw53c3OJ8Io7VoxFGJJWNOScutEeH1g19jTm9t7otkA5v3iW0Pfk3aXlKP38U5WRoVRvR+rvclsUwoYKvKKbUGFiLFFXIY9RFhBSF4lpDydqP1oTA+IVh7p7AjniXZBkpu2IRiWOtmRQsk19Ylmk8V40sT0XZicllVerR+FyBDo3QyU5B0f5FfaUaR3MgKxVHoZZZrRpK8sai4VUqyMaaM0p0r1URHQczM45vmA6wINlTZAtEtMgmwCuv24kOBPb9na0X7T/zxLSz32iuwW3X2b0vsy0x4rI0tV/3RnkDqPDTnacWtWizc3zHjTlNGXCuvd492Vvngi6uuGMJlMbii7qepnErHSKQ2vBls/8TsfS38pV9AjDzm5Fdk9TBh+y8EnYcNcTuwONh0cM8qPodJqQ4owO7gLqHjRACn9grN3ogfBDMWfdHR9snZgTAT9N5+yM3D4tpSRtNl7YPRzPAPzRMtvxOuHL92s63mK+69ir8iSl/o8/SyqhvMLHqe4hKhCz53jbzhy4uCD25rzYIpmZEkJ8nULMmzSKIOo5RDkhqnn0PFlFWQ24S/knnMHRsyV6iPSwFrEVZx5fZo3VN+LprytLA3cvnXtwzXv2aJAgOzGBruczqjgpWwdAReIImHpBsoFcOSxrDWzYoWSK6tSzSfKsaPT0TPicllVfHR/AvnllKrP3JsGu4UTEfFakyCRumkpiDp/pQMKI8ihXvkxZH+KgVmJMkbi4pbpSQbY8oo3UmS4WSa6HiEJYN0Tr36W4E6q6z2eDH7nqm90yHlumdUw8rqnuAXB3CjpqJcCeEuatPlsaJ9j05W0bizGvtJagfSRdAoeK3GQNPRt5+5vpaDF2JvQmKUC4iR20R+RVLqxO3PvlBmK1mef5Z4eEzdR2LCA+0lW2IFx6Bn9rItVManrtj7zZ8u0zYqo7ii6pTopYeXiRl55l9iDRb/Ciju4HkZmrHn4yMnO4e4G/krWU29QiMZqer85K8GpC1OBGVPRSbus0vrrO7AjO6RmEpm1M9JcjVL3WWqUYdR/JVujSPJIVkI8chtwl8hU3t6VQnDZ1hWfK0GR7viJ1I6HjUvEERm8g2UQuIJxbDGzXoWSKCtSzSfKo+OS4TEiRESyKryo/nhNyrvtLDIATdlxV94hCVGiqiXTmoKku5P0YCy2xTukRdHWtNTYEaSvLGouFWDhGJMGaU79TOcXBMtg1+vtbVVM1SUWWW1x/9bNlCkj5J9mamA29pgOsFG/lS3VKrzQ+XCRAxmfsh2kI79yaF1j3ZWVXoCYrUnvHkLY2OLU+6Tf5HPKmoXUMEm8iuSgEvc/rxUog/ZR0RLU1j4kopfFpV8JGVxynUkNi3LI3/NetPbkIWNK37xxRbjZuXog7ah2ELdBf/ZQorKqHZG3ogjfqFyqx3D3JiGcEX0move9DZhr4smf1UgbXH0PIVeB7pOlPCrLgwHzK5/qewK4VEyo35OEvcsS+LVikXF0To1jiSHJCEUQW4T/krK1J5MMGlZhmRtQCKl0/aCfjwso4FSSDzBGFa9Wd0CCbd1ieZT5dFxiZAt8Eg4q2qlnvVZ9tDUjlpXEGEN4v1qr+U3SSMrRa10clOQdH/6UaR4j7w4kl+lwowkeWNRs60SScSYMkp36meY/zMJ8SOBq8JxrRwpa6L29OJAAYl9ERO8ay7LLzHfF+bIFQZmF0MBR33BFoPxXN/Qi2DgRmPJftnyRo17tLMaaUwly2zJ1R5bvU/n8UOySyOOj5pcwiI2HpICymNOfkUx4BKxP6/2FGKUL6k4KaU6IEGYQj1gG44KrYUxRw3uUrMaeqNTwov+9p3YtplHRKN975aGbLhppEptoqzzCyPEeeBzRWUYO0eExRP8la3VzheRe2a9ZiwRxZO/KhC1OCSewiBm4tfOxg+4Jc/bK+1P1IdHlMxI2pQkWrOSqFYYNUdr1ziSHBKEUBS5TfgrqVN7fPG5ARJdy/AzZRn5Ch02Yhg+jAlLR+AF/XhYRgOlkDgPeQxjFG9WtEBybV2i+VQxflwiuk5MLquqfkdjjsoMdhdRYGHa0/JJnBRTRal0CqYg6P70o0jxHnlxJL9KhRlJ8saiatt4ko0xZZTu1M8w/2eiTbQczrzSek3Eaq/b4/tsurDNFzcOiRaG3Df8Gt/4i7cv++WW7XGDmQrOY3eSXjrd0d3ndjq6nG7vsNIEhMY92lkV3vulHxAkaEyj8EOyhiM/3DsnXZxLVEB5zMmvSGtIwvYX9Jk8RrkzNuNeFpXqgATGa8at1JYWz7yQGJrta8nDdsypco7xV969mx+2HcCCLW7GVth7kbGz/VFEAPITuzgWRU9E/7KVZlHU+7EVkPwV8djk4qP2nfGTv2qQtDi6nkJTjwdeRKKK256C86w1Dq9kRoKcJFWzkqlWGo7WrnEEOSQIoShym/BXUji2N2Ivp7mNe/qWiagr+YLruV8vXXnMGYKsdCReIIiH5BsoeeIJxbDWzUoWSLKtSzSfKsaPS0TPiUlmVd3vws6D90/92Hn0gMpKnigapVOIB4LujyCKlO6RF0fyq1SYkSRvLOq2FZN0jCmjdCdBhpMVPxJwz1sa3zmSsuq7NIRTQrIKW+5yO8k5mBHnMbPmtpR4+/KuEstbufPYb7bu1lFd2vdoZxUFXbU7cGtqqHZEhpEwfGMqHknSgB/WysjOLhXtz+AgKaBCzPFXxONw4RF7FZY2sRqSsP35PYz8C6ioTOx6PkPO4ZuiRcVKdUACP0UbVXvoZc8Xnxo/MFBUabs/Gr3coj3paKJk3y5+V/uppSyffcFll9+98t19NIOwTxxG3AKK7CZcKbUNL457b7P38J09N/nLTA4MjGq0sCQtjq6ncCIfd4hMx1lJS2sqmZEkJ8nUrPhnEUUdRsXRujVOP4cEIRRFbhP+SsrUHlc9DYedwQUiy7wdaC/CwZ1V0Hg7erLjO2ayv+1E5I2IrHQkzyKJh6QbKEXDksew1s1KFiApr+IPE8unUgoYSSLaTkwyqyqPZkFvB88W0XR27nuVukM+GqWTm4Kk+5P/Sh5F8nsUtrjJfrV8M5LkjUXDtiKSdJwaSneSZDhJ8RMHmuo+uqe1J24mkJQE1Z5wogEVW1sqQSizuKvmZ/Gj47qL032n2JcSKnNHxefn7Vcd9m/rigsjq6xUkCQrTC/m1XY9DaOlcLD/ytf/vhu/yG79vHdqMnD7nn8OcW06nb2roq75lHD6I6b9ksv7InrQq9492llFzIijmv0Q8rYy8w3/JP4FExq+21axHbewOaaOPu+j0egOIBX4hbpSIYUhKKC6qWlh9H74N9fZr789dQjfRJd82RN4Mjw5n4z90WRfSzHNboYfiCyCmR9z1uULhydFEPZzSFRaPPy4GpVnst3zen48X994YaDvPC6FeAsFrwjFV1iYoKMa55ouMbufPh289ff6+o4H1z5jpWPzneHutr/eGkPsosBP42cQ+PpGZZ/s6jv3+em+SXwPN0aIVePvs4OXms49jJRICf1gJvBU6L9Zi96rdY4I5mXbym2aO6r4wwK2lJ4dmGOmAje+vz/OEOUkCc8mXq3Y24TmXnIUgm5twujlUCVlZYQzGkQ24fMftwuV/8rTlj22J7F+hFd74qZfaL6zCs0PoscMsd96L9rT2M1NfhFZJlo6OrvYZLZevmr7pqGitNLGn9iHUfKsnATqvrhr4WWcOB6SbaDkhmUfRxzDWjcrWYDItko/TCyfKsaXJqLpxARcI8mVpPKK4LvUjBrHmGzsTYJG6WSmIOn+IhnTjCJlI0uKwy0KVG6LlmlG7QjHpK5OESbFonSnglmW30SzB2Lk5B5odvgm2AOkuPpb+5ltUPyhgQQgVntodvj+Nf6EQ46sXaY2e9c90YeQF0OBu51nanexN3D/e90bnBvzOv9WV4A7ZYoyGM2Xf/LP4Pvng33nqnZg03Bkf9DY9Vi90xUnSxsqzA5vkImOY7M/L62z9gXfjjhrcHtN0QWfOfiPLjB/9p+tLthdxB+TKkKkWvTv0c4qYoL3LMZ84df0zqr22+4z+7ILasyX3WTfOcFxU6w0ka9dwKn/Q8EmHOHHl6t3cr+js0targ+9fo3lDp1fcdJ63TsSEt4nErI/B7s6uKUsd3tx7Ve2q/+wWRrqLbeG4lx/z3G+jq/ehopTl7HrY8MJYsIjDhO7rYxtBT7r9L9GE84q/Ksy+2jkdr4zFm2qEEDT91v4QKJyShq7AqEFTtvhlN6vd/D55/ts8W52Xv9xK5p7XnAmEq7Q2TsrzHdVMolJJJi1QxG3AnsKiwveN56y3ey5e83yifHoldhBAAog7iBQLkVDZVt/cJY0JxhyzyZXrRAzMeCyRhxddrLDIWoBSGqcag41U5bCZt5uNvKBhOOt0/NkxPvjZeFKVkHdeZfvz7mg9/rlUxWcJWl8CSc4OxW4g+P0fe5SoenMlTvCB1r4yNn54RFTTUsHdpOr85u6qsaL3j8jVZigweFv83xXxx4KzZFdWt/5SGR/iWfVztrQr/vistvvBGZDQ/cd35jYLxxw8WC/GzFdog2U3LCjrAZJKIa1bla0AIltFSpFgvmUP1qlsFpO1HdNfJ0anVZrqGMsTrkb8mtvig4uVUG5dG+VS6FTGaVlV4qi7v7+7viUn7zw/SRu5/GvpsYHbjnO8W0Rvav2jF3UFi3DjHp5i0V4KuqUYoypJYVRiMYVaKIx3Ono/M309l27P6g2d/m4LwMlR6IzuamDCU0M+x/6/5jW+eiCGkvhyac+35Ng5MxrFJ544n86GUkNhQYuNF0cjL3IcDCh4CO76b2/8vP3JPfwVzSzyoRG/V5f4Dn7QZrFN6+mJOlpgpjJkefK7aZOAVVB4eln/oEA/h3OB07/j2dKCxaTsT+2TGDAK8pSUrBfNvMKXytD3PZYyeC8Kig08tDzwBf90Bkz4X/QH2AHLNVh7/GNiC2MZp95f44lkgJIPMWEJkcDPs4twhUNEBN6jn0zmpydl1Wzko061jtktQmz3LqfcqJTM3Ph6T/83l/9z+S1mNgyXAV86H82oeA+Qs8m7wUlltNAiUkohtVuVrQASXnJK0VCj1ZB1YmpdQ1G75g9KUReSKAyriirYcYU1inyCEkkluQk1ABihz8fHdX/PJU+a6f2VhT2iwt79yuuhEDDnZ9zhxqT3AOkFDTZf+nsNdGoAL/VQ3yoCrAx2di1SWkhDgCsAnMPLXvNKZZf0LUBSqSl2uP3BNE5tV2RzyVFYKYCzguXfOyCfoJ7gNTCr5nLrnCMcn/yX3bKLmkfgD52g7PRaxOoPWAVYZdF3XD2+oMzwX7Lh4d0zrJJFOjaAGXSdGwv/PvVWv4z0Hs+bvjCYr3ssFstp45XGxsu8x8IJ7wHSClo4m5TgaGw/dHCu8XQkMtcVlimtXgO2Dhs6NokLEUn/n4RACwD7mQfbtkWRRsq7UOSLXrLB7o2QIk0VXsY9gMprovtrXVVxgqjqeFrq6P3sXRZAMk9QCpBzITvurWN2yDW6fYntY8cWJ9syNr0JuD8prmuuoIHZ/v09UBsry4ArADMmMfaVGWsbbbdH12hCgJdGyAjfdUeAAAAAAAAAGoPAAAAAAAgvQG1BwAAAAAAkM6A2gMAAAAAAEhnQO0BAAAAAACkM6D2AAAAAAAA0hlQewAAAAAAAOkMqD0AAAAAAIB0BtSeCBSefBIYFX9Bf0VZ5cdpsRga8T0YCCb7uXSAh9CMS+HgkyeTy/w0cEoSWVdBmCgQtGvCypl95VJOUWVZM9Io1NFc0O/fmA1O0qwX94HaY0Hhcb+742RFPr0q38pc5cfpM9fXvJWm6L3tg2+EK0AS6JqRPeD++tnj5bl0bp17UriYKClJZB0GYaKsQdCGR3svWtjvwMSwWH/0z4i6roWR3gvcp2J4LBd7R9Pr27srZ/aVSDlFlWWNSYv2GYWDA7esx/ft2KgNTtKsG/eB2sMgZvKJt/uM0UCvypfRV/lxBDDP3eaPjbXn+6c31StXqtEzIwqNDvTftJQZKCr5vicliazHIEyUtQpaZsRZm8d95DSzyPpY6VtUzLjTlGH4y9n+P9Pww4ArZ/YVSDlFlWWtSYf2eTE0+sjbc75q4zY4SbNu3LcZ1N7ilPv8Jd3wQsP28uzVC8RVftwaQGb2TUc4YN237L4nJYmoBeH6dNw6yhUav3k4B3daFF1qDcg/aY9GnTWltc4R+AZ0Kli+38kry3qIsXTKgyydpcfWosx0V3vrwYPKbAK1t+C3lh4kCK9Jd13uKgbiKj9u1SE1+2ZjPak9xSBcn45bX7lixl31Oezw3vZK+5MF4SIPbusb8muuBdNgidV6IAV+J64s6yHG0ikP8nQ2g9pbDx5UId3VHno9aP3QQBReoPZSRwJm32ysb7W3Ph23DnOFxlyHuflcQ419aE64iC9P328p/dQxAmGfClLjd7LKsh5iLJ3yoJhO2qu99eBBdfTVHgpPBPocbfVfOEffotDTOx2tJqOxqr6tyzceN1XBvPK7rM2mQxUVh0zNHe7AVOx/0Ry7PrPhlHN0ngn2WRtqjHXW/snI/7MLaW9Ym2uNFRVG04n2Lm8wLFoMo54su8y8p9MSlzF8zyVPkN97hdhnmQrZGRdq2766VrP59LneMfVXbiX5pfz0NwHnt8IqbMyX1wNvuVTfBpxf8pdsHr50GjYhVXuImfBdt56xWE6bm+tNdWaryz/NSAqxGBq+b7ccqxIM+PNQkOPlDLcJSD8FsSXlV5RsyzM/4fu+rb66oqK63tJx1X7J6Z9N3OwkBVSCmQr0XDnTaDJW4Gi02HuHQvE/IiuCto8UUSw1i9yMHIiZCbht5roqnNPa5o4bTnOpQt+jkw2yROIgMaw4CDUdp5E99dpN5gLtfKrmKt7axFUSk7DHlYnM59KGSvsQP5+LpvrNlTWOYdUEVYNWnP8LvUF2uBBNeqzCFe0ahNHztXYLnIhB5EGu52VS18SnnGw0siRaWfSaLL2mRhmtTCq0IRp5kNkcMaER73Vr8yfnvXNLzPQjZxtu/A+ZWjq9E6zNUfiFt6utvspoNLXaPGNS46iGiq4dCONEPR2R2ouEirGqoUPaJmMSraR696PQUK/920b2Bmzzzp7Bx76udqv3dYJVLxnryatMDM3Q0qtZCaOt9haCvRdO1e0zsAXYd77vJ3NpYfHBioPFuVyRthttfkGqMM+7W0+c87wII8RMP7Qat1P07qael+gdWhi+1Xa8Ygf7g71nuq+3NX5mKs6hqOxy+zBbLua5u+Uv1WcfTLAmWwz5vi2haYPxu0F+h7ZqsuKM4WSdp+tbz9uvdJw6hB9EF37VP8v+HIVnXgb9DtN2itpj8fyB5c9kSCNmZPJL9emYuSF7Dfv0nBO9syJtOtfXvLNWeLPX+jmGRO2hhSF7pWFnvXuc+xWa857Oo7KK2gdEUTMf7D5ZsPWYaxxfW5jqO82GG52L3VRx6BxuC/RSQHP+rlZTSTZrST4zRLbFxZvoad1T7xpnHbcUHrpSbdjBt6eJmJ2kgAqg0ICt5lDjtccz+Om4wlxrKqCzCuodAWFjP2ERdH0kR63UcjPyLIYGL1YX1lh9r1gToDcjrs8L2LoQ3/foZIMskTgIDRsXhKqOU82eRu3+fYzIBfr5VMrVWyVrE1RJTMIe10Ayn7s42//1nkMR5SdDL2j5OaAt8fEzF7Dup1W3g/Bo21C/BSY2SNJtha5rFKpP4tHIk0Rl0Wqy9L2miFYmldsQlTzILTPrd7SdrOLKlHnk6j/tTXWfn7FdbK8rxffQpdbfp3wXDptOnv8P+/mGfQbshj0Wn/A6ilPTrm4adkio4qimI6g9HCo/tFR/arZ2nD9pZEOl4FSfeAdDopWUKCSqz7I34D8Xpn1WbneaKCSIql4S1lNsqQQ0Q4u4C0sEgpncpSe2PdgQ20vqsQafY8sZrUL0fmtg7t270GD7wSLLw8h8Bnrra8vHmcw57p7i8oReOKu3YuOWtXmmcRcRGrrv6htmixQK2KpyxCud3/5myc+IuEEvWeHm7UbrQ0Ffo3F3Pb5lZ0PvK/ZPFsIhNIzkTr2nzz20FGZRGSZnbIgTLQQuHDjaPcXmRe/nRBmb8TTvirtn1l2HK0uRNRANwKnu+hw6s84dGV/iLZAfiUj9FFgES4pu07Utu8B/q6gm4LrxUX2sPSU0O1n2JDDDjuq8vJa+2UjURLqTrIKmuxPRi/rhoesjGdqllpoRMWPO2pytRvvTaIhE64Ko79HOBmEiEggNK3eT/IqelVRrN4kLks6nUtDqVElM4h7XBk32tRSz/a6hxv6or720kmsPlSAKWnkxl2bdxzJ11B6BDdVb4IQNIje7vpdJXKOUcsLRmFxl4VGKMcKmRopmJrXaEKU8YOSWme1pyMHd/u4G5xNhNAiNOCqxiM8pabk1IkyOLU65j+dQ9NbmvkhOSKqbYh6SqDhK6QhqL7/a+gs3voN57TW/n0h7KIckJHZUx424h3yW4viHynMrr3rJWk8hsMlCi6RmJQLJuj2lAqApT0sRlntsJLHHyWytaP/JG+VeewXOJLWr2TPD3a0YQLxSyYpvyBZDw31OJ9cS6SarsAhA7iHlRysRf6d+oXjtn1PpGIn4681g+ydmdnCY5OckGWMmPNbGlqt+vu/ESMMLzXlacUsWU3v86Q+xGq6bAofckrq25W6gCz53jbzhi4+CD25H5jSJzU6WvTgWgs7DBqrY4gsJF3hYg+PmT3SmkW4R9H0kQ7vUkifyNTOuh8PIVhFpZ4MwESmEhpW7SXZlOZGs64Lk86mYuGaVxCThcT3YhXoFWbgl3JK9rbR9QGYCHsKglRdT3qDJIbGhio+SrQJxSel7GaPnGoxCOglGY5KVhUduIuKmRoJ2JrliqrQhKm5Ss3nmMXdsrFShmEsBK9tJl9sjRk82VJKIE8V0SEIl0Wfp3D/rs+yh9UNCnlt5DCdrPYVSk4UWibkSIVm1F1XQRef/91/xP94ztXc6pFz3CCeLKqfAKRW1Ssinr5kskS0UH62I+E6Cp7O19FqNgY6dwjDX13LwAvdvkp+TZ4yDX93IjXuLwktQe6L6rB4NyilwyC2pb9vI7Ex2aZ3VHZiJ35iYaOkwGtkTo3pyDf/EyPwURqcIej7ixuXFcMsgNUsd/0Q07qzGjY60LJKGRicbZIloomVYuZskV5YXyUQ1NEJi+VRMXKNKsv9JUqkTh3+/wq9c4q43HtKglRdT3VyKqNpQ0UdJGURudjIva7qGQyEdSbZXtLLITETe1MSha1WNNkTRTeo2J1N7MoNwJBAqyVUcpbLoh0qiz9K7n9dP+iEhz61m1UuooslLTRha+uZKjKTVXrQzO/fzbfx4mUqNQzGFtyP2Q7RqneFLpZkskS2UM6+E+E6Cp2P4V0lBiS9OuU/+RSgLyc+JM8ZMBdzWBtMJtmWY6pa+TPBTJMKUOmZ+yHaQjv3JoZ0CRm5JEtui14GuEyXZON4pynDA7PqXaIUpudkJsidGePs5ZB+JX4EmVGDRtIVOEfR8xL+3iRAGUDVKHfdEvhmSl0XS0GhngzARFfQNK3eT5MryIpmohiaXT8XENaokhqQsScAnq6n2SINWXkwlcymiY0NFHyVlELnZCb2s5RoOhXQSisblVRa5icibmjgIrKrahii6Scky/JXk1F7CoZJUnCiWRT9UEn2Wzv1oxF4uFWQYua3USi2reklUNHmpCUNL31yJkbza47tDuvzSQDd+vJpo41FMgX8nzsi3/CYpMfYRwyxwpdJMlsgWKplXQHwnn452oTD8Ok06p757amnE8VGTa4IfLib5OUnGEBO8ay7LLzHfF1Y5KAwdL4YCjvqCLQbjub6hF8HAjcaS/S3u55Fha5IUlCxJGmeImfi1s/EDbhWq+OwxQrOTZU8MX08UqjdfT0Q21ymCno/m/I7Twr4sntMOf6RxVyl13BMjfU9+m4/fhCggaWi0s0GYiBxCw8rdJLmyvEjWj6Kk86mYOEatSmJIypIEfLIEak8/aOXFlJhLERIbKvooKYPIza7vZR4N13AopJNQNCZdWXhkJiJvauIgtKpiG6LoJiXL8FcSVnvJhUpScaJYFv1QSfRZOvcLFtAPCbVSi2M42YomLzVhaOmbKzGWMbbHqmZ2Q0p4yLYH69TCNh+3hSMCWhhy3/DzKxsUU4hUTvnqy7lfL115PK+bLJEtlDOvRNydS/qF4uD38hiO/HDvnHjFMcHPCTK28MReuZ3a2uqJJqLUF6LQwKXTHd19bqejy+n2DounBshSULCkrm3R1OOBF5EncfuCcfTGHkRmdsLsiRHWXMurN7fwVjyoqVcEUheL0S51/BOFwW/p+h5pQ6OdDcJEpJAaVu4m6ZVlRbJuFCWfT8XEOVSqJCYZj+vDl0h7JpcwaOXFlDdoMohsqOyjZAwiN7uul6Oou4ZFIZ3EojHJyiIgMxF5UxOPjlW12hBlN6naPFG1l2yoJFVxlMpCECqJPkvnfmEUTeIsua3kuZXFcNIVTV5qwtAiMFdCJK32FsYcNRmGw87gQmT3clZhy11uVzkHM+I8Zo7IOMUU3r17O9BelIV/WNB4Oxj74WR/2wm2tLrJEtlC5dEKxN+pXygezg5URnZ2adyK46RtIoYPJvF7iTy8wn6bcbdqQ0aSAkZuSV3b4hs+7hAtu+GKE2t9yMxOmL04+I1mso9WsSshDDmHb/JbkVl0i0DqYhHapZY8EQVdtTtwTg3VjpFo+kJDs7Xa+UK4pJ0NwkQkkBpW7ibZleVEsq4Lks+nYuI8KlUSo1MWxIReCYdUJgBfIk21Rxq0fDHFb/zhEXtVhnbjTmRDFR8lVwUkZtf1cgx112AU0kkwGpOrLAJyExE3NRK0M4mLqdqGqLhJzeaJqr2kQyWJOFFMR8HFslBJ9Fk6IcGtH6DonFrnWCwk1Pbkala9pK2nUGqy0CIxVyKQq72sQvOD6G5hNPvAXLSnsZufMVyc7jvFn/+zo+Lz8/arDvu3dcWFsT3PgpKVbxuO/pDOLjaZrZev2r5pqCittPHH+Oklq2ALPuLFs8P8ruktpWcH5pipwI3v78ftzREhpBb1t97TI/BnoEjdRpp5+ViuCGG8N6+262kYLYWD/Ve+/vfd+OV16+e9U5OB2/f8c4irz3T2roq65lPCjCOm/ZLLy50tRJAC+yBhp7coM7q2ZW94L/YxUNbF29g5GsEGZGYnzJ4E4diL7UbrQGS9y/yYsy4/ekwjj354kLo4hnappWZEzIijmj3YaVuZ+YZ/EjuECQ3fbavYzrY+po4+76NRNsPa2SBMJB5CwyoEodxxYR0rqdZuAheQBoBSOMmDNoJKlcRomVrYXRv/bQwC+J4Do1mXiYKWX8pMC6syhn9znf3621OHsAXpki97Ak+GJ5VOVSWxoX4LTFwFkmgrRKi7RinlhKMxqcoioBRjhE2NFE2rarUhKs2m3DK80+O2mvJxuGWP7UlUB0jnMYmqm2IeEo8TxXQUGhw+5sWhkuiztO9H3CF5+L+zdpnOOHt/9nr7XNYW0z78ViBWewRVL2nrKbZUJKGVSM0igVzt7fzwiKmmpeNmz11X5zd1VY0XvX+KrD8f7DtXtQPnjCP7g8aux1wZEDMx4LLWcc6gDWUnOxz34s+lnA96vqtjT/vkyC6t73wUKTxGLdnFUOCu3Wzkzh6kDRWn7HcCs6Gh+45vTLuy2GsGo9l+l3tQ1Nn4YmVbv+L7GJta55naXXwmK8wOb5ArmtrTJWAHF8uGZDFamVd6nJzIOD/789I6a1/w7YizBvuCogs+cwRes4kxf/afrS7YXcQfeC2CDyPdFKSW7PQ8myKx7etB657C4oL3jadsOCSuWT4xHr0S25pOZHYMQQEVYZc5t5Tlbi+u/cp29R82S0O95dZQ7Onk4UHo4gi4+imXWm7GUW6yBjHBexZjvuAcemdV+233mX3ZBTXmy27f6GzE79rZIExEDJHflYJQ0XFq2dOo3YQumCMLAEmugrPK1o6iViUxqqZGEzdr8SOk84DqoNDIg1uOjpNlfMZ4C1z94Y5a3OoELUf48eXqnVxydHZJy/Wh16/xqzydX3HSet07EooNTojR8fWCbgtMWgWSbSviHqfoGtXqk0g08iRRWXhUmiwSrymgnknVNgQjz4PcMk9GvD9eFq5kFdSdd/n+nAt6r18+VcH9kMaXsItnpwJ3HOfr3ucuFZrOXLnDhiVJe6tihwTihEehzkYaHCy82uzXvcG5Ma/zb3XsAUb4HqP58k/+Gd4OiT5L+/7FkN9eywckO670Waf/JaeZ4sZBCapeEtbTbKm0Qouw/dSNwzgSmsmdC0//4ff+6n82pTzbwYQmhv0P/X9Miz99RgIKTz/DP3w2ET25W0zSyQogJvQc/35UMXFd9J+OmMmR52p2X27ml8KTT32+J8FI5lF44on/6WQkNRQauNB0cVDiDyYUfGQ3vfdXboWBTgrLgwlNjgZ8A4Fo6jEIzb6M7OFiBga8ot8mScI+0ii1Ikxo1O/1BZ6zs4SLb14lV33IEomRtGFVHLfcSFaDMJ8J1WLNKolRLgtiZkYCWoIgFegGLdcYcrGFHYwL8scz6fFGcpZdx1fKuXL0XCMluWhMtLLwqMdYck2NVibV2pCE4jwJSEJFyw6JxMnyypJoTGrfz8yO+n/zCdWKHyGLV3sY/aq3POspkqpejIDkd2kAaw/zvLtx737FMQw03Pl57CRTAAAAAABU1V66A2pv48JvaqZzarsin8qJwEwFnBcu+WZA7AEAAACACF7t6W7cSTcI1J6wxlDjGynAGhH+/WptIU1RdO6ejxu+sFgvO+xWy6nj1caGy/xHwQEAAAAAiMF/nDfJvQ4bF2219ybg/Ka5rrqCx2hqOH09EN1+DKwH2E+4uC62t9ZVGVkHfW119D5OYL0OAAAAAGwK0NvA9S+b66oETVNd19zhmdwsAyMkM7kAAAAAAADARgXUHgAAAAAAQDoDag8AAAAAACCdAbUHAAAAAACQzoDaAwAAAAAASGdA7QEAAAAAAKQzoPYAAAAAAADSGVB7AAAAAAAA6cxKqL3F0IjvwUCQ6EPUaC7o948m8JFsYBOiHlEoPPlkwOv91b8SH7NfD8G5ASpIIvV9HbEUDj55Mjkv/LVJEOqL1+t/zn36nb828cTn9fokH3dfOTZowHBsoA6L9XVAmlXFiymEee42f2Z2P1/LA4s3jI9WuwlaAbU319e8labove2Db4QrSqBwcOCW9fi+HTR8gRfQRjmiEDPxs7XpC+vVf3Q07zdQWQX1PwylqANZD8G5YSoIWX1fR+DOwHv97PHyXHpTfRYdMcF7bUe/cvT90ne1sYCms0u+cAdfB/usjS3nr3acLDPQ9A7T5UBIuH3l2HABw7GBOiwUHve7O05W5Iuzqngx1YQCto/L27yhNdLxG8ZHa9QErYDaY9X9x8ba8/3TGuJ6MTT6yNtzvspAU+u+8gBrjGJEhf02456G3lfsv5lhR3Vu6j7lvB6Cc+NUEKL6vo5AodGB/puWMgNFbSa1Fx5oL9kdqSC4V64yUBm5ez/Yta3VM4c75/lg98kCelW+HLrRAoZjA3VYiJl84u0+Y4zLquLF1ILmfG1FRW0+NpzWhA3jo7VqglZt3d7ilPv8JYkDlh5bizJX1zFK2djUbFCDMBOuOoMoclBoxPvg8WRkcipBVjQ4yS0su3MNKog26yFaUpKHcMC6b4OovZSUFydyPCcukBZmnv7YXJhFFVkDwvzt/GTg8fLmv9ZDeKwk664+qoOG7eXZ0qwqXkwV7Ct3cY1zdHW1nizkNoyP1qAJWi21t+C3lh6UOmD1HaOYjfXLYsh35qC5fwUn9jeYQaLMeJp3pSxyVjQ4yS0sv3O9tVzrIVpSk4eNo/ZSU16l+jLrrsPBFVN7y2Y9hMeKsoHU3rtJd12uLKuKF1MCeutry9/KjxOvIuu/zVQlXdUeej1o/VA8EiOwyo5Ry8Y6BTHB240Fuxp6p4QLKWeDGURM6pqtFQ1Ocgsr3rmuWq71EC0py8MGUXspK69CfVkKWIuo1Km99RAeKw2oPVVCPkvJ1ua+OeHPVWH9t5larDu19ybg/NYs8KXVM44mPVbhT5YvnQF2kcfbgPNL/oLNM8mwq0F7Oi31XzhH8X9iydJnNRXSuFmhtu2razWbT5/rHRP0v8gxKPT0TkeryWisaujwBGWDWcxUoOfKmUaTscJYVW+x9w5F1oGKc3ihN7iAL4kyGX2WZjbUQaE/Hri+dzj7hqeDvlvfO275ZyK/QaFRX++Ni9/dHcVtJRPsv3L5RuC1KEHETAzc6vzOar8/HHo98uBWV+dtf4hvVtnlBR630279wcdfYcZ9Lrvtyi/B6C650B+eq61lBpqi91u6fxkYTfmyVwKDqNpcjtgLOCyuB95yt8YHBncnTvaV32VtNh2qqDhkau5wB6Ziu7fQHLvItuGUc3SezV5DjbHO2i+NqHco2HvO3FS1KyuS8zaHf1aah+gTo3mI5irG8oMTe9l33XrGYjltbq431ZmtLv+04ETykFO/M4EKom5VRbTun5/wfd9WX11RUV1v6bhqv+T0z2qUReIdtjihEe91a/Mn571zS8z0I2fbsSr8lJZO7wSbbRR+4e1qq68yGk2tNs9YfD6XYU8dCyBmJuC2meuqcDjXNnfccJpLCZraxdDwfbsF57/CaDrR3vXzUJDj5YywHUglYjULIiC2W8S5OOeXIs4lj58IKhaQ1ReBU3X7DDhtw766U+bTDr/QT2ubkV1dfsPaXGsUDOINstt4E8uqLGAwCiEn/I+UJKKLsI+IoFxGDvL6GIda6VaopvAQqz0Nj6uGt4y3v1nyt1c7Xyg7XbMr0asIiiy7zdRpLlTQ7hN1zEXQBKXEF+roje2hcXd9PkVlFlkfCyGPRp01OGK27LE9iVQCzsTv7zX3v5rzd7WaSrJZHwghhcIzL4N+h2k7Re2xeP7ALeVkKJJFwTF7z3T/0FL9qdnacf6kcQdWOAWn+kQLeFFowFZzqPHa4xkczdjc15oK6KyCekcgusSEHc7dEh/EcwHrflqUba1sKDMf7PnaWH6i0/fn3MQ/26rfx7/MrHNz1XTWZ/3kYHEuDrUMk2tK2CJAbWn2CAHF/Nlv/biw3OwcHJ8Luk58Wn0Al3Jnux/nF43hprehIo+1EHsFR213S0kO+yeVXW4fZoMHjXusX35hKs7A6RebvjBb7L6UbD6IQ9sg+jaXMjdkr2E7j5wTvbOxuGD33+2sdYxE/MI87249cc7zIowQM/3QatxO0bubel6id2hh+Fbb8QrsfS4errc1fmYqxmbJ2vW/NTbHR9Q7JjQZl/PxGb45RqHAxWo2D/ltPrGww3nYdsAaUHjtXF5wooUhe6VhZ717nHsYmvOezqOyitoHBNVDHHKqd5JVEHWrqqB1PzPR07qn3jXO9hxL4aEr1YYduD1SySGS1fdZv6PtZFUB68bMI1f/aW+q+/yM7WJ7XSm+hy61/j7lu3DYdPL8f9jPN+xjX2b2WHzRfn0Z9tSxwGJo8GJ1YY3V94r9AXoz4vqcy6K22uM2Lmw95hrHz1+Y6jvN9i10bvFB3BSfw92zSsTiWjz0VrMgOLVg7wVBbLG/dZ6ubz1vv9Jx6hDr3MKv+mdZ55LHD4uGBXB9GfunpRAHEp+OwJjHUoifX2jxjEXkq7YZmefulr9Un30wwcbGYsj3bQlNG4zfDYYWibMqDxiMcshx/yVhGdFF0EewqJeR/V/C+hiHWulWsKZwkKk9VY+rNciRTioeNO6szpA8S0CzKyGqCIosq83UaS6U0SyIrrkImqAU+UID3Zlcbj6eonPqu6eEhPkFvxl55l+i/Sea6j76l84R/gZW5mOhIva9ygCy4Jj8ausvXO3CvPaa3483AdZSeXktfbOxYvHCIqug6e6EcFGe/tKs+1impCarZUMBrqHPa3RP8G1WyGvehZVHqe1fkVygeU/LFvaK99HZI58eKc+Mmh77rHF3ZtnfHwnC6LWneSeuv9tiy+8WJ5wf4/DbZv7lTfB2U2Wzc+jViL0Sy8Uy+7NI+m9H7IfoxN0pgELPn3FRpYOKQYhsLmPuoaUwC+tf53j0yWghcOHA0WjkhAbbDxZZHkbChg8tLBCPu6c4W6EXzuqt2PtlbZ5pHOOhofuuvmFsRvKI0s+DnKSDU7YWSmEhFHnIKd1JUkF0rSpF8352HfdWUa3BPeJH9cKzVMoi985sT0MODvDdDc4nwrsvGnFU4uYpp6Tl1ogwUsI3I7Ro9idpe2pbADFjztqcrUb701iNiESayIxScJtWn0NHXvDw3/x7b36ki+VQjthXBAWJ2m270fpQGJURHrFT2GnOQhg/ejEgBFJcOrKZXO1E2G28OaXWwEKk9EL+ozYkDnVJwGiFnBJJRpc8e/I+Qq+MRPUxHu3SrXZNkVzUCxu1BlkGG0uZx9zi93wekq6EqCIoolRGfR/plVoRkoKomoukCUqZLzQgWLfHvxWJbMEJeYqKLclkJlwnDkdHcRVaFpWGQOFOSQ1cCDoPG6hiiy/+FCjpiU0kNRmjkg0pKDx4roQWN+u82is0e6NvV/yke9EXHW2fnB0IM0Hv7YfcPCz2WRlNl7UPRjPMPzRPtPxOuHL82s22mq+4Fw7+iih9wbW6WZWBZofvWOuw8K9wBIVLGigahNDmcvh35ZxKhyD73717M9j+idn7WviLTWFrRftP7OGuPPfaK3AgxU5OUXEQeUQJKnlLqdXPTtiw4FyZjop7aCnkD5UEFTPhsTa2XPVHq9xKqT2NPJBYNR7t+7kn0gWfu0be8BZDwQe3hYknYkPxV+Jaf4VFKrzaoMvtkXBJ1p7aJeJ7jrgXAIzuohk052nFNTCm9t4x405TRlyni1G0CUlByJxLGD+6MaDwLJna00yE075Z8c3pYmi4z+mMdjlkWcVIMsP9qRJySiQZXfLsSa2tX0Yil8WjXboky5J0yxN/Ub/pIPQpV1kU1B5ZV5KEVQWUsqebmn6p5SStQzhImqCU+UILkl0afC++NTIrj7XdsV25uJQRPYRfR/69JaaLFcytklFdx6juGOcTjA59ydNXDBcye7EHU22hxW946Jm9bAuV8akrpv3/dJm2URnFFVWnRC8EvEyMG/UUXlzENYEPkYw9Hx852TnE3chfyWrqFRqESO3lJ38TAYWePfTe+ro4K3m1R2pzBVDwWo2Bjplurq/l4IWIGfmXlfdM7Z0OKdc9o/yzVBxEHlH4MdyQDJV32su/imD7F3+huVOM/KHqbRC/1oebMlhdtUdiVTG69/MvrNjPpXVWd2AmoplZiA3FXyHrw6QaiCcBe+qUSHg1lT6FVO2JutikmhTVgijZTeERJPFDEAMKz5LYXzuROc4aGubCkGSVQ5oZjZBTIsnokmdPWpX0y0jkMgmapUuyLCISa3nEF0maDkKfckaQb8gl7EqSsSqPUvZ0UiMptYzkdQgLQROUQl9oQaL2sJyzl2N9Uulgl0Eu+K0HTvz4z3OlNG2ovTmBZDNlCuZWyaiumwXtfMg+IlqQwMJbKvqeLU9fMVxI7LU45ToSm5blkb85veltyML1TzyGxJqJHYSnD9qGogtC0YL/bCFFZVQ7I4NLvF8xudWOYU7qC1dEowjoTW9TVtzkb0KMOiqyk1d7pDZXgn+JEd51FqfcJ/8SMyPvEdnrURzkcaLhylmfZQ9N7ah1BRFuC71f7dU5MJb8oUpBxUwF3NYG0wm2JZ/qJnvDVkTpTv08kFhVDMH96HWg60RJNrtIhDIcMLv+FVmJTGwo/kpyfVjC9tQuUaS6aTW1KvCrAuj9kRWf80O2g3TsTx51/+oURMluCgFGEj8EPlV4lsT+2omQLCwhySqHPDOqIadEktGlFjlRaxOUkchlMjRKl2RZOJJpecQXCcKG1KdcUpLsYQi7kuSsyqKUPZ3USEotI3kdgiFpglLoCy2I1J4wsciWdn7OaznYPvCWV7sZNY6x1wFrfWy2DqNgbpWM6rqZt7KCFXhLaWhqxXAhsJcwhXrANhwVWgtjjhoszbMaeqNTmIv+9p3Yf5lHRKN975aGbFhlUKU2UWvBrxgQtyB8zqkMY+eIsKqAvxIdOsXMes1YIoonfxMiFWpP3+aK8OuFuVWeSyOOj5pcwsJHDO+RpDoM8ojiQGOOygx2pXNgYdrT8oni/gwR5A+VBBVignfNZfkl5vvCAhHS+RRFlO7UzwOJVcUQ3o+YiV87Gz/A77MUtb3S/oR7pSE2FH8l4T4sOXtqlyjS1Eo27ijlR8ZiKOCoL9hiMJ7rG3oRDNxoLNnfIv0AqKJNSAqiZDepczEk8UPgU4VnKao9tUT4WWzFL20ghuHbQJKscihlRiXklEgyutQiJ2ptgjISuUwRldIlWZakWx7xRYKwIfUpl1RcKTgIu5LkraqUPZ3USEotI3kdgiFpglLoCy3I1B47e1tnoLaU/v361X8/6hjDscrXjezy7/7j64q/DYqLoWBulYzqulnQXnIrhHyWYtFrtzx9xXAhsBfjNeMauaXFMy88EM32teRhsZdT5Rzjr+C3/GHbASzY4mZshb0XGTvbH0UEID+xi/0seiL6l600i6Lej+lj/or4vWHxUfvO+MnfxFie2iO1uQr8Kk/DkR/unZPsjeDVMF0o+bQOWhhy3/BrrnsgjygeYZHv+6d+7Dx6IDqVrAb5Q+ODauGJvXK7aPXqmqg9EqvGoXM/mno88CLS0fJf04qu0CU2FH8l0T4sWXtql0iYRpGuN1XIjxwUGrh0uqO7z+10dDnd3mGFSUYlmxAVRMluCq0WUfzox4DCs6T210wkJPRY8pXsc79euvKYswtRVlkkmdEKOSWSiy6F7EmsHemVNcpI5LJ4tEuXXFmSb3niLhI0HaQ+ZXMo77AIu5IkrCqglD291AhKLSN5HcJC0gSl0BcaEKo9YTkUvX1HQaQLF65kby8Tz2ZiFMytklF9N/PbkfhxGpEV2JFFQ87hm5HpUT59sfQOj9irsGKKDxcCe/FTtFG1h172fPGp8QMDRZW2R06kEhbtSZW+ZN8ufv36qaUsn32ZY5ffvfLdfTSD3qGgw4hru0jmC1dKbcOL497b7D183eYmf5nJgYFRHbEiZ3lqj9TmavBDoRnZ2aVxI74Y4RCErMKWu9x5BBzMiPOYOdK8kseJtivR28GzRTg2c9+r1Hpb4iF/aHxw8i2s+I1tLdQegVXj0b4fP/HjDpHfuVwJ7TixofgrifZhSdtTu0Qo6KrdgcPZUO2IjKZj+PyIB9RlsB9i3q0tB5XzQ1QQMueq2VyCbgwoPEuuITQTeTvQXoRbxqyCxtvRY0HfMZP9bSe0uzoFJJnBf6qGnBLJRZeQPc0+QreMRC6LR7t0yZUl6ZoiuajfdCgmogSbAfltZF1JElYVUMqebmr6pZaTkA6R2YGkCUqhL9QhVXvCrm+xPhUWackms4UN1eJ6xe8Y31J6dmCOmQrc+P4+vzlFcIz4Tn7xhGg4HU32tRTT7Pbsgchyh/kxZ11+9AwkFv5XtDDnMvyb6+zX3546hJOmS77sCTwZnuSnZVWyIYYfV6PyTLZ7Xs+P5+sbLwz0nceZFG+h4BWh+AoLE3RUY9lGl5jdT58O3vp7fX3Hg2ufsdKx+c5wd9tfb40hHDSuT+MnC/hApLJPdvWd+/x03yS+hxsjxKrx99nBS03nHkZLHfTeFBZuyrnujTVPCag9FYMQ2VwV4TVAUjFYFqf7TvEHTO2o+Py8/arD/m1dcWFk/SL+Jf8KJdt4L48ofiGBVHCL4NdQsisN4t5ElEg2OIXh/bzarqdhtBQO9l/5+t9342xu/bx3ajJw+56ffUsjCDkBpTtJKoiuVaVo3s8+8b1a54jII9sipy+plEXuHd4ycXvQuJfg+EM6hT4s2mklb09tCyBmxFHNfih9W5n5hn8yjN4xoeG7bRXbcWXNMXX0eR8pfhyWyx6dvauirvmUcBAvpv2Sy/tCOFoZoxixRAWJBpi4+eY7ALFzCeNHLwYU2mSZ/XUSif4vnV1sMlsvX7V901BRWmnzR3JPHOqSzGiFnBLJRRdRH6FXRqL6GI926VaupihkVZ5/vbBRa5DlLD2x7XlP4dWIpCsRcqVdERRJrs3UK7UiJAVRNRdJE/Q2Zb5Qh1ztsUuydvIbNQS4K7H9B5jFUOCu3WzkDkukDRWnOj2jXGeLuNMg2aJQhsq2fvwL9s7OM7W72GtZu0xtdqxX5sa8zr/VFWCBhG8zmi//5J/h7Miucm0py91eXPuV7eo/bJaGesutIUkDHX58uXon9wA6u6Tl+tDr11hF0fkVJ63XvSMhQQnJsyEnPOIw8fnPLv6s0/8aTTir8C/K7NGvPfN1T7SpQgBN32/hM0/llDR2BUILnLbDKb1f73jMhQgvz8U7vXn9x63e7XnB+VW4QmfvrDDfFWk4TbXXdX841gWRqz11g5DYXBVcCYtVliDMB/vOVe3AtZEj+4PGLt4yiJkYcFnr+KbWUHayw3GPO7VSHlHPpgL3HOcjd1acuhyndKPgt7GGfHYXkfC3OkkH5xthXgbDbrjrC74d4Q4ep+iCzxzCh1VIQo5HcmdwlryCqFpVDfX7cVu5p7C44H3jKdvNnrvXLJ8Yj16JHPSgbKh47zwZ8f54WbiSVVB33uX7cy7ovX75VAX3Qxpfwp6dnQrcwT58n7tUaDpz5Q5rrsg8FyZhe2pbADHBexZjPp82Re+sar/tPrMvu6DGfNntG51VbuWZP/vPVhfsLmJPUY+Db/HVIhajWxCp3ex3ArOhofuOb0zsFy8459rvCqe2ksaPmgWkwdx5JxDCtTvO/p2uB39wN2ubcT7o+Y493Un439L6zkdiIxNkVR4wowtaIScBt4FJRxdhH6FWRsI2QZZt1dItpyzaATb1f8Syio1sduAGMi7/0YsYNY9rhLciuM0vVBZnWl0JeUVQJOk2UzvOVdAqiK65SJqgVPlCFXK1h5u/V8+ex9tEfkUVxISe+x/6RzWOg9eGCQUDA17fk6BaCig8/cw/EMD/j3OEmMk/nimssyHJBvtlM6/wtTLEbY/VHVIWQKGRh54HvuiHzpgJ/4P+gDCyqAJ7j29E7Dw0+8z7cyyRhCFXexhNg+jaXBls/JHnGuHIhCaG8TP/mI5+kij16B6zJybp4FwKTz71ieyDwhNP/E8n48pFnvjy6kiiVtW6nwlNjgZ8XGUSrvAsL4f6LM+eOhZgQqN+ry/wnP1uxOKbV1Ox9yMlUGjgQtPFQclNuEY8spve+6vqqjIBkoIQkojNU1KztBPhmtmH/mcTCvlZTniohVxKIeojtMuYHCkvXQoDLCVhw+3PE08uS0iyK9FlGSGXXKmXVRCCJiglVViFRNTeJgBN9l86e030ZskvwxQfqrL+4dSeaDByMzL30LLXrNclA4AK7Bdx9u5XHJ9Gw52fxw4QBwCAhV31KFurDawnQO2J4dfMZVc4Rrk/+Q+eZJe0DyS/MHKVCQ/32rm5gIyy5v9w+RL8avLGBs0O37/h7PUHZ4L9lg8PaRziAABa8Nsz6ZzarsjXqyIwUwHnhUu+GRB7ABDPQtD5SV7NtSDUjfUKqL040MTdpgJDYfujhXeLoSGXuaywLG7xHLB+4c8A56ANlfYh6R4RACAm/PvV2kIcTXTuno8bvrBYLzvsVsup49XGhsv8d80BAJCw8MR+yGjuV91gA6wtoPYkIGbCd93axu2/63T7Y6cDA+sdZsxjbaoy1jbb7o+uwKIHYHPBfpPKdbG9ta7KWGE0NXxtdfQ+TnJdFABsCtjNpzV7vu6fTWYPAbDSgNoDAAAAAGD5LIb8185d8U3D+N76A9QeAAAAAABAOgNqDwAAAAAAIJ0BtQcAAAAAAJDOgNoDAAAAAABIZ0DtAQAAAAAApDOg9gAAAAAAANKZVKs9FJ58MuD1/upX+9Y4kDyICbrNhy3u4Hr4jNtSOPjkifYngFePxdCI78FAUPvLp5osPwUl2OoQGI37CLLsSpKkPMMrYwGdZJfC03/4vRj/s+lUPxkAAACIkEK1h5iJn61NX1iv/qOjeb+Byiqo/2FIpwFfmAn02C3Hqk0t5+1Oz6j698nQK+/Fr9kTj6V8fdH7ajN1Eig8+LfyyouBNewZ2VNnr589Xp5L59a5J4WLa8tcX/NWmqL3tg++Ea4kyvJTiAeFx/3ujpMV+TS1zxpgA1t+ZVmkOsOpT5BHPVkU+pfL0tRiu+3x/HjeVEjTO6vOPpgExQcAALACpE7thf02456G3lfsv5lhR3UuRe1q9sxw/6cACj9zmw/kFByz+8Z1RwHRmKMyg/8oVjz0fmtgTrhpszDrs5TvsfrX6iOwKDQ60H/TUmagqHWj9pjnbvPHxtrz/dPJjpktP4U4EDP5xNt9xmigKUHbya8sjxRneAUS5FFLduGJvTK/0PKQr71o9oG5MEu7xQAAAACSJlVqj5lw1RlE3RgKjXgfPJ5U+cIsCg1YjdvpgpPdRJOScwFrjdFy2z8aFPH8ke3DzFJrIM0/h7o45T5/KV4coOC1mrxPnME1/Oh/OGDdt2y1p1A0MpL+YZTlp0AAGraXZ8dpO/mVTQq2//EcqtjiCwkX2FUK/V2d7kAK5rgTZVWCAQAAYE1Jldqb8TTvIu3G+JE/uqx9MNrWa7IQ6PrugexLLK96G4pK126Ia5VY8FtLD8qsiq29e03Lngq1p1w0ApL+YZTlp0DEpLsuN75SyK9sTkI+S/F6scMqBQMAAMBakiq1R96NzQ3ZawxUVnQSJ0nY9UAlorGBdAS9HrR+KB4xjYDmPK3b1nJcc9lqT7VoeiT9wyjLT4EUUHtqrBs7rF4wAAAArCXEao+ZCvRcOdNoMlYYq+ot9t6hUERpoGDvOXNT1a4sitq2r67VbG5z+GeF/5OBprrrc2gqo8YxtpyRKVbubM1v873VkjsoPBHoc7TVf+EcfYtCT+90tJqMOPNtXfKVgswrv8vabDpUUXHI1NzhDkzFbkBzwYFb1oZTztF5Jthnbagx1ln7J7n/Z/cr3LA21xorKoymE+1d3mB4ifsNh3qa7IL9nk5LXMbwPZc8sXltxD7LVEizixN5q54+1zsWLS0ad1ZnHrQNac+DI2bCd916xmI5bW6uN9WZrS7/dPzcOkFOeBAzE3DbzHVV2P+1zR03nOZSArU3P+H7vq2+uqKiut7ScdV+yckGhkbRtDOs+kNxKYR7E3y0Ugr4qoZ/9W2rp/beBJzfCnuNWGwePqjeBpxfche+vB5QD295hslcqWgWFmULvFsMDd+3W45VCRb4eYhfRvFyJoyInihLdtbvaDPHNRdi4oJ8mfbXy55OFQMAAEgniNQeCg3Yag41Xns8g9tTLPuuNRXQWQX1DmGRDROaDPodpu0Utcfi+SMYHJ8Ri544+OV9VEb1lUeDt23meq4Xae248zSqHcmY8TQX5lt+E/dL8SwEey+cqtuHn4U71/N9P5lLC4sPVhwszuUa9+1Gmz/2Ls887249cc7zIowQM/3QatxO0bubel7i7mxh+Fbb8Yod7G/2num+3tb4mak4h6Kyy+3DiHnubvlL9dkHE2wfsxjyfVtC0wbjd4OCTdTSFGcMp+k8Xd963n6l49Qh/BS68Kv+WWHdEgrPvIyz6svJkEijsivA8qudL9TNhhaG7JWGnfXuce4eNOc9nUdlFbUPRIxGmhO2dIMXqwtrrL5XbA7QmxHX5wWsTbTVHjPR07qn3jXO2mcpPHSl2rCDv1+laLoZVvzh2zl/V6upJJstRVRXJfRoxRRYD6r7Vz+rHHpjeygUuFjN2l/y3jLX17ztgPr2IyTLMKEr1cwiT5BnPth9smDrMdc4LtbCVN9pVhnRubgeVRxqc9yw6j1RMdml8Mx4MM4FPL+7GgspKrPI+lhoO5ZlfyKD6FQxAACANIJA7bHL7PLyWvpmY/2RMBtb0HR3QrhIODXzqrdhJ+4xsovrrbd+Gw4GRwN327ESwvLLOpCA4COcxl16YtuzBSdeUt/hCc6xyUeVSmwzb2iw/WBRbFoZvfW15eM+Iue4e4rrI9ELZ/VWrGzK2jzTWACGhu67+oZDrwO2qhzxXOrb3yz5GREBpJemcDMu9UNhQAKNu+vxLTuFTc0CGlbV1buylZSz7rpMiiqyBsRSXD8niBlz1uZsNdqfxnrCiE201B6rR7fGOm92q81H9bH75UUjy7CiTYRSRC4m/GhZCu9Cmv5NOquyK3MPLYVZVIbJGRtuRguBCweOdk9FnqyMNMMErtQ2iyxBfhg+s84dGf3jU8uPaCyCJ2Lk+WSRW2Zp1n0sM6b2UmF/kuwpBgMAAEDaoav2FoLOw4a43XMc0mO0yBrNpcfWItwqx6kENH7zcI44KV24adytrR5Ov2milCs05WkpwnJva3Mfq8bYgmytaP+JPeGV5157Be4jYodBKCTCdYRZoo4Tsxga7nM6sRBc1E9TsIM4TUlvx6NhVXblXKwnVoCZ8FgbW676+bFGjGKPqJsTvoOMkyMYgnV7XMp0weeukTe8n1Dwwe3YFL+8aGQZVrSJpBQJP1qago5/k8+q/MrbEfshmtoi2nODRZjpaFRRqSF3nPyKxJXaZpH+nKtlFCWKMWbcacqIVhyM7hPZC/J7MHI7xP0wNfYnyZ5iMAAAAKQdempP9cwIvpXk5jRjf+o1msov+q+95vcpKkNzpEoMfrMviHU5WijmKjLSxvYN/L/fM7V3OqRcj5z2LE+E7wjVtA5BmkT9EEbDqpzeksoLFfj1TyeNO+iEe0R2gSD2mPRBJLs0+AFgHCOldVZ3YEayTFMzYDQyrPhDaSkSf3RcCtr+jSexrCo8WljJmnfay7+94DpS/IX+m4zccfpBpWkW6c8FtUeX20eEvMhCVP+Jivdg5HYQ/zBF9ifJnmIwAAAApB16ak8YwztkH5EoMb6/j77okzWayk0/P2YgHkXQhM1SAdkprMq5EikYvvWXjVzGIU+EH4+JKl0JBGkS9UMYDatyeZDKCxnMVMBtbTCdYDv3qe7Exz/Eylj4bw4StYcN/TrQdaIkG/fDFGU4YHb9SzRZr1I03Qwr/lBeikQfHZeCtn8jJJNVxVLP+ix7aGpHrSuIsHjxfrWX5LVHXmSSoNIwi/zn/CxzbM3D/JDtIC0+z5zkiQr3YOR2EP8wRfYnyZ6yRwAAANINMrWnoF34/j7BsT3l9V58EyyaIdKC0x/RBXA6qOSKm/fhBi34R2v3K/JEeHmqOBiJGGZBP02ifgijYVXdsT3EBO+ay/JLzPe5de7JzXZF1J50+zOZ2mNBzMSvnY0fcEv1t1fan0QGlORFI8uwok2UJQX5oyUpaPsXB17SWVV2KP+pGJpdpjbtafmE6PMw8iKTBpWKWRR+vhgKOOoLthiM5/qGXgQDNxpL9re4n8dm9EmeqHAPRm4H8Q9TZH8igyh7BAAAIM3Qncnl9Zlcu3Dno8Ze9AkbTf6tXdKO803wVs0dplHwc0ty6vXWsAuodK4j9nJa2MG3NGTbw27Ta/PFzZ2hhSH3Db/aksSIBpKLzrlfL115PK+bJmnHrGFVVm9lVDtVl3exX6baTolXNybVIwrjoNJVlQRqD009HngREVjc7k781hDLj6xohBlWtImkFIk+GhOXgo5/F5LPqopDhd0D75/6sfPogQtExyjKHacbVNpmUfg5uxn/0umO7j6309HldHuHdSZ/MbIwVkpWyQ7iH6bI/iTZU/MIAABAeqG7S4P/xhE/8CDqhNj1fIacwzcjaoO00eRXKcWnxs0QxbXsiAm94o70ksGu/HsvtitQB8VcLYw5ajIMh4Uvj7En6W+hqKzClrvcyRQczIjzmDmSH6VE3g60F2XhXxU03g7GfjXZ33aClb+6aRL1QxgNq+otXuT7P/GYXHI9Igq6andg/xuqHSPRsghqT1Og45Q/7hB5mStL5jH3LP94WdEIM6xoE0kpEn00RpKCtn+Tz6rSo1nQ28GzRTSdnftepfb0ZRS54+RXJK7UNov85+yXr3drCXrdJ7IX5Pfg4vLvkOo/TIn9SbKn7BH19gcAAGBjoqv2cNM32ddSTLMHGUQPSZkfc9blR8+WwwibObQXwPHwgwp5h13CQabsB9GL9nBn0Qmg6fstBVmUocY+JBEz3Eu/dH+oBnxTnlVofhA9PoZ/XGN3dEJqcbrvFHd6XOaOis/P26867N/WFRdWO4aFG4SeSXI2SvRXdHaxyWy9fNX2TUNFaaWNP8ZPL02FfojXT5JRT/6kiS2lZwfmmKnAje/vRwvO5ipfa7JYmILPq+16GkZL4WD/la//fXcGVmif905NBm7f86uO6EhygpgRRzX7Lf9tZeYb/kncBTKh4bttFdtx2XNMHX3eR6PRMBDDpvxerXNEZMZtokFZWdGGe4gyrGgTYfdPJPwSfbQ8BW3/JmZbUaWQX4mCRhyVOQmcOi7NMIErtc0iS3ApYC3Cxd9VUdd8Sjj8GNN+yeV9Iegg3Sdi5PnEKNiBe+WL/TCF9teuZQrBoN7+AAAAbFQI1B6GXdzdUpa7vbj2K9vVf9gsDfWWW0NCH78YCtxznK/jm2ZDxanL172x13Fl5oN956rydpvO/Ifj6oWWmrr2vrGIimFBEzdrsbxQOJOFnT7Wmr6Uwqu9nR8eMdW0dNzsuevq/KauqvGi90/x44T87MAdA0f2B41djzldi5iJAZc1UrSykx2Oe6Kvts8HPd/VsYctc2SX1nc+Em0FUEsTm+uu3Wzkzn1lzWW/E5gNDd13fGNivy5AUQaj2X438hT+FFn28ZShsq1fVG62w9M+cTAyVYdh92D2Bd+OOGuwNSi64DNH4DVKICeICd6zGPP5xCh6Z1X7bfeZfdkFNebLbt/obLwxI+C+dk9hccH7xlM2bPlrlk+MR6/EjsxQKJpuhhV/GJyNL0WnZ3QhsUcrpcDepuFfItt2nqndxd6D0zQ7vKPT0ivBeLstTrkb8mtvRg6w1EDquE7PsykSV74eVDGLPEHOAsyf/WerC3YX8SeSi8Avfr8G9Z/Y3d/fLUt2fsL3k7i5wD+cGh+45ThXhwUWvrSr9oz9J/8MztVy7a9vEC625VVMvf0BAADYqJCpPR4mFAwMeH1Pgik5cZ79Asfz0eeTIQVpiJiZkYBcRqDQ6MDDgVGRptIhOk0zF57+w+/91f9sSnV6hglNDPsf+v+YVv0QiBIoPP0M/+rZhKJNkkszDsSEnuMkRuPS58Y4xeuWlFkKTz71ifyFwhNP/E8nk8wMExr1e32B5+wM1+KbV+qWjAO7eTTgGwgoBI28aIQZVrSJnIQerYKqf1NrWwzZMXspQMMscaDQwIWmi4MSN+NG4JHd9N5f9WIvRayG/eXBoNL+AAAAbFgSUXsbD8VFOWnAa6+5tDD2rQ5g4zP30LLXvEoSigTmeXfj3v2KSwXQcOfnjsghfAAAAMAGANTexgMFr9XkfSLsMgE2Lmh2+P4NZ68/OBPst3x4KHZGzJrD74qlc2q7RiSjZcxUwHnhkm8GxB4AAMAGIq3VnrBCPPoNtLQATfWbjZHtIMAGhjsJiF0wxq4tq7QPife8rznh36/WFuLc0bl7Pm74wmK97LBbLaeOVxsbLvtewRQnAADAxiJd1d6bgPOb5rrqCh6jqeH09UDc+cAblMXpPnNpjfgwFGDDwox5rE1Vxtpm2/3R5Bf8rRjsR8lcF9tb66qMbA362urofbyMhYkAAADAmpHeM7npBprwdl2J7tgFAAAAAADQB9QeAAAAAABAOgNqDwAAAAAAIJ0BtQcAAAAAAJDOgNoDAAAAAABIZ0DtAQAAAAAApDOg9gAAAAAAANIZUHsAAAAAAADpDKg9AAAAAACA9OXdu/8/JX3yN47DYxsAAAAASUVORK5CYII=)"
      ]
    },
    {
      "cell_type": "markdown",
      "metadata": {
        "id": "58BRsLlWNncD",
        "colab_type": "text"
      },
      "source": [
        "In this example, I'm trying to replicate the following Stata code.\n",
        "\n",
        "    //use jtrain1, clear\n",
        "    use http://www.stata.com/data/jwooldridge/eacsap/jtrain1, clear\n",
        "    xtreg lscrap d88 d89 union grant grant_1, i( fcode)"
      ]
    },
    {
      "cell_type": "code",
      "metadata": {
        "id": "zZFZQZeeDxE_",
        "colab_type": "code",
        "colab": {}
      },
      "source": [
        "import pandas as pd\n",
        "import pandas\n",
        "import statsmodels.formula.api as smf"
      ],
      "execution_count": 23,
      "outputs": []
    },
    {
      "cell_type": "code",
      "metadata": {
        "id": "k48Z73RqDxFB",
        "colab_type": "code",
        "colab": {}
      },
      "source": [
        "# #download and save the correct datasets\n",
        "# import urllib\n",
        "# testfile = urllib.request.URLopener()\n",
        "# testfile.retrieve(\"http://www.stata.com/data/jwooldridge/eacsap/jtrain1.dta\", \"jtrain1.dta\")"
      ],
      "execution_count": 24,
      "outputs": []
    },
    {
      "cell_type": "markdown",
      "metadata": {
        "id": "9lXZ9vBXDxFF",
        "colab_type": "text"
      },
      "source": [
        "Note that once you download this file, you need to use Stata to save this in Stata 11/12 format or it will not work. I have already done this and named the new copy of the file"
      ]
    },
    {
      "cell_type": "code",
      "metadata": {
        "id": "JUU1pb1tDxFF",
        "colab_type": "code",
        "colab": {}
      },
      "source": [
        "# Does not work with this version of Stata\n",
        "# df = pd.read_stata('jtrain1.dta')"
      ],
      "execution_count": 25,
      "outputs": []
    },
    {
      "cell_type": "code",
      "metadata": {
        "id": "KKFuVmTfDxFH",
        "colab_type": "code",
        "colab": {}
      },
      "source": [
        "#Open converted file\n",
        "url = \"http://www.stata.com/data/jwooldridge/eacsap/jtrain1.dta\"\n",
        "# df = pd.read_stata('St11-12_jtrain1.dta')\n",
        "df = pd.read_stata(url)"
      ],
      "execution_count": 26,
      "outputs": []
    },
    {
      "cell_type": "code",
      "metadata": {
        "id": "87uppNwHDxFK",
        "colab_type": "code",
        "colab": {
          "base_uri": "https://localhost:8080/",
          "height": 581
        },
        "outputId": "aa9d694d-6ebe-467a-8481-3dbafe8c94a7"
      },
      "source": [
        "# The Stata Reader doesn't work with all versions of Stata files\n",
        "# This Stata file has been converted to one that it can read.\n",
        "with open('St11-12_jtrain1.dta', 'rb') as file:\n",
        "    stata_file = sm.iolib.foreign.StataReader(file)\n",
        "\n",
        "# Print Variables names and labels\n",
        "for var in stata_file.variables():\n",
        "    print(f'{var.name}: {var.label}')"
      ],
      "execution_count": 27,
      "outputs": [
        {
          "output_type": "stream",
          "text": [
            "year: 1987, 1988, or 1989\n",
            "fcode: firm code number\n",
            "employ: # employees at plant\n",
            "sales: annual sales, $\n",
            "avgsal: average employee salary\n",
            "scrap: scrap rate (per 100 items)\n",
            "rework: rework rate (per 100 items)\n",
            "tothrs: total hours training\n",
            "union: =1 if unionized\n",
            "grant: = 1 if received grant\n",
            "d89: = 1 if year = 1989\n",
            "d88: = 1 if year = 1988\n",
            "totrain: total employees trained\n",
            "hrsemp: tothrs/totrain\n",
            "lscrap: log(scrap)\n",
            "lemploy: log(employ)\n",
            "lsales: log(sales)\n",
            "lrework: log(rework)\n",
            "lhrsemp: log(1 + hrsemp)\n",
            "lscrap_1: lagged lscrap; missing 1987\n",
            "grant_1: lagged grant; assumed 0 in 1987\n",
            "clscrap: lscrap - lscrap_1; year > 1987\n",
            "cgrant: grant - grant_1\n",
            "clemploy: lemploy - lemploy[_n-1]\n",
            "clsales: lavgsal - lavgsal[_n-1]\n",
            "lavgsal: log(avgsal)\n",
            "clavgsal: lavgsal - lavgsal[_n-1]\n",
            "cgrant_1: cgrant[_n-1]\n",
            "chrsemp: hrsemp - hrsemp[_n-1]\n",
            "clhrsemp: lhrsemp - lhrsemp[_n-1]\n"
          ],
          "name": "stdout"
        },
        {
          "output_type": "stream",
          "text": [
            "/usr/local/lib/python3.6/dist-packages/statsmodels/iolib/foreign.py:272: FutureWarning: StataReader is deprecated as of 0.10.0 and will be removed in a future version.  Use pandas.read_stata or pandas.io.stata.StataReader instead.\n",
            "  FutureWarning)\n"
          ],
          "name": "stderr"
        }
      ]
    },
    {
      "cell_type": "code",
      "metadata": {
        "id": "zkx2suGDDxFN",
        "colab_type": "code",
        "colab": {
          "base_uri": "https://localhost:8080/",
          "height": 224
        },
        "outputId": "c58c3d46-cca9-4518-e537-3ee5701d5ce9"
      },
      "source": [
        "#df = df.set_index(['year'])\n",
        "df.head()"
      ],
      "execution_count": 28,
      "outputs": [
        {
          "output_type": "execute_result",
          "data": {
            "text/html": [
              "<div>\n",
              "<style scoped>\n",
              "    .dataframe tbody tr th:only-of-type {\n",
              "        vertical-align: middle;\n",
              "    }\n",
              "\n",
              "    .dataframe tbody tr th {\n",
              "        vertical-align: top;\n",
              "    }\n",
              "\n",
              "    .dataframe thead th {\n",
              "        text-align: right;\n",
              "    }\n",
              "</style>\n",
              "<table border=\"1\" class=\"dataframe\">\n",
              "  <thead>\n",
              "    <tr style=\"text-align: right;\">\n",
              "      <th></th>\n",
              "      <th>year</th>\n",
              "      <th>fcode</th>\n",
              "      <th>employ</th>\n",
              "      <th>sales</th>\n",
              "      <th>avgsal</th>\n",
              "      <th>scrap</th>\n",
              "      <th>rework</th>\n",
              "      <th>tothrs</th>\n",
              "      <th>union</th>\n",
              "      <th>grant</th>\n",
              "      <th>d89</th>\n",
              "      <th>d88</th>\n",
              "      <th>totrain</th>\n",
              "      <th>hrsemp</th>\n",
              "      <th>lscrap</th>\n",
              "      <th>lemploy</th>\n",
              "      <th>lsales</th>\n",
              "      <th>lrework</th>\n",
              "      <th>lhrsemp</th>\n",
              "      <th>lscrap_1</th>\n",
              "      <th>grant_1</th>\n",
              "      <th>clscrap</th>\n",
              "      <th>cgrant</th>\n",
              "      <th>clemploy</th>\n",
              "      <th>clsales</th>\n",
              "      <th>lavgsal</th>\n",
              "      <th>clavgsal</th>\n",
              "      <th>cgrant_1</th>\n",
              "      <th>chrsemp</th>\n",
              "      <th>clhrsemp</th>\n",
              "    </tr>\n",
              "  </thead>\n",
              "  <tbody>\n",
              "    <tr>\n",
              "      <th>0</th>\n",
              "      <td>1987</td>\n",
              "      <td>410032.0</td>\n",
              "      <td>100.0</td>\n",
              "      <td>47000000.0</td>\n",
              "      <td>35000.0</td>\n",
              "      <td>NaN</td>\n",
              "      <td>NaN</td>\n",
              "      <td>12.0</td>\n",
              "      <td>0</td>\n",
              "      <td>0</td>\n",
              "      <td>0</td>\n",
              "      <td>0</td>\n",
              "      <td>100.0</td>\n",
              "      <td>12.000000</td>\n",
              "      <td>NaN</td>\n",
              "      <td>4.605170</td>\n",
              "      <td>17.665659</td>\n",
              "      <td>NaN</td>\n",
              "      <td>2.564949</td>\n",
              "      <td>NaN</td>\n",
              "      <td>0</td>\n",
              "      <td>NaN</td>\n",
              "      <td>0</td>\n",
              "      <td>NaN</td>\n",
              "      <td>NaN</td>\n",
              "      <td>10.463103</td>\n",
              "      <td>NaN</td>\n",
              "      <td>NaN</td>\n",
              "      <td>NaN</td>\n",
              "      <td>NaN</td>\n",
              "    </tr>\n",
              "    <tr>\n",
              "      <th>1</th>\n",
              "      <td>1988</td>\n",
              "      <td>410032.0</td>\n",
              "      <td>131.0</td>\n",
              "      <td>43000000.0</td>\n",
              "      <td>37000.0</td>\n",
              "      <td>NaN</td>\n",
              "      <td>NaN</td>\n",
              "      <td>8.0</td>\n",
              "      <td>0</td>\n",
              "      <td>0</td>\n",
              "      <td>0</td>\n",
              "      <td>1</td>\n",
              "      <td>50.0</td>\n",
              "      <td>3.053435</td>\n",
              "      <td>NaN</td>\n",
              "      <td>4.875197</td>\n",
              "      <td>17.576710</td>\n",
              "      <td>NaN</td>\n",
              "      <td>1.399565</td>\n",
              "      <td>NaN</td>\n",
              "      <td>0</td>\n",
              "      <td>NaN</td>\n",
              "      <td>0</td>\n",
              "      <td>0.270027</td>\n",
              "      <td>-0.088949</td>\n",
              "      <td>10.518673</td>\n",
              "      <td>0.055570</td>\n",
              "      <td>0.0</td>\n",
              "      <td>-8.946565</td>\n",
              "      <td>-1.165385</td>\n",
              "    </tr>\n",
              "    <tr>\n",
              "      <th>2</th>\n",
              "      <td>1989</td>\n",
              "      <td>410032.0</td>\n",
              "      <td>123.0</td>\n",
              "      <td>49000000.0</td>\n",
              "      <td>39000.0</td>\n",
              "      <td>NaN</td>\n",
              "      <td>NaN</td>\n",
              "      <td>8.0</td>\n",
              "      <td>0</td>\n",
              "      <td>0</td>\n",
              "      <td>1</td>\n",
              "      <td>0</td>\n",
              "      <td>50.0</td>\n",
              "      <td>3.252033</td>\n",
              "      <td>NaN</td>\n",
              "      <td>4.812184</td>\n",
              "      <td>17.707331</td>\n",
              "      <td>NaN</td>\n",
              "      <td>1.447397</td>\n",
              "      <td>NaN</td>\n",
              "      <td>0</td>\n",
              "      <td>NaN</td>\n",
              "      <td>0</td>\n",
              "      <td>-0.063013</td>\n",
              "      <td>0.130621</td>\n",
              "      <td>10.571317</td>\n",
              "      <td>0.052644</td>\n",
              "      <td>0.0</td>\n",
              "      <td>0.198597</td>\n",
              "      <td>0.047832</td>\n",
              "    </tr>\n",
              "    <tr>\n",
              "      <th>3</th>\n",
              "      <td>1987</td>\n",
              "      <td>410440.0</td>\n",
              "      <td>12.0</td>\n",
              "      <td>1560000.0</td>\n",
              "      <td>10500.0</td>\n",
              "      <td>NaN</td>\n",
              "      <td>NaN</td>\n",
              "      <td>12.0</td>\n",
              "      <td>0</td>\n",
              "      <td>0</td>\n",
              "      <td>0</td>\n",
              "      <td>0</td>\n",
              "      <td>12.0</td>\n",
              "      <td>12.000000</td>\n",
              "      <td>NaN</td>\n",
              "      <td>2.484907</td>\n",
              "      <td>14.260197</td>\n",
              "      <td>NaN</td>\n",
              "      <td>2.564949</td>\n",
              "      <td>NaN</td>\n",
              "      <td>0</td>\n",
              "      <td>NaN</td>\n",
              "      <td>0</td>\n",
              "      <td>NaN</td>\n",
              "      <td>NaN</td>\n",
              "      <td>9.259130</td>\n",
              "      <td>NaN</td>\n",
              "      <td>NaN</td>\n",
              "      <td>NaN</td>\n",
              "      <td>NaN</td>\n",
              "    </tr>\n",
              "    <tr>\n",
              "      <th>4</th>\n",
              "      <td>1988</td>\n",
              "      <td>410440.0</td>\n",
              "      <td>13.0</td>\n",
              "      <td>1970000.0</td>\n",
              "      <td>11000.0</td>\n",
              "      <td>NaN</td>\n",
              "      <td>NaN</td>\n",
              "      <td>12.0</td>\n",
              "      <td>0</td>\n",
              "      <td>0</td>\n",
              "      <td>0</td>\n",
              "      <td>1</td>\n",
              "      <td>13.0</td>\n",
              "      <td>12.000000</td>\n",
              "      <td>NaN</td>\n",
              "      <td>2.564949</td>\n",
              "      <td>14.493544</td>\n",
              "      <td>NaN</td>\n",
              "      <td>2.564949</td>\n",
              "      <td>NaN</td>\n",
              "      <td>0</td>\n",
              "      <td>NaN</td>\n",
              "      <td>0</td>\n",
              "      <td>0.080043</td>\n",
              "      <td>0.233347</td>\n",
              "      <td>9.305651</td>\n",
              "      <td>0.046520</td>\n",
              "      <td>0.0</td>\n",
              "      <td>0.000000</td>\n",
              "      <td>0.000000</td>\n",
              "    </tr>\n",
              "  </tbody>\n",
              "</table>\n",
              "</div>"
            ],
            "text/plain": [
              "   year     fcode  employ       sales  ...  clavgsal  cgrant_1   chrsemp  clhrsemp\n",
              "0  1987  410032.0   100.0  47000000.0  ...       NaN       NaN       NaN       NaN\n",
              "1  1988  410032.0   131.0  43000000.0  ...  0.055570       0.0 -8.946565 -1.165385\n",
              "2  1989  410032.0   123.0  49000000.0  ...  0.052644       0.0  0.198597  0.047832\n",
              "3  1987  410440.0    12.0   1560000.0  ...       NaN       NaN       NaN       NaN\n",
              "4  1988  410440.0    13.0   1970000.0  ...  0.046520       0.0  0.000000  0.000000\n",
              "\n",
              "[5 rows x 30 columns]"
            ]
          },
          "metadata": {
            "tags": []
          },
          "execution_count": 28
        }
      ]
    },
    {
      "cell_type": "code",
      "metadata": {
        "id": "8FelRHNhDxFQ",
        "colab_type": "code",
        "colab": {
          "base_uri": "https://localhost:8080/",
          "height": 297
        },
        "outputId": "ebbc79b9-8879-4639-9d80-e549b03c0789"
      },
      "source": [
        "df[['lscrap', 'union', 'fcode','sales', 'rework']].describe()"
      ],
      "execution_count": 29,
      "outputs": [
        {
          "output_type": "execute_result",
          "data": {
            "text/html": [
              "<div>\n",
              "<style scoped>\n",
              "    .dataframe tbody tr th:only-of-type {\n",
              "        vertical-align: middle;\n",
              "    }\n",
              "\n",
              "    .dataframe tbody tr th {\n",
              "        vertical-align: top;\n",
              "    }\n",
              "\n",
              "    .dataframe thead th {\n",
              "        text-align: right;\n",
              "    }\n",
              "</style>\n",
              "<table border=\"1\" class=\"dataframe\">\n",
              "  <thead>\n",
              "    <tr style=\"text-align: right;\">\n",
              "      <th></th>\n",
              "      <th>lscrap</th>\n",
              "      <th>union</th>\n",
              "      <th>fcode</th>\n",
              "      <th>sales</th>\n",
              "      <th>rework</th>\n",
              "    </tr>\n",
              "  </thead>\n",
              "  <tbody>\n",
              "    <tr>\n",
              "      <th>count</th>\n",
              "      <td>162.000000</td>\n",
              "      <td>471.000000</td>\n",
              "      <td>471.000000</td>\n",
              "      <td>373.0</td>\n",
              "      <td>123.000000</td>\n",
              "    </tr>\n",
              "    <tr>\n",
              "      <th>mean</th>\n",
              "      <td>0.393681</td>\n",
              "      <td>0.197452</td>\n",
              "      <td>415709.000000</td>\n",
              "      <td>6116037.0</td>\n",
              "      <td>3.473984</td>\n",
              "    </tr>\n",
              "    <tr>\n",
              "      <th>std</th>\n",
              "      <td>1.486471</td>\n",
              "      <td>0.398500</td>\n",
              "      <td>4022.922363</td>\n",
              "      <td>7912517.0</td>\n",
              "      <td>5.462482</td>\n",
              "    </tr>\n",
              "    <tr>\n",
              "      <th>min</th>\n",
              "      <td>-4.605170</td>\n",
              "      <td>0.000000</td>\n",
              "      <td>410032.000000</td>\n",
              "      <td>110000.0</td>\n",
              "      <td>0.000000</td>\n",
              "    </tr>\n",
              "    <tr>\n",
              "      <th>25%</th>\n",
              "      <td>-0.523431</td>\n",
              "      <td>0.000000</td>\n",
              "      <td>410604.000000</td>\n",
              "      <td>1550000.0</td>\n",
              "      <td>0.350000</td>\n",
              "    </tr>\n",
              "    <tr>\n",
              "      <th>50%</th>\n",
              "      <td>0.347123</td>\n",
              "      <td>0.000000</td>\n",
              "      <td>418084.000000</td>\n",
              "      <td>3000000.0</td>\n",
              "      <td>1.160000</td>\n",
              "    </tr>\n",
              "    <tr>\n",
              "      <th>75%</th>\n",
              "      <td>1.386294</td>\n",
              "      <td>0.000000</td>\n",
              "      <td>419309.000000</td>\n",
              "      <td>7700000.0</td>\n",
              "      <td>4.000000</td>\n",
              "    </tr>\n",
              "    <tr>\n",
              "      <th>max</th>\n",
              "      <td>3.401197</td>\n",
              "      <td>1.000000</td>\n",
              "      <td>419486.000000</td>\n",
              "      <td>54000000.0</td>\n",
              "      <td>40.000000</td>\n",
              "    </tr>\n",
              "  </tbody>\n",
              "</table>\n",
              "</div>"
            ],
            "text/plain": [
              "           lscrap       union          fcode       sales      rework\n",
              "count  162.000000  471.000000     471.000000       373.0  123.000000\n",
              "mean     0.393681    0.197452  415709.000000   6116037.0    3.473984\n",
              "std      1.486471    0.398500    4022.922363   7912517.0    5.462482\n",
              "min     -4.605170    0.000000  410032.000000    110000.0    0.000000\n",
              "25%     -0.523431    0.000000  410604.000000   1550000.0    0.350000\n",
              "50%      0.347123    0.000000  418084.000000   3000000.0    1.160000\n",
              "75%      1.386294    0.000000  419309.000000   7700000.0    4.000000\n",
              "max      3.401197    1.000000  419486.000000  54000000.0   40.000000"
            ]
          },
          "metadata": {
            "tags": []
          },
          "execution_count": 29
        }
      ]
    },
    {
      "cell_type": "markdown",
      "metadata": {
        "id": "aPLrZa5MDxFS",
        "colab_type": "text"
      },
      "source": [
        "#### With `statsmodels`\n",
        "\n",
        "I believe that this is working because it doesn't know how to handle the missing data. I'm going to drop all the missing data and then try again."
      ]
    },
    {
      "cell_type": "code",
      "metadata": {
        "id": "Jh8zNeADDxFT",
        "colab_type": "code",
        "colab": {}
      },
      "source": [
        "# The following wont work if you don't drop the missing values.\n",
        "df2 = df.copy()\n",
        "\n",
        "# df2 = df[['lscrap', 'd88', 'd89', 'union', 'grant', 'grant_1', 'fcode']].dropna()"
      ],
      "execution_count": 30,
      "outputs": []
    },
    {
      "cell_type": "code",
      "metadata": {
        "id": "hCjWkA5BDxFV",
        "colab_type": "code",
        "colab": {}
      },
      "source": [
        "# The following wont work if you don't drop the missing values.\n",
        "\n",
        "# md = smf.mixedlm(\"lscrap ~ d88 + d89 + union + grant + grant_1\", df2, groups=df2[\"fcode\"])\n",
        "# mdf = md.fit() \n",
        "# mdf.summary()"
      ],
      "execution_count": 31,
      "outputs": []
    },
    {
      "cell_type": "code",
      "metadata": {
        "id": "0kNn9L60DxFY",
        "colab_type": "code",
        "colab": {}
      },
      "source": [
        "# The following wont work if you don't drop the missing values.\n",
        "\n",
        "# md = smf.mixedlm(\"lscrap ~ union\", df2, groups=df2[\"fcode\"])\n",
        "# mdf = md.fit() \n",
        "# mdf.summary()"
      ],
      "execution_count": 32,
      "outputs": []
    },
    {
      "cell_type": "code",
      "metadata": {
        "id": "-r8CyUmIDxFa",
        "colab_type": "code",
        "colab": {
          "base_uri": "https://localhost:8080/",
          "height": 315
        },
        "outputId": "61b3ec7f-83e9-47ce-f872-066b581e1f3a"
      },
      "source": [
        "df2 = df[['lscrap', 'd88', 'd89', 'union', 'grant', 'grant_1', 'fcode']].dropna()\n",
        "md = smf.mixedlm(\"lscrap ~ d88 + d89 + union + grant + grant_1\", df2, groups=df2[\"fcode\"])\n",
        "mdf = md.fit() \n",
        "mdf.summary()"
      ],
      "execution_count": 33,
      "outputs": [
        {
          "output_type": "execute_result",
          "data": {
            "text/html": [
              "<table class=\"simpletable\">\n",
              "<tr>\n",
              "       <td>Model:</td>       <td>MixedLM</td> <td>Dependent Variable:</td>  <td>lscrap</td>  \n",
              "</tr>\n",
              "<tr>\n",
              "  <td>No. Observations:</td>   <td>162</td>         <td>Method:</td>         <td>REML</td>   \n",
              "</tr>\n",
              "<tr>\n",
              "     <td>No. Groups:</td>      <td>54</td>          <td>Scale:</td>         <td>0.2478</td>  \n",
              "</tr>\n",
              "<tr>\n",
              "  <td>Min. group size:</td>     <td>3</td>        <td>Likelihood:</td>     <td>-205.9266</td>\n",
              "</tr>\n",
              "<tr>\n",
              "  <td>Max. group size:</td>     <td>3</td>        <td>Converged:</td>         <td>Yes</td>   \n",
              "</tr>\n",
              "<tr>\n",
              "  <td>Mean group size:</td>    <td>3.0</td>            <td></td>               <td></td>     \n",
              "</tr>\n",
              "</table>\n",
              "<table class=\"simpletable\">\n",
              "<tr>\n",
              "      <td></td>       <th>Coef.</th> <th>Std.Err.</th>    <th>z</th>   <th>P>|z|</th> <th>[0.025</th> <th>0.975]</th>\n",
              "</tr>\n",
              "<tr>\n",
              "  <th>Intercept</th>  <td>0.415</td>   <td>0.244</td>   <td>1.698</td> <td>0.089</td> <td>-0.064</td>  <td>0.894</td>\n",
              "</tr>\n",
              "<tr>\n",
              "  <th>d88</th>       <td>-0.093</td>   <td>0.109</td>  <td>-0.856</td> <td>0.392</td> <td>-0.307</td>  <td>0.120</td>\n",
              "</tr>\n",
              "<tr>\n",
              "  <th>d89</th>       <td>-0.270</td>   <td>0.132</td>  <td>-2.050</td> <td>0.040</td> <td>-0.527</td> <td>-0.012</td>\n",
              "</tr>\n",
              "<tr>\n",
              "  <th>union</th>      <td>0.548</td>   <td>0.412</td>   <td>1.329</td> <td>0.184</td> <td>-0.260</td>  <td>1.356</td>\n",
              "</tr>\n",
              "<tr>\n",
              "  <th>grant</th>     <td>-0.215</td>   <td>0.148</td>  <td>-1.455</td> <td>0.146</td> <td>-0.505</td>  <td>0.075</td>\n",
              "</tr>\n",
              "<tr>\n",
              "  <th>grant_1</th>   <td>-0.378</td>   <td>0.205</td>  <td>-1.839</td> <td>0.066</td> <td>-0.780</td>  <td>0.025</td>\n",
              "</tr>\n",
              "<tr>\n",
              "  <th>Group Var</th>  <td>1.955</td>   <td>0.984</td>     <td></td>      <td></td>       <td></td>       <td></td>   \n",
              "</tr>\n",
              "</table>"
            ],
            "text/plain": [
              "<class 'statsmodels.iolib.summary2.Summary'>\n",
              "\"\"\"\n",
              "         Mixed Linear Model Regression Results\n",
              "=======================================================\n",
              "Model:            MixedLM Dependent Variable: lscrap   \n",
              "No. Observations: 162     Method:             REML     \n",
              "No. Groups:       54      Scale:              0.2478   \n",
              "Min. group size:  3       Likelihood:         -205.9266\n",
              "Max. group size:  3       Converged:          Yes      \n",
              "Mean group size:  3.0                                  \n",
              "-------------------------------------------------------\n",
              "             Coef.  Std.Err.   z    P>|z| [0.025 0.975]\n",
              "-------------------------------------------------------\n",
              "Intercept     0.415    0.244  1.698 0.089 -0.064  0.894\n",
              "d88          -0.093    0.109 -0.856 0.392 -0.307  0.120\n",
              "d89          -0.270    0.132 -2.050 0.040 -0.527 -0.012\n",
              "union         0.548    0.412  1.329 0.184 -0.260  1.356\n",
              "grant        -0.215    0.148 -1.455 0.146 -0.505  0.075\n",
              "grant_1      -0.378    0.205 -1.839 0.066 -0.780  0.025\n",
              "Group Var     1.955    0.984                           \n",
              "=======================================================\n",
              "\n",
              "\"\"\""
            ]
          },
          "metadata": {
            "tags": []
          },
          "execution_count": 33
        }
      ]
    },
    {
      "cell_type": "markdown",
      "metadata": {
        "id": "xPQNbCohDxFc",
        "colab_type": "text"
      },
      "source": [
        "#### With `linearmodels`"
      ]
    },
    {
      "cell_type": "code",
      "metadata": {
        "id": "DKBZGPvgDxFc",
        "colab_type": "code",
        "colab": {
          "base_uri": "https://localhost:8080/",
          "height": 576
        },
        "outputId": "39d2a19a-645e-4257-ab9f-3db96ef9fe24"
      },
      "source": [
        "df2 = df[['lscrap', 'd88', 'd89', 'union', 'grant', 'grant_1', 'fcode', 'year']].dropna().set_index(['fcode', 'year'])\n",
        "md = linearmodels.RandomEffects.from_formula(\"lscrap ~ 1+ d88 + d89 + union + grant + grant_1 + EntityEffects\", data=df2)\n",
        "mdf = md.fit() \n",
        "mdf"
      ],
      "execution_count": 34,
      "outputs": [
        {
          "output_type": "execute_result",
          "data": {
            "text/html": [
              "<table class=\"simpletable\">\n",
              "<caption>RandomEffects Estimation Summary</caption>\n",
              "<tr>\n",
              "  <th>Dep. Variable:</th>         <td>lscrap</td>      <th>  R-squared:         </th>    <td>0.1486</td> \n",
              "</tr>\n",
              "<tr>\n",
              "  <th>Estimator:</th>          <td>RandomEffects</td>  <th>  R-squared (Between):</th>   <td>0.0184</td> \n",
              "</tr>\n",
              "<tr>\n",
              "  <th>No. Observations:</th>        <td>162</td>       <th>  R-squared (Within):</th>    <td>0.2005</td> \n",
              "</tr>\n",
              "<tr>\n",
              "  <th>Date:</th>             <td>Tue, Aug 25 2020</td> <th>  R-squared (Overall):</th>   <td>0.0349</td> \n",
              "</tr>\n",
              "<tr>\n",
              "  <th>Time:</th>                 <td>20:24:15</td>     <th>  Log-likelihood     </th>    <td>-113.26</td>\n",
              "</tr>\n",
              "<tr>\n",
              "  <th>Cov. Estimator:</th>      <td>Unadjusted</td>    <th>                     </th>       <td></td>    \n",
              "</tr>\n",
              "<tr>\n",
              "  <th></th>                          <td></td>         <th>  F-statistic:       </th>    <td>5.4474</td> \n",
              "</tr>\n",
              "<tr>\n",
              "  <th>Entities:</th>                <td>54</td>        <th>  P-value            </th>    <td>0.0001</td> \n",
              "</tr>\n",
              "<tr>\n",
              "  <th>Avg Obs:</th>               <td>3.0000</td>      <th>  Distribution:      </th>   <td>F(5,156)</td>\n",
              "</tr>\n",
              "<tr>\n",
              "  <th>Min Obs:</th>               <td>3.0000</td>      <th>                     </th>       <td></td>    \n",
              "</tr>\n",
              "<tr>\n",
              "  <th>Max Obs:</th>               <td>3.0000</td>      <th>  F-statistic (robust):</th>  <td>5.4474</td> \n",
              "</tr>\n",
              "<tr>\n",
              "  <th></th>                          <td></td>         <th>  P-value            </th>    <td>0.0001</td> \n",
              "</tr>\n",
              "<tr>\n",
              "  <th>Time periods:</th>             <td>3</td>        <th>  Distribution:      </th>   <td>F(5,156)</td>\n",
              "</tr>\n",
              "<tr>\n",
              "  <th>Avg Obs:</th>               <td>54.000</td>      <th>                     </th>       <td></td>    \n",
              "</tr>\n",
              "<tr>\n",
              "  <th>Min Obs:</th>               <td>54.000</td>      <th>                     </th>       <td></td>    \n",
              "</tr>\n",
              "<tr>\n",
              "  <th>Max Obs:</th>               <td>54.000</td>      <th>                     </th>       <td></td>    \n",
              "</tr>\n",
              "<tr>\n",
              "  <th></th>                          <td></td>         <th>                     </th>       <td></td>    \n",
              "</tr>\n",
              "</table>\n",
              "<table class=\"simpletable\">\n",
              "<caption>Parameter Estimates</caption>\n",
              "<tr>\n",
              "      <td></td>      <th>Parameter</th> <th>Std. Err.</th> <th>T-stat</th>  <th>P-value</th> <th>Lower CI</th> <th>Upper CI</th>\n",
              "</tr>\n",
              "<tr>\n",
              "  <th>Intercept</th>  <td>0.4148</td>    <td>0.2458</td>   <td>1.6878</td>  <td>0.0935</td>   <td>-0.0707</td>  <td>0.9003</td> \n",
              "</tr>\n",
              "<tr>\n",
              "  <th>d88</th>        <td>-0.0931</td>   <td>0.1086</td>   <td>-0.8569</td> <td>0.3928</td>   <td>-0.3076</td>  <td>0.1215</td> \n",
              "</tr>\n",
              "<tr>\n",
              "  <th>d89</th>        <td>-0.2692</td>   <td>0.1310</td>   <td>-2.0544</td> <td>0.0416</td>   <td>-0.5280</td>  <td>-0.0104</td>\n",
              "</tr>\n",
              "<tr>\n",
              "  <th>union</th>      <td>0.5478</td>    <td>0.4149</td>   <td>1.3204</td>  <td>0.1886</td>   <td>-0.2717</td>  <td>1.3674</td> \n",
              "</tr>\n",
              "<tr>\n",
              "  <th>grant</th>      <td>-0.2158</td>   <td>0.1471</td>   <td>-1.4669</td> <td>0.1444</td>   <td>-0.5064</td>  <td>0.0748</td> \n",
              "</tr>\n",
              "<tr>\n",
              "  <th>grant_1</th>    <td>-0.3784</td>   <td>0.2044</td>   <td>-1.8506</td> <td>0.0661</td>   <td>-0.7822</td>  <td>0.0255</td> \n",
              "</tr>\n",
              "</table><br/>id: 0x7fa9338806d8"
            ],
            "text/plain": [
              "                        RandomEffects Estimation Summary                        \n",
              "================================================================================\n",
              "Dep. Variable:                 lscrap   R-squared:                        0.1486\n",
              "Estimator:              RandomEffects   R-squared (Between):              0.0184\n",
              "No. Observations:                 162   R-squared (Within):               0.2005\n",
              "Date:                Tue, Aug 25 2020   R-squared (Overall):              0.0349\n",
              "Time:                        20:24:15   Log-likelihood                   -113.26\n",
              "Cov. Estimator:            Unadjusted                                           \n",
              "                                        F-statistic:                      5.4474\n",
              "Entities:                          54   P-value                           0.0001\n",
              "Avg Obs:                       3.0000   Distribution:                   F(5,156)\n",
              "Min Obs:                       3.0000                                           \n",
              "Max Obs:                       3.0000   F-statistic (robust):             5.4474\n",
              "                                        P-value                           0.0001\n",
              "Time periods:                       3   Distribution:                   F(5,156)\n",
              "Avg Obs:                       54.000                                           \n",
              "Min Obs:                       54.000                                           \n",
              "Max Obs:                       54.000                                           \n",
              "                                                                                \n",
              "                             Parameter Estimates                              \n",
              "==============================================================================\n",
              "            Parameter  Std. Err.     T-stat    P-value    Lower CI    Upper CI\n",
              "------------------------------------------------------------------------------\n",
              "Intercept      0.4148     0.2458     1.6878     0.0935     -0.0707      0.9003\n",
              "d88           -0.0931     0.1086    -0.8569     0.3928     -0.3076      0.1215\n",
              "d89           -0.2692     0.1310    -2.0544     0.0416     -0.5280     -0.0104\n",
              "union          0.5478     0.4149     1.3204     0.1886     -0.2717      1.3674\n",
              "grant         -0.2158     0.1471    -1.4669     0.1444     -0.5064      0.0748\n",
              "grant_1       -0.3784     0.2044    -1.8506     0.0661     -0.7822      0.0255\n",
              "==============================================================================\n",
              "RandomEffectsResults, id: 0x7fa9338806d8"
            ]
          },
          "metadata": {
            "tags": []
          },
          "execution_count": 34
        }
      ]
    },
    {
      "cell_type": "markdown",
      "metadata": {
        "id": "6QF9s2HUDxFf",
        "colab_type": "text"
      },
      "source": [
        "#### With `plm` in R\n",
        "\n",
        "Some info on how to do this in R: https://dss.princeton.edu/training/Panel101R.pdf"
      ]
    },
    {
      "cell_type": "code",
      "metadata": {
        "id": "rRWbnRlSDxFg",
        "colab_type": "code",
        "colab": {}
      },
      "source": [
        "dfr = df2.reset_index()"
      ],
      "execution_count": 35,
      "outputs": []
    },
    {
      "cell_type": "code",
      "metadata": {
        "id": "lI53HmIkDxFi",
        "colab_type": "code",
        "colab": {
          "base_uri": "https://localhost:8080/",
          "height": 612
        },
        "outputId": "892fad20-ee3f-4a93-a5d9-c823b47bd771"
      },
      "source": [
        "%%R -i dfr\n",
        "reg = plm(lscrap ~ d88 + d89 + union + grant + grant_1, data=dfr, index=c('fcode'), model='random')\n",
        "summary(reg)"
      ],
      "execution_count": 36,
      "outputs": [
        {
          "output_type": "stream",
          "text": [
            "Oneway (individual) effect Random Effect Model \n",
            "   (Swamy-Arora's transformation)\n",
            "\n",
            "Call:\n",
            "plm(formula = lscrap ~ d88 + d89 + union + grant + grant_1, data = dfr, \n",
            "    model = \"random\", index = c(\"fcode\"))\n",
            "\n",
            "Balanced Panel: n = 54, T = 3, N = 162\n",
            "\n",
            "Effects:\n",
            "                 var std.dev share\n",
            "idiosyncratic 0.2477  0.4977 0.114\n",
            "individual    1.9322  1.3900 0.886\n",
            "theta: 0.7975\n",
            "\n",
            "Residuals:\n",
            "     Min.   1st Qu.    Median   3rd Qu.      Max. \n",
            "-2.546798 -0.223892  0.040554  0.255287  1.549792 \n",
            "\n",
            "Coefficients:\n",
            "             Estimate Std. Error z-value Pr(>|z|)  \n",
            "(Intercept)  0.414833   0.243432  1.7041  0.08836 .\n",
            "d88         -0.093452   0.109156 -0.8561  0.39192  \n",
            "d89         -0.269834   0.131650 -2.0496  0.04040 *\n",
            "union        0.547802   0.410625  1.3341  0.18218  \n",
            "grant       -0.214696   0.147784 -1.4528  0.14629  \n",
            "grant_1     -0.377070   0.205352 -1.8362  0.06633 .\n",
            "---\n",
            "Signif. codes:  0 ‘***’ 0.001 ‘**’ 0.01 ‘*’ 0.05 ‘.’ 0.1 ‘ ’ 1\n",
            "\n",
            "Total Sum of Squares:    45.509\n",
            "Residual Sum of Squares: 38.798\n",
            "R-Squared:      0.14748\n",
            "Adj. R-Squared: 0.12015\n",
            "Chisq: 26.9867 on 5 DF, p-value: 5.7383e-05\n"
          ],
          "name": "stdout"
        }
      ]
    },
    {
      "cell_type": "markdown",
      "metadata": {
        "id": "n-LyTpNZDxFk",
        "colab_type": "text"
      },
      "source": [
        "If I don't include the index, not that R still understands the\n",
        "Panel structure:\n",
        "\n",
        "    Balanced Panel: n=54, T=3, N=162\n",
        "\n",
        "That is because it simply assumes that the\n",
        "first column is the entity and the second is the time variable. Also, notice that the default is entity effects."
      ]
    },
    {
      "cell_type": "code",
      "metadata": {
        "id": "P8d_xwyzDxFk",
        "colab_type": "code",
        "colab": {
          "base_uri": "https://localhost:8080/",
          "height": 612
        },
        "outputId": "cbf42b56-d10e-4bab-b3f9-6ef417d7aa8c"
      },
      "source": [
        "%%R -i dfr\n",
        "# This works too.\n",
        "reg = plm(lscrap ~ d88 + d89 + union + grant + grant_1, data=dfr, model='random')\n",
        "summary(reg)"
      ],
      "execution_count": 37,
      "outputs": [
        {
          "output_type": "stream",
          "text": [
            "Oneway (individual) effect Random Effect Model \n",
            "   (Swamy-Arora's transformation)\n",
            "\n",
            "Call:\n",
            "plm(formula = lscrap ~ d88 + d89 + union + grant + grant_1, data = dfr, \n",
            "    model = \"random\")\n",
            "\n",
            "Balanced Panel: n = 54, T = 3, N = 162\n",
            "\n",
            "Effects:\n",
            "                 var std.dev share\n",
            "idiosyncratic 0.2477  0.4977 0.114\n",
            "individual    1.9322  1.3900 0.886\n",
            "theta: 0.7975\n",
            "\n",
            "Residuals:\n",
            "     Min.   1st Qu.    Median   3rd Qu.      Max. \n",
            "-2.546798 -0.223892  0.040554  0.255287  1.549792 \n",
            "\n",
            "Coefficients:\n",
            "             Estimate Std. Error z-value Pr(>|z|)  \n",
            "(Intercept)  0.414833   0.243432  1.7041  0.08836 .\n",
            "d88         -0.093452   0.109156 -0.8561  0.39192  \n",
            "d89         -0.269834   0.131650 -2.0496  0.04040 *\n",
            "union        0.547802   0.410625  1.3341  0.18218  \n",
            "grant       -0.214696   0.147784 -1.4528  0.14629  \n",
            "grant_1     -0.377070   0.205352 -1.8362  0.06633 .\n",
            "---\n",
            "Signif. codes:  0 ‘***’ 0.001 ‘**’ 0.01 ‘*’ 0.05 ‘.’ 0.1 ‘ ’ 1\n",
            "\n",
            "Total Sum of Squares:    45.509\n",
            "Residual Sum of Squares: 38.798\n",
            "R-Squared:      0.14748\n",
            "Adj. R-Squared: 0.12015\n",
            "Chisq: 26.9867 on 5 DF, p-value: 5.7383e-05\n"
          ],
          "name": "stdout"
        }
      ]
    },
    {
      "cell_type": "code",
      "metadata": {
        "id": "47aorGRDDxFn",
        "colab_type": "code",
        "colab": {
          "base_uri": "https://localhost:8080/",
          "height": 34
        },
        "outputId": "81a2a211-8353-4720-d00e-d8be53f4db6e"
      },
      "source": [
        "%%R -i dfr\n",
        "# I'm not sure why this doesn't work.\n",
        "# reg = plm(lscrap ~ union + grant + grant_1, data=dfr, index=c('fcode', 'year'), model='random', effect='twoways')\n",
        "# summary(reg)"
      ],
      "execution_count": 38,
      "outputs": [
        {
          "output_type": "stream",
          "text": [
            "NULL\n"
          ],
          "name": "stdout"
        }
      ]
    },
    {
      "cell_type": "markdown",
      "metadata": {
        "id": "pfZPEJQ_DxFq",
        "colab_type": "text"
      },
      "source": [
        "#### In Stata\n",
        "\n",
        "Compare this to the Stata output here. They are the same\n",
        "\n",
        "```\n",
        "//use jtrain1, clear\n",
        "use http://www.stata.com/data/jwooldridge/eacsap/jtrain1, clear\n",
        "xtreg lscrap d88 d89 union grant grant_1, i( fcode)\n",
        "```\n",
        "\n",
        "```\n",
        "Random-effects GLS regression                   Number of obs      =       162\n",
        "Group variable (i): fcode                       Number of groups   =        54\n",
        "\n",
        "R-sq:  within  = 0.2006                         Obs per group: min =         3\n",
        "       between = 0.0206                                        avg =       3.0\n",
        "       overall = 0.0361                                        max =         3\n",
        "\n",
        "Random effects u_i ~ Gaussian                   Wald chi2(5)       =     26.99\n",
        "corr(u_i, X)       = 0 (assumed)                Prob > chi2        =    0.0001\n",
        "\n",
        "------------------------------------------------------------------------------\n",
        "      lscrap |      Coef.   Std. Err.      z    P>|z|     [95% Conf. Interval]\n",
        "-------------+----------------------------------------------------------------\n",
        "         d88 |  -.0934519   .1091559    -0.86   0.392    -.3073937    .1204898\n",
        "         d89 |  -.2698336   .1316496    -2.05   0.040     -.527862   -.0118052\n",
        "       union |   .5478021    .410625     1.33   0.182    -.2570081    1.352612\n",
        "       grant |   -.214696   .1477838    -1.45   0.146     -.504347    .0749549\n",
        "     grant_1 |  -.3770698   .2053516    -1.84   0.066    -.7795515    .0254119\n",
        "       _cons |   .4148333   .2434322     1.70   0.088    -.0622851    .8919518\n",
        "-------------+----------------------------------------------------------------\n",
        "     sigma_u |  1.3900287\n",
        "     sigma_e |  .49774421\n",
        "         rho |  .88634984   (fraction of variance due to u_i)\n",
        "------------------------------------------------------------------------------\n",
        "```"
      ]
    },
    {
      "cell_type": "markdown",
      "metadata": {
        "id": "qJucoB9dDxFr",
        "colab_type": "text"
      },
      "source": [
        "Below I give the Stata output when `robust` is used. The regular procedure above seems to be closer to the Python output.\n",
        "\n",
        "```\n",
        ". xtreg lscrap d88 d89 union grant grant_1, i( fcode) robust\n",
        "\n",
        "Random-effects GLS regression                   Number of obs     =        162\n",
        "Group variable: fcode                           Number of groups  =         54\n",
        "\n",
        "R-sq:                                           Obs per group:\n",
        "     within  = 0.2006                                         min =          3\n",
        "     between = 0.0206                                         avg =        3.0\n",
        "     overall = 0.0361                                         max =          3\n",
        "\n",
        "                                                Wald chi2(5)      =      27.65\n",
        "corr(u_i, X)   = 0 (assumed)                    Prob > chi2       =     0.0000\n",
        "\n",
        "                                 (Std. Err. adjusted for 54 clusters in fcode)\n",
        "------------------------------------------------------------------------------\n",
        "             |               Robust\n",
        "      lscrap |      Coef.   Std. Err.      z    P>|z|     [95% Conf. Interval]\n",
        "-------------+----------------------------------------------------------------\n",
        "         d88 |  -.0934519   .0938166    -1.00   0.319    -.2773291    .0904253\n",
        "         d89 |  -.2698336   .1885186    -1.43   0.152    -.6393232     .099656\n",
        "       union |   .5478021   .4023672     1.36   0.173     -.240823    1.336427\n",
        "       grant |  -.2146961   .1311183    -1.64   0.102    -.4716832    .0422911\n",
        "     grant_1 |  -.3770698   .2674417    -1.41   0.159    -.9012458    .1471062\n",
        "       _cons |   .4148333   .2673996     1.55   0.121    -.1092603     .938927\n",
        "-------------+----------------------------------------------------------------\n",
        "     sigma_u |  1.3900287\n",
        "     sigma_e |  .49774421\n",
        "         rho |  .88634984   (fraction of variance due to u_i)\n",
        "------------------------------------------------------------------------------\n",
        "```"
      ]
    },
    {
      "cell_type": "markdown",
      "metadata": {
        "id": "bR89U2LyDxFs",
        "colab_type": "text"
      },
      "source": [
        "As can be read here (http://statsmodels.sourceforge.net/devel/generated/statsmodels.regression.mixed_linear_model.MixedLM.from_formula.html), \"this method currently does not correctly handle missing values, so missing values should be explicitly dropped from the DataFrame before calling this method.\""
      ]
    },
    {
      "cell_type": "markdown",
      "metadata": {
        "id": "ynlwMHwrONar",
        "colab_type": "text"
      },
      "source": [
        "## Fixed Effects\n",
        "\n",
        "\n",
        "### Example 10.5 on page 272 using jtrain1.dta.\n",
        "\n"
      ]
    },
    {
      "cell_type": "markdown",
      "metadata": {
        "id": "aYXBHV4lOPMD",
        "colab_type": "text"
      },
      "source": [
        "![Example_10_5_Wooldridge_Panel.png](data:image/png;base64,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)"
      ]
    },
    {
      "cell_type": "markdown",
      "metadata": {
        "id": "Yyf51IRwDxFs",
        "colab_type": "text"
      },
      "source": [
        "\n",
        "In this example, I'm trying to replicate the following Stata code.\n",
        "\n",
        "    //use jtrain1, clear\n",
        "    use http://www.stata.com/data/jwooldridge/eacsap/jtrain1, clear\n",
        "    xtreg lscrap d88 d89 union grant grant_1, i( fcode) fe\n",
        "    \n",
        "To do this, I'm going to use the direction that is given here: http://stackoverflow.com/questions/24195432/fixed-effect-in-pandas-or-statsmodels"
      ]
    },
    {
      "cell_type": "markdown",
      "metadata": {
        "id": "k5EDmfsDDxFt",
        "colab_type": "text"
      },
      "source": [
        "#### Using `linearmodels`"
      ]
    },
    {
      "cell_type": "code",
      "metadata": {
        "id": "MMJaTuCCDxFt",
        "colab_type": "code",
        "colab": {}
      },
      "source": [
        "import pandas as pd\n",
        "import pandas\n",
        "import statsmodels.formula.api as smf\n",
        "df = pd.read_stata('St11-12_jtrain1.dta')"
      ],
      "execution_count": 39,
      "outputs": []
    },
    {
      "cell_type": "code",
      "metadata": {
        "id": "-UOAUdk7DxFy",
        "colab_type": "code",
        "colab": {
          "base_uri": "https://localhost:8080/",
          "height": 119
        },
        "outputId": "dbc5ec1f-8d97-4dfe-a07b-45948904e65a"
      },
      "source": [
        "df.columns"
      ],
      "execution_count": 40,
      "outputs": [
        {
          "output_type": "execute_result",
          "data": {
            "text/plain": [
              "Index(['year', 'fcode', 'employ', 'sales', 'avgsal', 'scrap', 'rework',\n",
              "       'tothrs', 'union', 'grant', 'd89', 'd88', 'totrain', 'hrsemp', 'lscrap',\n",
              "       'lemploy', 'lsales', 'lrework', 'lhrsemp', 'lscrap_1', 'grant_1',\n",
              "       'clscrap', 'cgrant', 'clemploy', 'clsales', 'lavgsal', 'clavgsal',\n",
              "       'cgrant_1', 'chrsemp', 'clhrsemp'],\n",
              "      dtype='object')"
            ]
          },
          "metadata": {
            "tags": []
          },
          "execution_count": 40
        }
      ]
    },
    {
      "cell_type": "code",
      "metadata": {
        "id": "7i0I_mFFDxF1",
        "colab_type": "code",
        "colab": {
          "base_uri": "https://localhost:8080/",
          "height": 235
        },
        "outputId": "dab43a9d-b675-48b3-e812-51479042b171"
      },
      "source": [
        "df2.head()"
      ],
      "execution_count": 41,
      "outputs": [
        {
          "output_type": "execute_result",
          "data": {
            "text/html": [
              "<div>\n",
              "<style scoped>\n",
              "    .dataframe tbody tr th:only-of-type {\n",
              "        vertical-align: middle;\n",
              "    }\n",
              "\n",
              "    .dataframe tbody tr th {\n",
              "        vertical-align: top;\n",
              "    }\n",
              "\n",
              "    .dataframe thead th {\n",
              "        text-align: right;\n",
              "    }\n",
              "</style>\n",
              "<table border=\"1\" class=\"dataframe\">\n",
              "  <thead>\n",
              "    <tr style=\"text-align: right;\">\n",
              "      <th></th>\n",
              "      <th></th>\n",
              "      <th>lscrap</th>\n",
              "      <th>d88</th>\n",
              "      <th>d89</th>\n",
              "      <th>union</th>\n",
              "      <th>grant</th>\n",
              "      <th>grant_1</th>\n",
              "    </tr>\n",
              "    <tr>\n",
              "      <th>fcode</th>\n",
              "      <th>year</th>\n",
              "      <th></th>\n",
              "      <th></th>\n",
              "      <th></th>\n",
              "      <th></th>\n",
              "      <th></th>\n",
              "      <th></th>\n",
              "    </tr>\n",
              "  </thead>\n",
              "  <tbody>\n",
              "    <tr>\n",
              "      <th rowspan=\"3\" valign=\"top\">410523.0</th>\n",
              "      <th>1987</th>\n",
              "      <td>-2.813411</td>\n",
              "      <td>0</td>\n",
              "      <td>0</td>\n",
              "      <td>0</td>\n",
              "      <td>0</td>\n",
              "      <td>0</td>\n",
              "    </tr>\n",
              "    <tr>\n",
              "      <th>1988</th>\n",
              "      <td>-2.995732</td>\n",
              "      <td>1</td>\n",
              "      <td>0</td>\n",
              "      <td>0</td>\n",
              "      <td>0</td>\n",
              "      <td>0</td>\n",
              "    </tr>\n",
              "    <tr>\n",
              "      <th>1989</th>\n",
              "      <td>-2.995732</td>\n",
              "      <td>0</td>\n",
              "      <td>1</td>\n",
              "      <td>0</td>\n",
              "      <td>0</td>\n",
              "      <td>0</td>\n",
              "    </tr>\n",
              "    <tr>\n",
              "      <th rowspan=\"2\" valign=\"top\">410538.0</th>\n",
              "      <th>1987</th>\n",
              "      <td>0.970779</td>\n",
              "      <td>0</td>\n",
              "      <td>0</td>\n",
              "      <td>1</td>\n",
              "      <td>0</td>\n",
              "      <td>0</td>\n",
              "    </tr>\n",
              "    <tr>\n",
              "      <th>1988</th>\n",
              "      <td>1.007958</td>\n",
              "      <td>1</td>\n",
              "      <td>0</td>\n",
              "      <td>1</td>\n",
              "      <td>0</td>\n",
              "      <td>0</td>\n",
              "    </tr>\n",
              "  </tbody>\n",
              "</table>\n",
              "</div>"
            ],
            "text/plain": [
              "                 lscrap  d88  d89  union  grant  grant_1\n",
              "fcode    year                                           \n",
              "410523.0 1987 -2.813411    0    0      0      0        0\n",
              "         1988 -2.995732    1    0      0      0        0\n",
              "         1989 -2.995732    0    1      0      0        0\n",
              "410538.0 1987  0.970779    0    0      1      0        0\n",
              "         1988  1.007958    1    0      1      0        0"
            ]
          },
          "metadata": {
            "tags": []
          },
          "execution_count": 41
        }
      ]
    },
    {
      "cell_type": "code",
      "metadata": {
        "id": "bGdgmQdlDxF4",
        "colab_type": "code",
        "colab": {
          "base_uri": "https://localhost:8080/",
          "height": 594
        },
        "outputId": "a7fab10f-5e45-45d3-f4f9-b1a30d2a7177"
      },
      "source": [
        "df2 = df[['lscrap', 'union', 'grant', 'grant_1', 'fcode', 'year']].dropna().set_index(['fcode', 'year'])\n",
        "reg = linearmodels.PanelOLS.from_formula(\"lscrap ~ grant + grant_1 + EntityEffects + TimeEffects\", data=df2)\n",
        "# This wont work below since the variable 'union' doesn't vary over time for\n",
        "# any of the firms in the sample\n",
        "# reg = linearmodels.PanelOLS.from_formula(\"lscrap ~ union + grant + grant_1 + EntityEffects + TimeEffects\", data=df2)\n",
        "reg_fitted = reg.fit() \n",
        "reg_fitted"
      ],
      "execution_count": 42,
      "outputs": [
        {
          "output_type": "execute_result",
          "data": {
            "text/html": [
              "<table class=\"simpletable\">\n",
              "<caption>PanelOLS Estimation Summary</caption>\n",
              "<tr>\n",
              "  <th>Dep. Variable:</th>         <td>lscrap</td>      <th>  R-squared:         </th>    <td>0.0411</td> \n",
              "</tr>\n",
              "<tr>\n",
              "  <th>Estimator:</th>            <td>PanelOLS</td>     <th>  R-squared (Between):</th>   <td>-0.0552</td>\n",
              "</tr>\n",
              "<tr>\n",
              "  <th>No. Observations:</th>        <td>162</td>       <th>  R-squared (Within):</th>    <td>0.1478</td> \n",
              "</tr>\n",
              "<tr>\n",
              "  <th>Date:</th>             <td>Tue, Aug 25 2020</td> <th>  R-squared (Overall):</th>   <td>-0.0381</td>\n",
              "</tr>\n",
              "<tr>\n",
              "  <th>Time:</th>                 <td>20:24:16</td>     <th>  Log-likelihood     </th>    <td>-80.946</td>\n",
              "</tr>\n",
              "<tr>\n",
              "  <th>Cov. Estimator:</th>      <td>Unadjusted</td>    <th>                     </th>       <td></td>    \n",
              "</tr>\n",
              "<tr>\n",
              "  <th></th>                          <td></td>         <th>  F-statistic:       </th>    <td>2.2294</td> \n",
              "</tr>\n",
              "<tr>\n",
              "  <th>Entities:</th>                <td>54</td>        <th>  P-value            </th>    <td>0.1127</td> \n",
              "</tr>\n",
              "<tr>\n",
              "  <th>Avg Obs:</th>               <td>3.0000</td>      <th>  Distribution:      </th>   <td>F(2,104)</td>\n",
              "</tr>\n",
              "<tr>\n",
              "  <th>Min Obs:</th>               <td>3.0000</td>      <th>                     </th>       <td></td>    \n",
              "</tr>\n",
              "<tr>\n",
              "  <th>Max Obs:</th>               <td>3.0000</td>      <th>  F-statistic (robust):</th>  <td>2.2294</td> \n",
              "</tr>\n",
              "<tr>\n",
              "  <th></th>                          <td></td>         <th>  P-value            </th>    <td>0.1127</td> \n",
              "</tr>\n",
              "<tr>\n",
              "  <th>Time periods:</th>             <td>3</td>        <th>  Distribution:      </th>   <td>F(2,104)</td>\n",
              "</tr>\n",
              "<tr>\n",
              "  <th>Avg Obs:</th>               <td>54.000</td>      <th>                     </th>       <td></td>    \n",
              "</tr>\n",
              "<tr>\n",
              "  <th>Min Obs:</th>               <td>54.000</td>      <th>                     </th>       <td></td>    \n",
              "</tr>\n",
              "<tr>\n",
              "  <th>Max Obs:</th>               <td>54.000</td>      <th>                     </th>       <td></td>    \n",
              "</tr>\n",
              "<tr>\n",
              "  <th></th>                          <td></td>         <th>                     </th>       <td></td>    \n",
              "</tr>\n",
              "</table>\n",
              "<table class=\"simpletable\">\n",
              "<caption>Parameter Estimates</caption>\n",
              "<tr>\n",
              "     <td></td>     <th>Parameter</th> <th>Std. Err.</th> <th>T-stat</th>  <th>P-value</th> <th>Lower CI</th> <th>Upper CI</th>\n",
              "</tr>\n",
              "<tr>\n",
              "  <th>grant</th>    <td>-0.2523</td>   <td>0.1506</td>   <td>-1.6751</td> <td>0.0969</td>   <td>-0.5510</td>  <td>0.0464</td> \n",
              "</tr>\n",
              "<tr>\n",
              "  <th>grant_1</th>  <td>-0.4216</td>   <td>0.2102</td>   <td>-2.0057</td> <td>0.0475</td>   <td>-0.8384</td>  <td>-0.0048</td>\n",
              "</tr>\n",
              "</table><br/><br/>F-test for Poolability: 24.118<br/>P-value: 0.0000<br/>Distribution: F(55,104)<br/><br/>Included effects: Entity, Time<br/>id: 0x7fa93383b828"
            ],
            "text/plain": [
              "                          PanelOLS Estimation Summary                           \n",
              "================================================================================\n",
              "Dep. Variable:                 lscrap   R-squared:                        0.0411\n",
              "Estimator:                   PanelOLS   R-squared (Between):             -0.0552\n",
              "No. Observations:                 162   R-squared (Within):               0.1478\n",
              "Date:                Tue, Aug 25 2020   R-squared (Overall):             -0.0381\n",
              "Time:                        20:24:16   Log-likelihood                   -80.946\n",
              "Cov. Estimator:            Unadjusted                                           \n",
              "                                        F-statistic:                      2.2294\n",
              "Entities:                          54   P-value                           0.1127\n",
              "Avg Obs:                       3.0000   Distribution:                   F(2,104)\n",
              "Min Obs:                       3.0000                                           \n",
              "Max Obs:                       3.0000   F-statistic (robust):             2.2294\n",
              "                                        P-value                           0.1127\n",
              "Time periods:                       3   Distribution:                   F(2,104)\n",
              "Avg Obs:                       54.000                                           \n",
              "Min Obs:                       54.000                                           \n",
              "Max Obs:                       54.000                                           \n",
              "                                                                                \n",
              "                             Parameter Estimates                              \n",
              "==============================================================================\n",
              "            Parameter  Std. Err.     T-stat    P-value    Lower CI    Upper CI\n",
              "------------------------------------------------------------------------------\n",
              "grant         -0.2523     0.1506    -1.6751     0.0969     -0.5510      0.0464\n",
              "grant_1       -0.4216     0.2102    -2.0057     0.0475     -0.8384     -0.0048\n",
              "==============================================================================\n",
              "\n",
              "F-test for Poolability: 24.118\n",
              "P-value: 0.0000\n",
              "Distribution: F(55,104)\n",
              "\n",
              "Included effects: Entity, Time\n",
              "PanelEffectsResults, id: 0x7fa93383b828"
            ]
          },
          "metadata": {
            "tags": []
          },
          "execution_count": 42
        }
      ]
    },
    {
      "cell_type": "code",
      "metadata": {
        "id": "xjuHTibnDxF6",
        "colab_type": "code",
        "colab": {}
      },
      "source": [
        "# # This doesn't give the correct results\n",
        "# df2 = df[['d88', 'd89', 'lscrap', 'union', 'grant', 'grant_1', 'fcode', 'year']].dropna()\n",
        "# reg = smf.mixedlm(\"lscrap ~ d88 + d89 + grant + grant_1\", df2, groups=df2[\"fcode\"])\n",
        "# reg_fitted = reg.fit()\n",
        "# reg_fitted.summary()"
      ],
      "execution_count": 43,
      "outputs": []
    },
    {
      "cell_type": "code",
      "metadata": {
        "id": "H3uOHOcgDxF9",
        "colab_type": "code",
        "colab": {}
      },
      "source": [
        "# df2 = df.set_index(['year', 'fcode'])\n",
        "# reg = pd.stats.plm.PanelOLS(y=df2['lscrap'], x=df2[['d88', 'd89', 'union', 'grant', 'grant_1']], time_effects=True)\n",
        "# reg"
      ],
      "execution_count": 44,
      "outputs": []
    },
    {
      "cell_type": "markdown",
      "metadata": {
        "id": "T4d06Ln0DxF_",
        "colab_type": "text"
      },
      "source": [
        "Note that the indexes must be in the correct order. The above results do not match the Stata output. Below is the correct ordering."
      ]
    },
    {
      "cell_type": "code",
      "metadata": {
        "id": "3M-tcZS2DxF_",
        "colab_type": "code",
        "colab": {}
      },
      "source": [
        "# df2 = df.set_index(['fcode', 'year'])\n",
        "# reg = pd.stats.plm.PanelOLS(y=df2['lscrap'], x=df2[['d88', 'd89', 'union', 'grant', 'grant_1']], time_effects=True)\n",
        "# reg"
      ],
      "execution_count": 45,
      "outputs": []
    },
    {
      "cell_type": "markdown",
      "metadata": {
        "id": "SPXSZ5AvDxGC",
        "colab_type": "text"
      },
      "source": [
        "#### Using Stata"
      ]
    },
    {
      "cell_type": "markdown",
      "metadata": {
        "id": "QKA_gclmDxGE",
        "colab_type": "text"
      },
      "source": [
        "Compare this to the Stata output. It gives the same coefficients. Some of the tests are not the same, however.\n",
        "\n",
        "```\n",
        "//use jtrain1, clear\n",
        "use http://www.stata.com/data/jwooldridge/eacsap/jtrain1, clear\n",
        "xtreg lscrap d88 d89 union grant grant_1, i( fcode)\n",
        "```\n",
        "\n",
        "\n",
        "```\n",
        "Fixed-effects (within) regression               Number of obs      =       162\n",
        "Group variable (i): fcode                       Number of groups   =        54\n",
        "\n",
        "R-sq:  within  = 0.2010                         Obs per group: min =         3\n",
        "       between = 0.0079                                        avg =       3.0\n",
        "       overall = 0.0068                                        max =         3\n",
        "\n",
        "                                                F(4,104)           =      6.54\n",
        "corr(u_i, Xb)  = -0.0714                        Prob > F           =    0.0001\n",
        "\n",
        "------------------------------------------------------------------------------\n",
        "      lscrap |      Coef.   Std. Err.      t    P>|t|     [95% Conf. Interval]\n",
        "-------------+----------------------------------------------------------------\n",
        "         d88 |  -.0802157   .1094751    -0.73   0.465     -.297309    .1368776\n",
        "         d89 |  -.2472028   .1332183    -1.86   0.066    -.5113797    .0169741\n",
        "       union |  (dropped)\n",
        "       grant |  -.2523149    .150629    -1.68   0.097    -.5510178    .0463881\n",
        "     grant_1 |  -.4215895      .2102    -2.01   0.047    -.8384239   -.0047551\n",
        "       _cons |   .5974341   .0677344     8.82   0.000     .4631142    .7317539\n",
        "-------------+----------------------------------------------------------------\n",
        "     sigma_u |   1.438982\n",
        "     sigma_e |  .49774421\n",
        "         rho |  .89313867   (fraction of variance due to u_i)\n",
        "------------------------------------------------------------------------------\n",
        "F test that all u_i=0:     F(53, 104) =    23.87             Prob > F = 0.0000\n",
        "```"
      ]
    },
    {
      "cell_type": "markdown",
      "metadata": {
        "id": "RiALsakuDxGG",
        "colab_type": "text"
      },
      "source": [
        "#### Using `plm` in R"
      ]
    },
    {
      "cell_type": "code",
      "metadata": {
        "id": "Qsp6lzlPDxGH",
        "colab_type": "code",
        "colab": {
          "base_uri": "https://localhost:8080/",
          "height": 459
        },
        "outputId": "4c3da637-a9b5-49b4-b814-be185d260db6"
      },
      "source": [
        "%%R -i df\n",
        "reg = plm(lscrap ~ d88 + d89 + union + grant + grant_1, df, index=c('fcode', 'year'), model='within')\n",
        "summary(reg)"
      ],
      "execution_count": 46,
      "outputs": [
        {
          "output_type": "stream",
          "text": [
            "Oneway (individual) effect Within Model\n",
            "\n",
            "Call:\n",
            "plm(formula = lscrap ~ d88 + d89 + union + grant + grant_1, data = df, \n",
            "    model = \"within\", index = c(\"fcode\", \"year\"))\n",
            "\n",
            "Balanced Panel: n = 54, T = 3, N = 162\n",
            "\n",
            "Residuals:\n",
            "     Min.   1st Qu.    Median   3rd Qu.      Max. \n",
            "-2.286936 -0.112387 -0.017841  0.144272  1.426674 \n",
            "\n",
            "Coefficients:\n",
            "         Estimate Std. Error t-value Pr(>|t|)  \n",
            "d88     -0.080216   0.109475 -0.7327  0.46537  \n",
            "d89     -0.247203   0.133218 -1.8556  0.06634 .\n",
            "grant   -0.252315   0.150629 -1.6751  0.09692 .\n",
            "grant_1 -0.421590   0.210200 -2.0057  0.04749 *\n",
            "---\n",
            "Signif. codes:  0 ‘***’ 0.001 ‘**’ 0.01 ‘*’ 0.05 ‘.’ 0.1 ‘ ’ 1\n",
            "\n",
            "Total Sum of Squares:    32.25\n",
            "Residual Sum of Squares: 25.766\n",
            "R-Squared:      0.20105\n",
            "Adj. R-Squared: -0.23684\n",
            "F-statistic: 6.54259 on 4 and 104 DF, p-value: 9.7741e-05\n"
          ],
          "name": "stdout"
        }
      ]
    },
    {
      "cell_type": "markdown",
      "metadata": {
        "id": "w56TzKuBDxGJ",
        "colab_type": "text"
      },
      "source": [
        "If we don't want to put in time dummies manually, all we need to do\n",
        "is to specify \"two-way\" fixed effects. Note that we need to supply the \n",
        "index properly. That is, the individual index first, followed by the time\n",
        "index second. If you don't specify the index, it will assume that the first\n",
        "two columns are the index, again in the order of individual and then time.\n",
        "\n",
        "See p. 72 of this: https://cran.r-project.org/web/packages/plm/plm.pdf and see p. 5 of this https://cran.r-project.org/web/packages/plm/vignettes/plm.pdf"
      ]
    },
    {
      "cell_type": "code",
      "metadata": {
        "id": "wTWzCVmtDxGJ",
        "colab_type": "code",
        "colab": {
          "base_uri": "https://localhost:8080/",
          "height": 425
        },
        "outputId": "1e7e8a2d-6b9e-4aed-9d4b-0ab7048b855f"
      },
      "source": [
        "%%R -i df\n",
        "# This works so that we don't have to manually put in time dummies\n",
        "reg = plm(lscrap ~ union + grant + grant_1, df, index=c('fcode', 'year'), model='within', effect='twoways')\n",
        "summary(reg)"
      ],
      "execution_count": 47,
      "outputs": [
        {
          "output_type": "stream",
          "text": [
            "Twoways effects Within Model\n",
            "\n",
            "Call:\n",
            "plm(formula = lscrap ~ union + grant + grant_1, data = df, effect = \"twoways\", \n",
            "    model = \"within\", index = c(\"fcode\", \"year\"))\n",
            "\n",
            "Balanced Panel: n = 54, T = 3, N = 162\n",
            "\n",
            "Residuals:\n",
            "     Min.   1st Qu.    Median   3rd Qu.      Max. \n",
            "-2.286936 -0.112387 -0.017841  0.144272  1.426674 \n",
            "\n",
            "Coefficients:\n",
            "        Estimate Std. Error t-value Pr(>|t|)  \n",
            "grant   -0.25231    0.15063 -1.6751  0.09692 .\n",
            "grant_1 -0.42159    0.21020 -2.0057  0.04749 *\n",
            "---\n",
            "Signif. codes:  0 ‘***’ 0.001 ‘**’ 0.01 ‘*’ 0.05 ‘.’ 0.1 ‘ ’ 1\n",
            "\n",
            "Total Sum of Squares:    26.871\n",
            "Residual Sum of Squares: 25.766\n",
            "R-Squared:      0.041111\n",
            "Adj. R-Squared: -0.48443\n",
            "F-statistic: 2.22942 on 2 and 104 DF, p-value: 0.11271\n"
          ],
          "name": "stdout"
        }
      ]
    },
    {
      "cell_type": "markdown",
      "metadata": {
        "id": "raJwhF57DxGO",
        "colab_type": "text"
      },
      "source": [
        "A simple Monte Carlo demonstration using a different package can be found here: https://www.r-bloggers.com/linear-models-with-multiple-fixed-effects/"
      ]
    }
  ]
}