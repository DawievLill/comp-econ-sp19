{
 "cells": [
  {
   "cell_type": "markdown",
   "metadata": {},
   "source": [
    "In this notebook, we will practice some calculations of portfolio returns. This will give us some practice using Numpy arrays and plotting with Matplotlib."
   ]
  },
  {
   "cell_type": "code",
   "execution_count": 1,
   "metadata": {},
   "outputs": [],
   "source": [
    "# always import all necessary libraries at the top of the file\n",
    "import numpy as np\n",
    "from matplotlib import pyplot as plt\n",
    "import pandas as pd"
   ]
  },
  {
   "cell_type": "markdown",
   "metadata": {},
   "source": [
    "# Data\n",
    "\n",
    "We'll begin by loading data from the file `dataPort.csv`. This contains a matrix of prices, each row corresponding to a day. The columns, in order from left to right, correspond to the S&P 500 index, crude oil index, and the U.S. 10-year Treasury index."
   ]
  },
  {
   "cell_type": "code",
   "execution_count": 2,
   "metadata": {},
   "outputs": [],
   "source": [
    "data_port = pd.read_csv('./dataPort.csv', parse_dates=['date'])"
   ]
  },
  {
   "cell_type": "code",
   "execution_count": 3,
   "metadata": {},
   "outputs": [
    {
     "data": {
      "text/plain": [
       "date             datetime64[ns]\n",
       "sp500                   float64\n",
       "crude_oil               float64\n",
       "treasury_10yr           float64\n",
       "dtype: object"
      ]
     },
     "execution_count": 3,
     "metadata": {},
     "output_type": "execute_result"
    }
   ],
   "source": [
    "data_port.dtypes"
   ]
  },
  {
   "cell_type": "code",
   "execution_count": 4,
   "metadata": {},
   "outputs": [
    {
     "data": {
      "text/html": [
       "<div>\n",
       "<style scoped>\n",
       "    .dataframe tbody tr th:only-of-type {\n",
       "        vertical-align: middle;\n",
       "    }\n",
       "\n",
       "    .dataframe tbody tr th {\n",
       "        vertical-align: top;\n",
       "    }\n",
       "\n",
       "    .dataframe thead th {\n",
       "        text-align: right;\n",
       "    }\n",
       "</style>\n",
       "<table border=\"1\" class=\"dataframe\">\n",
       "  <thead>\n",
       "    <tr style=\"text-align: right;\">\n",
       "      <th></th>\n",
       "      <th>date</th>\n",
       "      <th>sp500</th>\n",
       "      <th>crude_oil</th>\n",
       "      <th>treasury_10yr</th>\n",
       "    </tr>\n",
       "  </thead>\n",
       "  <tbody>\n",
       "    <tr>\n",
       "      <th>0</th>\n",
       "      <td>2013-08-29</td>\n",
       "      <td>1638.17</td>\n",
       "      <td>87.26</td>\n",
       "      <td>2.7617</td>\n",
       "    </tr>\n",
       "    <tr>\n",
       "      <th>1</th>\n",
       "      <td>2013-08-30</td>\n",
       "      <td>1632.97</td>\n",
       "      <td>87.50</td>\n",
       "      <td>2.7839</td>\n",
       "    </tr>\n",
       "    <tr>\n",
       "      <th>2</th>\n",
       "      <td>2013-09-03</td>\n",
       "      <td>1639.77</td>\n",
       "      <td>87.76</td>\n",
       "      <td>2.8576</td>\n",
       "    </tr>\n",
       "    <tr>\n",
       "      <th>3</th>\n",
       "      <td>2013-09-04</td>\n",
       "      <td>1653.08</td>\n",
       "      <td>87.78</td>\n",
       "      <td>2.8966</td>\n",
       "    </tr>\n",
       "    <tr>\n",
       "      <th>4</th>\n",
       "      <td>2013-09-05</td>\n",
       "      <td>1655.08</td>\n",
       "      <td>87.94</td>\n",
       "      <td>2.9937</td>\n",
       "    </tr>\n",
       "  </tbody>\n",
       "</table>\n",
       "</div>"
      ],
      "text/plain": [
       "        date    sp500  crude_oil  treasury_10yr\n",
       "0 2013-08-29  1638.17      87.26         2.7617\n",
       "1 2013-08-30  1632.97      87.50         2.7839\n",
       "2 2013-09-03  1639.77      87.76         2.8576\n",
       "3 2013-09-04  1653.08      87.78         2.8966\n",
       "4 2013-09-05  1655.08      87.94         2.9937"
      ]
     },
     "execution_count": 4,
     "metadata": {},
     "output_type": "execute_result"
    }
   ],
   "source": [
    "data_port.head()"
   ]
  },
  {
   "cell_type": "code",
   "execution_count": 5,
   "metadata": {},
   "outputs": [
    {
     "data": {
      "text/html": [
       "<div>\n",
       "<style scoped>\n",
       "    .dataframe tbody tr th:only-of-type {\n",
       "        vertical-align: middle;\n",
       "    }\n",
       "\n",
       "    .dataframe tbody tr th {\n",
       "        vertical-align: top;\n",
       "    }\n",
       "\n",
       "    .dataframe thead th {\n",
       "        text-align: right;\n",
       "    }\n",
       "</style>\n",
       "<table border=\"1\" class=\"dataframe\">\n",
       "  <thead>\n",
       "    <tr style=\"text-align: right;\">\n",
       "      <th></th>\n",
       "      <th>date</th>\n",
       "      <th>sp500</th>\n",
       "      <th>crude_oil</th>\n",
       "      <th>treasury_10yr</th>\n",
       "    </tr>\n",
       "  </thead>\n",
       "  <tbody>\n",
       "    <tr>\n",
       "      <th>495</th>\n",
       "      <td>2015-09-03</td>\n",
       "      <td>1951.13</td>\n",
       "      <td>46.75</td>\n",
       "      <td>2.1596</td>\n",
       "    </tr>\n",
       "    <tr>\n",
       "      <th>496</th>\n",
       "      <td>2015-09-04</td>\n",
       "      <td>1921.22</td>\n",
       "      <td>46.05</td>\n",
       "      <td>2.1244</td>\n",
       "    </tr>\n",
       "    <tr>\n",
       "      <th>497</th>\n",
       "      <td>2015-09-08</td>\n",
       "      <td>1969.41</td>\n",
       "      <td>45.94</td>\n",
       "      <td>2.1828</td>\n",
       "    </tr>\n",
       "    <tr>\n",
       "      <th>498</th>\n",
       "      <td>2015-09-09</td>\n",
       "      <td>1942.04</td>\n",
       "      <td>44.15</td>\n",
       "      <td>2.2006</td>\n",
       "    </tr>\n",
       "    <tr>\n",
       "      <th>499</th>\n",
       "      <td>2015-09-10</td>\n",
       "      <td>1952.29</td>\n",
       "      <td>45.92</td>\n",
       "      <td>2.2220</td>\n",
       "    </tr>\n",
       "  </tbody>\n",
       "</table>\n",
       "</div>"
      ],
      "text/plain": [
       "          date    sp500  crude_oil  treasury_10yr\n",
       "495 2015-09-03  1951.13      46.75         2.1596\n",
       "496 2015-09-04  1921.22      46.05         2.1244\n",
       "497 2015-09-08  1969.41      45.94         2.1828\n",
       "498 2015-09-09  1942.04      44.15         2.2006\n",
       "499 2015-09-10  1952.29      45.92         2.2220"
      ]
     },
     "execution_count": 5,
     "metadata": {},
     "output_type": "execute_result"
    }
   ],
   "source": [
    "data_port.tail()"
   ]
  },
  {
   "cell_type": "code",
   "execution_count": 6,
   "metadata": {},
   "outputs": [],
   "source": [
    "# Don't worry about the Pandas details here\n",
    "prices = data_port.iloc[:,1:].values"
   ]
  },
  {
   "cell_type": "code",
   "execution_count": 7,
   "metadata": {},
   "outputs": [
    {
     "data": {
      "text/plain": [
       "array([[1638.17  ,   87.26  ,    2.7617],\n",
       "       [1632.97  ,   87.5   ,    2.7839],\n",
       "       [1639.77  ,   87.76  ,    2.8576],\n",
       "       ...,\n",
       "       [1969.41  ,   45.94  ,    2.1828],\n",
       "       [1942.04  ,   44.15  ,    2.2006],\n",
       "       [1952.29  ,   45.92  ,    2.222 ]])"
      ]
     },
     "execution_count": 7,
     "metadata": {},
     "output_type": "execute_result"
    }
   ],
   "source": [
    "prices"
   ]
  },
  {
   "cell_type": "code",
   "execution_count": 8,
   "metadata": {},
   "outputs": [
    {
     "data": {
      "text/plain": [
       "numpy.ndarray"
      ]
     },
     "execution_count": 8,
     "metadata": {},
     "output_type": "execute_result"
    }
   ],
   "source": [
    "type(prices)"
   ]
  },
  {
   "cell_type": "code",
   "execution_count": 9,
   "metadata": {},
   "outputs": [
    {
     "data": {
      "text/plain": [
       "array(['2013-08-29T00:00:00.000000000', '2013-08-30T00:00:00.000000000',\n",
       "       '2013-09-03T00:00:00.000000000', '2013-09-04T00:00:00.000000000',\n",
       "       '2013-09-05T00:00:00.000000000', '2013-09-06T00:00:00.000000000',\n",
       "       '2013-09-09T00:00:00.000000000', '2013-09-10T00:00:00.000000000',\n",
       "       '2013-09-11T00:00:00.000000000', '2013-09-12T00:00:00.000000000'],\n",
       "      dtype='datetime64[ns]')"
      ]
     },
     "execution_count": 9,
     "metadata": {},
     "output_type": "execute_result"
    }
   ],
   "source": [
    "dates = data_port.iloc[:,0].values\n",
    "dates[0:10]"
   ]
  },
  {
   "cell_type": "markdown",
   "metadata": {},
   "source": [
    "# Data Manipulation\n",
    "\n",
    " Create 3 column vectors---each containing the price history of one of the asset classes. Name the vectors `sp500`, `oil`, `bonds`."
   ]
  },
  {
   "cell_type": "code",
   "execution_count": null,
   "metadata": {},
   "outputs": [],
   "source": []
  },
  {
   "cell_type": "markdown",
   "metadata": {},
   "source": [
    " Create a row vector, `pNow`, with the latest price of each security."
   ]
  },
  {
   "cell_type": "code",
   "execution_count": null,
   "metadata": {},
   "outputs": [],
   "source": []
  },
  {
   "cell_type": "markdown",
   "metadata": {},
   "source": [
    " Calculate the number of days `Nt` and the number of assets `Nk`."
   ]
  },
  {
   "cell_type": "code",
   "execution_count": null,
   "metadata": {},
   "outputs": [],
   "source": []
  },
  {
   "cell_type": "markdown",
   "metadata": {},
   "source": [
    " Calculate the matrix of history of returns for the three assets. Calculate both the log-return (`rets_log`) and the level-return (`rets`). The log and level returns are defined as:\n",
    " \n",
    " - log-return, $\\tilde r_t = \\log \\left( \\frac{P_{t+1}}{P_t} \\right)$\n",
    " - level-return, $r_t = \\frac{P_{t+1}}{P_t} - 1$"
   ]
  },
  {
   "cell_type": "code",
   "execution_count": null,
   "metadata": {},
   "outputs": [],
   "source": []
  },
  {
   "cell_type": "markdown",
   "metadata": {},
   "source": [
    "Calculate a matrix of cumulative returns of the assets, named `rets_cum_log` and `rets_cum`. Recall that the cumulative return is simply\n",
    "\n",
    " - log-return, $\\tilde r_{t,h} = \\log \\left( \\frac{P_{t+h}}{P_t} \\right)$\n",
    " - level-return, $r_{t,h} = \\frac{P_{t+h}}{P_t} - 1$.\n",
    " \n",
    "For this exercise, let $t=0$ (2013-08-29) and compute the cumulative returns for all available values of $h$.\n",
    "\n",
    "Note that there are a few ways to do this. Here are some ideas:\n",
    "\n",
    " 1. You may find the Numpy function `numpy.matlib.repmat` helpful here. It allows you to build an array where every row corresponds to $P_t$. You can then use this array in the denominator of array arithmetic and skip any need for coding loops. You need to run `import numpy.matlib` first, however. `matlib` is a submodule designed to mimic some functions available in Matlab.\n",
    " 2. You could also do this with matrix multiplication involving a vector of 1's that you create using `np.ones`.\n",
    " 3. You can simply use Numpy's broadcasting. This means that if you try to divide an `T x 3` matrix by a `1 x 3` vector, Numpy will \"know what to do.\" This is probably the easiest way to do it."
   ]
  },
  {
   "cell_type": "code",
   "execution_count": null,
   "metadata": {},
   "outputs": [],
   "source": []
  },
  {
   "cell_type": "markdown",
   "metadata": {},
   "source": [
    "* Now, plot the cumulative returns."
   ]
  },
  {
   "cell_type": "code",
   "execution_count": null,
   "metadata": {},
   "outputs": [],
   "source": []
  },
  {
   "cell_type": "markdown",
   "metadata": {},
   "source": [
    "# Arithmetic vs Geometric Averages\n",
    "\n",
    "Suppose we want to compute the average returns of each of these assets. To do this, we must first choose whether we want to use an *arithmetic average* or a *geometric average*. Let $r_t$ be the net return (e.g., 0.03 for a 3% gain) and let $R_t = 1 + r_t$ be the gross return.\n",
    "An arithmetic average is familiarly defined\n",
    "$$\n",
    "\\bar r_{arith} = \\sum_{t=1}^T r_t.\n",
    "$$\n",
    "The geometric average is defined as\n",
    "$$\n",
    "\\bar r_{geom} = \\left(\\prod_{t=1}^T (1+r_t) \\right)^{1/T} - 1 = \\exp\\left(\\frac 1 T \\sum_{t=1}^T \\log (1+r_t)\\right) - 1.\n",
    "$$\n",
    "\n",
    "\n",
    "We will complete the following exercise to understand the practical difference between the two.\n",
    "\n",
    "* Construct an asset with the following sequence of returns. Let $r_1 = P_1/P_0 = 10\\% = 0.10$, then $r_2 = -0.1$, $r_3 = 0.1$, ..., $r_{100} = -0.1$. Save this in a vector called `example_rets`."
   ]
  },
  {
   "cell_type": "code",
   "execution_count": null,
   "metadata": {},
   "outputs": [],
   "source": []
  },
  {
   "cell_type": "markdown",
   "metadata": {},
   "source": [
    "* What is the arithmetic average of these returns?"
   ]
  },
  {
   "cell_type": "code",
   "execution_count": null,
   "metadata": {},
   "outputs": [],
   "source": []
  },
  {
   "cell_type": "markdown",
   "metadata": {},
   "source": [
    "* What is the geometric average of these returns?"
   ]
  },
  {
   "cell_type": "code",
   "execution_count": null,
   "metadata": {},
   "outputs": [],
   "source": []
  },
  {
   "cell_type": "markdown",
   "metadata": {},
   "source": [
    "* Now, suppose that $P_0 = 100$. This will allow us to calculate the prices for the rest of the periods. Compute the prices $P_t$ for $t=1,...,100$. Save this in a vector called `example_prices`.\n",
    "\n",
    "A good way of doing this is to use the method `.cumprod()`. This will take the cumulative product of a vector. So `np.array([1,2,3]).cumprod()` returns `array([1, 2, 6], dtype=int32)`. A useful hint is to also note that we could perform operations together like this: `(1 + np.array([0,1,2])).cumprod()` would return `array([1, 2, 6], dtype=int32)`."
   ]
  },
  {
   "cell_type": "code",
   "execution_count": null,
   "metadata": {},
   "outputs": [],
   "source": []
  },
  {
   "cell_type": "markdown",
   "metadata": {},
   "source": [
    "* Plot the vector of returns `example_prices`. Do you see a pattern? Is the pattern you see helpfully summarized by the arithmetic average that you previously computed? Why or why not?"
   ]
  },
  {
   "cell_type": "code",
   "execution_count": null,
   "metadata": {},
   "outputs": [],
   "source": []
  },
  {
   "cell_type": "markdown",
   "metadata": {},
   "source": [
    "**Discussion**\n",
    "\n",
    "* What mathematical principal is at play here?\n",
    "* Note that for small $x$, $log(1 + x) \\approx x$. So for most cases of asset returns, $\\log(1 + r_t) \\approx r_t$. Thus, we will often just use log returns for our calculations. This has the advantage that when we calculate averages of log returns, we are calculating geometric averages of level returns.\n",
    "* The log returns $\\log(P_{t+\\tau}/P_t)$ are also sometimes called the continuously compounded returns. That is because, under continuous compounding, $P_{t+\\tau} = P_t e^{r \\tau}$. If $\\tau = .5$ represented a period of 6 months, then \n",
    "$$r = \\frac{1}{\\tau} \\log \\left( \\frac{P_{t+\\tau}}{P_t}\\right)$$\n",
    "is the annualized continuously compounded rate of return over those 6 months. A helpful derivation to see this is\n",
    "$$\n",
    "\\lim_{n\\rightarrow \\infty} P\\left(1 + \\frac{r}{n}\\right)^{nt} = P e^{rt},\n",
    "$$\n",
    "where $n$ is the frequency of compounding per period."
   ]
  },
  {
   "cell_type": "markdown",
   "metadata": {},
   "source": [
    "# Practice Calculations (TA Session)\n",
    "\n",
    "\n",
    "\n",
    "Simply for practice, let's make the following calculations. For how many days does the S&P500 log-return and level-return differ by more than 5 basis points? That is,\n",
    "$$\n",
    "| \\tilde r_t - r_t | > .0005\n",
    "$$"
   ]
  },
  {
   "cell_type": "code",
   "execution_count": null,
   "metadata": {},
   "outputs": [],
   "source": []
  },
  {
   "cell_type": "markdown",
   "metadata": {},
   "source": [
    "For which asset is there the biggest difference in the total cumulative level-return versus the total cumulative log-return? That is, compute the absolute value of the difference between the log-return and the level-return at each time period. Sum these differences over each time period. Do this for each asset and see for which asset these differences are the largest."
   ]
  },
  {
   "cell_type": "code",
   "execution_count": null,
   "metadata": {},
   "outputs": [],
   "source": []
  },
  {
   "cell_type": "markdown",
   "metadata": {},
   "source": [
    "Suppose an investor puts weights of 50%, 30%, and 20% in the S&P500, oil, and bonds. Calculate the history of portfolio returns, (level-returns). Call this vector `rets_port`."
   ]
  },
  {
   "cell_type": "code",
   "execution_count": null,
   "metadata": {},
   "outputs": [],
   "source": []
  },
  {
   "cell_type": "markdown",
   "metadata": {},
   "source": [
    "What percentage of days does the portfolio have a positive return?"
   ]
  },
  {
   "cell_type": "code",
   "execution_count": null,
   "metadata": {},
   "outputs": [],
   "source": []
  },
  {
   "cell_type": "markdown",
   "metadata": {},
   "source": [
    "Calculate the history of cumulative (level-)returns of the portfolio. Call this `rets_cum_port`. Calculate the cumulative portfolio return by starting with the portfolio return series and using `numpy.cumprod`."
   ]
  },
  {
   "cell_type": "code",
   "execution_count": null,
   "metadata": {},
   "outputs": [],
   "source": []
  },
  {
   "cell_type": "markdown",
   "metadata": {},
   "source": [
    "Calculate the cumulative log-returns of the three separate assets using `numpy.cumsum`."
   ]
  },
  {
   "cell_type": "code",
   "execution_count": null,
   "metadata": {},
   "outputs": [],
   "source": []
  },
  {
   "cell_type": "markdown",
   "metadata": {},
   "source": [
    "# Plots\n",
    "\n",
    "Create a plot of the price history of the S&P 500."
   ]
  },
  {
   "cell_type": "code",
   "execution_count": null,
   "metadata": {},
   "outputs": [],
   "source": []
  },
  {
   "cell_type": "markdown",
   "metadata": {},
   "source": [
    "In a separate figure, create 4 sub-plots of cumulative returns. That is, plot the history of cumulative returns for each of the 3 assets as well as the portfolio. Use pyplot's `subplot` function.\n",
    "\n",
    "You can check here to see Crude Oil prices to verify that this looks correct: http://www.macrotrends.net/1369/crude-oil-price-history-chart"
   ]
  },
  {
   "cell_type": "code",
   "execution_count": null,
   "metadata": {},
   "outputs": [],
   "source": []
  },
  {
   "cell_type": "markdown",
   "metadata": {},
   "source": [
    "Make the same plot as above again. However, this time, make sure that the y-axis is the same on each plot. You can do this the manually using pyplot's `ylim` (note the corresponding `xlim` function) or you can do this the better way using pyplot's shared axis feature seen here: https://matplotlib.org/gallery/subplots_axes_and_figures/shared_axis_demo.html#sphx-glr-gallery-subplots-axes-and-figures-shared-axis-demo-py"
   ]
  },
  {
   "cell_type": "code",
   "execution_count": null,
   "metadata": {},
   "outputs": [],
   "source": []
  },
  {
   "cell_type": "markdown",
   "metadata": {},
   "source": [
    "Finally, create another figure where you plot both the S&P500 cumulative return history as well as the portfolio cumulative return history in the same figure. Give each plot a label and include a legend. To do this, look up the pyplot `legend` function: https://matplotlib.org/api/_as_gen/matplotlib.pyplot.legend.html"
   ]
  },
  {
   "cell_type": "code",
   "execution_count": null,
   "metadata": {},
   "outputs": [],
   "source": []
  },
  {
   "cell_type": "markdown",
   "metadata": {},
   "source": [
    "# Extra\n",
    "\n",
    "- Try plotting the dates against the cumulative returns. Use `plt.plot(x,y)` where `x` is the dates and `y` is the returns data (a `499 x 3` array). For the dates data, use `data_port['dates']` or `data_port.dates`. \n",
    "\n",
    "- Note that it will be helpful to rotate the ticks on the x-axis. You can do this using the function shown here: https://stackoverflow.com/a/37708190/1411791\n",
    "\n",
    "- Add a legend. Specify the legend with `plt.legend(['label1', 'label2', 'label3'])`"
   ]
  },
  {
   "cell_type": "code",
   "execution_count": null,
   "metadata": {},
   "outputs": [],
   "source": []
  },
  {
   "cell_type": "markdown",
   "metadata": {},
   "source": [
    "Try using xlabel, ylabel, title. Search the matplotlib.pyplot help documentation for more."
   ]
  },
  {
   "cell_type": "code",
   "execution_count": null,
   "metadata": {},
   "outputs": [],
   "source": []
  },
  {
   "cell_type": "markdown",
   "metadata": {},
   "source": [
    "Try calculating the basic statistics of the level returns. Get the mean, standard-deviation,\n",
    "skewness, and correlations. Mean, standard deviation, and correlation can be calculated in numpy. The skewness can be calculated using `scipy.stats.skew`. When using the `corrcoef` function, be sure to set `rowvar=False`."
   ]
  },
  {
   "cell_type": "code",
   "execution_count": null,
   "metadata": {},
   "outputs": [],
   "source": []
  },
  {
   "cell_type": "markdown",
   "metadata": {},
   "source": [
    "The return matrices have one less row than the price matrix. Remedy this by adding a first row of NaN values to the return matrices. Use numpy's `vstack` function."
   ]
  },
  {
   "cell_type": "code",
   "execution_count": null,
   "metadata": {},
   "outputs": [],
   "source": []
  },
  {
   "cell_type": "markdown",
   "metadata": {},
   "source": [
    "Import the `seaborn` package and run `seaborn.set()` to change the default matplotlib style. Regenerate some of the plots above to see how the style changes."
   ]
  },
  {
   "cell_type": "code",
   "execution_count": null,
   "metadata": {},
   "outputs": [],
   "source": []
  }
 ],
 "metadata": {
  "kernelspec": {
   "display_name": "Python 3",
   "language": "python",
   "name": "python3"
  },
  "language_info": {
   "codemirror_mode": {
    "name": "ipython",
    "version": 3
   },
   "file_extension": ".py",
   "mimetype": "text/x-python",
   "name": "python",
   "nbconvert_exporter": "python",
   "pygments_lexer": "ipython3",
   "version": "3.7.1"
  },
  "varInspector": {
   "cols": {
    "lenName": 16,
    "lenType": 16,
    "lenVar": 40
   },
   "kernels_config": {
    "python": {
     "delete_cmd_postfix": "",
     "delete_cmd_prefix": "del ",
     "library": "var_list.py",
     "varRefreshCmd": "print(var_dic_list())"
    },
    "r": {
     "delete_cmd_postfix": ") ",
     "delete_cmd_prefix": "rm(",
     "library": "var_list.r",
     "varRefreshCmd": "cat(var_dic_list()) "
    }
   },
   "types_to_exclude": [
    "module",
    "function",
    "builtin_function_or_method",
    "instance",
    "_Feature"
   ],
   "window_display": false
  }
 },
 "nbformat": 4,
 "nbformat_minor": 2
}
