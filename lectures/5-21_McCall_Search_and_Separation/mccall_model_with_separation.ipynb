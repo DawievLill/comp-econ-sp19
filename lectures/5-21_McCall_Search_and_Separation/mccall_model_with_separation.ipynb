{
 "cells": [
  {
   "cell_type": "markdown",
   "metadata": {},
   "source": [
    "# Job Search II: Search and Separation\n",
    "\n",
    "\n",
    "<a id='index-0'></a>"
   ]
  },
  {
   "cell_type": "markdown",
   "metadata": {},
   "source": [
    "## Contents\n",
    "\n",
    "- [Job Search II: Search and Separation](#Job-Search-II:-Search-and-Separation)  \n",
    "  - [Overview](#Overview)  \n",
    "  - [The Model](#The-Model)  \n",
    "  - [Solving the Model using Dynamic Programming](#Solving-the-Model-using-Dynamic-Programming)  \n",
    "  - [Implementation](#Implementation)  \n",
    "  - [The Reservation Wage](#The-Reservation-Wage)  \n",
    "  - [Exercises](#Exercises)  \n",
    "  - [Solutions](#Solutions)  "
   ]
  },
  {
   "cell_type": "markdown",
   "metadata": {},
   "source": [
    "## Overview\n",
    "\n",
    "Previously [we looked](https://lectures.quantecon.org/py/mccall_model.html) at the McCall job search model [[McC70]](https://lectures.quantecon.org/py/zreferences.html#mccall1970) as a way of understanding unemployment and worker decisions\n",
    "\n",
    "One unrealistic feature of the model is that every job is permanent\n",
    "\n",
    "In this lecture we extend the McCall model by introducing job separation\n",
    "\n",
    "Once separation enters the picture, the agent comes to view\n",
    "\n",
    "- the loss of a job as a capital loss, and  \n",
    "- a spell of unemployment as an *investment* in searching for an acceptable job  \n",
    "\n",
    "\n",
    "We’ll need the following imports"
   ]
  },
  {
   "cell_type": "code",
   "execution_count": 1,
   "metadata": {
    "hide-output": false
   },
   "outputs": [],
   "source": [
    "import numpy as np\n",
    "from quantecon.distributions import BetaBinomial\n",
    "from numba import njit\n",
    "import matplotlib.pyplot as plt\n",
    "%matplotlib inline"
   ]
  },
  {
   "cell_type": "markdown",
   "metadata": {},
   "source": [
    "## The Model\n",
    "\n",
    "The model concerns the life of an infinitely lived worker and\n",
    "\n",
    "- the opportunities he or she (let’s say he to save one character) has to work at different wages  \n",
    "- exogenous events that destroy his current job  \n",
    "- his decision making process while unemployed  \n",
    "\n",
    "\n",
    "The worker can be in one of two states: employed or unemployed\n",
    "\n",
    "He wants to maximize\n",
    "\n",
    "\n",
    "<a id='equation-objective'></a>\n",
    "$$\n",
    "{\\mathbb E} \\sum_{t=0}^\\infty \\beta^t u(Y_t) \\tag{1}\n",
    "$$\n",
    "\n",
    "The only difference from the [baseline model](https://lectures.quantecon.org/py/mccall_model.html) is that\n",
    "we’ve added some flexibility over preferences by introducing a utility function $ u $\n",
    "\n",
    "It satisfies $ u'> 0 $ and $ u'' < 0 $"
   ]
  },
  {
   "cell_type": "markdown",
   "metadata": {},
   "source": [
    "### Timing and Decisions\n",
    "\n",
    "Here’s what happens at the start of a given period in our model with search and separation\n",
    "\n",
    "If currently *employed*, the worker consumes his wage $ w $, receiving utility $ u(w) $\n",
    "\n",
    "If currently *unemployed*, he\n",
    "\n",
    "- receives and consumes unemployment compensation $ c $  \n",
    "- receives an offer to start work *next period* at a wage $ w' $ drawn from a known distribution $ \\phi $  \n",
    "\n",
    "\n",
    "He can either accept or reject the offer\n",
    "\n",
    "If he accepts the offer, he enters next period employed with wage $ w' $\n",
    "\n",
    "If he rejects the offer, he enters next period unemployed\n",
    "\n",
    "When employed, the agent faces a constant probability $ \\alpha $ of becoming unemployed at the end of the period\n",
    "\n",
    "(Note: we do not allow for job search while employed—this topic is taken\n",
    "up in a [later lecture](https://lectures.quantecon.org/py/jv.html))"
   ]
  },
  {
   "cell_type": "markdown",
   "metadata": {},
   "source": [
    "## Solving the Model using Dynamic Programming\n",
    "\n",
    "Let\n",
    "\n",
    "- $ v(w) $ be the total lifetime value accruing to a worker who enters the current period *employed* with wage $ w $  \n",
    "- $ h $ be the total lifetime value accruing to a worker who is *unemployed* this period  \n",
    "\n",
    "\n",
    "Here *value* means the value of the objective function [(1)](#equation-objective) when the worker makes optimal decisions at all future points in time\n",
    "\n",
    "Suppose for now that the worker can calculate the function $ v $ and the constant $ h $ and use them in his decision making\n",
    "\n",
    "Then $ v $ and $ h $  should satisfy\n",
    "\n",
    "\n",
    "<a id='equation-bell1-mccall'></a>\n",
    "$$\n",
    "v(w) = u(w) + \\beta [(1-\\alpha)v(w) + \\alpha h ] \\tag{2}\n",
    "$$\n",
    "\n",
    "and\n",
    "\n",
    "\n",
    "<a id='equation-bell2-mccall'></a>\n",
    "$$\n",
    "h = u(c) + \\beta \\sum_{w'} \\max \\left\\{ h, v(w') \\right\\} \\phi(w') \\tag{3}\n",
    "$$\n",
    "\n",
    "Let’s interpret these two equations in light of the fact that today’s tomorrow is tomorrow’s today\n",
    "\n",
    "- The left hand sides of equations [(2)](#equation-bell1-mccall) and [(3)](#equation-bell2-mccall) are the values of a worker in a particular situation *today*  \n",
    "- The right hand sides of the equations are the discounted (by $ \\beta $) expected values of the possible situations that worker can be in *tomorrow*  \n",
    "- But *tomorrow* the worker can be in only one of the situations whose values *today* are on the left sides of our two equations  \n",
    "\n",
    "\n",
    "Equation [(3)](#equation-bell2-mccall) incorporates the fact that a currently unemployed worker will maximize his own welfare\n",
    "\n",
    "In particular, if his next period wage offer is $ w' $, he will choose to remain unemployed unless  $ h < v(w') $\n",
    "\n",
    "Equations [(2)](#equation-bell1-mccall) and [(3)](#equation-bell2-mccall) are the Bellman equations\n",
    "for this model\n",
    "\n",
    "Equations [(2)](#equation-bell1-mccall) and [(3)](#equation-bell2-mccall) provide enough information to solve out for both $ v $ and $ h $\n",
    "\n",
    "Before discussing this, however, let’s make a small extension to the model"
   ]
  },
  {
   "cell_type": "markdown",
   "metadata": {},
   "source": [
    "### Stochastic Offers\n",
    "\n",
    "Let’s suppose now that unemployed workers don’t always receive job offers\n",
    "\n",
    "Instead, let’s suppose that unemployed workers only receive an offer with probability $ \\gamma $\n",
    "\n",
    "If our worker does receive an offer, the wage offer is drawn from $ \\phi $ as before\n",
    "\n",
    "He either accepts or rejects the offer\n",
    "\n",
    "Otherwise the model is the same\n",
    "\n",
    "With some thought, you  will be able to convince yourself that $ v $ and $ h $  should now satisfy\n",
    "\n",
    "\n",
    "<a id='equation-bell01-mccall'></a>\n",
    "$$\n",
    "v(w) = u(w) + \\beta [(1-\\alpha)v(w) + \\alpha h ] \\tag{4}\n",
    "$$\n",
    "\n",
    "and\n",
    "\n",
    "\n",
    "<a id='equation-bell02-mccall'></a>\n",
    "$$\n",
    "h = u(c) +\n",
    "  \\beta (1 - \\gamma) h +\n",
    "  \\beta \\gamma \\sum_{w'} \\max \\left\\{ h, v(w') \\right\\} \\phi(w') \\tag{5}\n",
    "$$"
   ]
  },
  {
   "cell_type": "markdown",
   "metadata": {},
   "source": [
    "### Solving the Bellman Equations\n",
    "\n",
    "We’ll use the same iterative approach to solving the Bellman equations that we\n",
    "adopted in the [first job search lecture](https://lectures.quantecon.org/py/mccall_model.html)\n",
    "\n",
    "Here this amounts to\n",
    "\n",
    "1. make guesses for $ h $ and $ v $  \n",
    "1. plug these guesses into the right hand sides of [(4)](#equation-bell01-mccall) and [(5)](#equation-bell02-mccall)  \n",
    "1. update the left hand sides from this rule and then repeat  \n",
    "\n",
    "\n",
    "In other words, we are iterating using the rules\n",
    "\n",
    "\n",
    "<a id='equation-bell1001'></a>\n",
    "$$\n",
    "v_{n+1} (w') = u(w') + \\beta [(1-\\alpha)v_n (w') + \\alpha h_n ] \\tag{6}\n",
    "$$\n",
    "\n",
    "and\n",
    "\n",
    "\n",
    "<a id='equation-bell2001'></a>\n",
    "$$\n",
    "h_{n+1} = u(c) +\n",
    "    \\beta (1 - \\gamma) h_n +\n",
    "    \\beta \\gamma \\sum_{w'} \\max \\{ h_n, v_n(w') \\} \\phi(w') \\tag{7}\n",
    "$$\n",
    "\n",
    "starting from some initial conditions $ h_0, v_0 $\n",
    "\n",
    "As before, the system always converges to the true solutions—in this case,\n",
    "the $ v $ and $ h $ that solve [(4)](#equation-bell01-mccall) and [(5)](#equation-bell02-mccall)\n",
    "\n",
    "A proof can be obtained via the Banach contraction mapping theorem"
   ]
  },
  {
   "cell_type": "markdown",
   "metadata": {},
   "source": [
    "## Implementation\n",
    "\n",
    "Let’s implement this iterative process\n",
    "\n",
    "In the code you’ll see that we use a class to store the various parameters and other\n",
    "objects associated with a given model\n",
    "\n",
    "This helps to tidy up the code and provides an object that’s easy to pass to functions\n",
    "\n",
    "The default utility function is a CRRA utility function"
   ]
  },
  {
   "cell_type": "code",
   "execution_count": 2,
   "metadata": {
    "hide-output": false
   },
   "outputs": [],
   "source": [
    "# A default utility function\n",
    "\n",
    "@njit\n",
    "def u(c, σ):\n",
    "    if c > 0:\n",
    "        return (c**(1 - σ) - 1) / (1 - σ)\n",
    "    else:\n",
    "        return -10e6\n",
    "\n",
    "class McCallModel:\n",
    "    \"\"\"\n",
    "    Stores the parameters and functions associated with a given model.\n",
    "    \"\"\"\n",
    "\n",
    "    def __init__(self,\n",
    "                 α=0.2,        # Job separation rate\n",
    "                 β=0.98,       # Discount rate\n",
    "                 γ=0.7,        # Job offer rate\n",
    "                 c=6.0,        # Unemployment compensation\n",
    "                 σ=2.0,        # Utility parameter\n",
    "                 w_vals=None,  # Possible wage values\n",
    "                 ϕ_vals=None): # Probabilities over w_vals\n",
    "\n",
    "        self.α, self.β, self.γ, self.c = α, β, γ, c\n",
    "        self.σ = σ\n",
    "\n",
    "        # Add a default wage vector and probabilities over the vector using\n",
    "        # the beta-binomial distribution\n",
    "        if w_vals is None:\n",
    "            n = 60  # number of possible outcomes for wage\n",
    "            self.w_vals = np.linspace(10, 20, n)     # wages between 10 and 20\n",
    "            a, b = 600, 400  # shape parameters\n",
    "            dist = BetaBinomial(n-1, a, b)\n",
    "            self.ϕ_vals = dist.pdf()\n",
    "        else:\n",
    "            self.w_vals = w_vals\n",
    "            self.ϕ_vals = ϕ_vals"
   ]
  },
  {
   "cell_type": "markdown",
   "metadata": {},
   "source": [
    "The following function returns jitted versions of the Bellman operators $ h $ and $ v $"
   ]
  },
  {
   "cell_type": "code",
   "execution_count": 3,
   "metadata": {
    "hide-output": false
   },
   "outputs": [],
   "source": [
    "def operator_factory(mcm, parallel_flag=True):\n",
    "    \"\"\"\n",
    "    mcm is an instance of McCallModel\n",
    "    \"\"\"\n",
    "\n",
    "    α, β, γ, c = mcm.α, mcm.β, mcm.γ, mcm.c\n",
    "    σ, w_vals, ϕ_vals = mcm.σ, mcm.w_vals, mcm.ϕ_vals\n",
    "\n",
    "    @njit\n",
    "    def Q(v, h):\n",
    "        \"\"\"\n",
    "        A jitted function to update the Bellman equations\n",
    "\n",
    "        \"\"\"\n",
    "        v_new = np.empty_like(v)\n",
    "\n",
    "        for i in range(len(w_vals)):\n",
    "            w = w_vals[i]\n",
    "            v_new[i] = u(w, σ) + β * ((1 - α) * v[i] + α * h)\n",
    "\n",
    "        h_new = u(c, σ) + β * (1 - γ) * h + \\\n",
    "                        β * γ * np.sum(np.maximum(h, v) * ϕ_vals)\n",
    "\n",
    "        return v_new, h_new\n",
    "\n",
    "    return Q"
   ]
  },
  {
   "cell_type": "markdown",
   "metadata": {},
   "source": [
    "The approach is to iterate until successive iterates are closer together than some small tolerance level\n",
    "\n",
    "We then return the current iterate as an approximate solution"
   ]
  },
  {
   "cell_type": "code",
   "execution_count": 4,
   "metadata": {
    "hide-output": false
   },
   "outputs": [],
   "source": [
    "def solve_model(mcm, use_parallel=True, tol=1e-5, max_iter=2000):\n",
    "    \"\"\"\n",
    "    Iterates to convergence on the Bellman equations\n",
    "\n",
    "    mcm is an instance of McCallModel\n",
    "    \"\"\"\n",
    "\n",
    "    Q = operator_factory(mcm, use_parallel)\n",
    "\n",
    "    v = np.ones_like(mcm.w_vals)   # Initial guess of v\n",
    "    h = 1                          # Initial guess of h\n",
    "    i = 0\n",
    "    error = tol + 1\n",
    "\n",
    "    while error > tol and i < max_iter:\n",
    "        v_new, h_new = Q(v, h)\n",
    "        error_1 = np.max(np.abs(v_new - v))\n",
    "        error_2 = np.abs(h_new - h)\n",
    "        error = max(error_1, error_2)\n",
    "        v = v_new\n",
    "        h = h_new\n",
    "        i += 1\n",
    "\n",
    "    return v, h"
   ]
  },
  {
   "cell_type": "markdown",
   "metadata": {},
   "source": [
    "Let’s plot the approximate solutions $ v $ and $ h $ to see what they look like\n",
    "\n",
    "We’ll use the default parameterizations found in the code above"
   ]
  },
  {
   "cell_type": "code",
   "execution_count": 5,
   "metadata": {
    "hide-output": false
   },
   "outputs": [
    {
     "data": {
      "image/png": "[encoded data removed]",
      "text/plain": [
       "<Figure size 720x432 with 1 Axes>"
      ]
     },
     "metadata": {
      "needs_background": "light"
     },
     "output_type": "display_data"
    }
   ],
   "source": [
    "mcm = McCallModel()\n",
    "v, h = solve_model(mcm)\n",
    "\n",
    "fig, ax = plt.subplots(figsize=(10, 6))\n",
    "\n",
    "ax.plot(mcm.w_vals, v, 'b-', lw=2, alpha=0.7, label='$v$')\n",
    "ax.plot(mcm.w_vals, [h] * len(mcm.w_vals), 'g-', lw=2, alpha=0.7, label='$h$')\n",
    "ax.set_xlim(min(mcm.w_vals), max(mcm.w_vals))\n",
    "ax.legend()\n",
    "ax.grid()\n",
    "\n",
    "plt.show()"
   ]
  },
  {
   "cell_type": "markdown",
   "metadata": {},
   "source": [
    "The value $ v $ is increasing because higher $ w $ generates a higher wage flow conditional on staying employed"
   ]
  },
  {
   "cell_type": "markdown",
   "metadata": {},
   "source": [
    "## The Reservation Wage\n",
    "\n",
    "Once $ v $ and $ h $ are known, the agent can use them to make decisions in the face of a given wage offer\n",
    "\n",
    "If $ v(w) > h $, then working at wage $ w $ is preferred to unemployment\n",
    "\n",
    "If $ v(w) < h $, then remaining unemployed will generate greater lifetime value\n",
    "\n",
    "Suppose in particular that $ v $ crosses $ h $ (as it does in the preceding figure)\n",
    "\n",
    "Then, since $ v $ is increasing, there is a unique smallest $ w $ in the set of possible wages such that $ v(w) \\geq h $\n",
    "\n",
    "We denote this wage $ \\bar w $ and call it the reservation wage\n",
    "\n",
    "Optimal behavior for the worker is characterized by $ \\bar w $\n",
    "\n",
    "- if the  wage offer $ w $ in hand is greater than or equal to $ \\bar w $, then the worker accepts  \n",
    "- if the  wage offer $ w $ in hand is less than $ \\bar w $, then the worker rejects  \n",
    "\n",
    "\n",
    "Here’s a function `compute_reservation_wage` that takes an instance of `McCallModel`\n",
    "and returns the reservation wage associated with a given model\n",
    "\n",
    "It uses [np.searchsorted](https://docs.scipy.org/doc/numpy/reference/generated/numpy.searchsorted.html)\n",
    "to obtain the first $ w $ in the set of possible wages such that $ v(w) > h $\n",
    "\n",
    "If $ v(w) < h $ for all $ w $, then the function returns np.inf"
   ]
  },
  {
   "cell_type": "code",
   "execution_count": 6,
   "metadata": {
    "hide-output": false
   },
   "outputs": [],
   "source": [
    "def compute_reservation_wage(mcm, return_values=False):\n",
    "    \"\"\"\n",
    "    Computes the reservation wage of an instance of the McCall model\n",
    "    by finding the smallest w such that v(w) > h.\n",
    "\n",
    "    If v(w) > h for all w, then the reservation wage w_bar is set to\n",
    "    the lowest wage in mcm.w_vals.\n",
    "\n",
    "    If v(w) < h for all w, then w_bar is set to np.inf.\n",
    "\n",
    "    \"\"\"\n",
    "\n",
    "    v, h = solve_model(mcm)\n",
    "    w_idx = np.searchsorted(v - h, 0)\n",
    "\n",
    "    if w_idx == len(v):\n",
    "        w_bar = np.inf\n",
    "    else:\n",
    "        w_bar = mcm.w_vals[w_idx]\n",
    "\n",
    "    if return_values == False:\n",
    "        return w_bar\n",
    "    else:\n",
    "        return w_bar, v, h"
   ]
  },
  {
   "cell_type": "markdown",
   "metadata": {},
   "source": [
    "Let’s use it to look at how the reservation wage varies with parameters\n",
    "\n",
    "In each instance below we’ll show you a figure and then ask you to reproduce it in the exercises"
   ]
  },
  {
   "cell_type": "markdown",
   "metadata": {},
   "source": [
    "### The Reservation Wage and Unemployment Compensation\n",
    "\n",
    "First, let’s look at how $ \\bar w $ varies with unemployment compensation\n",
    "\n",
    "In the figure below, we use the default parameters in the `McCallModel` class, apart from\n",
    "c (which takes the values given on the horizontal axis)\n",
    "\n",
    "<img src=\"https://s3-ap-southeast-2.amazonaws.com/lectures.quantecon.org/py/_static/figures/mccall_resw_c.png\" style=\"width:60%;height:60%\">\n",
    "\n",
    "  \n",
    "As expected, higher unemployment compensation causes the worker to hold out for higher wages\n",
    "\n",
    "In effect, the cost of continuing job search is reduced"
   ]
  },
  {
   "cell_type": "markdown",
   "metadata": {},
   "source": [
    "### The Reservation Wage and Discounting\n",
    "\n",
    "Next let’s investigate how $ \\bar w $ varies with the discount rate\n",
    "\n",
    "The next figure plots the reservation wage associated with different values of\n",
    "$ \\beta $\n",
    "\n",
    "<img src=\"https://s3-ap-southeast-2.amazonaws.com/lectures.quantecon.org/py/_static/figures/mccall_resw_beta.png\" style=\"width:60%;height:60%\">\n",
    "\n",
    "  \n",
    "Again, the results are intuitive: More patient workers will hold out for higher wages"
   ]
  },
  {
   "cell_type": "markdown",
   "metadata": {},
   "source": [
    "### The Reservation Wage and Job Destruction\n",
    "\n",
    "Finally, let’s look at how $ \\bar w $ varies with the job separation rate $ \\alpha $\n",
    "\n",
    "Higher $ \\alpha $ translates to a greater chance that a worker will face termination in each period once employed\n",
    "\n",
    "<img src=\"https://s3-ap-southeast-2.amazonaws.com/lectures.quantecon.org/py/_static/figures/mccall_resw_alpha.png\" style=\"width:60%;height:60%\">\n",
    "\n",
    "  \n",
    "Once more, the results are in line with our intuition\n",
    "\n",
    "If the separation rate is high, then the benefit of holding out for a higher wage falls\n",
    "\n",
    "Hence the reservation wage is lower"
   ]
  },
  {
   "cell_type": "markdown",
   "metadata": {},
   "source": [
    "## Exercises"
   ]
  },
  {
   "cell_type": "markdown",
   "metadata": {},
   "source": [
    "### Exercise 1\n",
    "\n",
    "Reproduce all the reservation wage figures shown above"
   ]
  },
  {
   "cell_type": "markdown",
   "metadata": {},
   "source": [
    "### Exercise 2\n",
    "\n",
    "Plot the reservation wage against the job offer rate $ \\gamma $\n",
    "\n",
    "Use"
   ]
  },
  {
   "cell_type": "code",
   "execution_count": 7,
   "metadata": {
    "hide-output": false
   },
   "outputs": [],
   "source": [
    "grid_size = 25\n",
    "γ_vals = np.linspace(0.05, 0.95, grid_size)"
   ]
  },
  {
   "cell_type": "markdown",
   "metadata": {},
   "source": [
    "Interpret your results"
   ]
  },
  {
   "cell_type": "markdown",
   "metadata": {},
   "source": [
    "## Solutions"
   ]
  },
  {
   "cell_type": "markdown",
   "metadata": {},
   "source": [
    "### Exercise 1\n",
    "\n",
    "Using the `compute_reservation_wage` function mentioned earlier in the lecture,\n",
    "we can create an array for reservation wages for different values of $ c $,\n",
    "$ \\beta $ and $ \\alpha $ and plot the results like so"
   ]
  },
  {
   "cell_type": "code",
   "execution_count": 8,
   "metadata": {
    "hide-output": false
   },
   "outputs": [
    {
     "data": {
      "image/png": "[encoded data removed]",
      "text/plain": [
       "<Figure size 720x432 with 1 Axes>"
      ]
     },
     "metadata": {
      "needs_background": "light"
     },
     "output_type": "display_data"
    }
   ],
   "source": [
    "grid_size = 25\n",
    "c_vals = np.linspace(2, 12, grid_size)  # values of unemployment compensation\n",
    "w_bar_vals = np.empty_like(c_vals)\n",
    "\n",
    "mcm = McCallModel()\n",
    "\n",
    "fig, ax = plt.subplots(figsize=(10, 6))\n",
    "\n",
    "for i, c in enumerate(c_vals):\n",
    "    mcm.c = c\n",
    "    w_bar = compute_reservation_wage(mcm)\n",
    "    w_bar_vals[i] = w_bar\n",
    "\n",
    "ax.set(xlabel='unemployment compensation',\n",
    "       ylabel='reservation wage')\n",
    "ax.plot(c_vals, w_bar_vals, label=r'$\\bar w$ as a function of $c$')\n",
    "ax.grid()\n",
    "\n",
    "plt.show()"
   ]
  },
  {
   "cell_type": "markdown",
   "metadata": {},
   "source": [
    "### Exercise 2\n",
    "\n",
    "Similar to above, we can plot $ \\bar w $ against $ \\gamma $ as follows"
   ]
  },
  {
   "cell_type": "code",
   "execution_count": 9,
   "metadata": {
    "hide-output": false
   },
   "outputs": [
    {
     "data": {
      "image/png": "[encoded data removed]",
      "text/plain": [
       "<Figure size 720x432 with 1 Axes>"
      ]
     },
     "metadata": {
      "needs_background": "light"
     },
     "output_type": "display_data"
    }
   ],
   "source": [
    "grid_size = 25\n",
    "γ_vals = np.linspace(0.05, 0.95, grid_size)\n",
    "w_bar_vals = np.empty_like(γ_vals)\n",
    "\n",
    "mcm = McCallModel()\n",
    "\n",
    "fig, ax = plt.subplots(figsize=(10, 6))\n",
    "\n",
    "for i, γ in enumerate(γ_vals):\n",
    "    mcm.γ = γ\n",
    "    w_bar = compute_reservation_wage(mcm)\n",
    "    w_bar_vals[i] = w_bar\n",
    "\n",
    "ax.plot(γ_vals, w_bar_vals, label=r'$\\bar w$ as a function of $\\gamma$')\n",
    "ax.set(xlabel='job offer rate', ylabel='reservation wage')\n",
    "ax.grid()\n",
    "\n",
    "plt.show()"
   ]
  },
  {
   "cell_type": "markdown",
   "metadata": {},
   "source": [
    "As expected, the reservation wage increases in $ \\gamma $\n",
    "\n",
    "This is because higher $ \\gamma $ translates to a more favorable job\n",
    "search environment\n",
    "\n",
    "Hence workers are less willing to accept lower offers"
   ]
  }
 ],
 "metadata": {
  "filename": "mccall_model_with_separation.rst",
  "kernelspec": {
   "display_name": "Python 3",
   "language": "python",
   "name": "python3"
  },
  "language_info": {
   "codemirror_mode": {
    "name": "ipython",
    "version": 3
   },
   "file_extension": ".py",
   "mimetype": "text/x-python",
   "name": "python",
   "nbconvert_exporter": "python",
   "pygments_lexer": "ipython3",
   "version": "3.7.1"
  },
  "title": "Job Search II: Search and Separation"
 },
 "nbformat": 4,
 "nbformat_minor": 2
}
